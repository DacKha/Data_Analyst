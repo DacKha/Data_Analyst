{
 "cells": [
  {
   "cell_type": "markdown",
   "id": "308cfa31-c293-4165-ac2c-587bfd0c4e0c",
   "metadata": {},
   "source": [
    "<div style=\"position: relative; text-align: center; width: 100%;\">\n",
    "  <img src=\"https://images.pexels.com/photos/7078619/pexels-photo-7078619.jpeg\" \n",
    "       alt=\"Mô tả ảnh\" \n",
    "       style=\"width: 100%; height: 200px; object-fit: cover; border-radius: 10px;\">\n",
    "  \n",
    "  <div style=\"\n",
    "    position: absolute;\n",
    "    top: 50%;\n",
    "    left: 50%;\n",
    "    transform: translate(-50%, -50%);\n",
    "    color: black;\n",
    "    font-size: 1.8em;\n",
    "    font-weight: bold;\n",
    "    background: rgba(255, 255, 255, 0.6);\n",
    "    padding: 10px 20px;\n",
    "    border-radius: 10px;\">\n",
    "    \n",
    "  </div>\n",
    "</div>\n"
   ]
  },
  {
   "cell_type": "code",
   "execution_count": null,
   "id": "de3ddb80-d3d3-4db5-a4b1-126625d8d13c",
   "metadata": {},
   "outputs": [],
   "source": []
  }
 ],
 "metadata": {
  "kernelspec": {
   "display_name": "Python 3 (ipykernel)",
   "language": "python",
   "name": "python3"
  },
  "language_info": {
   "codemirror_mode": {
    "name": "ipython",
    "version": 3
   },
   "file_extension": ".py",
   "mimetype": "text/x-python",
   "name": "python",
   "nbconvert_exporter": "python",
   "pygments_lexer": "ipython3",
   "version": "3.12.7"
  }
 },
 "nbformat": 4,
 "nbformat_minor": 5
}
