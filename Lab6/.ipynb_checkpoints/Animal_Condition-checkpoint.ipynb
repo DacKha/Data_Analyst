{
 "cells": [
  {
   "cell_type": "markdown",
   "id": "30fdfe2d-c6c0-493f-87cb-ae0d7e686805",
   "metadata": {},
   "source": [
    "<div style=\"position: relative; text-align: center; width: 100%;\">\n",
    "  <img src=\"data:image/jpeg;base64,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\" \n",
    "       alt=\"Mô tả ảnh\" \n",
    "       style=\"width: 100%; height: 200px; object-fit: cover; border-radius: 10px;\">\n",
    "  \n",
    "</div>\n"
   ]
  },
  {
   "cell_type": "markdown",
   "id": "b1e099eb-0990-4f6b-b071-4a642991ee92",
   "metadata": {},
   "source": [
    "<section style=\"font-family: Arial, Helvetica, sans-serif; line-height:1.6; color:#111;\">\n",
    "  <h3 style=\"color:#0b5b8a; font-weight:bold; margin-bottom:0.5rem;\">\n",
    "    <span style=\"border-left:4px solid #005B99; padding-left:8px;\">Sơ Lược Và Mục Tiêu</span>\n",
    "  </h3>\n",
    "  \n",
    "  <p>\n",
    "    Bộ dữ liệu <strong>\"Phân loại Tình trạng Động vật\"</strong> mang đến một thách thức dữ liệu độc đáo và phức tạp trong lĩnh vực đánh giá sức khỏe động vật.\n",
    "    Với sự đa dạng của các loài động vật, từ chim đến động vật có vú, bộ dữ liệu này cho phép phát triển các mô hình dự đoán để xác định liệu tình trạng của một động vật\n",
    "    có nguy hiểm hay không dựa trên năm triệu chứng riêng biệt. Sự đa dạng của bộ dữ liệu mở ra cơ hội tạo ra một hệ thống phân loại vượt qua ranh giới phân loại học,\n",
    "    khiến nó trở nên đặc biệt giá trị đối với những người quan tâm đến phúc lợi động vật và bảo tồn động vật hoang dã.\n",
    "    Tuy nhiên, quá trình thu thập thủ công của bộ dữ liệu này có thể gây ra các nguồn lỗi tiềm ẩn, bao gồm lỗi chính tả và sự khác biệt trong cách biểu thị triệu chứng.\n",
    "    Điều này đòi hỏi phải thực hiện các nỗ lực làm sạch dữ liệu một cách cẩn thận.\n",
    "  </p>\n",
    "\n",
    "  <p>\n",
    "    Khi khám phá bộ dữ liệu <strong>\"Phân loại Tình trạng Động vật\"</strong>, người dùng sẽ phải đối mặt với các thách thức như mất cân bằng lớp và nhu cầu kỹ thuật đặc trưng.\n",
    "    Việc giải quyết những thách thức này sẽ rất quan trọng để đạt được các mô hình phân loại mạnh mẽ.\n",
    "    Do đó, bộ dữ liệu này là một nguồn tài nguyên phong phú cho những ai mong muốn tạo ra tác động ý nghĩa trong lĩnh vực đánh giá sức khỏe động vật,\n",
    "    với hiểu biết rằng nó đòi hỏi sự xử lý cẩn thận và phương pháp nghiêm túc để mang lại kết quả sâu sắc và có đạo đức.\n",
    "  </p>\n",
    "</section>\n"
   ]
  },
  {
   "cell_type": "markdown",
   "id": "27bba768-2e9c-4b68-85be-a19a153d2c95",
   "metadata": {},
   "source": [
    "<section style=\"font-family: Arial, Helvetica, sans-serif; line-height:1.5; color:#111;\">\n",
    "  <h2 style=\"color:#0b5b8a; margin-bottom:0.2rem;\">🧩 Tổng quan về tập dữ liệu</h2>\n",
    "  <p><strong>File:</strong> <code>data.csv</code><br>\n",
    "     <strong>Mục tiêu:</strong> Dự đoán xem tình trạng của một con vật có <strong>nguy hiểm hay không</strong> (cột <code>Dangerous</code>) dựa trên 5 triệu chứng.</p>\n",
    "\n",
    "  <table style=\"border-collapse:collapse; width:100%; max-width:800px; margin:0.5rem 0 1rem;\">\n",
    "    <thead>\n",
    "      <tr>\n",
    "        <th style=\"text-align:left; border-bottom:2px solid #ddd; padding:6px 8px;\">Cột dữ liệu</th>\n",
    "        <th style=\"text-align:left; border-bottom:2px solid #ddd; padding:6px 8px;\">Mô tả</th>\n",
    "        <th style=\"text-align:left; border-bottom:2px solid #ddd; padding:6px 8px;\">Ví dụ</th>\n",
    "      </tr>\n",
    "    </thead>\n",
    "    <tbody>\n",
    "      <tr>\n",
    "        <td style=\"padding:6px 8px; border-bottom:1px solid #f0f0f0;\"><code>AnimalName</code></td>\n",
    "        <td style=\"padding:6px 8px; border-bottom:1px solid #f0f0f0;\">Loài vật (dog, cat, parrot...)</td>\n",
    "        <td style=\"padding:6px 8px; border-bottom:1px solid #f0f0f0;\">\"dog\"</td>\n",
    "      </tr>\n",
    "      <tr>\n",
    "        <td style=\"padding:6px 8px; border-bottom:1px solid #f0f0f0;\"><code>symptom1</code> – <code>symptom5</code></td>\n",
    "        <td style=\"padding:6px 8px; border-bottom:1px solid #f0f0f0;\">Các triệu chứng dạng văn bản</td>\n",
    "        <td style=\"padding:6px 8px; border-bottom:1px solid #f0f0f0;\">\"fever\", \"vomiting\"</td>\n",
    "      </tr>\n",
    "      <tr>\n",
    "        <td style=\"padding:6px 8px;\"><code>Dangerous</code></td>\n",
    "        <td style=\"padding:6px 8px;\">Nhãn mục tiêu (Yes / No)</td>\n",
    "        <td style=\"padding:6px 8px;\">\"Yes\"</td>\n",
    "      </tr>\n",
    "    </tbody>\n",
    "  </table>\n",
    "</section>\n"
   ]
  },
  {
   "cell_type": "markdown",
   "id": "bb5016b8-02d0-403d-b398-bcb912136729",
   "metadata": {},
   "source": [
    "<h2 style=\"text-align:center; color:#0077b6; font-family:'Segoe UI', sans-serif;\">\n",
    "📝 LỜI NÓI ĐẦU\n",
    "</h2>"
   ]
  },
  {
   "cell_type": "markdown",
   "id": "37532984-a1dd-42c1-b545-9dbb0f310e51",
   "metadata": {},
   "source": [
    "<div style=\"background-color:#f0f8ff; border-left:6px solid #0077b6; border-radius:10px; padding:20px 25px; line-height:1.7; font-family:'Segoe UI', sans-serif; font-size:15px; color:#222;\">\n",
    "\n",
    "  <h3 style=\"color:#0077b6; margin-top:0;\">⚙️ <b>I. Lý do lựa chọn mô hình SVM (Support Vector Machine)</b></h3>\n",
    "\n",
    "  <p>\n",
    "  Trong phân tích này, chúng tôi lựa chọn <b>SVM Classifier</b> làm mô hình chính.  \n",
    "  <b>Support Vector Machine</b> là một thuật toán học máy mạnh mẽ dùng cho <i>phân loại</i> (classification) và <i>hồi quy</i> (regression), hoạt động bằng cách tìm ra <b>siêu phẳng (hyperplane)</b> tối ưu để phân tách các lớp dữ liệu với <b>khoảng cách (margin)</b> lớn nhất.\n",
    "  </p>\n",
    "\n",
    "  <p style=\"margin-top:15px;\">\n",
    "  ⚖️ <b>1. Hiệu quả cao trong bài toán phân loại nhị phân</b><br>\n",
    "  SVM đặc biệt hiệu quả trong các bài toán phân loại nhị phân như <b>Dangerous</b> và <b>Not Dangerous</b>.  \n",
    "  Thuật toán cố gắng tạo ra ranh giới tách biệt rõ ràng giữa hai lớp, giúp tăng độ chính xác của mô hình.\n",
    "  </p>\n",
    "\n",
    "  <p>\n",
    "  🧠 <b>2. Làm việc tốt với dữ liệu văn bản (Text Data)</b><br>\n",
    "  Khi dữ liệu được biểu diễn bằng các vector TF-IDF, SVM hoạt động rất mạnh mẽ vì nó có khả năng xử lý dữ liệu có <b>chiều cao (high-dimensional space)</b>.  \n",
    "  Trong bài toán phân tích triệu chứng động vật, điều này giúp mô hình nhận diện mẫu ngôn ngữ chính xác hơn.\n",
    "  </p>\n",
    "\n",
    "  <p>\n",
    "  🔒 <b>3. Chống nhiễu và overfitting tốt</b><br>\n",
    "  Nhờ vào nguyên lý tối đa hóa biên (maximum margin), SVM ít bị ảnh hưởng bởi nhiễu hoặc các điểm dữ liệu ngoại lai (outliers).  \n",
    "  Điều này làm cho mô hình ổn định và tổng quát hóa tốt hơn trên dữ liệu mới.\n",
    "  </p>\n",
    "\n",
    "  <p>\n",
    "  ⚙️ <b>4. Tùy chỉnh linh hoạt với các kernel</b><br>\n",
    "  Mặc dù trong bài toán này chúng tôi sử dụng <b>kernel tuyến tính (linear kernel)</b> do dữ liệu TF-IDF có tính chất tuyến tính cao,  \n",
    "  SVM vẫn có thể mở rộng sang các kernel phi tuyến khác như <i>RBF</i> hoặc <i>Polynomial</i> nếu dữ liệu phức tạp hơn.\n",
    "  </p>\n",
    "\n",
    "  <p>\n",
    "  📊 <b>5. Khả năng tổng quát hóa tốt</b><br>\n",
    "  SVM chỉ tập trung vào một tập nhỏ các điểm dữ liệu quan trọng nhất gọi là <b>support vectors</b>.  \n",
    "  Việc này giúp mô hình tránh học thuộc dữ liệu huấn luyện mà vẫn giữ được khả năng dự đoán chính xác cho các mẫu mới.\n",
    "  </p>\n",
    "\n",
    "  <p style=\"background-color:#e0f7fa; padding:12px 15px; border-radius:8px; border-left:5px solid #00b4d8;\">\n",
    "  💡 <b>Tóm lại:</b><br>\n",
    "  Mô hình <b>SVM</b> là lựa chọn phù hợp cho bài toán phân loại tình trạng động vật vì:\n",
    "  <b>hiệu quả cao với dữ liệu văn bản, khả năng chống nhiễu, tránh overfitting, linh hoạt trong kernel,</b>  \n",
    "  và <b>tổng quát hóa tốt cho dữ liệu chưa thấy trước.</b>\n",
    "  </p>\n",
    "\n",
    "</div>\n"
   ]
  },
  {
   "cell_type": "markdown",
   "id": "b44808d1-3717-416f-bff2-f4e352caab60",
   "metadata": {},
   "source": [
    "<h3 style=\"color:#0077b6; margin-top:0;\">🌲 <b>II. Thêm thư viện</b></h3>"
   ]
  },
  {
   "cell_type": "code",
   "execution_count": 1,
   "id": "3b60e6ee-fb3e-4a7c-932f-b11cbd2bfe61",
   "metadata": {},
   "outputs": [],
   "source": [
    "import warnings\n",
    "warnings.filterwarnings('ignore')\n",
    "#Thư viện cần thiết\n",
    "import pandas as pd\n",
    "import numpy as np\n",
    "\n",
    "# Thư viện trực quan\n",
    "import matplotlib.pyplot as plt\n",
    "import seaborn as sns\n",
    "#Mô hình\n",
    "from sklearn.model_selection import train_test_split\n",
    "from sklearn.feature_extraction.text import TfidfVectorizer\n",
    "from sklearn.svm import SVC\n",
    "from sklearn.pipeline import Pipeline\n",
    "from sklearn.metrics import classification_report, confusion_matrix\n"
   ]
  },
  {
   "cell_type": "markdown",
   "id": "e6fc6726-f8bf-4eae-9766-8e3c51d151d7",
   "metadata": {},
   "source": [
    "<h3 style=\"color:#0077b6; margin-top:0;\">🌲 <b>III. Tải dữ liệu</b></h3>"
   ]
  },
  {
   "cell_type": "code",
   "execution_count": 2,
   "id": "6a4b8d4f-d0c8-47f3-a0f7-b86804c2991e",
   "metadata": {},
   "outputs": [],
   "source": [
    "df=pd.read_csv('animal.csv')"
   ]
  },
  {
   "cell_type": "code",
   "execution_count": 3,
   "id": "c1b50b80-7d62-4b4f-be9b-1b3da8a4765e",
   "metadata": {},
   "outputs": [
    {
     "data": {
      "text/html": [
       "<div>\n",
       "<style scoped>\n",
       "    .dataframe tbody tr th:only-of-type {\n",
       "        vertical-align: middle;\n",
       "    }\n",
       "\n",
       "    .dataframe tbody tr th {\n",
       "        vertical-align: top;\n",
       "    }\n",
       "\n",
       "    .dataframe thead th {\n",
       "        text-align: right;\n",
       "    }\n",
       "</style>\n",
       "<table border=\"1\" class=\"dataframe\">\n",
       "  <thead>\n",
       "    <tr style=\"text-align: right;\">\n",
       "      <th></th>\n",
       "      <th>AnimalName</th>\n",
       "      <th>symptoms1</th>\n",
       "      <th>symptoms2</th>\n",
       "      <th>symptoms3</th>\n",
       "      <th>symptoms4</th>\n",
       "      <th>symptoms5</th>\n",
       "      <th>Dangerous</th>\n",
       "    </tr>\n",
       "  </thead>\n",
       "  <tbody>\n",
       "    <tr>\n",
       "      <th>0</th>\n",
       "      <td>Dog</td>\n",
       "      <td>Fever</td>\n",
       "      <td>Diarrhea</td>\n",
       "      <td>Vomiting</td>\n",
       "      <td>Weight loss</td>\n",
       "      <td>Dehydration</td>\n",
       "      <td>Yes</td>\n",
       "    </tr>\n",
       "    <tr>\n",
       "      <th>1</th>\n",
       "      <td>Dog</td>\n",
       "      <td>Fever</td>\n",
       "      <td>Diarrhea</td>\n",
       "      <td>Coughing</td>\n",
       "      <td>Tiredness</td>\n",
       "      <td>Pains</td>\n",
       "      <td>Yes</td>\n",
       "    </tr>\n",
       "    <tr>\n",
       "      <th>2</th>\n",
       "      <td>Dog</td>\n",
       "      <td>Fever</td>\n",
       "      <td>Diarrhea</td>\n",
       "      <td>Coughing</td>\n",
       "      <td>Vomiting</td>\n",
       "      <td>Anorexia</td>\n",
       "      <td>Yes</td>\n",
       "    </tr>\n",
       "    <tr>\n",
       "      <th>3</th>\n",
       "      <td>Dog</td>\n",
       "      <td>Fever</td>\n",
       "      <td>Difficulty breathing</td>\n",
       "      <td>Coughing</td>\n",
       "      <td>Lethargy</td>\n",
       "      <td>Sneezing</td>\n",
       "      <td>Yes</td>\n",
       "    </tr>\n",
       "    <tr>\n",
       "      <th>4</th>\n",
       "      <td>Dog</td>\n",
       "      <td>Fever</td>\n",
       "      <td>Diarrhea</td>\n",
       "      <td>Coughing</td>\n",
       "      <td>Lethargy</td>\n",
       "      <td>Blue Eye</td>\n",
       "      <td>Yes</td>\n",
       "    </tr>\n",
       "  </tbody>\n",
       "</table>\n",
       "</div>"
      ],
      "text/plain": [
       "  AnimalName symptoms1             symptoms2 symptoms3    symptoms4  \\\n",
       "0        Dog     Fever              Diarrhea  Vomiting  Weight loss   \n",
       "1        Dog     Fever              Diarrhea  Coughing    Tiredness   \n",
       "2        Dog     Fever              Diarrhea  Coughing     Vomiting   \n",
       "3        Dog     Fever  Difficulty breathing  Coughing     Lethargy   \n",
       "4        Dog     Fever              Diarrhea  Coughing     Lethargy   \n",
       "\n",
       "     symptoms5 Dangerous  \n",
       "0  Dehydration       Yes  \n",
       "1        Pains       Yes  \n",
       "2     Anorexia       Yes  \n",
       "3     Sneezing       Yes  \n",
       "4     Blue Eye       Yes  "
      ]
     },
     "execution_count": 3,
     "metadata": {},
     "output_type": "execute_result"
    }
   ],
   "source": [
    "df.head()"
   ]
  },
  {
   "cell_type": "markdown",
   "id": "57e33cb7-b695-4230-85a2-09ee6de9ac9c",
   "metadata": {},
   "source": [
    "<div style=\"background-image: url('https://encrypted-tbn0.gstatic.com/images?q=tbn:ANd9GcQypbX9FirE2kvwA-l_6NxzGYrfvYjXxwySmA&s'); background-size: cover; padding: 20px; color: white;\">\n",
    "    \n",
    "# 1| PHÂN TÍCH DỮ LIỆU\n",
    "\n",
    "</div>"
   ]
  },
  {
   "cell_type": "markdown",
   "id": "2c021736-3570-4816-b3ae-dbf34dfe19c2",
   "metadata": {},
   "source": [
    "<div style=\"background-image: url('https://images.pexels.com/photos/7078619/pexels-photo-7078619.jpeg'); background-size: cover; padding: 15px; color: black;\">\n",
    "    \n",
    "## 1. Cấu trúc dữ liệu\n",
    "\n",
    "</div>"
   ]
  },
  {
   "cell_type": "code",
   "execution_count": 4,
   "id": "f90e1e9a-a617-458c-9d94-1c90fbf1c8ee",
   "metadata": {},
   "outputs": [
    {
     "name": "stdout",
     "output_type": "stream",
     "text": [
      "Cấu trúc của bộ dữ liệu :  (871, 7)\n"
     ]
    }
   ],
   "source": [
    "print(\"Cấu trúc của bộ dữ liệu : \", df.shape)"
   ]
  },
  {
   "cell_type": "code",
   "execution_count": 5,
   "id": "fdff4505-52fc-49a9-ab1b-f1c5b93171d0",
   "metadata": {},
   "outputs": [
    {
     "name": "stdout",
     "output_type": "stream",
     "text": [
      "<class 'pandas.core.frame.DataFrame'>\n",
      "RangeIndex: 871 entries, 0 to 870\n",
      "Data columns (total 7 columns):\n",
      " #   Column      Non-Null Count  Dtype \n",
      "---  ------      --------------  ----- \n",
      " 0   AnimalName  871 non-null    object\n",
      " 1   symptoms1   871 non-null    object\n",
      " 2   symptoms2   871 non-null    object\n",
      " 3   symptoms3   871 non-null    object\n",
      " 4   symptoms4   871 non-null    object\n",
      " 5   symptoms5   871 non-null    object\n",
      " 6   Dangerous   869 non-null    object\n",
      "dtypes: object(7)\n",
      "memory usage: 47.8+ KB\n"
     ]
    }
   ],
   "source": [
    "df.info()"
   ]
  },
  {
   "cell_type": "markdown",
   "id": "c028f024-ee6c-4e4d-8d60-612352d5fbd2",
   "metadata": {},
   "source": [
    "### I. Xử lí trùng lặp"
   ]
  },
  {
   "cell_type": "code",
   "execution_count": 6,
   "id": "28383389-c880-4cfa-811e-a47559a6d759",
   "metadata": {},
   "outputs": [
    {
     "data": {
      "text/plain": [
       "28"
      ]
     },
     "execution_count": 6,
     "metadata": {},
     "output_type": "execute_result"
    }
   ],
   "source": [
    "df.duplicated().sum()"
   ]
  },
  {
   "cell_type": "code",
   "execution_count": 7,
   "id": "e79904d0-a60b-4764-8496-1b69df32917d",
   "metadata": {},
   "outputs": [
    {
     "data": {
      "text/plain": [
       "(843, 7)"
      ]
     },
     "execution_count": 7,
     "metadata": {},
     "output_type": "execute_result"
    }
   ],
   "source": [
    "df=df.drop_duplicates()\n",
    "df.shape"
   ]
  },
  {
   "cell_type": "markdown",
   "id": "b713af75-dd61-42e0-b7c9-d27384f98b19",
   "metadata": {},
   "source": [
    "### II. Xử lí giá trị thiếu"
   ]
  },
  {
   "cell_type": "code",
   "execution_count": 8,
   "id": "506a504e-eef0-4b86-82a2-d82125edafbc",
   "metadata": {},
   "outputs": [
    {
     "data": {
      "text/plain": [
       "AnimalName    0\n",
       "symptoms1     0\n",
       "symptoms2     0\n",
       "symptoms3     0\n",
       "symptoms4     0\n",
       "symptoms5     0\n",
       "Dangerous     2\n",
       "dtype: int64"
      ]
     },
     "execution_count": 8,
     "metadata": {},
     "output_type": "execute_result"
    }
   ],
   "source": [
    "df.isnull().sum()"
   ]
  },
  {
   "cell_type": "code",
   "execution_count": 9,
   "id": "945719d0-fef8-43a4-ac9f-b539e4b53e52",
   "metadata": {},
   "outputs": [
    {
     "data": {
      "text/html": [
       "<div>\n",
       "<style scoped>\n",
       "    .dataframe tbody tr th:only-of-type {\n",
       "        vertical-align: middle;\n",
       "    }\n",
       "\n",
       "    .dataframe tbody tr th {\n",
       "        vertical-align: top;\n",
       "    }\n",
       "\n",
       "    .dataframe thead th {\n",
       "        text-align: right;\n",
       "    }\n",
       "</style>\n",
       "<table border=\"1\" class=\"dataframe\">\n",
       "  <thead>\n",
       "    <tr style=\"text-align: right;\">\n",
       "      <th></th>\n",
       "      <th>AnimalName</th>\n",
       "      <th>symptoms1</th>\n",
       "      <th>symptoms2</th>\n",
       "      <th>symptoms3</th>\n",
       "      <th>symptoms4</th>\n",
       "      <th>symptoms5</th>\n",
       "      <th>Dangerous</th>\n",
       "    </tr>\n",
       "  </thead>\n",
       "  <tbody>\n",
       "    <tr>\n",
       "      <th>269</th>\n",
       "      <td>Sheep</td>\n",
       "      <td>Teeth griding</td>\n",
       "      <td>Apathy</td>\n",
       "      <td>Dehydration</td>\n",
       "      <td>Ruminal stasis</td>\n",
       "      <td>Watery faeces</td>\n",
       "      <td>NaN</td>\n",
       "    </tr>\n",
       "    <tr>\n",
       "      <th>695</th>\n",
       "      <td>Buffaloes</td>\n",
       "      <td>Teeth griding</td>\n",
       "      <td>Apathy</td>\n",
       "      <td>Dehydration</td>\n",
       "      <td>Ruminal stasis</td>\n",
       "      <td>Watery faeces</td>\n",
       "      <td>NaN</td>\n",
       "    </tr>\n",
       "  </tbody>\n",
       "</table>\n",
       "</div>"
      ],
      "text/plain": [
       "    AnimalName      symptoms1 symptoms2    symptoms3       symptoms4  \\\n",
       "269      Sheep  Teeth griding    Apathy  Dehydration  Ruminal stasis   \n",
       "695  Buffaloes  Teeth griding    Apathy  Dehydration  Ruminal stasis   \n",
       "\n",
       "         symptoms5 Dangerous  \n",
       "269  Watery faeces       NaN  \n",
       "695  Watery faeces       NaN  "
      ]
     },
     "execution_count": 9,
     "metadata": {},
     "output_type": "execute_result"
    }
   ],
   "source": [
    "df[df['Dangerous'].isna()]"
   ]
  },
  {
   "cell_type": "code",
   "execution_count": 10,
   "id": "004e7d38-07b1-4e2d-a6d1-12ee4fd0c3a3",
   "metadata": {},
   "outputs": [
    {
     "data": {
      "text/html": [
       "<div>\n",
       "<style scoped>\n",
       "    .dataframe tbody tr th:only-of-type {\n",
       "        vertical-align: middle;\n",
       "    }\n",
       "\n",
       "    .dataframe tbody tr th {\n",
       "        vertical-align: top;\n",
       "    }\n",
       "\n",
       "    .dataframe thead th {\n",
       "        text-align: right;\n",
       "    }\n",
       "</style>\n",
       "<table border=\"1\" class=\"dataframe\">\n",
       "  <thead>\n",
       "    <tr style=\"text-align: right;\">\n",
       "      <th></th>\n",
       "      <th>AnimalName</th>\n",
       "      <th>symptoms1</th>\n",
       "      <th>symptoms2</th>\n",
       "      <th>symptoms3</th>\n",
       "      <th>symptoms4</th>\n",
       "      <th>symptoms5</th>\n",
       "      <th>Dangerous</th>\n",
       "    </tr>\n",
       "  </thead>\n",
       "  <tbody>\n",
       "    <tr>\n",
       "      <th>269</th>\n",
       "      <td>Sheep</td>\n",
       "      <td>Teeth griding</td>\n",
       "      <td>Apathy</td>\n",
       "      <td>Dehydration</td>\n",
       "      <td>Ruminal stasis</td>\n",
       "      <td>Watery faeces</td>\n",
       "      <td>NaN</td>\n",
       "    </tr>\n",
       "    <tr>\n",
       "      <th>695</th>\n",
       "      <td>Buffaloes</td>\n",
       "      <td>Teeth griding</td>\n",
       "      <td>Apathy</td>\n",
       "      <td>Dehydration</td>\n",
       "      <td>Ruminal stasis</td>\n",
       "      <td>Watery faeces</td>\n",
       "      <td>NaN</td>\n",
       "    </tr>\n",
       "  </tbody>\n",
       "</table>\n",
       "</div>"
      ],
      "text/plain": [
       "    AnimalName      symptoms1 symptoms2    symptoms3       symptoms4  \\\n",
       "269      Sheep  Teeth griding    Apathy  Dehydration  Ruminal stasis   \n",
       "695  Buffaloes  Teeth griding    Apathy  Dehydration  Ruminal stasis   \n",
       "\n",
       "         symptoms5 Dangerous  \n",
       "269  Watery faeces       NaN  \n",
       "695  Watery faeces       NaN  "
      ]
     },
     "execution_count": 10,
     "metadata": {},
     "output_type": "execute_result"
    }
   ],
   "source": [
    "df[(df['symptoms1'] == 'Teeth griding')] "
   ]
  },
  {
   "cell_type": "code",
   "execution_count": 11,
   "id": "16205987-99af-4115-80d3-a1fd707d9c06",
   "metadata": {},
   "outputs": [
    {
     "data": {
      "text/html": [
       "<div>\n",
       "<style scoped>\n",
       "    .dataframe tbody tr th:only-of-type {\n",
       "        vertical-align: middle;\n",
       "    }\n",
       "\n",
       "    .dataframe tbody tr th {\n",
       "        vertical-align: top;\n",
       "    }\n",
       "\n",
       "    .dataframe thead th {\n",
       "        text-align: right;\n",
       "    }\n",
       "</style>\n",
       "<table border=\"1\" class=\"dataframe\">\n",
       "  <thead>\n",
       "    <tr style=\"text-align: right;\">\n",
       "      <th></th>\n",
       "      <th>AnimalName</th>\n",
       "      <th>symptoms1</th>\n",
       "      <th>symptoms2</th>\n",
       "      <th>symptoms3</th>\n",
       "      <th>symptoms4</th>\n",
       "      <th>symptoms5</th>\n",
       "      <th>Dangerous</th>\n",
       "    </tr>\n",
       "  </thead>\n",
       "  <tbody>\n",
       "    <tr>\n",
       "      <th>269</th>\n",
       "      <td>Sheep</td>\n",
       "      <td>Teeth griding</td>\n",
       "      <td>Apathy</td>\n",
       "      <td>Dehydration</td>\n",
       "      <td>Ruminal stasis</td>\n",
       "      <td>Watery faeces</td>\n",
       "      <td>NaN</td>\n",
       "    </tr>\n",
       "    <tr>\n",
       "      <th>695</th>\n",
       "      <td>Buffaloes</td>\n",
       "      <td>Teeth griding</td>\n",
       "      <td>Apathy</td>\n",
       "      <td>Dehydration</td>\n",
       "      <td>Ruminal stasis</td>\n",
       "      <td>Watery faeces</td>\n",
       "      <td>NaN</td>\n",
       "    </tr>\n",
       "  </tbody>\n",
       "</table>\n",
       "</div>"
      ],
      "text/plain": [
       "    AnimalName      symptoms1 symptoms2    symptoms3       symptoms4  \\\n",
       "269      Sheep  Teeth griding    Apathy  Dehydration  Ruminal stasis   \n",
       "695  Buffaloes  Teeth griding    Apathy  Dehydration  Ruminal stasis   \n",
       "\n",
       "         symptoms5 Dangerous  \n",
       "269  Watery faeces       NaN  \n",
       "695  Watery faeces       NaN  "
      ]
     },
     "execution_count": 11,
     "metadata": {},
     "output_type": "execute_result"
    }
   ],
   "source": [
    "df[(df['symptoms2'] == 'Apathy')] "
   ]
  },
  {
   "cell_type": "code",
   "execution_count": 12,
   "id": "c9edf341-271e-47e3-a4f9-b69739e3868c",
   "metadata": {},
   "outputs": [
    {
     "data": {
      "text/html": [
       "<div>\n",
       "<style scoped>\n",
       "    .dataframe tbody tr th:only-of-type {\n",
       "        vertical-align: middle;\n",
       "    }\n",
       "\n",
       "    .dataframe tbody tr th {\n",
       "        vertical-align: top;\n",
       "    }\n",
       "\n",
       "    .dataframe thead th {\n",
       "        text-align: right;\n",
       "    }\n",
       "</style>\n",
       "<table border=\"1\" class=\"dataframe\">\n",
       "  <thead>\n",
       "    <tr style=\"text-align: right;\">\n",
       "      <th></th>\n",
       "      <th>AnimalName</th>\n",
       "      <th>symptoms1</th>\n",
       "      <th>symptoms2</th>\n",
       "      <th>symptoms3</th>\n",
       "      <th>symptoms4</th>\n",
       "      <th>symptoms5</th>\n",
       "      <th>Dangerous</th>\n",
       "    </tr>\n",
       "  </thead>\n",
       "  <tbody>\n",
       "    <tr>\n",
       "      <th>267</th>\n",
       "      <td>Sheep</td>\n",
       "      <td>Fever</td>\n",
       "      <td>Wasting</td>\n",
       "      <td>Dehydration</td>\n",
       "      <td>Deability</td>\n",
       "      <td>Weakness</td>\n",
       "      <td>Yes</td>\n",
       "    </tr>\n",
       "    <tr>\n",
       "      <th>269</th>\n",
       "      <td>Sheep</td>\n",
       "      <td>Teeth griding</td>\n",
       "      <td>Apathy</td>\n",
       "      <td>Dehydration</td>\n",
       "      <td>Ruminal stasis</td>\n",
       "      <td>Watery faeces</td>\n",
       "      <td>NaN</td>\n",
       "    </tr>\n",
       "    <tr>\n",
       "      <th>292</th>\n",
       "      <td>Sheep</td>\n",
       "      <td>Poor immune function</td>\n",
       "      <td>Achomotrica</td>\n",
       "      <td>Dehydration</td>\n",
       "      <td>Death</td>\n",
       "      <td>Pains</td>\n",
       "      <td>Yes</td>\n",
       "    </tr>\n",
       "    <tr>\n",
       "      <th>314</th>\n",
       "      <td>Sheep</td>\n",
       "      <td>Inability to digest</td>\n",
       "      <td>Diarrhea</td>\n",
       "      <td>Dehydration</td>\n",
       "      <td>Weight loss</td>\n",
       "      <td>Anemia</td>\n",
       "      <td>Yes</td>\n",
       "    </tr>\n",
       "    <tr>\n",
       "      <th>693</th>\n",
       "      <td>Buffaloes</td>\n",
       "      <td>Fever</td>\n",
       "      <td>Wasting</td>\n",
       "      <td>Dehydration</td>\n",
       "      <td>Deability</td>\n",
       "      <td>Weakness</td>\n",
       "      <td>Yes</td>\n",
       "    </tr>\n",
       "    <tr>\n",
       "      <th>695</th>\n",
       "      <td>Buffaloes</td>\n",
       "      <td>Teeth griding</td>\n",
       "      <td>Apathy</td>\n",
       "      <td>Dehydration</td>\n",
       "      <td>Ruminal stasis</td>\n",
       "      <td>Watery faeces</td>\n",
       "      <td>NaN</td>\n",
       "    </tr>\n",
       "    <tr>\n",
       "      <th>718</th>\n",
       "      <td>Pig</td>\n",
       "      <td>Poor immune function</td>\n",
       "      <td>Achomotrica</td>\n",
       "      <td>Dehydration</td>\n",
       "      <td>Death</td>\n",
       "      <td>Pains</td>\n",
       "      <td>Yes</td>\n",
       "    </tr>\n",
       "    <tr>\n",
       "      <th>740</th>\n",
       "      <td>Pig</td>\n",
       "      <td>Inability to digest</td>\n",
       "      <td>Diarrhea</td>\n",
       "      <td>Dehydration</td>\n",
       "      <td>Weight loss</td>\n",
       "      <td>Anemia</td>\n",
       "      <td>Yes</td>\n",
       "    </tr>\n",
       "  </tbody>\n",
       "</table>\n",
       "</div>"
      ],
      "text/plain": [
       "    AnimalName             symptoms1    symptoms2    symptoms3  \\\n",
       "267      Sheep                 Fever      Wasting  Dehydration   \n",
       "269      Sheep         Teeth griding       Apathy  Dehydration   \n",
       "292      Sheep  Poor immune function  Achomotrica  Dehydration   \n",
       "314      Sheep   Inability to digest     Diarrhea  Dehydration   \n",
       "693  Buffaloes                 Fever      Wasting  Dehydration   \n",
       "695  Buffaloes         Teeth griding       Apathy  Dehydration   \n",
       "718        Pig  Poor immune function  Achomotrica  Dehydration   \n",
       "740        Pig   Inability to digest     Diarrhea  Dehydration   \n",
       "\n",
       "          symptoms4      symptoms5 Dangerous  \n",
       "267       Deability       Weakness       Yes  \n",
       "269  Ruminal stasis  Watery faeces       NaN  \n",
       "292           Death          Pains       Yes  \n",
       "314     Weight loss         Anemia       Yes  \n",
       "693       Deability       Weakness       Yes  \n",
       "695  Ruminal stasis  Watery faeces       NaN  \n",
       "718           Death          Pains       Yes  \n",
       "740     Weight loss         Anemia       Yes  "
      ]
     },
     "execution_count": 12,
     "metadata": {},
     "output_type": "execute_result"
    }
   ],
   "source": [
    "df[(df['symptoms3'] == 'Dehydration')]"
   ]
  },
  {
   "cell_type": "code",
   "execution_count": 13,
   "id": "60322dc2-315e-45c1-abd6-8a43018f52d6",
   "metadata": {},
   "outputs": [
    {
     "data": {
      "text/html": [
       "<div>\n",
       "<style scoped>\n",
       "    .dataframe tbody tr th:only-of-type {\n",
       "        vertical-align: middle;\n",
       "    }\n",
       "\n",
       "    .dataframe tbody tr th {\n",
       "        vertical-align: top;\n",
       "    }\n",
       "\n",
       "    .dataframe thead th {\n",
       "        text-align: right;\n",
       "    }\n",
       "</style>\n",
       "<table border=\"1\" class=\"dataframe\">\n",
       "  <thead>\n",
       "    <tr style=\"text-align: right;\">\n",
       "      <th></th>\n",
       "      <th>AnimalName</th>\n",
       "      <th>symptoms1</th>\n",
       "      <th>symptoms2</th>\n",
       "      <th>symptoms3</th>\n",
       "      <th>symptoms4</th>\n",
       "      <th>symptoms5</th>\n",
       "      <th>Dangerous</th>\n",
       "    </tr>\n",
       "  </thead>\n",
       "  <tbody>\n",
       "    <tr>\n",
       "      <th>269</th>\n",
       "      <td>Sheep</td>\n",
       "      <td>Teeth griding</td>\n",
       "      <td>Apathy</td>\n",
       "      <td>Dehydration</td>\n",
       "      <td>Ruminal stasis</td>\n",
       "      <td>Watery faeces</td>\n",
       "      <td>NaN</td>\n",
       "    </tr>\n",
       "    <tr>\n",
       "      <th>695</th>\n",
       "      <td>Buffaloes</td>\n",
       "      <td>Teeth griding</td>\n",
       "      <td>Apathy</td>\n",
       "      <td>Dehydration</td>\n",
       "      <td>Ruminal stasis</td>\n",
       "      <td>Watery faeces</td>\n",
       "      <td>NaN</td>\n",
       "    </tr>\n",
       "  </tbody>\n",
       "</table>\n",
       "</div>"
      ],
      "text/plain": [
       "    AnimalName      symptoms1 symptoms2    symptoms3       symptoms4  \\\n",
       "269      Sheep  Teeth griding    Apathy  Dehydration  Ruminal stasis   \n",
       "695  Buffaloes  Teeth griding    Apathy  Dehydration  Ruminal stasis   \n",
       "\n",
       "         symptoms5 Dangerous  \n",
       "269  Watery faeces       NaN  \n",
       "695  Watery faeces       NaN  "
      ]
     },
     "execution_count": 13,
     "metadata": {},
     "output_type": "execute_result"
    }
   ],
   "source": [
    "df[(df['symptoms4'] == 'Ruminal stasis')]"
   ]
  },
  {
   "cell_type": "code",
   "execution_count": 14,
   "id": "7bc62262-aca2-40b1-baab-30a6155e90ac",
   "metadata": {},
   "outputs": [
    {
     "data": {
      "text/html": [
       "<div>\n",
       "<style scoped>\n",
       "    .dataframe tbody tr th:only-of-type {\n",
       "        vertical-align: middle;\n",
       "    }\n",
       "\n",
       "    .dataframe tbody tr th {\n",
       "        vertical-align: top;\n",
       "    }\n",
       "\n",
       "    .dataframe thead th {\n",
       "        text-align: right;\n",
       "    }\n",
       "</style>\n",
       "<table border=\"1\" class=\"dataframe\">\n",
       "  <thead>\n",
       "    <tr style=\"text-align: right;\">\n",
       "      <th></th>\n",
       "      <th>AnimalName</th>\n",
       "      <th>symptoms1</th>\n",
       "      <th>symptoms2</th>\n",
       "      <th>symptoms3</th>\n",
       "      <th>symptoms4</th>\n",
       "      <th>symptoms5</th>\n",
       "      <th>Dangerous</th>\n",
       "    </tr>\n",
       "  </thead>\n",
       "  <tbody>\n",
       "    <tr>\n",
       "      <th>269</th>\n",
       "      <td>Sheep</td>\n",
       "      <td>Teeth griding</td>\n",
       "      <td>Apathy</td>\n",
       "      <td>Dehydration</td>\n",
       "      <td>Ruminal stasis</td>\n",
       "      <td>Watery faeces</td>\n",
       "      <td>NaN</td>\n",
       "    </tr>\n",
       "    <tr>\n",
       "      <th>695</th>\n",
       "      <td>Buffaloes</td>\n",
       "      <td>Teeth griding</td>\n",
       "      <td>Apathy</td>\n",
       "      <td>Dehydration</td>\n",
       "      <td>Ruminal stasis</td>\n",
       "      <td>Watery faeces</td>\n",
       "      <td>NaN</td>\n",
       "    </tr>\n",
       "  </tbody>\n",
       "</table>\n",
       "</div>"
      ],
      "text/plain": [
       "    AnimalName      symptoms1 symptoms2    symptoms3       symptoms4  \\\n",
       "269      Sheep  Teeth griding    Apathy  Dehydration  Ruminal stasis   \n",
       "695  Buffaloes  Teeth griding    Apathy  Dehydration  Ruminal stasis   \n",
       "\n",
       "         symptoms5 Dangerous  \n",
       "269  Watery faeces       NaN  \n",
       "695  Watery faeces       NaN  "
      ]
     },
     "execution_count": 14,
     "metadata": {},
     "output_type": "execute_result"
    }
   ],
   "source": [
    "df[(df['symptoms5'] == 'Watery faeces')]"
   ]
  },
  {
   "cell_type": "markdown",
   "id": "55f9b853-af3a-4836-a869-4d5cd226cf37",
   "metadata": {},
   "source": [
    "<p>Ở cột Dangerous ta có thể thấy rằng nó chứa 2 dữ liệu missing nhưng khi tôi tiến hành điều tra các triệu chứng thì không có trường hợp nào tương tự cho Teeth griding,Apathy,Dehydration, Ruminal stasis nên tiến hành xóa 2 dữ liệu missing này.</p>"
   ]
  },
  {
   "cell_type": "code",
   "execution_count": 15,
   "id": "943deb8a-af01-4a57-9a2f-8fa07e5c527f",
   "metadata": {},
   "outputs": [],
   "source": [
    "df=df.dropna()"
   ]
  },
  {
   "cell_type": "markdown",
   "id": "75b84442-005a-4e4d-bfd4-96c321ccc9d4",
   "metadata": {},
   "source": [
    "### III. Giá trị đặc trưng"
   ]
  },
  {
   "cell_type": "code",
   "execution_count": 16,
   "id": "16b5a12f-49eb-4aa1-a86f-e7acfeef0435",
   "metadata": {},
   "outputs": [
    {
     "name": "stdout",
     "output_type": "stream",
     "text": [
      "AnimalName: 46 đặc trưng\n",
      "symptoms1: 231 đặc trưng\n",
      "symptoms2: 229 đặc trưng\n",
      "symptoms3: 229 đặc trưng\n",
      "symptoms4: 216 đặc trưng\n",
      "symptoms5: 202 đặc trưng\n",
      "Dangerous: 2 đặc trưng\n"
     ]
    }
   ],
   "source": [
    "for column in df.columns:\n",
    "    num_distinct_values = len(df[column].unique())\n",
    "    print(f\"{column}: {num_distinct_values} đặc trưng\")"
   ]
  },
  {
   "cell_type": "code",
   "execution_count": 17,
   "id": "d46cbaad-05f9-4dcd-bc71-f0482b8132d9",
   "metadata": {},
   "outputs": [
    {
     "data": {
      "text/plain": [
       "AnimalName\n",
       "Birds                 37\n",
       "Black-tailed deer      1\n",
       "Buffaloes            128\n",
       "Cattle                21\n",
       "Chicken                9\n",
       "Deer                  26\n",
       "Dog                   34\n",
       "Dogs                   1\n",
       "Donkey                33\n",
       "Duck                  56\n",
       "Elephant              59\n",
       "Elk                    1\n",
       "Fowl                  62\n",
       "Fox                    7\n",
       "Fox                    1\n",
       "Goat                  26\n",
       "Goats                  2\n",
       "Hamster               18\n",
       "Horse                 10\n",
       "Hyaenas                1\n",
       "Lion                  16\n",
       "Monkey                28\n",
       "Moos                   1\n",
       "Mule deer              1\n",
       "Other Birds            6\n",
       "Pig                   63\n",
       "Pigs                   3\n",
       "Rabbit                11\n",
       "Reindeer               1\n",
       "Sheep                109\n",
       "Sika deer              1\n",
       "Tiger                  6\n",
       "Turtle                 4\n",
       "Wapiti                 1\n",
       "White-tailed deer      1\n",
       "Wolves                 1\n",
       "cat                   36\n",
       "cattle                 1\n",
       "chicken                4\n",
       "cow                    3\n",
       "donkey                 2\n",
       "duck                   1\n",
       "horse                  5\n",
       "mammal                 1\n",
       "mules                  1\n",
       "snake                  1\n",
       "Name: count, dtype: int64"
      ]
     },
     "execution_count": 17,
     "metadata": {},
     "output_type": "execute_result"
    }
   ],
   "source": [
    "df['AnimalName'].value_counts().sort_index()"
   ]
  },
  {
   "cell_type": "code",
   "execution_count": 18,
   "id": "a1c19e5d-dfc4-484d-bc37-5dfa71392e9d",
   "metadata": {},
   "outputs": [
    {
     "data": {
      "text/plain": [
       "array(['Dog', 'cat', 'Rabbit', 'cow', 'chicken', 'cattle', 'mammal',\n",
       "       'Cattle', 'Horse', 'Turtle', 'Hamster', 'Lion', 'Fox', 'Fox ',\n",
       "       'Goat', 'Deer', 'Chicken', 'Monkey', 'Birds', 'Sheep', 'Pigs',\n",
       "       'Fowl', 'Duck', 'Other Birds', 'snake', 'horse', 'duck', 'donkey',\n",
       "       'Donkey', 'mules', 'Elephant', 'Elk', 'Wapiti', 'Mule deer',\n",
       "       'Black-tailed deer', 'Sika deer', 'White-tailed deer', 'Reindeer',\n",
       "       'Moos', 'Tiger', 'Goats', 'Buffaloes', 'Dogs', 'Wolves', 'Hyaenas',\n",
       "       'Pig'], dtype=object)"
      ]
     },
     "execution_count": 18,
     "metadata": {},
     "output_type": "execute_result"
    }
   ],
   "source": [
    "df['AnimalName'].unique()"
   ]
  },
  {
   "cell_type": "markdown",
   "id": "627b6d0a-ccc1-4887-9850-a833122dcf8e",
   "metadata": {},
   "source": [
    "<p>Ở đây ta nhận thấy được value không đồng bộ như : Fox,Fox ,Dog,Dogs ....</p>"
   ]
  },
  {
   "cell_type": "code",
   "execution_count": 19,
   "id": "140f927b-2102-4b34-a546-4237d507be74",
   "metadata": {},
   "outputs": [],
   "source": [
    "df['AnimalName'] = df['AnimalName'].str.capitalize()"
   ]
  },
  {
   "cell_type": "code",
   "execution_count": 20,
   "id": "90e1382a-a9aa-4493-a7f0-529e5eac1b60",
   "metadata": {},
   "outputs": [],
   "source": [
    "df['AnimalName'].replace({'Black-tailed deer':'Deer','White-tailed deer':'Deer','Mule deer':'Deer','Sika deer':'Deer',\n",
    "                            'Other birds': 'Birds', 'Dogs': 'Dog', 'Fox ':'Fox', 'Goats': 'Goat'\n",
    "                            \n",
    "                            }, inplace = True)"
   ]
  },
  {
   "cell_type": "code",
   "execution_count": 21,
   "id": "8d62f1a3-592c-4b24-9970-4ed0fe99804a",
   "metadata": {},
   "outputs": [
    {
     "data": {
      "text/plain": [
       "array(['Yes', 'No'], dtype=object)"
      ]
     },
     "execution_count": 21,
     "metadata": {},
     "output_type": "execute_result"
    }
   ],
   "source": [
    "df['Dangerous'].unique()"
   ]
  },
  {
   "cell_type": "markdown",
   "id": "80527836-b70f-48ad-9454-9a884440eef8",
   "metadata": {},
   "source": [
    "<div style=\"background-image: url('https://images.pexels.com/photos/7078619/pexels-photo-7078619.jpeg'); background-size: cover; padding: 15px; color: black;\">\n",
    "    \n",
    "## 2. Phân Tích Đơn Biến\n",
    "\n",
    "</div>"
   ]
  },
  {
   "cell_type": "markdown",
   "id": "1ad1e4f1-4152-4929-9fbc-15c4c1332d1e",
   "metadata": {},
   "source": [
    "### I. Biểu đồ cột của Dangerous"
   ]
  },
  {
   "cell_type": "code",
   "execution_count": 22,
   "id": "deda79a9-dfba-4c77-99fe-816f5dff7ffd",
   "metadata": {},
   "outputs": [
    {
     "data": {
      "image/png": "[encoded data removed]",
      "text/plain": [
       "<Figure size 640x480 with 1 Axes>"
      ]
     },
     "metadata": {},
     "output_type": "display_data"
    }
   ],
   "source": [
    "sns.countplot(x='Dangerous', data=df)\n",
    "plt.title('Dangerous Distribution')\n",
    "plt.show()"
   ]
  },
  {
   "cell_type": "markdown",
   "id": "2bbefe8e-0c76-457a-b9f9-ce4e0cf450a5",
   "metadata": {},
   "source": [
    "### II.Phân tích cột AnimalName"
   ]
  },
  {
   "cell_type": "code",
   "execution_count": 23,
   "id": "f536da69-9d1b-4dc9-a52a-b630ae192c2d",
   "metadata": {},
   "outputs": [
    {
     "data": {
      "image/png": "[encoded data removed]",
      "text/plain": [
       "<Figure size 1000x500 with 1 Axes>"
      ]
     },
     "metadata": {},
     "output_type": "display_data"
    }
   ],
   "source": [
    "plt.figure(figsize=(10,5))\n",
    "df['AnimalName'].value_counts().plot(kind='bar', color='skyblue')\n",
    "plt.title('Tần suất các loài động vật')\n",
    "plt.xlabel('Tên động vật')\n",
    "plt.ylabel('Số lượng')\n",
    "plt.xticks(rotation=45)\n",
    "plt.show()"
   ]
  },
  {
   "cell_type": "markdown",
   "id": "f27a23f1-81eb-449e-98d5-38939bf64722",
   "metadata": {},
   "source": [
    "<p>Ở đây có thể rút ra được kết luận như sau , tần suất của loài bờ rừng Buffaloes cao nhất hơn 120 kế đó là loài Cừu Sheep ,và các nhóm khác. Điều này khá qua trọng khi chia tập train , test cần kiếm tra lại stratified sampling</p>"
   ]
  },
  {
   "cell_type": "markdown",
   "id": "ea40c855-4f09-49a8-a143-0f7153a180ea",
   "metadata": {},
   "source": [
    "### III. Phân tích các cột triệu chứng symptoms1 → symptoms5"
   ]
  },
  {
   "cell_type": "code",
   "execution_count": 31,
   "id": "47b776b6-31a9-4762-9d6b-7f8378f92256",
   "metadata": {},
   "outputs": [
    {
     "data": {
      "image/png": "[encoded data removed]",
      "text/plain": [
       "<Figure size 1000x500 with 1 Axes>"
      ]
     },
     "metadata": {},
     "output_type": "display_data"
    }
   ],
   "source": [
    "from collections import Counter\n",
    "\n",
    "all_symptoms = []\n",
    "symptom_cols = ['symptoms1', 'symptoms2', 'symptoms3', 'symptoms4', 'symptoms5']\n",
    "for col in symptom_cols:\n",
    "    all_symptoms.extend(df[col].dropna().tolist())\n",
    "\n",
    "symptom_counts = Counter(all_symptoms)\n",
    "\n",
    "plt.figure(figsize=(10,5))\n",
    "pd.Series(symptom_counts).sort_values(ascending=False).head(10).plot(kind='bar', color='coral')\n",
    "plt.title('Top 10 triệu chứng phổ biến nhất')\n",
    "plt.xlabel('Triệu chứng')\n",
    "plt.ylabel('Số lượng')\n",
    "plt.xticks(rotation=45)\n",
    "plt.show()\n"
   ]
  },
  {
   "cell_type": "markdown",
   "id": "949947da-21b0-4ee6-86e9-9ccdb775e990",
   "metadata": {},
   "source": [
    "<div style=\"background-image: url('https://images.pexels.com/photos/7078619/pexels-photo-7078619.jpeg'); background-size: cover; padding: 15px; color: black;\">\n",
    "    \n",
    "## 3. Phân Tích Hai Biến\n",
    "\n",
    "</div>"
   ]
  },
  {
   "cell_type": "markdown",
   "id": "81a97bff-560c-4ace-8f00-b3d47e23e14f",
   "metadata": {},
   "source": [
    "### I. Mối quan hệ giữa AnimalName và Dangerous"
   ]
  },
  {
   "cell_type": "code",
   "execution_count": null,
   "id": "5d213ee2-5427-4b4d-b2f7-32104280705a",
   "metadata": {},
   "outputs": [],
   "source": [
    "plt.figure(figsize=(10,5))\n",
    "sns.countplot(data=df, x='AnimalName', hue='Dangerous', palette='Set2')\n",
    "plt.title('Mối quan hệ giữa loài động vật và mức độ nguy hiểm')\n",
    "plt.xlabel('Loài động vật')\n",
    "plt.ylabel('Số lượng')\n",
    "plt.xticks(rotation=45)\n",
    "plt.show()"
   ]
  },
  {
   "cell_type": "markdown",
   "id": "68324aad-f7ae-4ae8-9ecd-89ac6475745b",
   "metadata": {},
   "source": [
    "### II. Phân bố nhãn theo từng loài (phần trăm phần trăm)"
   ]
  },
  {
   "cell_type": "code",
   "execution_count": null,
   "id": "f63f902b-2ae1-42c2-9d31-a901251a6eb4",
   "metadata": {},
   "outputs": [],
   "source": [
    "animal_danger = (\n",
    "    df.groupby('AnimalName')['Dangerous']\n",
    "    .value_counts(normalize=True)\n",
    "    .unstack()\n",
    "    .fillna(0)\n",
    ")\n",
    "\n",
    "animal_danger.plot(kind='bar', stacked=True, color=['#66b3ff','#ff9999'], figsize=(10,6))\n",
    "plt.title('Tỉ lệ Dangerous/Not Dangerous theo từng loài')\n",
    "plt.xlabel('Loài động vật')\n",
    "plt.ylabel('Tỉ lệ (%)')\n",
    "plt.legend(title='Dangerous')\n",
    "plt.show()\n"
   ]
  },
  {
   "cell_type": "markdown",
   "id": "71fad252-5f46-41cd-8c43-959406b94cce",
   "metadata": {},
   "source": [
    "<div style=\"background-image: url('https://encrypted-tbn0.gstatic.com/images?q=tbn:ANd9GcQypbX9FirE2kvwA-l_6NxzGYrfvYjXxwySmA&s'); background-size: cover; padding: 20px; color: white;\">\n",
    "    \n",
    "# 2| PHÂN TÍCH TƯƠNG QUAN\n",
    "\n",
    "</div>"
   ]
  },
  {
   "cell_type": "markdown",
   "id": "4df0b4b4-daf7-46c7-84f2-5bc145f72864",
   "metadata": {},
   "source": [
    "### I. Mã Hóa Dữ Liệu"
   ]
  },
  {
   "cell_type": "code",
   "execution_count": 32,
   "id": "177fd559-2374-4d00-9ccf-612b8f6698bc",
   "metadata": {},
   "outputs": [],
   "source": [
    "from sklearn.preprocessing import LabelEncoder\n",
    "\n",
    "df_encoded = df.copy()\n",
    "le = LabelEncoder()\n",
    "\n",
    "# Mã hóa các cột dạng chuỗi\n",
    "for col in df_encoded.columns:\n",
    "    if df_encoded[col].dtype == 'object':\n",
    "        df_encoded[col] = le.fit_transform(df_encoded[col].astype(str))"
   ]
  },
  {
   "cell_type": "code",
   "execution_count": 33,
   "id": "8b97bf4d-3831-4224-9892-7b8a17d422c5",
   "metadata": {},
   "outputs": [
    {
     "name": "stdout",
     "output_type": "stream",
     "text": [
      "<class 'pandas.core.frame.DataFrame'>\n",
      "Index: 841 entries, 0 to 870\n",
      "Data columns (total 7 columns):\n",
      " #   Column      Non-Null Count  Dtype\n",
      "---  ------      --------------  -----\n",
      " 0   AnimalName  841 non-null    int32\n",
      " 1   symptoms1   841 non-null    int32\n",
      " 2   symptoms2   841 non-null    int32\n",
      " 3   symptoms3   841 non-null    int32\n",
      " 4   symptoms4   841 non-null    int32\n",
      " 5   symptoms5   841 non-null    int32\n",
      " 6   Dangerous   841 non-null    int32\n",
      "dtypes: int32(7)\n",
      "memory usage: 29.6 KB\n"
     ]
    }
   ],
   "source": [
    "df_encoded.info()"
   ]
  },
  {
   "cell_type": "markdown",
   "id": "4f6dc79d-7afd-4b68-a72c-4bfda79af7ec",
   "metadata": {},
   "source": [
    "### II. Ma Trận Tương Quan"
   ]
  },
  {
   "cell_type": "code",
   "execution_count": 36,
   "id": "63f1d827-67d8-45c0-8cd3-8916da2a919e",
   "metadata": {},
   "outputs": [
    {
     "data": {
      "text/html": [
       "<style type=\"text/css\">\n",
       "#T_a41ff_row0_col0, #T_a41ff_row1_col1, #T_a41ff_row2_col2, #T_a41ff_row3_col3, #T_a41ff_row4_col4, #T_a41ff_row5_col5, #T_a41ff_row6_col6 {\n",
       "  background-color: #b40426;\n",
       "  color: #f1f1f1;\n",
       "}\n",
       "#T_a41ff_row0_col1 {\n",
       "  background-color: #4f69d9;\n",
       "  color: #f1f1f1;\n",
       "}\n",
       "#T_a41ff_row0_col2, #T_a41ff_row0_col3, #T_a41ff_row0_col4, #T_a41ff_row0_col5, #T_a41ff_row1_col6, #T_a41ff_row4_col0, #T_a41ff_row4_col5, #T_a41ff_row6_col1 {\n",
       "  background-color: #3b4cc0;\n",
       "  color: #f1f1f1;\n",
       "}\n",
       "#T_a41ff_row0_col6, #T_a41ff_row5_col0 {\n",
       "  background-color: #6f92f3;\n",
       "  color: #f1f1f1;\n",
       "}\n",
       "#T_a41ff_row1_col0 {\n",
       "  background-color: #688aef;\n",
       "  color: #f1f1f1;\n",
       "}\n",
       "#T_a41ff_row1_col2 {\n",
       "  background-color: #c9d7f0;\n",
       "  color: #000000;\n",
       "}\n",
       "#T_a41ff_row1_col3 {\n",
       "  background-color: #b1cbfc;\n",
       "  color: #000000;\n",
       "}\n",
       "#T_a41ff_row1_col4, #T_a41ff_row2_col4 {\n",
       "  background-color: #9bbcff;\n",
       "  color: #000000;\n",
       "}\n",
       "#T_a41ff_row1_col5, #T_a41ff_row5_col4 {\n",
       "  background-color: #7093f3;\n",
       "  color: #f1f1f1;\n",
       "}\n",
       "#T_a41ff_row2_col0 {\n",
       "  background-color: #5673e0;\n",
       "  color: #f1f1f1;\n",
       "}\n",
       "#T_a41ff_row2_col1 {\n",
       "  background-color: #cad8ef;\n",
       "  color: #000000;\n",
       "}\n",
       "#T_a41ff_row2_col3 {\n",
       "  background-color: #bed2f6;\n",
       "  color: #000000;\n",
       "}\n",
       "#T_a41ff_row2_col5 {\n",
       "  background-color: #86a9fc;\n",
       "  color: #f1f1f1;\n",
       "}\n",
       "#T_a41ff_row2_col6 {\n",
       "  background-color: #5b7ae5;\n",
       "  color: #f1f1f1;\n",
       "}\n",
       "#T_a41ff_row3_col0 {\n",
       "  background-color: #4358cb;\n",
       "  color: #f1f1f1;\n",
       "}\n",
       "#T_a41ff_row3_col1 {\n",
       "  background-color: #a3c2fe;\n",
       "  color: #000000;\n",
       "}\n",
       "#T_a41ff_row3_col2 {\n",
       "  background-color: #afcafc;\n",
       "  color: #000000;\n",
       "}\n",
       "#T_a41ff_row3_col4 {\n",
       "  background-color: #a7c5fe;\n",
       "  color: #000000;\n",
       "}\n",
       "#T_a41ff_row3_col5, #T_a41ff_row6_col3 {\n",
       "  background-color: #5f7fe8;\n",
       "  color: #f1f1f1;\n",
       "}\n",
       "#T_a41ff_row3_col6 {\n",
       "  background-color: #4e68d8;\n",
       "  color: #f1f1f1;\n",
       "}\n",
       "#T_a41ff_row4_col1 {\n",
       "  background-color: #85a8fc;\n",
       "  color: #f1f1f1;\n",
       "}\n",
       "#T_a41ff_row4_col2 {\n",
       "  background-color: #82a6fb;\n",
       "  color: #f1f1f1;\n",
       "}\n",
       "#T_a41ff_row4_col3 {\n",
       "  background-color: #a1c0ff;\n",
       "  color: #000000;\n",
       "}\n",
       "#T_a41ff_row4_col6 {\n",
       "  background-color: #536edd;\n",
       "  color: #f1f1f1;\n",
       "}\n",
       "#T_a41ff_row5_col1, #T_a41ff_row5_col3 {\n",
       "  background-color: #8badfd;\n",
       "  color: #000000;\n",
       "}\n",
       "#T_a41ff_row5_col2 {\n",
       "  background-color: #9dbdff;\n",
       "  color: #000000;\n",
       "}\n",
       "#T_a41ff_row5_col6 {\n",
       "  background-color: #5875e1;\n",
       "  color: #f1f1f1;\n",
       "}\n",
       "#T_a41ff_row6_col0 {\n",
       "  background-color: #88abfd;\n",
       "  color: #000000;\n",
       "}\n",
       "#T_a41ff_row6_col2 {\n",
       "  background-color: #5a78e4;\n",
       "  color: #f1f1f1;\n",
       "}\n",
       "#T_a41ff_row6_col4 {\n",
       "  background-color: #6c8ff1;\n",
       "  color: #f1f1f1;\n",
       "}\n",
       "#T_a41ff_row6_col5 {\n",
       "  background-color: #3c4ec2;\n",
       "  color: #f1f1f1;\n",
       "}\n",
       "</style>\n",
       "<table id=\"T_a41ff\">\n",
       "  <thead>\n",
       "    <tr>\n",
       "      <th class=\"blank level0\" >&nbsp;</th>\n",
       "      <th id=\"T_a41ff_level0_col0\" class=\"col_heading level0 col0\" >AnimalName</th>\n",
       "      <th id=\"T_a41ff_level0_col1\" class=\"col_heading level0 col1\" >symptoms1</th>\n",
       "      <th id=\"T_a41ff_level0_col2\" class=\"col_heading level0 col2\" >symptoms2</th>\n",
       "      <th id=\"T_a41ff_level0_col3\" class=\"col_heading level0 col3\" >symptoms3</th>\n",
       "      <th id=\"T_a41ff_level0_col4\" class=\"col_heading level0 col4\" >symptoms4</th>\n",
       "      <th id=\"T_a41ff_level0_col5\" class=\"col_heading level0 col5\" >symptoms5</th>\n",
       "      <th id=\"T_a41ff_level0_col6\" class=\"col_heading level0 col6\" >Dangerous</th>\n",
       "    </tr>\n",
       "  </thead>\n",
       "  <tbody>\n",
       "    <tr>\n",
       "      <th id=\"T_a41ff_level0_row0\" class=\"row_heading level0 row0\" >AnimalName</th>\n",
       "      <td id=\"T_a41ff_row0_col0\" class=\"data row0 col0\" >1.00</td>\n",
       "      <td id=\"T_a41ff_row0_col1\" class=\"data row0 col1\" >0.03</td>\n",
       "      <td id=\"T_a41ff_row0_col2\" class=\"data row0 col2\" >-0.04</td>\n",
       "      <td id=\"T_a41ff_row0_col3\" class=\"data row0 col3\" >-0.11</td>\n",
       "      <td id=\"T_a41ff_row0_col4\" class=\"data row0 col4\" >-0.14</td>\n",
       "      <td id=\"T_a41ff_row0_col5\" class=\"data row0 col5\" >0.05</td>\n",
       "      <td id=\"T_a41ff_row0_col6\" class=\"data row0 col6\" >0.13</td>\n",
       "    </tr>\n",
       "    <tr>\n",
       "      <th id=\"T_a41ff_level0_row1\" class=\"row_heading level0 row1\" >symptoms1</th>\n",
       "      <td id=\"T_a41ff_row1_col0\" class=\"data row1 col0\" >0.03</td>\n",
       "      <td id=\"T_a41ff_row1_col1\" class=\"data row1 col1\" >1.00</td>\n",
       "      <td id=\"T_a41ff_row1_col2\" class=\"data row1 col2\" >0.41</td>\n",
       "      <td id=\"T_a41ff_row1_col3\" class=\"data row1 col3\" >0.28</td>\n",
       "      <td id=\"T_a41ff_row1_col4\" class=\"data row1 col4\" >0.19</td>\n",
       "      <td id=\"T_a41ff_row1_col5\" class=\"data row1 col5\" >0.21</td>\n",
       "      <td id=\"T_a41ff_row1_col6\" class=\"data row1 col6\" >-0.04</td>\n",
       "    </tr>\n",
       "    <tr>\n",
       "      <th id=\"T_a41ff_level0_row2\" class=\"row_heading level0 row2\" >symptoms2</th>\n",
       "      <td id=\"T_a41ff_row2_col0\" class=\"data row2 col0\" >-0.04</td>\n",
       "      <td id=\"T_a41ff_row2_col1\" class=\"data row2 col1\" >0.41</td>\n",
       "      <td id=\"T_a41ff_row2_col2\" class=\"data row2 col2\" >1.00</td>\n",
       "      <td id=\"T_a41ff_row2_col3\" class=\"data row2 col3\" >0.33</td>\n",
       "      <td id=\"T_a41ff_row2_col4\" class=\"data row2 col4\" >0.19</td>\n",
       "      <td id=\"T_a41ff_row2_col5\" class=\"data row2 col5\" >0.27</td>\n",
       "      <td id=\"T_a41ff_row2_col6\" class=\"data row2 col6\" >0.07</td>\n",
       "    </tr>\n",
       "    <tr>\n",
       "      <th id=\"T_a41ff_level0_row3\" class=\"row_heading level0 row3\" >symptoms3</th>\n",
       "      <td id=\"T_a41ff_row3_col0\" class=\"data row3 col0\" >-0.11</td>\n",
       "      <td id=\"T_a41ff_row3_col1\" class=\"data row3 col1\" >0.28</td>\n",
       "      <td id=\"T_a41ff_row3_col2\" class=\"data row3 col2\" >0.33</td>\n",
       "      <td id=\"T_a41ff_row3_col3\" class=\"data row3 col3\" >1.00</td>\n",
       "      <td id=\"T_a41ff_row3_col4\" class=\"data row3 col4\" >0.23</td>\n",
       "      <td id=\"T_a41ff_row3_col5\" class=\"data row3 col5\" >0.16</td>\n",
       "      <td id=\"T_a41ff_row3_col6\" class=\"data row3 col6\" >0.02</td>\n",
       "    </tr>\n",
       "    <tr>\n",
       "      <th id=\"T_a41ff_level0_row4\" class=\"row_heading level0 row4\" >symptoms4</th>\n",
       "      <td id=\"T_a41ff_row4_col0\" class=\"data row4 col0\" >-0.14</td>\n",
       "      <td id=\"T_a41ff_row4_col1\" class=\"data row4 col1\" >0.19</td>\n",
       "      <td id=\"T_a41ff_row4_col2\" class=\"data row4 col2\" >0.19</td>\n",
       "      <td id=\"T_a41ff_row4_col3\" class=\"data row4 col3\" >0.23</td>\n",
       "      <td id=\"T_a41ff_row4_col4\" class=\"data row4 col4\" >1.00</td>\n",
       "      <td id=\"T_a41ff_row4_col5\" class=\"data row4 col5\" >0.05</td>\n",
       "      <td id=\"T_a41ff_row4_col6\" class=\"data row4 col6\" >0.04</td>\n",
       "    </tr>\n",
       "    <tr>\n",
       "      <th id=\"T_a41ff_level0_row5\" class=\"row_heading level0 row5\" >symptoms5</th>\n",
       "      <td id=\"T_a41ff_row5_col0\" class=\"data row5 col0\" >0.05</td>\n",
       "      <td id=\"T_a41ff_row5_col1\" class=\"data row5 col1\" >0.21</td>\n",
       "      <td id=\"T_a41ff_row5_col2\" class=\"data row5 col2\" >0.27</td>\n",
       "      <td id=\"T_a41ff_row5_col3\" class=\"data row5 col3\" >0.16</td>\n",
       "      <td id=\"T_a41ff_row5_col4\" class=\"data row5 col4\" >0.05</td>\n",
       "      <td id=\"T_a41ff_row5_col5\" class=\"data row5 col5\" >1.00</td>\n",
       "      <td id=\"T_a41ff_row5_col6\" class=\"data row5 col6\" >0.06</td>\n",
       "    </tr>\n",
       "    <tr>\n",
       "      <th id=\"T_a41ff_level0_row6\" class=\"row_heading level0 row6\" >Dangerous</th>\n",
       "      <td id=\"T_a41ff_row6_col0\" class=\"data row6 col0\" >0.13</td>\n",
       "      <td id=\"T_a41ff_row6_col1\" class=\"data row6 col1\" >-0.04</td>\n",
       "      <td id=\"T_a41ff_row6_col2\" class=\"data row6 col2\" >0.07</td>\n",
       "      <td id=\"T_a41ff_row6_col3\" class=\"data row6 col3\" >0.02</td>\n",
       "      <td id=\"T_a41ff_row6_col4\" class=\"data row6 col4\" >0.04</td>\n",
       "      <td id=\"T_a41ff_row6_col5\" class=\"data row6 col5\" >0.06</td>\n",
       "      <td id=\"T_a41ff_row6_col6\" class=\"data row6 col6\" >1.00</td>\n",
       "    </tr>\n",
       "  </tbody>\n",
       "</table>\n"
      ],
      "text/plain": [
       "<pandas.io.formats.style.Styler at 0x28e259f0d40>"
      ]
     },
     "execution_count": 36,
     "metadata": {},
     "output_type": "execute_result"
    }
   ],
   "source": [
    "corr = df_encoded.corr()\n",
    "corr.style.background_gradient(cmap='coolwarm').format(precision=2)"
   ]
  },
  {
   "cell_type": "markdown",
   "id": "92a26d2d-a028-4f67-9724-6f3c3bc0c6a1",
   "metadata": {},
   "source": [
    "### III. Heatmap tương quan trực quan"
   ]
  },
  {
   "cell_type": "code",
   "execution_count": 37,
   "id": "6ba815a0-1ddc-4634-9da3-475b1348da5c",
   "metadata": {},
   "outputs": [
    {
     "data": {
      "image/png": "[encoded data removed]",
      "text/plain": [
       "<Figure size 1000x800 with 2 Axes>"
      ]
     },
     "metadata": {},
     "output_type": "display_data"
    }
   ],
   "source": [
    "plt.figure(figsize=(10,8))\n",
    "sns.heatmap(corr, annot=True, fmt=\".2f\", cmap=\"coolwarm\")\n",
    "plt.title(\"Biểu đồ tương quan giữa các biến trong tập dữ liệu\")\n",
    "plt.show()"
   ]
  },
  {
   "cell_type": "markdown",
   "id": "991816dc-31d9-4cff-952c-5afd5fbd789e",
   "metadata": {},
   "source": [
    "<div style=\"background-image: url('https://encrypted-tbn0.gstatic.com/images?q=tbn:ANd9GcQypbX9FirE2kvwA-l_6NxzGYrfvYjXxwySmA&s'); background-size: cover; padding: 20px; color: white;\">\n",
    "    \n",
    "# 3| PHÂN TÍCH DỰ ĐOÁN\n",
    "\n",
    "</div>"
   ]
  },
  {
   "cell_type": "markdown",
   "id": "0503c368-a22a-44dd-ae56-1657d2a49657",
   "metadata": {},
   "source": [
    "### I. Dữ liệu mất cân bằng"
   ]
  },
  {
   "cell_type": "code",
   "execution_count": 38,
   "id": "1c8aff3a-e0a4-47e4-ac8d-e9232ecf8451",
   "metadata": {},
   "outputs": [
    {
     "name": "stdout",
     "output_type": "stream",
     "text": [
      "Dangerous\n",
      "Yes    821\n",
      "No      20\n",
      "Name: count, dtype: int64\n",
      "\n",
      "Tỷ lệ phần trăm:\n",
      "Dangerous\n",
      "Yes    97.621879\n",
      "No      2.378121\n",
      "Name: proportion, dtype: float64\n"
     ]
    },
    {
     "data": {
      "image/png": "[encoded data removed]",
      "text/plain": [
       "<Figure size 600x400 with 1 Axes>"
      ]
     },
     "metadata": {},
     "output_type": "display_data"
    }
   ],
   "source": [
    "import matplotlib.pyplot as plt\n",
    "import seaborn as sns\n",
    "\n",
    "# Đếm số lượng từng lớp\n",
    "print(df['Dangerous'].value_counts())\n",
    "print(\"\\nTỷ lệ phần trăm:\")\n",
    "print(df['Dangerous'].value_counts(normalize=True) * 100)\n",
    "\n",
    "# Vẽ biểu đồ phân bố\n",
    "plt.figure(figsize=(6,4))\n",
    "sns.countplot(data=df, x='Dangerous', palette='pastel')\n",
    "plt.title('Phân bố nhãn Dangerous')\n",
    "plt.xlabel('Tình trạng')\n",
    "plt.ylabel('Số lượng mẫu')\n",
    "plt.show()\n"
   ]
  },
  {
   "cell_type": "markdown",
   "id": "c3b246d8-04ea-4955-bdf6-1a7ac1bb568d",
   "metadata": {},
   "source": [
    "<p>Dữ liệu mất cân bằng nghiêm trọng , điều này có thể làm cho mô hình chỉ dự đoán Yes ở mọi trường hợp , điều này vô dụng trong thực tế</p>"
   ]
  },
  {
   "cell_type": "code",
   "execution_count": 41,
   "id": "e3bc72e0-e8fd-41cc-b32c-07f6b49aa793",
   "metadata": {},
   "outputs": [],
   "source": [
    "from imblearn.over_sampling import SMOTE\n",
    "from sklearn.model_selection import train_test_split\n",
    "\n",
    "# Tách X và y\n",
    "X = df_encoded.drop('Dangerous', axis=1)\n",
    "y = df_encoded['Dangerous']\n",
    "\n",
    "# Chia train/test ban đầu\n",
    "X_train, X_test, y_train, y_test = train_test_split(X, y, test_size=0.2, random_state=42, stratify=y)\n",
    "\n",
    "# Áp dụng SMOTE\n",
    "smote = SMOTE(random_state=42)\n",
    "X_train_res, y_train_res = smote.fit_resample(X_train, y_train)\n"
   ]
  },
  {
   "cell_type": "markdown",
   "id": "71978768-7a24-4e8b-a995-c80b4a2b4906",
   "metadata": {},
   "source": [
    "### II. Xây dựng mô hình và điều chỉnh tham số"
   ]
  },
  {
   "cell_type": "markdown",
   "id": "8f82d75c-e8c7-4660-9332-c40621f47ea9",
   "metadata": {},
   "source": [
    "#### 1. Chuẩn hóa dữ liệu"
   ]
  },
  {
   "cell_type": "code",
   "execution_count": 44,
   "id": "2fb3edee-9c9f-4b50-922d-26350861faeb",
   "metadata": {},
   "outputs": [],
   "source": [
    "from sklearn.preprocessing import StandardScaler\n",
    "\n",
    "scaler = StandardScaler()\n",
    "X_train_scaled = scaler.fit_transform(X_train_res)\n",
    "X_test_scaled = scaler.transform(X_test)\n"
   ]
  },
  {
   "cell_type": "markdown",
   "id": "76b36a76-ff29-4d54-bcc8-5529fd23538b",
   "metadata": {},
   "source": [
    "#### 2. Huấn luyện mô hình"
   ]
  },
  {
   "cell_type": "code",
   "execution_count": 45,
   "id": "8223cbe1-6a1c-4446-b9a1-9c87d4971072",
   "metadata": {},
   "outputs": [
    {
     "data": {
      "text/html": [
       "<style>#sk-container-id-1 {\n",
       "  /* Definition of color scheme common for light and dark mode */\n",
       "  --sklearn-color-text: black;\n",
       "  --sklearn-color-line: gray;\n",
       "  /* Definition of color scheme for unfitted estimators */\n",
       "  --sklearn-color-unfitted-level-0: #fff5e6;\n",
       "  --sklearn-color-unfitted-level-1: #f6e4d2;\n",
       "  --sklearn-color-unfitted-level-2: #ffe0b3;\n",
       "  --sklearn-color-unfitted-level-3: chocolate;\n",
       "  /* Definition of color scheme for fitted estimators */\n",
       "  --sklearn-color-fitted-level-0: #f0f8ff;\n",
       "  --sklearn-color-fitted-level-1: #d4ebff;\n",
       "  --sklearn-color-fitted-level-2: #b3dbfd;\n",
       "  --sklearn-color-fitted-level-3: cornflowerblue;\n",
       "\n",
       "  /* Specific color for light theme */\n",
       "  --sklearn-color-text-on-default-background: var(--sg-text-color, var(--theme-code-foreground, var(--jp-content-font-color1, black)));\n",
       "  --sklearn-color-background: var(--sg-background-color, var(--theme-background, var(--jp-layout-color0, white)));\n",
       "  --sklearn-color-border-box: var(--sg-text-color, var(--theme-code-foreground, var(--jp-content-font-color1, black)));\n",
       "  --sklearn-color-icon: #696969;\n",
       "\n",
       "  @media (prefers-color-scheme: dark) {\n",
       "    /* Redefinition of color scheme for dark theme */\n",
       "    --sklearn-color-text-on-default-background: var(--sg-text-color, var(--theme-code-foreground, var(--jp-content-font-color1, white)));\n",
       "    --sklearn-color-background: var(--sg-background-color, var(--theme-background, var(--jp-layout-color0, #111)));\n",
       "    --sklearn-color-border-box: var(--sg-text-color, var(--theme-code-foreground, var(--jp-content-font-color1, white)));\n",
       "    --sklearn-color-icon: #878787;\n",
       "  }\n",
       "}\n",
       "\n",
       "#sk-container-id-1 {\n",
       "  color: var(--sklearn-color-text);\n",
       "}\n",
       "\n",
       "#sk-container-id-1 pre {\n",
       "  padding: 0;\n",
       "}\n",
       "\n",
       "#sk-container-id-1 input.sk-hidden--visually {\n",
       "  border: 0;\n",
       "  clip: rect(1px 1px 1px 1px);\n",
       "  clip: rect(1px, 1px, 1px, 1px);\n",
       "  height: 1px;\n",
       "  margin: -1px;\n",
       "  overflow: hidden;\n",
       "  padding: 0;\n",
       "  position: absolute;\n",
       "  width: 1px;\n",
       "}\n",
       "\n",
       "#sk-container-id-1 div.sk-dashed-wrapped {\n",
       "  border: 1px dashed var(--sklearn-color-line);\n",
       "  margin: 0 0.4em 0.5em 0.4em;\n",
       "  box-sizing: border-box;\n",
       "  padding-bottom: 0.4em;\n",
       "  background-color: var(--sklearn-color-background);\n",
       "}\n",
       "\n",
       "#sk-container-id-1 div.sk-container {\n",
       "  /* jupyter's `normalize.less` sets `[hidden] { display: none; }`\n",
       "     but bootstrap.min.css set `[hidden] { display: none !important; }`\n",
       "     so we also need the `!important` here to be able to override the\n",
       "     default hidden behavior on the sphinx rendered scikit-learn.org.\n",
       "     See: https://github.com/scikit-learn/scikit-learn/issues/21755 */\n",
       "  display: inline-block !important;\n",
       "  position: relative;\n",
       "}\n",
       "\n",
       "#sk-container-id-1 div.sk-text-repr-fallback {\n",
       "  display: none;\n",
       "}\n",
       "\n",
       "div.sk-parallel-item,\n",
       "div.sk-serial,\n",
       "div.sk-item {\n",
       "  /* draw centered vertical line to link estimators */\n",
       "  background-image: linear-gradient(var(--sklearn-color-text-on-default-background), var(--sklearn-color-text-on-default-background));\n",
       "  background-size: 2px 100%;\n",
       "  background-repeat: no-repeat;\n",
       "  background-position: center center;\n",
       "}\n",
       "\n",
       "/* Parallel-specific style estimator block */\n",
       "\n",
       "#sk-container-id-1 div.sk-parallel-item::after {\n",
       "  content: \"\";\n",
       "  width: 100%;\n",
       "  border-bottom: 2px solid var(--sklearn-color-text-on-default-background);\n",
       "  flex-grow: 1;\n",
       "}\n",
       "\n",
       "#sk-container-id-1 div.sk-parallel {\n",
       "  display: flex;\n",
       "  align-items: stretch;\n",
       "  justify-content: center;\n",
       "  background-color: var(--sklearn-color-background);\n",
       "  position: relative;\n",
       "}\n",
       "\n",
       "#sk-container-id-1 div.sk-parallel-item {\n",
       "  display: flex;\n",
       "  flex-direction: column;\n",
       "}\n",
       "\n",
       "#sk-container-id-1 div.sk-parallel-item:first-child::after {\n",
       "  align-self: flex-end;\n",
       "  width: 50%;\n",
       "}\n",
       "\n",
       "#sk-container-id-1 div.sk-parallel-item:last-child::after {\n",
       "  align-self: flex-start;\n",
       "  width: 50%;\n",
       "}\n",
       "\n",
       "#sk-container-id-1 div.sk-parallel-item:only-child::after {\n",
       "  width: 0;\n",
       "}\n",
       "\n",
       "/* Serial-specific style estimator block */\n",
       "\n",
       "#sk-container-id-1 div.sk-serial {\n",
       "  display: flex;\n",
       "  flex-direction: column;\n",
       "  align-items: center;\n",
       "  background-color: var(--sklearn-color-background);\n",
       "  padding-right: 1em;\n",
       "  padding-left: 1em;\n",
       "}\n",
       "\n",
       "\n",
       "/* Toggleable style: style used for estimator/Pipeline/ColumnTransformer box that is\n",
       "clickable and can be expanded/collapsed.\n",
       "- Pipeline and ColumnTransformer use this feature and define the default style\n",
       "- Estimators will overwrite some part of the style using the `sk-estimator` class\n",
       "*/\n",
       "\n",
       "/* Pipeline and ColumnTransformer style (default) */\n",
       "\n",
       "#sk-container-id-1 div.sk-toggleable {\n",
       "  /* Default theme specific background. It is overwritten whether we have a\n",
       "  specific estimator or a Pipeline/ColumnTransformer */\n",
       "  background-color: var(--sklearn-color-background);\n",
       "}\n",
       "\n",
       "/* Toggleable label */\n",
       "#sk-container-id-1 label.sk-toggleable__label {\n",
       "  cursor: pointer;\n",
       "  display: block;\n",
       "  width: 100%;\n",
       "  margin-bottom: 0;\n",
       "  padding: 0.5em;\n",
       "  box-sizing: border-box;\n",
       "  text-align: center;\n",
       "}\n",
       "\n",
       "#sk-container-id-1 label.sk-toggleable__label-arrow:before {\n",
       "  /* Arrow on the left of the label */\n",
       "  content: \"▸\";\n",
       "  float: left;\n",
       "  margin-right: 0.25em;\n",
       "  color: var(--sklearn-color-icon);\n",
       "}\n",
       "\n",
       "#sk-container-id-1 label.sk-toggleable__label-arrow:hover:before {\n",
       "  color: var(--sklearn-color-text);\n",
       "}\n",
       "\n",
       "/* Toggleable content - dropdown */\n",
       "\n",
       "#sk-container-id-1 div.sk-toggleable__content {\n",
       "  max-height: 0;\n",
       "  max-width: 0;\n",
       "  overflow: hidden;\n",
       "  text-align: left;\n",
       "  /* unfitted */\n",
       "  background-color: var(--sklearn-color-unfitted-level-0);\n",
       "}\n",
       "\n",
       "#sk-container-id-1 div.sk-toggleable__content.fitted {\n",
       "  /* fitted */\n",
       "  background-color: var(--sklearn-color-fitted-level-0);\n",
       "}\n",
       "\n",
       "#sk-container-id-1 div.sk-toggleable__content pre {\n",
       "  margin: 0.2em;\n",
       "  border-radius: 0.25em;\n",
       "  color: var(--sklearn-color-text);\n",
       "  /* unfitted */\n",
       "  background-color: var(--sklearn-color-unfitted-level-0);\n",
       "}\n",
       "\n",
       "#sk-container-id-1 div.sk-toggleable__content.fitted pre {\n",
       "  /* unfitted */\n",
       "  background-color: var(--sklearn-color-fitted-level-0);\n",
       "}\n",
       "\n",
       "#sk-container-id-1 input.sk-toggleable__control:checked~div.sk-toggleable__content {\n",
       "  /* Expand drop-down */\n",
       "  max-height: 200px;\n",
       "  max-width: 100%;\n",
       "  overflow: auto;\n",
       "}\n",
       "\n",
       "#sk-container-id-1 input.sk-toggleable__control:checked~label.sk-toggleable__label-arrow:before {\n",
       "  content: \"▾\";\n",
       "}\n",
       "\n",
       "/* Pipeline/ColumnTransformer-specific style */\n",
       "\n",
       "#sk-container-id-1 div.sk-label input.sk-toggleable__control:checked~label.sk-toggleable__label {\n",
       "  color: var(--sklearn-color-text);\n",
       "  background-color: var(--sklearn-color-unfitted-level-2);\n",
       "}\n",
       "\n",
       "#sk-container-id-1 div.sk-label.fitted input.sk-toggleable__control:checked~label.sk-toggleable__label {\n",
       "  background-color: var(--sklearn-color-fitted-level-2);\n",
       "}\n",
       "\n",
       "/* Estimator-specific style */\n",
       "\n",
       "/* Colorize estimator box */\n",
       "#sk-container-id-1 div.sk-estimator input.sk-toggleable__control:checked~label.sk-toggleable__label {\n",
       "  /* unfitted */\n",
       "  background-color: var(--sklearn-color-unfitted-level-2);\n",
       "}\n",
       "\n",
       "#sk-container-id-1 div.sk-estimator.fitted input.sk-toggleable__control:checked~label.sk-toggleable__label {\n",
       "  /* fitted */\n",
       "  background-color: var(--sklearn-color-fitted-level-2);\n",
       "}\n",
       "\n",
       "#sk-container-id-1 div.sk-label label.sk-toggleable__label,\n",
       "#sk-container-id-1 div.sk-label label {\n",
       "  /* The background is the default theme color */\n",
       "  color: var(--sklearn-color-text-on-default-background);\n",
       "}\n",
       "\n",
       "/* On hover, darken the color of the background */\n",
       "#sk-container-id-1 div.sk-label:hover label.sk-toggleable__label {\n",
       "  color: var(--sklearn-color-text);\n",
       "  background-color: var(--sklearn-color-unfitted-level-2);\n",
       "}\n",
       "\n",
       "/* Label box, darken color on hover, fitted */\n",
       "#sk-container-id-1 div.sk-label.fitted:hover label.sk-toggleable__label.fitted {\n",
       "  color: var(--sklearn-color-text);\n",
       "  background-color: var(--sklearn-color-fitted-level-2);\n",
       "}\n",
       "\n",
       "/* Estimator label */\n",
       "\n",
       "#sk-container-id-1 div.sk-label label {\n",
       "  font-family: monospace;\n",
       "  font-weight: bold;\n",
       "  display: inline-block;\n",
       "  line-height: 1.2em;\n",
       "}\n",
       "\n",
       "#sk-container-id-1 div.sk-label-container {\n",
       "  text-align: center;\n",
       "}\n",
       "\n",
       "/* Estimator-specific */\n",
       "#sk-container-id-1 div.sk-estimator {\n",
       "  font-family: monospace;\n",
       "  border: 1px dotted var(--sklearn-color-border-box);\n",
       "  border-radius: 0.25em;\n",
       "  box-sizing: border-box;\n",
       "  margin-bottom: 0.5em;\n",
       "  /* unfitted */\n",
       "  background-color: var(--sklearn-color-unfitted-level-0);\n",
       "}\n",
       "\n",
       "#sk-container-id-1 div.sk-estimator.fitted {\n",
       "  /* fitted */\n",
       "  background-color: var(--sklearn-color-fitted-level-0);\n",
       "}\n",
       "\n",
       "/* on hover */\n",
       "#sk-container-id-1 div.sk-estimator:hover {\n",
       "  /* unfitted */\n",
       "  background-color: var(--sklearn-color-unfitted-level-2);\n",
       "}\n",
       "\n",
       "#sk-container-id-1 div.sk-estimator.fitted:hover {\n",
       "  /* fitted */\n",
       "  background-color: var(--sklearn-color-fitted-level-2);\n",
       "}\n",
       "\n",
       "/* Specification for estimator info (e.g. \"i\" and \"?\") */\n",
       "\n",
       "/* Common style for \"i\" and \"?\" */\n",
       "\n",
       ".sk-estimator-doc-link,\n",
       "a:link.sk-estimator-doc-link,\n",
       "a:visited.sk-estimator-doc-link {\n",
       "  float: right;\n",
       "  font-size: smaller;\n",
       "  line-height: 1em;\n",
       "  font-family: monospace;\n",
       "  background-color: var(--sklearn-color-background);\n",
       "  border-radius: 1em;\n",
       "  height: 1em;\n",
       "  width: 1em;\n",
       "  text-decoration: none !important;\n",
       "  margin-left: 1ex;\n",
       "  /* unfitted */\n",
       "  border: var(--sklearn-color-unfitted-level-1) 1pt solid;\n",
       "  color: var(--sklearn-color-unfitted-level-1);\n",
       "}\n",
       "\n",
       ".sk-estimator-doc-link.fitted,\n",
       "a:link.sk-estimator-doc-link.fitted,\n",
       "a:visited.sk-estimator-doc-link.fitted {\n",
       "  /* fitted */\n",
       "  border: var(--sklearn-color-fitted-level-1) 1pt solid;\n",
       "  color: var(--sklearn-color-fitted-level-1);\n",
       "}\n",
       "\n",
       "/* On hover */\n",
       "div.sk-estimator:hover .sk-estimator-doc-link:hover,\n",
       ".sk-estimator-doc-link:hover,\n",
       "div.sk-label-container:hover .sk-estimator-doc-link:hover,\n",
       ".sk-estimator-doc-link:hover {\n",
       "  /* unfitted */\n",
       "  background-color: var(--sklearn-color-unfitted-level-3);\n",
       "  color: var(--sklearn-color-background);\n",
       "  text-decoration: none;\n",
       "}\n",
       "\n",
       "div.sk-estimator.fitted:hover .sk-estimator-doc-link.fitted:hover,\n",
       ".sk-estimator-doc-link.fitted:hover,\n",
       "div.sk-label-container:hover .sk-estimator-doc-link.fitted:hover,\n",
       ".sk-estimator-doc-link.fitted:hover {\n",
       "  /* fitted */\n",
       "  background-color: var(--sklearn-color-fitted-level-3);\n",
       "  color: var(--sklearn-color-background);\n",
       "  text-decoration: none;\n",
       "}\n",
       "\n",
       "/* Span, style for the box shown on hovering the info icon */\n",
       ".sk-estimator-doc-link span {\n",
       "  display: none;\n",
       "  z-index: 9999;\n",
       "  position: relative;\n",
       "  font-weight: normal;\n",
       "  right: .2ex;\n",
       "  padding: .5ex;\n",
       "  margin: .5ex;\n",
       "  width: min-content;\n",
       "  min-width: 20ex;\n",
       "  max-width: 50ex;\n",
       "  color: var(--sklearn-color-text);\n",
       "  box-shadow: 2pt 2pt 4pt #999;\n",
       "  /* unfitted */\n",
       "  background: var(--sklearn-color-unfitted-level-0);\n",
       "  border: .5pt solid var(--sklearn-color-unfitted-level-3);\n",
       "}\n",
       "\n",
       ".sk-estimator-doc-link.fitted span {\n",
       "  /* fitted */\n",
       "  background: var(--sklearn-color-fitted-level-0);\n",
       "  border: var(--sklearn-color-fitted-level-3);\n",
       "}\n",
       "\n",
       ".sk-estimator-doc-link:hover span {\n",
       "  display: block;\n",
       "}\n",
       "\n",
       "/* \"?\"-specific style due to the `<a>` HTML tag */\n",
       "\n",
       "#sk-container-id-1 a.estimator_doc_link {\n",
       "  float: right;\n",
       "  font-size: 1rem;\n",
       "  line-height: 1em;\n",
       "  font-family: monospace;\n",
       "  background-color: var(--sklearn-color-background);\n",
       "  border-radius: 1rem;\n",
       "  height: 1rem;\n",
       "  width: 1rem;\n",
       "  text-decoration: none;\n",
       "  /* unfitted */\n",
       "  color: var(--sklearn-color-unfitted-level-1);\n",
       "  border: var(--sklearn-color-unfitted-level-1) 1pt solid;\n",
       "}\n",
       "\n",
       "#sk-container-id-1 a.estimator_doc_link.fitted {\n",
       "  /* fitted */\n",
       "  border: var(--sklearn-color-fitted-level-1) 1pt solid;\n",
       "  color: var(--sklearn-color-fitted-level-1);\n",
       "}\n",
       "\n",
       "/* On hover */\n",
       "#sk-container-id-1 a.estimator_doc_link:hover {\n",
       "  /* unfitted */\n",
       "  background-color: var(--sklearn-color-unfitted-level-3);\n",
       "  color: var(--sklearn-color-background);\n",
       "  text-decoration: none;\n",
       "}\n",
       "\n",
       "#sk-container-id-1 a.estimator_doc_link.fitted:hover {\n",
       "  /* fitted */\n",
       "  background-color: var(--sklearn-color-fitted-level-3);\n",
       "}\n",
       "</style><div id=\"sk-container-id-1\" class=\"sk-top-container\"><div class=\"sk-text-repr-fallback\"><pre>SVC(random_state=42)</pre><b>In a Jupyter environment, please rerun this cell to show the HTML representation or trust the notebook. <br />On GitHub, the HTML representation is unable to render, please try loading this page with nbviewer.org.</b></div><div class=\"sk-container\" hidden><div class=\"sk-item\"><div class=\"sk-estimator fitted sk-toggleable\"><input class=\"sk-toggleable__control sk-hidden--visually\" id=\"sk-estimator-id-1\" type=\"checkbox\" checked><label for=\"sk-estimator-id-1\" class=\"sk-toggleable__label fitted sk-toggleable__label-arrow fitted\">&nbsp;&nbsp;SVC<a class=\"sk-estimator-doc-link fitted\" rel=\"noreferrer\" target=\"_blank\" href=\"https://scikit-learn.org/1.5/modules/generated/sklearn.svm.SVC.html\">?<span>Documentation for SVC</span></a><span class=\"sk-estimator-doc-link fitted\">i<span>Fitted</span></span></label><div class=\"sk-toggleable__content fitted\"><pre>SVC(random_state=42)</pre></div> </div></div></div></div>"
      ],
      "text/plain": [
       "SVC(random_state=42)"
      ]
     },
     "execution_count": 45,
     "metadata": {},
     "output_type": "execute_result"
    }
   ],
   "source": [
    "from sklearn.svm import SVC\n",
    "\n",
    "svm_model = SVC(kernel='rbf', C=1.0, gamma='scale', random_state=42)\n",
    "svm_model.fit(X_train_scaled, y_train_res)\n"
   ]
  },
  {
   "cell_type": "markdown",
   "id": "0e2c1c7e-ef37-4564-b8cf-7693d7c62c1a",
   "metadata": {},
   "source": [
    "#### 3. Đánh giá mô hình"
   ]
  },
  {
   "cell_type": "code",
   "execution_count": 50,
   "id": "7c284aab-fd07-47c7-adb2-36e2304bc2bb",
   "metadata": {},
   "outputs": [
    {
     "name": "stdout",
     "output_type": "stream",
     "text": [
      "🔹 Accuracy: 0.8994082840236687\n",
      "🔹 Classification Report:\n",
      "               precision    recall  f1-score   support\n",
      "\n",
      "           0       0.19      1.00      0.32         4\n",
      "           1       1.00      0.90      0.95       165\n",
      "\n",
      "    accuracy                           0.90       169\n",
      "   macro avg       0.60      0.95      0.63       169\n",
      "weighted avg       0.98      0.90      0.93       169\n",
      "\n"
     ]
    }
   ],
   "source": [
    "from sklearn.metrics import classification_report, confusion_matrix, accuracy_score\n",
    "\n",
    "y_pred = svm_model.predict(X_test_scaled)\n",
    "\n",
    "print(\"🔹 Accuracy:\", accuracy_score(y_test, y_pred))\n",
    "print(\"🔹 Classification Report:\\n\", classification_report(y_test, y_pred))"
   ]
  },
  {
   "cell_type": "code",
   "execution_count": 55,
   "id": "8f553228-0c3b-4b74-bc07-f5ed7aa7ecfb",
   "metadata": {},
   "outputs": [
    {
     "data": {
      "image/png": "[encoded data removed]",
      "text/plain": [
       "<Figure size 600x500 with 1 Axes>"
      ]
     },
     "metadata": {},
     "output_type": "display_data"
    }
   ],
   "source": [
    "import matplotlib.pyplot as plt\n",
    "import seaborn as sns\n",
    "from sklearn.metrics import confusion_matrix\n",
    "\n",
    "# Giả sử bạn đã có y_test và y_pred\n",
    "cm = confusion_matrix(y_test, y_pred)\n",
    "\n",
    "plt.figure(figsize=(6, 5))\n",
    "sns.heatmap(cm, annot=True, fmt='d', cmap='Blues', cbar=False,\n",
    "            xticklabels=['Predicted: No (0)', 'Predicted: Yes (1)'],\n",
    "            yticklabels=['Actual: No (0)', 'Actual: Yes (1)'])\n",
    "\n",
    "plt.title('🔹 Confusion Matrix - SVM Model', fontsize=14, fontweight='bold', color='#007bff', pad=15)\n",
    "plt.xlabel('Predicted Labels', fontsize=12)\n",
    "plt.ylabel('Actual Labels', fontsize=12)\n",
    "plt.tight_layout()\n",
    "plt.show()\n"
   ]
  },
  {
   "cell_type": "markdown",
   "id": "e0b317be-a529-4bfe-a869-de1b70afe537",
   "metadata": {},
   "source": [
    "<div style=\"background-color:#f8fbff; border-left:6px solid #0077b6; border-radius:10px; padding:20px 25px; font-family:'Segoe UI', sans-serif; color:#222; line-height:1.7; font-size:15px;\">\n",
    "  \n",
    "  <h3 style=\"color:#0077b6; margin-top:0;\">📊 Phân tích kết quả mô hình SVM</h3>\n",
    "\n",
    "  <p><b>Độ chính xác tổng thể (Accuracy):</b> <span style=\"color:#0077b6;\">0.8994 (~89.94%)</span></p>\n",
    "\n",
    "  <p>\n",
    "    Mô hình đạt được độ chính xác khá cao, nghĩa là khoảng 90% các mẫu trong tập kiểm tra được dự đoán đúng.\n",
    "    Tuy nhiên, cần xem xét kỹ hơn hiệu suất của từng lớp vì dữ liệu ban đầu bị mất cân bằng nghiêm trọng.\n",
    "  </p>\n",
    "\n",
    "  <hr style=\"border:none; border-top:1px solid #ccc; margin:15px 0;\">\n",
    "\n",
    "  <h4 style=\"color:#005f73;\">🧩 1. Kết quả theo từng lớp</h4>\n",
    "\n",
    "  <ul>\n",
    "    <li><b>Lớp 0 (Không nguy hiểm):</b><br>\n",
    "      - <b>Precision = 0.19</b>: Trong tất cả các mẫu mà mô hình dự đoán là “Không nguy hiểm”, chỉ 19% là đúng.<br>\n",
    "      - <b>Recall = 1.00</b>: Mô hình phát hiện đúng 100% các trường hợp “Không nguy hiểm” thực sự.<br>\n",
    "      - <b>F1-score = 0.32</b>: Do precision thấp, nên điểm F1 tổng hợp cũng khá thấp.</li>\n",
    "    <br>\n",
    "    <li><b>Lớp 1 (Nguy hiểm):</b><br>\n",
    "      - <b>Precision = 1.00</b>: Tất cả các dự đoán “Nguy hiểm” đều chính xác.<br>\n",
    "      - <b>Recall = 0.90</b>: Mô hình phát hiện đúng 90% các trường hợp “Nguy hiểm”.<br>\n",
    "      - <b>F1-score = 0.95</b>: Cho thấy hiệu suất rất tốt ở lớp này.</li>\n",
    "  </ul>\n",
    "\n",
    "  <hr style=\"border:none; border-top:1px solid #ccc; margin:15px 0;\">\n",
    "\n",
    "  <h4 style=\"color:#005f73;\">📉 2. Ma trận nhầm lẫn (Confusion Matrix)</h4>\n",
    "  <pre style=\"background:#f1f5f9; padding:12px; border-radius:8px; font-size:14px;\">\n",
    "  [[  4   0]   →  4 mẫu “Không nguy hiểm” được dự đoán đúng.\n",
    "   [ 17 148]]  → 17 mẫu “Nguy hiểm” bị dự đoán sai thành “Không nguy hiểm”.\n",
    "  </pre>\n",
    "\n",
    "  <p>\n",
    "    ✅ Mô hình nhận diện tốt hầu hết các trường hợp “Nguy hiểm”, \n",
    "    nhưng vẫn có <b>17 mẫu nguy hiểm bị bỏ sót</b> — đây là vấn đề cần chú ý vì liên quan đến rủi ro thực tế.\n",
    "  </p>\n",
    "\n",
    "  <hr style=\"border:none; border-top:1px solid #ccc; margin:15px 0;\">\n",
    "\n",
    "  <h4 style=\"color:#005f73;\">📈 3. Đánh giá tổng quan</h4>\n",
    "  <ul>\n",
    "    <li>Mô hình <b>SVM</b> hoạt động mạnh mẽ với lớp “Nguy hiểm” (lớp chiếm đa số).</li>\n",
    "    <li>Tuy nhiên, lớp “Không nguy hiểm” có precision rất thấp do dữ liệu bị <b>mất cân bằng nghiêm trọng</b>.</li>\n",
    "    <li>Điều này cho thấy mô hình vẫn đang thiên lệch về lớp chiếm đa số.</li>\n",
    "  </ul>\n",
    "\n",
    "  <p style=\"background-color:#e0f7fa; padding:12px 15px; border-radius:8px; border-left:5px solid #00b4d8;\">\n",
    "    💡 <b>Gợi ý cải thiện:</b><br>\n",
    "    - Áp dụng <b>SMOTE</b> hoặc <b>RandomUnderSampler</b> hiệu quả hơn (thử nhiều tỷ lệ khác nhau).<br>\n",
    "    - Thử <b>GridSearchCV</b> để tối ưu các tham số <code>C</code> và <code>gamma</code>.<br>\n",
    "    - Cân nhắc thử các kernel khác như <code>poly</code> hoặc <code>sigmoid</code>.<br>\n",
    "    - Thêm tính năng (feature engineering) để mô hình hiểu sâu hơn về triệu chứng.\n",
    "  </p>\n",
    "\n",
    "</div>\n"
   ]
  },
  {
   "cell_type": "markdown",
   "id": "f4908ef3-4e36-4cad-a3f3-1d5d3714aa74",
   "metadata": {},
   "source": [
    "### III. Tối ưu tham số bằng GridSearchCV"
   ]
  },
  {
   "cell_type": "code",
   "execution_count": 48,
   "id": "501230ce-ee3e-4cc7-ac36-70aab32dd4f7",
   "metadata": {},
   "outputs": [
    {
     "name": "stdout",
     "output_type": "stream",
     "text": [
      "Best Parameters: {'C': 10, 'gamma': 1, 'kernel': 'rbf'}\n",
      "Best Score: 0.9862594054771032\n"
     ]
    }
   ],
   "source": [
    "from sklearn.model_selection import GridSearchCV\n",
    "\n",
    "param_grid = {\n",
    "    'C': [0.1, 1, 10],\n",
    "    'gamma': ['scale', 0.01, 0.1, 1],\n",
    "    'kernel': ['rbf', 'poly', 'sigmoid']\n",
    "}\n",
    "\n",
    "grid = GridSearchCV(SVC(random_state=42), param_grid, cv=5, scoring='f1_weighted', n_jobs=-1)\n",
    "grid.fit(X_train_scaled, y_train_res)\n",
    "\n",
    "print(\"Best Parameters:\", grid.best_params_)\n",
    "print(\"Best Score:\", grid.best_score_)\n"
   ]
  },
  {
   "cell_type": "code",
   "execution_count": 54,
   "id": "2ed1c544-9b38-41ec-972a-0151cfe21a53",
   "metadata": {},
   "outputs": [
    {
     "data": {
      "image/png": "[encoded data removed]",
      "text/plain": [
       "<Figure size 600x500 with 1 Axes>"
      ]
     },
     "metadata": {},
     "output_type": "display_data"
    },
    {
     "name": "stdout",
     "output_type": "stream",
     "text": [
      "Classification Report (Optimized SVM):\n",
      "\n",
      "              precision    recall  f1-score   support\n",
      "\n",
      "           0       0.67      1.00      0.80         4\n",
      "           1       1.00      0.99      0.99       165\n",
      "\n",
      "    accuracy                           0.99       169\n",
      "   macro avg       0.83      0.99      0.90       169\n",
      "weighted avg       0.99      0.99      0.99       169\n",
      "\n"
     ]
    }
   ],
   "source": [
    "import matplotlib.pyplot as plt\n",
    "import seaborn as sns\n",
    "from sklearn.metrics import confusion_matrix, classification_report\n",
    "\n",
    "# Lấy mô hình tốt nhất từ GridSearch\n",
    "best_svm = grid.best_estimator_\n",
    "\n",
    "# Dự đoán trên tập test\n",
    "y_pred_best = best_svm.predict(X_test_scaled)\n",
    "\n",
    "# Tạo ma trận nhầm lẫn\n",
    "cm_best = confusion_matrix(y_test, y_pred_best)\n",
    "\n",
    "# Vẽ ma trận nhầm lẫn\n",
    "plt.figure(figsize=(6, 5))\n",
    "sns.heatmap(cm_best, annot=True, fmt='d', cmap='Blues', cbar=False,\n",
    "            xticklabels=['Predicted: No (0)', 'Predicted: Yes (1)'],\n",
    "            yticklabels=['Actual: No (0)', 'Actual: Yes (1)'])\n",
    "\n",
    "plt.title('Confusion Matrix - Optimized SVM Model', fontsize=14, fontweight='bold', color='#007bff', pad=15)\n",
    "plt.xlabel('Predicted Labels', fontsize=12)\n",
    "plt.ylabel('Actual Labels', fontsize=12)\n",
    "plt.tight_layout()\n",
    "plt.show()\n",
    "\n",
    "# Báo cáo chi tiết\n",
    "print(\"Classification Report (Optimized SVM):\\n\")\n",
    "print(classification_report(y_test, y_pred_best))\n"
   ]
  },
  {
   "cell_type": "markdown",
   "id": "f93b7f0a-e515-4a88-b5b8-475b9e20a606",
   "metadata": {},
   "source": [
    "<div style=\"font-family: Arial, sans-serif; line-height: 1.6; background-color: #f9fafb; border-radius: 10px; padding: 20px; border: 1px solid #e5e7eb;\">\n",
    "  <h2 style=\"color: #2563eb;\">📊 Kết quả sau khi tối ưu mô hình SVM</h2>\n",
    "  \n",
    "  <p>Sau khi thực hiện tối ưu tham số <code>C</code>, <code>gamma</code> và <code>kernel</code> bằng GridSearchCV, mô hình SVM đã đạt được kết quả rất tốt trên tập kiểm tra.</p>\n",
    "\n",
    "  <h3 style=\"color: #047857;\">🔹 1. Độ chính xác tổng thể (Accuracy)</h3>\n",
    "  <p><strong>Accuracy = 0.99</strong> &rarr; Nghĩa là mô hình dự đoán đúng <strong>99%</strong> các mẫu trong tập kiểm tra. Đây là một độ chính xác rất cao, thể hiện mô hình hoạt động tốt sau khi tinh chỉnh tham số.</p>\n",
    "\n",
    "  <h3 style=\"color: #047857;\">🔹 2. Precision (Độ chính xác)</h3>\n",
    "  <ul>\n",
    "    <li><strong>Lớp 0 (Không mắc bệnh):</strong> Precision = 0.67 &rarr; Trong số các dự đoán là “Không mắc bệnh”, có 67% là chính xác.</li>\n",
    "    <li><strong>Lớp 1 (Mắc bệnh):</strong> Precision = 1.00 &rarr; Tất cả các dự đoán là “Mắc bệnh” đều đúng, không có dự đoán sai.</li>\n",
    "  </ul>\n",
    "\n",
    "  <h3 style=\"color: #047857;\">🔹 3. Recall (Độ bao phủ)</h3>\n",
    "  <ul>\n",
    "    <li><strong>Lớp 0:</strong> Recall = 1.00 &rarr; Mô hình đã phát hiện được tất cả các trường hợp “Không mắc bệnh”.</li>\n",
    "    <li><strong>Lớp 1:</strong> Recall = 0.99 &rarr; 99% các mẫu “Mắc bệnh” được nhận diện đúng, chỉ bỏ sót 1%.</li>\n",
    "  </ul>\n",
    "\n",
    "  <h3 style=\"color: #047857;\">🔹 4. F1-Score</h3>\n",
    "  <p><strong>F1-score</strong> là trung bình điều hòa giữa Precision và Recall, phản ánh sự cân bằng giữa hai đại lượng này.</p>\n",
    "  <ul>\n",
    "    <li><strong>Lớp 0:</strong> F1 = 0.80 → khá tốt dù dữ liệu lớp 0 ít.</li>\n",
    "    <li><strong>Lớp 1:</strong> F1 = 0.99 → thể hiện mô hình nhận diện lớp chính cực kỳ tốt.</li>\n",
    "  </ul>\n",
    "\n",
    "  <h3 style=\"color: #047857;\">🔹 5. Macro & Weighted Average</h3>\n",
    "  <ul>\n",
    "    <li><strong>Macro Avg (0.83 / 0.99 / 0.90):</strong> Là trung bình cộng của hai lớp, cho thấy mô hình vẫn duy trì hiệu suất cao trên cả hai lớp, dù dữ liệu mất cân bằng.</li>\n",
    "    <li><strong>Weighted Avg (0.99 / 0.99 / 0.99):</strong> Cho thấy mô hình tổng thể hoạt động xuất sắc khi tính đến tần suất của từng lớp.</li>\n",
    "  </ul>\n",
    "\n",
    "  <h3 style=\"color: #047857;\">🔹 6. Đánh giá tổng quan</h3>\n",
    "  <p>\n",
    "    ✅ Sau khi tối ưu, mô hình SVM đạt hiệu suất cực kỳ cao với độ chính xác gần tuyệt đối.<br>\n",
    "    ⚙️ Việc điều chỉnh tham số <code>C</code> (mức độ phạt lỗi), <code>gamma</code> (độ ảnh hưởng của điểm dữ liệu), và <code>kernel</code> (hàm nhân) giúp mô hình cân bằng tốt hơn giữa <strong>khả năng phân tách</strong> và <strong>khả năng khái quát hóa</strong>.\n",
    "  </p>\n",
    "  \n",
    "  <div style=\"background-color: #ecfccb; padding: 10px; border-left: 5px solid #65a30d; border-radius: 6px;\">\n",
    "    <strong>📈 Kết luận:</strong> \n",
    "    Mô hình SVM sau tối ưu không chỉ xử lý tốt vấn đề mất cân bằng dữ liệu mà còn đạt được độ chính xác và độ tin cậy cao, \n",
    "    là lựa chọn rất phù hợp cho bài toán phân loại này.\n",
    "  </div>\n",
    "</div>\n"
   ]
  },
  {
   "cell_type": "code",
   "execution_count": null,
   "id": "5082f9e4-d84c-45e1-96ab-64534a821403",
   "metadata": {},
   "outputs": [],
   "source": []
  }
 ],
 "metadata": {
  "kernelspec": {
   "display_name": "Python 3 (ipykernel)",
   "language": "python",
   "name": "python3"
  },
  "language_info": {
   "codemirror_mode": {
    "name": "ipython",
    "version": 3
   },
   "file_extension": ".py",
   "mimetype": "text/x-python",
   "name": "python",
   "nbconvert_exporter": "python",
   "pygments_lexer": "ipython3",
   "version": "3.12.7"
  }
 },
 "nbformat": 4,
 "nbformat_minor": 5
}
