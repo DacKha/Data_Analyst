{
 "cells": [
  {
   "cell_type": "markdown",
   "id": "a9bb785e-cc00-426a-b111-761d72dadd40",
   "metadata": {},
   "source": [
    "# Ôn tập Python, Numpy, Matplotlib và Pandas"
   ]
  },
  {
   "cell_type": "markdown",
   "id": "9b004e8d-3118-4a20-b8b8-b27b36f784ec",
   "metadata": {},
   "source": [
    "## Python"
   ]
  },
  {
   "cell_type": "markdown",
   "id": "b2b15a5a-f835-4e60-b5e3-2820432fde96",
   "metadata": {
    "jp-MarkdownHeadingCollapsed": true
   },
   "source": [
    "### Biến"
   ]
  },
  {
   "cell_type": "code",
   "execution_count": 1,
   "id": "7bb8c65d-823a-42ef-a612-1952d14f3532",
   "metadata": {},
   "outputs": [
    {
     "name": "stdout",
     "output_type": "stream",
     "text": [
      "<class 'int'>\n",
      "<class 'float'>\n"
     ]
    }
   ],
   "source": [
    "n = 12 # biến n là kiểu nguyên\n",
    "print(type(n))\n",
    "n = n + 0.1 # biến n chuyển sang kiểu thực\n",
    "print(type(n))"
   ]
  },
  {
   "cell_type": "markdown",
   "id": "04329432-fd9c-4be8-8126-685ae977caf1",
   "metadata": {
    "jp-MarkdownHeadingCollapsed": true
   },
   "source": [
    "### Dữ liệu kiểu chuỗi"
   ]
  },
  {
   "cell_type": "code",
   "execution_count": 2,
   "id": "ac97d331-2392-4ed4-9027-3a56b8620f6a",
   "metadata": {},
   "outputs": [
    {
     "name": "stdout",
     "output_type": "stream",
     "text": [
      "matt\n",
      "--------------------------------------------------\n",
      "I ain't gonna\n",
      "--------------------------------------------------\n",
      "This string has multiple lines in it\n",
      "--------------------------------------------------\n"
     ]
    }
   ],
   "source": [
    "name = 'matt'\n",
    "print(name)\n",
    "print(\"-\"*50)\n",
    "# chuỗi trong nó có chứa dấu nháy đơn\n",
    "with_quote = \"I ain't gonna\"\n",
    "print(with_quote)\n",
    "print(\"-\"*50)\n",
    "# chuỗi có nôi dung nằm trên 2 dòng\n",
    "longer = \"\"\"This string has multiple lines in it\"\"\"\n",
    "print(longer)\n",
    "print(\"-\"*50)"
   ]
  },
  {
   "cell_type": "markdown",
   "id": "a0991ad3-0720-4fd8-b96a-7ed3c81ab12d",
   "metadata": {
    "jp-MarkdownHeadingCollapsed": true
   },
   "source": [
    "### Escape sequence"
   ]
  },
  {
   "cell_type": "code",
   "execution_count": 5,
   "id": "456e9cc1-7c31-4543-a7f5-57fbaec12d68",
   "metadata": {},
   "outputs": [
    {
     "name": "stdout",
     "output_type": "stream",
     "text": [
      "Ví dụ về các ký tự thoát:\n",
      "\n",
      "Alert: Xin chào\u0007\n",
      "Backspace: ABD\n",
      "Newline:\n",
      "Dòng mới\n",
      "Horizontal tab: A\tB\tC\n",
      "Single quote: ' \n",
      "Double quote: \" \n",
      "Backslash: \\ \n"
     ]
    }
   ],
   "source": [
    "print(\"Ví dụ về các ký tự thoát:\\n\")\n",
    "\n",
    "# \\a: Alert (beep)\n",
    "print(\"Alert: Xin chào\\a\")   \n",
    "\n",
    "# \\b: Backspace\n",
    "print(\"Backspace: ABC\\bD\")  \n",
    "\n",
    "# \\n: Newline\n",
    "print(\"Newline:\\nDòng mới\")\n",
    "\n",
    "# \\t: Horizontal tab\n",
    "print(\"Horizontal tab: A\\tB\\tC\")\n",
    "\n",
    "# \\': Single quote\n",
    "print(\"Single quote: \\' \")\n",
    "\n",
    "# \\\": Double quote\n",
    "print(\"Double quote: \\\" \")\n",
    "\n",
    "# \\\\: Backslash\n",
    "print(\"Backslash: \\\\ \")"
   ]
  },
  {
   "cell_type": "markdown",
   "id": "ed916d36-7404-40d9-8cde-244c1611b861",
   "metadata": {
    "jp-MarkdownHeadingCollapsed": true
   },
   "source": [
    "### Chuỗi trần"
   ]
  },
  {
   "cell_type": "code",
   "execution_count": 10,
   "id": "e314a09a-fb60-4946-a809-20477b4f518a",
   "metadata": {},
   "outputs": [
    {
     "name": "stdout",
     "output_type": "stream",
     "text": [
      "Nội dung chuỗi\n"
     ]
    }
   ],
   "source": [
    "a=r'Nội dung chuỗi'\n",
    "print(a)"
   ]
  },
  {
   "cell_type": "markdown",
   "id": "59ee71e1-a587-4885-8932-96b83b49185f",
   "metadata": {
    "jp-MarkdownHeadingCollapsed": true
   },
   "source": [
    "### Chú thích (comment)"
   ]
  },
  {
   "cell_type": "code",
   "execution_count": 11,
   "id": "43457898-43ef-45b0-8975-93fac805b10c",
   "metadata": {},
   "outputs": [],
   "source": [
    "# Không dịch được câu này "
   ]
  },
  {
   "cell_type": "markdown",
   "id": "d0853e9f-e299-4395-81ae-856488cd5063",
   "metadata": {
    "jp-MarkdownHeadingCollapsed": true
   },
   "source": [
    "### Xuất dữ liệu"
   ]
  },
  {
   "cell_type": "code",
   "execution_count": 17,
   "id": "b299399f-4b81-4c71-8bc3-25f3ad967002",
   "metadata": {},
   "outputs": [
    {
     "name": "stdout",
     "output_type": "stream",
     "text": [
      "42\n",
      "a =  Nội dung chuỗi\n",
      "a = \n",
      " 3.564\n",
      "a b\n",
      "ab\n",
      "192.168.178.42\n",
      "a:-)b\n"
     ]
    }
   ],
   "source": [
    "print(42)\n",
    "42\n",
    "print(\"a = \", a)\n",
    "a = 3.564\n",
    "print(\"a = \\n\", a)\n",
    "print(\"a\",\"b\")\n",
    "print(\"a\",\"b\",sep=\"\")\n",
    "print(192,168,178,42,sep=\".\")\n",
    "print(\"a\",\"b\",sep=\":-)\")"
   ]
  },
  {
   "cell_type": "markdown",
   "id": "b9d8b427-4dea-4b47-8e06-0414a4227de6",
   "metadata": {
    "jp-MarkdownHeadingCollapsed": true
   },
   "source": [
    "### Nhập dữ liệu"
   ]
  },
  {
   "cell_type": "code",
   "execution_count": 18,
   "id": "6f8c04e4-d221-4f39-bff1-cc3df2dd5758",
   "metadata": {},
   "outputs": [
    {
     "name": "stdin",
     "output_type": "stream",
     "text": [
      "What's your name?  Dac Kha\n"
     ]
    },
    {
     "name": "stdout",
     "output_type": "stream",
     "text": [
      "Nice to meet you Dac Kha!\n"
     ]
    },
    {
     "name": "stdin",
     "output_type": "stream",
     "text": [
      "Your age?  10\n"
     ]
    },
    {
     "name": "stdout",
     "output_type": "stream",
     "text": [
      "You are already 10 years old, Dac Kha!\n"
     ]
    }
   ],
   "source": [
    "name = input(\"What's your name? \")\n",
    "print(\"Nice to meet you \" + name + \"!\")\n",
    "age = input(\"Your age? \")\n",
    "print(\"You are already \" + age + \" years old, \" + name\n",
    "+ \"!\")"
   ]
  },
  {
   "cell_type": "code",
   "execution_count": 24,
   "id": "0b3784a3-e541-4035-a758-44eb7e6b4cdb",
   "metadata": {},
   "outputs": [
    {
     "name": "stdin",
     "output_type": "stream",
     "text": [
      "Your age?  20\n"
     ]
    },
    {
     "name": "stdout",
     "output_type": "stream",
     "text": [
      "You are already 20 years old!\n"
     ]
    }
   ],
   "source": [
    "age = int(input(\"Your age? \"))\n",
    "print(\"You are already %d years old!\" %age)"
   ]
  },
  {
   "cell_type": "markdown",
   "id": "dda8bc01-7550-4d3b-9d83-a79c3f4ec78a",
   "metadata": {
    "jp-MarkdownHeadingCollapsed": true
   },
   "source": [
    "### Ví dụ minh họa"
   ]
  },
  {
   "cell_type": "markdown",
   "id": "70cc792f-50f5-42b2-9556-cb051883405e",
   "metadata": {},
   "source": [
    "#### Giải phương trình bậc 2"
   ]
  },
  {
   "cell_type": "markdown",
   "id": "d9a45aff-fb41-4618-9eac-4671ae3eed05",
   "metadata": {},
   "source": [
    "Cho phương trình sau: $ax^2 + bx + c = 0 \\quad (a \\neq 0)$, được gọi là phương trình bậc 2 với ẩn là $x$.  \n",
    "\n",
    "Công thức nghiệm: Ta gọi $\\Delta = b^2 - 4ac$. Khi đó:  \n",
    "\n",
    "- $\\Delta > 0$: phương trình tồn tại 2 nghiệm:  \n",
    "\n",
    "  $$x_1 = \\frac{-b + \\sqrt{\\Delta}}{2a}, \\quad x_2 = \\frac{-b - \\sqrt{\\Delta}}{2a}$$  \n",
    "\n",
    "- $\\Delta = 0$: phương trình có nghiệm kép $x = \\frac{-b}{2a}$  \n",
    "\n",
    "- $\\Delta < 0$: phương trình đã cho vô nghiệm.  \n",
    "\n",
    "Trong trường hợp $b = 2b'$, để đơn giản ta có thể tính $\\Delta' = b'^2 - ac$, tương tự như trên:  \n",
    "\n",
    "- $\\Delta' > 0$: phương trình có 2 nghiệm phân biệt:  \n",
    "\n",
    "  $$x_1 = \\frac{-b' + \\sqrt{\\Delta'}}{a}, \\quad x_2 = \\frac{-b' - \\sqrt{\\Delta'}}{a}$$  \n",
    "\n",
    "- $\\Delta' = 0$: phương trình có nghiệm kép $x = \\frac{-b'}{a}$  \n",
    "\n",
    "- $\\Delta' < 0$: phương trình vô nghiệm.  \n",
    "Cho phương trình sau: $ax^2 + bx + c = 0 \\quad (a \\neq 0)$, được gọi là phương trình bậc 2 với ẩn là $x$.  \n",
    "\n",
    "Công thức nghiệm: Ta gọi $\\Delta = b^2 - 4ac$. Khi đó:  \n",
    "\n",
    "- $\\Delta > 0$: phương trình tồn tại 2 nghiệm:  \n",
    "\n",
    "  $$x_1 = \\frac{-b + \\sqrt{\\Delta}}{2a}, \\quad x_2 = \\frac{-b - \\sqrt{\\Delta}}{2a}$$  \n",
    "\n",
    "- $\\Delta = 0$: phương trình có nghiệm kép $x = \\frac{-b}{2a}$  \n",
    "\n",
    "- $\\Delta < 0$: phương trình đã cho vô nghiệm.  \n",
    "\n",
    "Trong trường hợp $b = 2b'$, để đơn giản ta có thể tính $\\Delta' = b'^2 - ac$, tương tự như trên:  \n",
    "\n",
    "- $\\Delta' > 0$: phương trình có 2 nghiệm phân biệt:  \n",
    "\n",
    "  $$x_1 = \\frac{-b' + \\sqrt{\\Delta'}}{a}, \\quad x_2 = \\frac{-b' - \\sqrt{\\Delta'}}{a}$$  \n",
    "\n",
    "- $\\Delta' = 0$: phương trình có nghiệm kép $x = \\frac{-b'}{a}$  \n",
    "\n",
    "- $\\Delta' < 0$: phương trình vô nghiệm.  \n"
   ]
  },
  {
   "cell_type": "code",
   "execution_count": 25,
   "id": "8c05c864-92ad-4337-9fc9-2d130aba9450",
   "metadata": {},
   "outputs": [
    {
     "name": "stdout",
     "output_type": "stream",
     "text": [
      "Δ = 1\n",
      "Phương trình có 2 nghiệm phân biệt: x1 = 2.0, x2 = 1.0\n"
     ]
    }
   ],
   "source": [
    "import math\n",
    "\n",
    "def giai_pt_bac2(a, b, c):\n",
    "    if a == 0:\n",
    "        print(\"Đây không phải phương trình bậc 2.\")\n",
    "        return\n",
    "    \n",
    "    # Tính Delta\n",
    "    delta = b**2 - 4*a*c\n",
    "    print(f\"Δ = {delta}\")\n",
    "    \n",
    "    if delta > 0:\n",
    "        x1 = (-b + math.sqrt(delta)) / (2*a)\n",
    "        x2 = (-b - math.sqrt(delta)) / (2*a)\n",
    "        print(f\"Phương trình có 2 nghiệm phân biệt: x1 = {x1}, x2 = {x2}\")\n",
    "    elif delta == 0:\n",
    "        x = -b / (2*a)\n",
    "        print(f\"Phương trình có nghiệm kép: x = {x}\")\n",
    "    else:\n",
    "        print(\"Phương trình vô nghiệm (Δ < 0).\")\n",
    "    \n",
    "    # Trường hợp b = 2b'\n",
    "    if b % 2 == 0:  # chỉ xét khi b chia hết cho 2\n",
    "        b1 = b // 2\n",
    "        delta1 = b1**2 - a*c\n",
    "        print(f\"\\nVới b = 2b' => b' = {b1}, Δ' = {delta1}\")\n",
    "        \n",
    "        if delta1 > 0:\n",
    "            x1 = (-b1 + math.sqrt(delta1)) / a\n",
    "            x2 = (-b1 - math.sqrt(delta1)) / a\n",
    "            print(f\"Phương trình có 2 nghiệm phân biệt: x1 = {x1}, x2 = {x2}\")\n",
    "        elif delta1 == 0:\n",
    "            x = -b1 / a\n",
    "            print(f\"Phương trình có nghiệm kép: x = {x}\")\n",
    "        else:\n",
    "            print(\"Phương trình vô nghiệm (Δ' < 0).\")\n",
    "\n",
    "#Main\n",
    "giai_pt_bac2(1, -3, 2)   # x^2 - 3x + 2 = 0\n"
   ]
  },
  {
   "cell_type": "markdown",
   "id": "d76714e1-fe5a-4750-b871-3a2eb3eec6a0",
   "metadata": {
    "jp-MarkdownHeadingCollapsed": true
   },
   "source": [
    "#### Kiểu dữ liệu & phép toán liên quan"
   ]
  },
  {
   "cell_type": "markdown",
   "id": "06f7adca-4d68-4c4e-a49d-771ac595788a",
   "metadata": {},
   "source": [
    "##### Kiểu số"
   ]
  },
  {
   "cell_type": "code",
   "execution_count": null,
   "id": "0d65b063-5148-4149-9fe9-31c3eb069408",
   "metadata": {},
   "outputs": [],
   "source": [
    "▪ A = 1234 # hệ cơ số 10\n",
    "▪ B = 0xAF1 # hệ cơ số 16\n",
    "▪ C = 0o772 # hệ cơ số 8\n",
    "▪ D = 0b1001 # hệ cơ số 2"
   ]
  },
  {
   "cell_type": "code",
   "execution_count": null,
   "id": "39fb8947-bd9d-4aed-9d82-e0ded5ffb609",
   "metadata": {},
   "outputs": [],
   "source": [
    "▪ K = str(1234) # chuyển thành str ở hệ cơ số 10\n",
    "▪ L = hex(1234) # chuyển thành str ở hệ cơ số 16\n",
    "▪ M = oct(1234) # chuyển thành str ở hệ cơ số 8\n",
    "▪ N = bin(1234) # chuyển thành str ở hệ cơ số 2"
   ]
  },
  {
   "cell_type": "code",
   "execution_count": null,
   "id": "fbde8af9-b88a-4579-9dda-51b943da7d56",
   "metadata": {},
   "outputs": [],
   "source": [
    "▪ X = 12.34\n",
    "▪ Y = 314.15279e-2 # dạng số nguyên và phần mũ 10"
   ]
  },
  {
   "cell_type": "code",
   "execution_count": null,
   "id": "5c766536-d67d-4965-8d6e-ec5e6ccf77cb",
   "metadata": {},
   "outputs": [],
   "source": [
    "▪ A = 3+4j\n",
    "▪ B = 2-2j\n",
    "▪ print(A+B) # sẽ in ra (5+2j)"
   ]
  },
  {
   "cell_type": "markdown",
   "id": "76fe367a-b4e0-41e6-98b4-fc913077e264",
   "metadata": {},
   "source": [
    "##### Phép toán"
   ]
  },
  {
   "cell_type": "code",
   "execution_count": 26,
   "id": "27a5af70-decc-4406-bb2f-39537aa0ff97",
   "metadata": {},
   "outputs": [
    {
     "name": "stdout",
     "output_type": "stream",
     "text": [
      "a = 10 , b = 3\n",
      "Cộng: 13\n",
      "Trừ: 7\n",
      "Nhân: 30\n",
      "Chia đúng (/): 3.3333333333333335\n",
      "Chia nguyên (//): 3\n",
      "Chia dư (%): 1\n",
      "Lũy thừa (**): 1000\n",
      "\n",
      "x = True , y = False\n",
      "x and y = False\n",
      "x or y  = True\n",
      "not x   = False\n",
      "x xor y = True\n",
      "\n",
      "So sánh a, b:\n",
      "a < b: False\n",
      "a <= b: False\n",
      "a > b: True\n",
      "a >= b: True\n",
      "a == b: False\n",
      "a != b: True\n",
      "\n",
      "Phép toán bit với a=10 (1010), b=3 (0011):\n",
      "a & b: 2\n",
      "a | b: 11\n",
      "a ^ b: 9\n",
      "~a: -11\n",
      "a << 1: 20\n",
      "a >> 1: 5\n",
      "\n",
      "nums = [1, 2, 3]\n",
      "1 in nums: True\n",
      "5 not in nums: True\n"
     ]
    }
   ],
   "source": [
    "# ========================\n",
    "# 1. Các phép toán số học\n",
    "# ========================\n",
    "a, b = 10, 3\n",
    "print(\"a =\", a, \", b =\", b)\n",
    "print(\"Cộng:\", a + b)\n",
    "print(\"Trừ:\", a - b)\n",
    "print(\"Nhân:\", a * b)\n",
    "print(\"Chia đúng (/):\", a / b)   # kết quả float\n",
    "print(\"Chia nguyên (//):\", a // b) # lấy phần nguyên\n",
    "print(\"Chia dư (%):\", a % b)     \n",
    "print(\"Lũy thừa (**):\", a ** b)\n",
    "\n",
    "# ========================\n",
    "# 2. Các phép toán logic\n",
    "# ========================\n",
    "x, y = True, False\n",
    "print(\"\\nx =\", x, \", y =\", y)\n",
    "print(\"x and y =\", x and y)\n",
    "print(\"x or y  =\", x or y)\n",
    "print(\"not x   =\", not x)\n",
    "\n",
    "# Python không có xor logic, dùng so sánh khác\n",
    "print(\"x xor y =\", (x != y))\n",
    "\n",
    "# ========================\n",
    "# 3. Các phép toán so sánh\n",
    "# ========================\n",
    "print(\"\\nSo sánh a, b:\")\n",
    "print(\"a < b:\", a < b)\n",
    "print(\"a <= b:\", a <= b)\n",
    "print(\"a > b:\", a > b)\n",
    "print(\"a >= b:\", a >= b)\n",
    "print(\"a == b:\", a == b)\n",
    "print(\"a != b:\", a != b)\n",
    "\n",
    "# ========================\n",
    "# 4. Các phép toán bit\n",
    "# ========================\n",
    "print(\"\\nPhép toán bit với a=10 (1010), b=3 (0011):\")\n",
    "print(\"a & b:\", a & b)   # AND\n",
    "print(\"a | b:\", a | b)   # OR\n",
    "print(\"a ^ b:\", a ^ b)   # XOR\n",
    "print(\"~a:\", ~a)         # NOT\n",
    "print(\"a << 1:\", a << 1) # dịch trái\n",
    "print(\"a >> 1:\", a >> 1) # dịch phải\n",
    "\n",
    "# ========================\n",
    "# 5. Phép kiểm tra tập\n",
    "# ========================\n",
    "nums = [1, 2, 3]\n",
    "print(\"\\nnums =\", nums)\n",
    "print(\"1 in nums:\", 1 in nums)\n",
    "print(\"5 not in nums:\", 5 not in nums)\n"
   ]
  },
  {
   "cell_type": "markdown",
   "id": "f3db80a1-979e-4f21-b161-00efada936b4",
   "metadata": {
    "jp-MarkdownHeadingCollapsed": true
   },
   "source": [
    "### Cấu trúc rẽ nhánh"
   ]
  },
  {
   "cell_type": "markdown",
   "id": "fa1a1ace-9446-4e70-9329-12ae82bcbc1c",
   "metadata": {},
   "source": [
    "##### if-else"
   ]
  },
  {
   "cell_type": "code",
   "execution_count": 28,
   "id": "18bf6fc4-e93c-4aa8-bd0e-45a7137b27fb",
   "metadata": {},
   "outputs": [
    {
     "name": "stdin",
     "output_type": "stream",
     "text": [
      "What's your name?  Dac Kha\n"
     ]
    },
    {
     "name": "stdout",
     "output_type": "stream",
     "text": [
      "Nice to meet you Dac Kha!\n"
     ]
    },
    {
     "name": "stdin",
     "output_type": "stream",
     "text": [
      "Your age?  20\n"
     ]
    },
    {
     "name": "stdout",
     "output_type": "stream",
     "text": [
      "You are already 20 years old, Dac Kha !\n",
      "Đủ tuổi đi bầu cử\n",
      "Nhỏ quá\n"
     ]
    }
   ],
   "source": [
    "name = input(\"What's your name? \")\n",
    "print(\"Nice to meet you \" + name + \"!\")\n",
    "age = int(input(\"Your age? \"))\n",
    "print(\"You are already\", age, \"years old,\",name, \"!\")\n",
    "if age>=18:\n",
    "    print(\"Đủ tuổi đi bầu cử\")\n",
    "if age>100:\n",
    "    print(\"Có vẻ sai sai!\")\n",
    "else:\n",
    "    print(\"Nhỏ quá\")"
   ]
  },
  {
   "cell_type": "markdown",
   "id": "083e9be8-06f0-4517-a3d3-a1a87c55b713",
   "metadata": {},
   "source": [
    "##### if-elif"
   ]
  },
  {
   "cell_type": "code",
   "execution_count": 29,
   "id": "9558af1a-939d-43ce-bd81-ed1b09b3e7b9",
   "metadata": {},
   "outputs": [
    {
     "name": "stdin",
     "output_type": "stream",
     "text": [
      "Nhập điểm của bạn:  10\n"
     ]
    },
    {
     "name": "stdout",
     "output_type": "stream",
     "text": [
      "Xuất sắc\n"
     ]
    }
   ],
   "source": [
    "# Nhập vào điểm số và phân loại học lực\n",
    "score = int(input(\"Nhập điểm của bạn: \"))\n",
    "\n",
    "if score >= 9:\n",
    "    print(\"Xuất sắc\")\n",
    "elif score >= 8:\n",
    "    print(\"Giỏi\")\n",
    "elif score >= 6.5:\n",
    "    print(\"Khá\")\n",
    "elif score >= 5:\n",
    "    print(\"Trung bình\")\n",
    "else:\n",
    "    print(\"Yếu\")\n"
   ]
  },
  {
   "cell_type": "markdown",
   "id": "bcf2837a-37f9-4554-8fac-c6f99828955d",
   "metadata": {
    "jp-MarkdownHeadingCollapsed": true
   },
   "source": [
    "#### Vòng lặp"
   ]
  },
  {
   "cell_type": "markdown",
   "id": "4cb50d9a-ce28-4918-b71a-2fdbb4aeee9c",
   "metadata": {},
   "source": [
    "##### Vòng lặp While"
   ]
  },
  {
   "cell_type": "code",
   "execution_count": 30,
   "id": "499f123e-b681-432e-8e8e-d7153a5024c4",
   "metadata": {},
   "outputs": [
    {
     "name": "stdout",
     "output_type": "stream",
     "text": [
      "Số: 1\n",
      "Số: 2\n",
      "Số: 3\n",
      "Số: 4\n",
      "Số: 5\n"
     ]
    }
   ],
   "source": [
    "i = 1\n",
    "while i <= 5:\n",
    "    print(\"Số:\", i)\n",
    "    i += 1   # tăng i lên 1 sau mỗi vòng lặp"
   ]
  },
  {
   "cell_type": "markdown",
   "id": "79c15fea-0fcc-44ae-9eeb-de0a81379834",
   "metadata": {},
   "source": [
    "##### Vòng lặp For"
   ]
  },
  {
   "cell_type": "code",
   "execution_count": 31,
   "id": "dfffaf11-441a-47cf-8967-c571cf6c9d2b",
   "metadata": {},
   "outputs": [
    {
     "name": "stdout",
     "output_type": "stream",
     "text": [
      "Số: 1\n",
      "Số: 2\n",
      "Số: 3\n",
      "Số: 4\n",
      "Số: 5\n"
     ]
    }
   ],
   "source": [
    "for i in range(1, 6):\n",
    "    print(\"Số:\", i)"
   ]
  },
  {
   "cell_type": "markdown",
   "id": "f10ad1f8-ea1a-4983-a925-691963047a5a",
   "metadata": {
    "jp-MarkdownHeadingCollapsed": true
   },
   "source": [
    "### Hàm"
   ]
  },
  {
   "cell_type": "code",
   "execution_count": 33,
   "id": "2a255d71-bc28-4c50-a00d-d36dfb0657da",
   "metadata": {},
   "outputs": [
    {
     "name": "stdout",
     "output_type": "stream",
     "text": [
      "Tích 2 số : 8\n"
     ]
    }
   ],
   "source": [
    "def tich(a, b):\n",
    "    return a*b\n",
    "print(\"Tích 2 số :\",tich(2,4))"
   ]
  },
  {
   "cell_type": "code",
   "execution_count": 34,
   "id": "2bec508d-ead8-49a8-90b5-a7a0e53aef9a",
   "metadata": {},
   "outputs": [],
   "source": [
    "def tich(a, b = 1):\n",
    "    return a*b"
   ]
  },
  {
   "cell_type": "code",
   "execution_count": 35,
   "id": "9c9726b9-5747-4b8e-bc01-e556e947ca83",
   "metadata": {},
   "outputs": [
    {
     "name": "stdout",
     "output_type": "stream",
     "text": [
      "200\n",
      "10\n",
      "5\n",
      "30\n"
     ]
    }
   ],
   "source": [
    "print(tich(10, 20)) # 200\n",
    "print(tich(10)) # 10\n",
    "print(tich(a=5)) # 5\n",
    "print(tich(b=6, a=5)) # 30"
   ]
  },
  {
   "cell_type": "markdown",
   "id": "5a23896e-d198-4921-b650-692a71ea7e30",
   "metadata": {
    "jp-MarkdownHeadingCollapsed": true
   },
   "source": [
    "### Chuỗi và danh sách"
   ]
  },
  {
   "cell_type": "markdown",
   "id": "008a86cd-af01-4425-9993-1617ee5eeb23",
   "metadata": {},
   "source": [
    "#### Kiểu dữ liệu tuần tự\n",
    "#### (sequential data type)"
   ]
  },
  {
   "cell_type": "markdown",
   "id": "bf2c7b10-d5a9-453c-8637-e1261d364ec5",
   "metadata": {},
   "source": [
    "###### List"
   ]
  },
  {
   "cell_type": "code",
   "execution_count": 36,
   "id": "18c365eb-e311-4c78-8ada-8669cec30958",
   "metadata": {},
   "outputs": [
    {
     "name": "stdout",
     "output_type": "stream",
     "text": [
      "Trái cây: Táo\n",
      "Trái cây: Cam\n",
      "Trái cây: Xoài\n"
     ]
    }
   ],
   "source": [
    "fruits = [\"Táo\", \"Cam\", \"Xoài\"]\n",
    "\n",
    "for fruit in fruits:   # lấy ra từng phần tử trong list\n",
    "    print(\"Trái cây:\", fruit)\n"
   ]
  },
  {
   "cell_type": "markdown",
   "id": "081c9e37-9a37-4682-a8af-ceec08330428",
   "metadata": {},
   "source": [
    "##### tuple"
   ]
  },
  {
   "cell_type": "code",
   "execution_count": 37,
   "id": "4e1d2c38-1af6-49fe-b2b7-254296572587",
   "metadata": {},
   "outputs": [
    {
     "name": "stdout",
     "output_type": "stream",
     "text": [
      "Giá trị: 10\n",
      "Giá trị: 20\n",
      "Giá trị: 30\n"
     ]
    }
   ],
   "source": [
    "coordinates = (10, 20, 30)\n",
    "\n",
    "for x in coordinates:\n",
    "    print(\"Giá trị:\", x)\n"
   ]
  },
  {
   "cell_type": "markdown",
   "id": "fcac0627-eec5-4375-9217-a34e6113df1f",
   "metadata": {},
   "source": [
    "##### range"
   ]
  },
  {
   "cell_type": "code",
   "execution_count": 38,
   "id": "f5d1da94-1a07-4295-90fe-c339f725c29b",
   "metadata": {},
   "outputs": [
    {
     "name": "stdout",
     "output_type": "stream",
     "text": [
      "Số: 1\n",
      "Số: 2\n",
      "Số: 3\n",
      "Số: 4\n",
      "Số: 5\n"
     ]
    }
   ],
   "source": [
    "for i in range(1, 6):\n",
    "    print(\"Số:\", i)"
   ]
  },
  {
   "cell_type": "markdown",
   "id": "4dd79ff3-6c62-4d26-930e-f09a4368b900",
   "metadata": {},
   "source": [
    "#### String (chuỗi)String (chuỗi)"
   ]
  },
  {
   "cell_type": "markdown",
   "id": "612e724c-0bd3-4dd5-b5fc-6a7efd9526ad",
   "metadata": {},
   "source": [
    "##### Kiểu chuỗi"
   ]
  },
  {
   "cell_type": "code",
   "execution_count": 41,
   "id": "74baca21-f721-4f5c-929b-b86c42141a5b",
   "metadata": {},
   "outputs": [
    {
     "name": "stdout",
     "output_type": "stream",
     "text": [
      "Cộng chuỗi :  Good Morning!\n",
      "Chuỗi  ABABAB\n"
     ]
    },
    {
     "data": {
      "text/plain": [
       "True"
      ]
     },
     "execution_count": 41,
     "metadata": {},
     "output_type": "execute_result"
    }
   ],
   "source": [
    "s = \"Good\" + \" \" + \"Morning!\" #Cộng chuỗi\n",
    "print(\"Cộng chuỗi : \",s)\n",
    "x = \"AB\" * 3 # số nguyên\n",
    "print(\"Chuỗi \",x)\n",
    "x in '1ABABABCD' # True"
   ]
  },
  {
   "cell_type": "markdown",
   "id": "b6241fc0-ef21-4144-a4d3-035d78496019",
   "metadata": {},
   "source": [
    "##### Chỉ mục"
   ]
  },
  {
   "cell_type": "code",
   "execution_count": 42,
   "id": "586755a1-c54f-4a27-ae97-2e9fc15b0093",
   "metadata": {},
   "outputs": [
    {
     "name": "stdout",
     "output_type": "stream",
     "text": [
      "Ký tự ở vị trí 0: D\n",
      "Ký tự ở vị trí 3: H\n",
      "Ký tự ở vị trí 8: I\n",
      "Ký tự ở vị trí -1: I\n",
      "Ký tự ở vị trí -3: L\n",
      "Ký tự ở vị trí -9: D\n"
     ]
    }
   ],
   "source": [
    "s = \"DHTHUYLOI\"\n",
    "\n",
    "# Truy cập bằng chỉ số dương (từ trái sang phải)\n",
    "print(\"Ký tự ở vị trí 0:\", s[0])   # D\n",
    "print(\"Ký tự ở vị trí 3:\", s[3])   # H\n",
    "print(\"Ký tự ở vị trí 8:\", s[8])   # I\n",
    "\n",
    "# Truy cập bằng chỉ số âm (từ phải sang trái)\n",
    "print(\"Ký tự ở vị trí -1:\", s[-1])  # I\n",
    "print(\"Ký tự ở vị trí -3:\", s[-3])  # L\n",
    "print(\"Ký tự ở vị trí -9:\", s[-9])  # D\n"
   ]
  },
  {
   "cell_type": "markdown",
   "id": "4a4db49e-ce48-4e5e-8527-af9159894efc",
   "metadata": {},
   "source": [
    "##### Cắt chuỗi"
   ]
  },
  {
   "cell_type": "code",
   "execution_count": 45,
   "id": "21b83075-958c-4984-81f0-7d284d3799eb",
   "metadata": {},
   "outputs": [
    {
     "name": "stdout",
     "output_type": "stream",
     "text": [
      "Chuỗi ban đầu: DHTHUYLOI\n",
      "s[3:6] = HUY\n",
      "s[3:] = HUYLOI\n",
      "s[:6] = DHTHUY\n",
      "s[-7:-4] = THU\n",
      "s[-4:-7] = \n",
      "s[-4:-7:-1] = YUH\n",
      "s[:len(s)] = DHTHUYLOI\n",
      "s[:len(s)-1] = DHTHUYLO\n",
      "s[:] = DHTHUYLOI\n",
      "s[len(s)::-1] = IOLYUHTHD\n",
      "s[len(s)-1::-1] = IOLYUHTHD\n",
      "s[len(s)-2::-1] = OLYUHTHD\n"
     ]
    }
   ],
   "source": [
    "s = \"DHTHUYLOI\"\n",
    "print(\"Chuỗi ban đầu:\", s)\n",
    "\n",
    "# Lấy từ vị trí 3 -> 5 (chỉ số 3,4,5)\n",
    "print(\"s[3:6] =\", s[3:6])\n",
    "\n",
    "# Lấy từ vị trí 3 đến hết chuỗi\n",
    "print(\"s[3:] =\", s[3:])    \n",
    "\n",
    "# Lấy từ đầu chuỗi đến vị trí 5\n",
    "print(\"s[:6] =\", s[:6])    \n",
    "\n",
    "# Lấy từ index -7 đến -5 (tương ứng index 2 -> 4)\n",
    "print(\"s[-7:-4] =\", s[-7:-4]) \n",
    "\n",
    "# Trường hợp đảo ngược, từ -4 đến -7 \n",
    "print(\"s[-4:-7] =\", s[-4:-7]) \n",
    "# Cắt ngược từ -4 đến -7 (với bước -1)\n",
    "print(\"s[-4:-7:-1] =\", s[-4:-7:-1]) \n",
    "# Lấy hết chuỗi bằng độ dài\n",
    "print(\"s[:len(s)] =\", s[:len(s)]) \n",
    "# Lấy hết chuỗi trừ ký tự cuối\n",
    "print(\"s[:len(s)-1] =\", s[:len(s)-1])\n",
    "# Lấy toàn bộ chuỗi\n",
    "print(\"s[:] =\", s[:])               \n",
    "# Đảo ngược chuỗi (bằng len(s))\n",
    "print(\"s[len(s)::-1] =\", s[len(s)::-1])   \n",
    "\n",
    "# Đảo ngược chuỗi (bắt đầu từ ký tự cuối cùng)\n",
    "print(\"s[len(s)-1::-1] =\", s[len(s)-1::-1]) \n",
    "\n",
    "# Đảo ngược chuỗi bỏ ký tự cuối cùng\n",
    "print(\"s[len(s)-2::-1] =\", s[len(s)-2::-1]) \n"
   ]
  },
  {
   "cell_type": "markdown",
   "id": "5028f937-3226-4ce4-8fc3-b28b6dbaecb0",
   "metadata": {},
   "source": [
    "##### Định dạng chuỗi"
   ]
  },
  {
   "cell_type": "code",
   "execution_count": 46,
   "id": "8ef21f84-8182-4371-ae99-7c5b487a60b2",
   "metadata": {},
   "outputs": [],
   "source": [
    "myname = 'DHNTT'\n",
    "s = f'This is {myname}.' # 'This is DHNTT.'\n",
    "w = f'{s} {myname}' # 'This is DHNTT. DHNTT '\n",
    "z = f'{{s}} {s}' # '{s} This is DHNTT.‘"
   ]
  },
  {
   "cell_type": "code",
   "execution_count": 47,
   "id": "05d83797-e1ef-4ef2-9833-e778ebb30a2a",
   "metadata": {},
   "outputs": [
    {
     "data": {
      "text/plain": [
       "'1: 111, 2: 222'"
      ]
     },
     "execution_count": 47,
     "metadata": {},
     "output_type": "execute_result"
    }
   ],
   "source": [
    "# điền lần lượt từng giá trị vào giữa cặp ngoặc nhọn\n",
    "'a: {}, b: {}, c: {}'.format(1, 2, 3)\n",
    "# điền nhưng không lần lượt\n",
    "'a: {1}, b: {2}, c: {0}'.format('one', 'two', 'three')\n",
    "'two same values: {0}, {0}'.format(1, 2)\n",
    "# điền và chỉ định từng giá trị\n",
    "'1: {one}, 2: {two}'.format(one=111, two=222)"
   ]
  },
  {
   "cell_type": "code",
   "execution_count": 48,
   "id": "30a2ded6-4406-49f5-9557-e6351546f71c",
   "metadata": {},
   "outputs": [
    {
     "data": {
      "text/plain": [
       "'+++aaaa+++'"
      ]
     },
     "execution_count": 48,
     "metadata": {},
     "output_type": "execute_result"
    }
   ],
   "source": [
    "# căn giữa: ' aaaa '\n",
    "'{:^10}'.format('aaaa')\n",
    "# căn lề trái: 'aaaa '\n",
    "'{:<10}'.format('aaaa')\n",
    "# căn lề phải ' aaaa'\n",
    "'{:>10}'.format('aaaa')\n",
    "# căn lề phải, thay khoảng trắng bằng -: '------aaaa'\n",
    "'{:->10}'.format('aaaa')\n",
    "# căn lề trái, thay khoảng trắng *: 'aaa******'\n",
    "'{:*<10}'.format('aaaa')\n",
    "# căn giữa, thay khoảng trắng bằng +: '+++aaaa+++'\n",
    "'{:+^10}'.format('aaaa')"
   ]
  },
  {
   "cell_type": "markdown",
   "id": "de296962-6331-447f-852e-bc13d3cf535a",
   "metadata": {
    "jp-MarkdownHeadingCollapsed": true
   },
   "source": [
    "### List"
   ]
  },
  {
   "cell_type": "markdown",
   "id": "259a2a3d-553f-44ec-9b3c-95ceceae653e",
   "metadata": {},
   "source": [
    "#### Khởi tạo list"
   ]
  },
  {
   "cell_type": "code",
   "execution_count": 51,
   "id": "899e5611-439b-46fb-80c9-cd18dade25c6",
   "metadata": {},
   "outputs": [
    {
     "name": "stdout",
     "output_type": "stream",
     "text": [
      "[1, 2, 3, 4]\n",
      "------------------------------\n",
      "['a', 'b', 'c']\n",
      "------------------------------\n",
      "[]\n",
      "------------------------------\n"
     ]
    }
   ],
   "source": [
    "l1 = list([1, 2, 3, 4]) # list 4 số nguyên\n",
    "l2 = list('abc') # list 3 chuỗi con\n",
    "l3 = list() # list rỗng\n",
    "print(l1)\n",
    "print(\"-\"*30)\n",
    "print(l2)\n",
    "print(\"-\"*30)\n",
    "print(l3)\n",
    "print(\"-\"*30)"
   ]
  },
  {
   "cell_type": "code",
   "execution_count": 54,
   "id": "a4b240cf-aa57-40bd-92d2-65153a070c2c",
   "metadata": {},
   "outputs": [
    {
     "name": "stdout",
     "output_type": "stream",
     "text": [
      "[0, 1, 2, 3, 4, 5, 6, 7, 8, 9, 10, 11, 12, 13, 14, 15, 16, 17, 18, 19, 20, 21, 22, 23, 24, 25, 26, 27, 28, 29, 30, 31, 32, 33, 34, 35, 36, 37, 38, 39, 40, 41, 42, 43, 44, 45, 46, 47, 48, 49, 50, 51, 52, 53, 54, 55, 56, 57, 58, 59, 60, 61, 62, 63, 64, 65, 66, 67, 68, 69, 70, 71, 72, 73, 74, 75, 76, 77, 78, 79, 80, 81, 82, 83, 84, 85, 86, 87, 88, 89, 90, 91, 92, 93, 94, 95, 96, 97, 98, 99, 100, 101, 102, 103, 104, 105, 106, 107, 108, 109, 110, 111, 112, 113, 114, 115, 116, 117, 118, 119, 120, 121, 122, 123, 124, 125, 126, 127, 128, 129, 130, 131, 132, 133, 134, 135, 136, 137, 138, 139, 140, 141, 142, 143, 144, 145, 146, 147, 148, 149, 150, 151, 152, 153, 154, 155, 156, 157, 158, 159, 160, 161, 162, 163, 164, 165, 166, 167, 168, 169, 170, 171, 172, 173, 174, 175, 176, 177, 178, 179, 180, 181, 182, 183, 184, 185, 186, 187, 188, 189, 190, 191, 192, 193, 194, 195, 196, 197, 198, 199, 200, 201, 202, 203, 204, 205, 206, 207, 208, 209, 210, 211, 212, 213, 214, 215, 216, 217, 218, 219, 220, 221, 222, 223, 224, 225, 226, 227, 228, 229, 230, 231, 232, 233, 234, 235, 236, 237, 238, 239, 240, 241, 242, 243, 244, 245, 246, 247, 248, 249, 250, 251, 252, 253, 254, 255, 256, 257, 258, 259, 260, 261, 262, 263, 264, 265, 266, 267, 268, 269, 270, 271, 272, 273, 274, 275, 276, 277, 278, 279, 280, 281, 282, 283, 284, 285, 286, 287, 288, 289, 290, 291, 292, 293, 294, 295, 296, 297, 298, 299, 300, 301, 302, 303, 304, 305, 306, 307, 308, 309, 310, 311, 312, 313, 314, 315, 316, 317, 318, 319, 320, 321, 322, 323, 324, 325, 326, 327, 328, 329, 330, 331, 332, 333, 334, 335, 336, 337, 338, 339, 340, 341, 342, 343, 344, 345, 346, 347, 348, 349, 350, 351, 352, 353, 354, 355, 356, 357, 358, 359, 360, 361, 362, 363, 364, 365, 366, 367, 368, 369, 370, 371, 372, 373, 374, 375, 376, 377, 378, 379, 380, 381, 382, 383, 384, 385, 386, 387, 388, 389, 390, 391, 392, 393, 394, 395, 396, 397, 398, 399, 400, 401, 402, 403, 404, 405, 406, 407, 408, 409, 410, 411, 412, 413, 414, 415, 416, 417, 418, 419, 420, 421, 422, 423, 424, 425, 426, 427, 428, 429, 430, 431, 432, 433, 434, 435, 436, 437, 438, 439, 440, 441, 442, 443, 444, 445, 446, 447, 448, 449, 450, 451, 452, 453, 454, 455, 456, 457, 458, 459, 460, 461, 462, 463, 464, 465, 466, 467, 468, 469, 470, 471, 472, 473, 474, 475, 476, 477, 478, 479, 480, 481, 482, 483, 484, 485, 486, 487, 488, 489, 490, 491, 492, 493, 494, 495, 496, 497, 498, 499, 500, 501, 502, 503, 504, 505, 506, 507, 508, 509, 510, 511, 512, 513, 514, 515, 516, 517, 518, 519, 520, 521, 522, 523, 524, 525, 526, 527, 528, 529, 530, 531, 532, 533, 534, 535, 536, 537, 538, 539, 540, 541, 542, 543, 544, 545, 546, 547, 548, 549, 550, 551, 552, 553, 554, 555, 556, 557, 558, 559, 560, 561, 562, 563, 564, 565, 566, 567, 568, 569, 570, 571, 572, 573, 574, 575, 576, 577, 578, 579, 580, 581, 582, 583, 584, 585, 586, 587, 588, 589, 590, 591, 592, 593, 594, 595, 596, 597, 598, 599, 600, 601, 602, 603, 604, 605, 606, 607, 608, 609, 610, 611, 612, 613, 614, 615, 616, 617, 618, 619, 620, 621, 622, 623, 624, 625, 626, 627, 628, 629, 630, 631, 632, 633, 634, 635, 636, 637, 638, 639, 640, 641, 642, 643, 644, 645, 646, 647, 648, 649, 650, 651, 652, 653, 654, 655, 656, 657, 658, 659, 660, 661, 662, 663, 664, 665, 666, 667, 668, 669, 670, 671, 672, 673, 674, 675, 676, 677, 678, 679, 680, 681, 682, 683, 684, 685, 686, 687, 688, 689, 690, 691, 692, 693, 694, 695, 696, 697, 698, 699, 700, 701, 702, 703, 704, 705, 706, 707, 708, 709, 710, 711, 712, 713, 714, 715, 716, 717, 718, 719, 720, 721, 722, 723, 724, 725, 726, 727, 728, 729, 730, 731, 732, 733, 734, 735, 736, 737, 738, 739, 740, 741, 742, 743, 744, 745, 746, 747, 748, 749, 750, 751, 752, 753, 754, 755, 756, 757, 758, 759, 760, 761, 762, 763, 764, 765, 766, 767, 768, 769, 770, 771, 772, 773, 774, 775, 776, 777, 778, 779, 780, 781, 782, 783, 784, 785, 786, 787, 788, 789, 790, 791, 792, 793, 794, 795, 796, 797, 798, 799, 800, 801, 802, 803, 804, 805, 806, 807, 808, 809, 810, 811, 812, 813, 814, 815, 816, 817, 818, 819, 820, 821, 822, 823, 824, 825, 826, 827, 828, 829, 830, 831, 832, 833, 834, 835, 836, 837, 838, 839, 840, 841, 842, 843, 844, 845, 846, 847, 848, 849, 850, 851, 852, 853, 854, 855, 856, 857, 858, 859, 860, 861, 862, 863, 864, 865, 866, 867, 868, 869, 870, 871, 872, 873, 874, 875, 876, 877, 878, 879, 880, 881, 882, 883, 884, 885, 886, 887, 888, 889, 890, 891, 892, 893, 894, 895, 896, 897, 898, 899, 900, 901, 902, 903, 904, 905, 906, 907, 908, 909, 910, 911, 912, 913, 914, 915, 916, 917, 918, 919, 920, 921, 922, 923, 924, 925, 926, 927, 928, 929, 930, 931, 932, 933, 934, 935, 936, 937, 938, 939, 940, 941, 942, 943, 944, 945, 946, 947, 948, 949, 950, 951, 952, 953, 954, 955, 956, 957, 958, 959, 960, 961, 962, 963, 964, 965, 966, 967, 968, 969, 970, 971, 972, 973, 974, 975, 976, 977, 978, 979, 980, 981, 982, 983, 984, 985, 986, 987, 988, 989, 990, 991, 992, 993, 994, 995, 996, 997, 998, 999]\n",
      "--------------------------------------------------\n",
      "[[0, 0], [1, 1], [2, 4], [3, 9], [4, 16], [5, 25], [6, 36], [7, 49], [8, 64], [9, 81]]\n"
     ]
    }
   ],
   "source": [
    "# list 1000 số nguyên từ 0 đến 999\n",
    "X = [n for n in range(1000)]\n",
    "print(X)\n",
    "# list gồm 10 list con là các cặp [x, x2]\n",
    "# với x chạy từ 0 đến 9\n",
    "print(\"-\"*50)\n",
    "Y = [[x, x*x] for x in range(10)]\n",
    "print(Y)"
   ]
  },
  {
   "cell_type": "markdown",
   "id": "ca1fb48a-fcd5-456f-ad17-aa446c407014",
   "metadata": {
    "jp-MarkdownHeadingCollapsed": true
   },
   "source": [
    "#### Phép toán, chỉ mục và cắt"
   ]
  },
  {
   "cell_type": "code",
   "execution_count": 55,
   "id": "a06ecb69-fb92-46c8-a63b-5ace2358b66a",
   "metadata": {},
   "outputs": [
    {
     "name": "stdout",
     "output_type": "stream",
     "text": [
      "[1, 2, 3, ['a', 'b', 'c']]\n"
     ]
    }
   ],
   "source": [
    "l1 = list([1, 2, 3, 4])\n",
    "l1[-1] = list('abc')\n",
    "print(l1)\n",
    "# [1, 2, 3, ['a', 'b', 'c']]"
   ]
  },
  {
   "cell_type": "markdown",
   "id": "f4ad9536-5eb3-40b2-953b-141d1d6b315d",
   "metadata": {
    "jp-MarkdownHeadingCollapsed": true
   },
   "source": [
    "#### Các phương thức của list"
   ]
  },
  {
   "cell_type": "code",
   "execution_count": 56,
   "id": "8fd0c582-a026-4cb8-83a7-d30d1c393a40",
   "metadata": {},
   "outputs": [
    {
     "name": "stdout",
     "output_type": "stream",
     "text": [
      "Danh sách ban đầu: [10, 20, 30, 20, 40]\n"
     ]
    }
   ],
   "source": [
    "nums = [10, 20, 30, 20, 40]\n",
    "print(\"Danh sách ban đầu:\", nums)"
   ]
  },
  {
   "cell_type": "markdown",
   "id": "55d85937-f6f7-4037-8e74-0c6182630c59",
   "metadata": {},
   "source": [
    "##### count(sub)"
   ]
  },
  {
   "cell_type": "code",
   "execution_count": 57,
   "id": "bdcb9fb3-6893-42a5-975e-bd052489429b",
   "metadata": {},
   "outputs": [
    {
     "name": "stdout",
     "output_type": "stream",
     "text": [
      "Số lần 20 xuất hiện: 2\n"
     ]
    }
   ],
   "source": [
    "print(\"Số lần 20 xuất hiện:\", nums.count(20))  # 2"
   ]
  },
  {
   "cell_type": "markdown",
   "id": "f131781a-fd6a-4b1e-8503-9f42d8bbcfca",
   "metadata": {},
   "source": [
    "##### index(sub)"
   ]
  },
  {
   "cell_type": "code",
   "execution_count": 58,
   "id": "690d1337-6c26-47da-af4e-37f9034385a5",
   "metadata": {},
   "outputs": [
    {
     "name": "stdout",
     "output_type": "stream",
     "text": [
      "Vị trí của 30: 2\n"
     ]
    }
   ],
   "source": [
    "print(\"Vị trí của 30:\", nums.index(30))   # 2"
   ]
  },
  {
   "cell_type": "markdown",
   "id": "44362d7d-d0c3-458c-9422-d1d180cf2fec",
   "metadata": {},
   "source": [
    "##### clear()"
   ]
  },
  {
   "cell_type": "code",
   "execution_count": 60,
   "id": "9335fc9d-ce1f-4ff6-9e36-590756dee07a",
   "metadata": {},
   "outputs": [
    {
     "name": "stdout",
     "output_type": "stream",
     "text": [
      "Sau clear: []\n"
     ]
    }
   ],
   "source": [
    "nums_copy = nums.copy()\n",
    "nums_copy.clear()\n",
    "print(\"Sau clear:\", nums_copy)  # []"
   ]
  },
  {
   "cell_type": "markdown",
   "id": "4aaf4be1-c09b-47c1-bb60-32365facffcf",
   "metadata": {},
   "source": [
    "##### append(x)"
   ]
  },
  {
   "cell_type": "code",
   "execution_count": 61,
   "id": "95c68ad4-2649-4406-b57c-33d42ef21197",
   "metadata": {},
   "outputs": [
    {
     "name": "stdout",
     "output_type": "stream",
     "text": [
      "Sau append 50: [10, 20, 30, 20, 40, 50]\n"
     ]
    }
   ],
   "source": [
    "nums.append(50)\n",
    "print(\"Sau append 50:\", nums)  # [10, 20, 30, 20, 40, 50]"
   ]
  },
  {
   "cell_type": "markdown",
   "id": "26004c2b-8f1d-4b56-9330-6ba6f21b7b0b",
   "metadata": {},
   "source": [
    "##### extend(x)"
   ]
  },
  {
   "cell_type": "code",
   "execution_count": 62,
   "id": "87f99592-b9c3-44ab-84dd-c4fd5a747415",
   "metadata": {},
   "outputs": [
    {
     "name": "stdout",
     "output_type": "stream",
     "text": [
      "Sau extend [60,70]: [10, 20, 30, 20, 40, 50, 60, 70]\n"
     ]
    }
   ],
   "source": [
    "nums.extend([60, 70])\n",
    "print(\"Sau extend [60,70]:\", nums)  \n",
    "# [10, 20, 30, 20, 40, 50, 60, 70]"
   ]
  },
  {
   "cell_type": "markdown",
   "id": "04ebd3fb-7ba0-4923-b0fc-e60d286e3074",
   "metadata": {},
   "source": [
    "##### insert(p, x)"
   ]
  },
  {
   "cell_type": "code",
   "execution_count": 63,
   "id": "3503ec87-8971-4482-b80e-6ad00a5b897f",
   "metadata": {},
   "outputs": [
    {
     "name": "stdout",
     "output_type": "stream",
     "text": [
      "Sau insert 99 vào vị trí 2: [10, 20, 99, 30, 20, 40, 50, 60, 70]\n"
     ]
    }
   ],
   "source": [
    "nums.insert(2, 99)\n",
    "print(\"Sau insert 99 vào vị trí 2:\", nums)\n",
    "# [10, 20, 99, 30, 20, 40, 50, 60, 70]"
   ]
  },
  {
   "cell_type": "markdown",
   "id": "d0983f36-24bb-418d-ab45-5f14091ef644",
   "metadata": {},
   "source": [
    "##### pop(p)"
   ]
  },
  {
   "cell_type": "code",
   "execution_count": 64,
   "id": "2769c7db-0c10-450a-9458-1430b58f3349",
   "metadata": {},
   "outputs": [
    {
     "name": "stdout",
     "output_type": "stream",
     "text": [
      "Phần tử bị pop: 99\n",
      "Sau pop(2): [10, 20, 30, 20, 40, 50, 60, 70]\n"
     ]
    }
   ],
   "source": [
    "value = nums.pop(2)\n",
    "print(\"Phần tử bị pop:\", value)   # 99\n",
    "print(\"Sau pop(2):\", nums)"
   ]
  },
  {
   "cell_type": "markdown",
   "id": "cc0e7054-5282-435f-b8d4-0bdc6958c6b4",
   "metadata": {
    "jp-MarkdownHeadingCollapsed": true
   },
   "source": [
    "### Tuple"
   ]
  },
  {
   "cell_type": "markdown",
   "id": "daf472fa-3dbb-4d3e-9dd1-3a0ee71bfd63",
   "metadata": {},
   "source": [
    "#### Tạo Tupple"
   ]
  },
  {
   "cell_type": "code",
   "execution_count": 65,
   "id": "6a4ff5c9-78c5-4a75-9c0f-5df8baaff7d4",
   "metadata": {},
   "outputs": [
    {
     "name": "stdout",
     "output_type": "stream",
     "text": [
      "Tuple: (10, 20, 30, 40)\n",
      "Tuple 1 phần tử: (5,)\n",
      "Tuple rỗng: ()\n"
     ]
    }
   ],
   "source": [
    "# Tuple có nhiều phần tử\n",
    "t = (10, 20, 30, 40)\n",
    "print(\"Tuple:\", t)\n",
    "\n",
    "# Tuple chỉ có 1 phần tử (phải có dấu , )\n",
    "t1 = (5,)\n",
    "print(\"Tuple 1 phần tử:\", t1)\n",
    "\n",
    "# Tuple rỗng\n",
    "empty = ()\n",
    "print(\"Tuple rỗng:\", empty)\n"
   ]
  },
  {
   "cell_type": "markdown",
   "id": "d870d991-8247-488d-a44f-5594cdffcecd",
   "metadata": {},
   "source": [
    "#### Truy cập phần tử bằng chỉ số"
   ]
  },
  {
   "cell_type": "code",
   "execution_count": 66,
   "id": "8f3e2600-a855-42be-9e10-7e91ddc6ea99",
   "metadata": {},
   "outputs": [
    {
     "name": "stdout",
     "output_type": "stream",
     "text": [
      "Phần tử đầu tiên: Táo\n",
      "Phần tử cuối cùng: Xoài\n"
     ]
    }
   ],
   "source": [
    "t = (\"Táo\", \"Cam\", \"Xoài\")\n",
    "print(\"Phần tử đầu tiên:\", t[0])   # Táo\n",
    "print(\"Phần tử cuối cùng:\", t[-1]) # Xoài"
   ]
  },
  {
   "cell_type": "markdown",
   "id": "81845404-2791-4343-95dd-884ab4145fc0",
   "metadata": {},
   "source": [
    "#### Duyệt tuple bằng vòng lặp"
   ]
  },
  {
   "cell_type": "code",
   "execution_count": 67,
   "id": "29e38d03-96e3-4b91-8619-0ef1e725dc08",
   "metadata": {},
   "outputs": [
    {
     "name": "stdout",
     "output_type": "stream",
     "text": [
      "Trái cây: Táo\n",
      "Trái cây: Cam\n",
      "Trái cây: Xoài\n"
     ]
    }
   ],
   "source": [
    "for fruit in t:\n",
    "    print(\"Trái cây:\", fruit)"
   ]
  },
  {
   "cell_type": "markdown",
   "id": "c3a59606-f51c-4428-824d-ff7b9dbd1d07",
   "metadata": {},
   "source": [
    "#### Tuple lồng nhau"
   ]
  },
  {
   "cell_type": "code",
   "execution_count": 68,
   "id": "100cf6b0-24f5-4fd9-83d6-5f5907716092",
   "metadata": {},
   "outputs": [
    {
     "name": "stdout",
     "output_type": "stream",
     "text": [
      "Tuple lồng nhau: (1, (2, 3), (4, 5, 6))\n",
      "Phần tử bên trong tuple: 3\n"
     ]
    }
   ],
   "source": [
    "nested = (1, (2, 3), (4, 5, 6))\n",
    "print(\"Tuple lồng nhau:\", nested)\n",
    "print(\"Phần tử bên trong tuple:\", nested[1][1])  # 3"
   ]
  },
  {
   "cell_type": "markdown",
   "id": "68cb5536-9061-4f03-bbfd-62ccfea20077",
   "metadata": {},
   "source": [
    "#### Unpacking"
   ]
  },
  {
   "cell_type": "code",
   "execution_count": 69,
   "id": "7319c0ea-2a99-4833-b812-440faed8dc97",
   "metadata": {},
   "outputs": [
    {
     "name": "stdout",
     "output_type": "stream",
     "text": [
      "Tên: Nguyễn Văn A\n",
      "Tuổi: 20\n",
      "Thành phố: Hà Nội\n"
     ]
    }
   ],
   "source": [
    "person = (\"Nguyễn Văn A\", 20, \"Hà Nội\")\n",
    "name, age, city = person\n",
    "print(\"Tên:\", name)\n",
    "print(\"Tuổi:\", age)\n",
    "print(\"Thành phố:\", city)"
   ]
  },
  {
   "cell_type": "markdown",
   "id": "331a70e0-d6da-4f1a-9cde-27cd91362e93",
   "metadata": {},
   "source": [
    "#### Tuple bất biến"
   ]
  },
  {
   "cell_type": "code",
   "execution_count": 71,
   "id": "416f35f5-ab0c-4ab1-b763-842a6e69c17c",
   "metadata": {},
   "outputs": [
    {
     "name": "stdout",
     "output_type": "stream",
     "text": [
      "Tuple chứa list: (1, [2, 3, 5], 4)\n"
     ]
    }
   ],
   "source": [
    "t = (1, 2, 3)\n",
    "# Nhưng nếu bên trong có list, list đó vẫn thay đổi được\n",
    "t2 = (1, [2, 3], 4)\n",
    "t2[1].append(5)\n",
    "print(\"Tuple chứa list:\", t2)  # (1, [2, 3, 5], 4)"
   ]
  },
  {
   "cell_type": "markdown",
   "id": "9f0b2859-8834-4c35-8505-0ebd921bc749",
   "metadata": {},
   "source": [
    "#### Các phương thức của tuple"
   ]
  },
  {
   "cell_type": "code",
   "execution_count": 72,
   "id": "743fa1fe-db22-49a7-9441-c122fbdd53c4",
   "metadata": {},
   "outputs": [
    {
     "name": "stdout",
     "output_type": "stream",
     "text": [
      "Số lần 10 xuất hiện: 3\n",
      "Vị trí đầu tiên của 30: 3\n"
     ]
    }
   ],
   "source": [
    "numbers = (10, 20, 10, 30, 10)\n",
    "\n",
    "print(\"Số lần 10 xuất hiện:\", numbers.count(10))  # 3\n",
    "print(\"Vị trí đầu tiên của 30:\", numbers.index(30)) # 3"
   ]
  },
  {
   "cell_type": "markdown",
   "id": "cd0170e5-f3d7-42e4-b1ab-2616533d4fe4",
   "metadata": {
    "jp-MarkdownHeadingCollapsed": true
   },
   "source": [
    "### Range (miền)"
   ]
  },
  {
   "cell_type": "markdown",
   "id": "c91a9896-4f0e-44a4-be5f-59f8fd43507d",
   "metadata": {},
   "source": [
    "#### range(stop)"
   ]
  },
  {
   "cell_type": "code",
   "execution_count": 73,
   "id": "706d47ab-d840-4c3e-a42a-b4759ef13056",
   "metadata": {},
   "outputs": [
    {
     "name": "stdout",
     "output_type": "stream",
     "text": [
      "[0, 1, 2, 3, 4]\n"
     ]
    }
   ],
   "source": [
    "r1 = range(5)    # từ 0 đến 4\n",
    "print(list(r1))  # [0, 1, 2, 3, 4]"
   ]
  },
  {
   "cell_type": "markdown",
   "id": "cfd35d79-5d18-4ea0-9c03-3d59e59ef163",
   "metadata": {},
   "source": [
    "#### range(start, stop)"
   ]
  },
  {
   "cell_type": "code",
   "execution_count": 74,
   "id": "926a9470-8050-483e-9eb4-e5015adf0b49",
   "metadata": {},
   "outputs": [
    {
     "name": "stdout",
     "output_type": "stream",
     "text": [
      "[2, 3, 4, 5, 6]\n"
     ]
    }
   ],
   "source": [
    "r2 = range(2, 7)   # từ 2 đến 6\n",
    "print(list(r2))    # [2, 3, 4, 5, 6]"
   ]
  },
  {
   "cell_type": "markdown",
   "id": "3eaaee5f-b875-4a3c-a3e0-c44bb52bf63c",
   "metadata": {},
   "source": [
    "#### range(start, stop, step)"
   ]
  },
  {
   "cell_type": "code",
   "execution_count": 75,
   "id": "3b2e7ade-7214-4d00-98f0-da3f773275b3",
   "metadata": {},
   "outputs": [
    {
     "name": "stdout",
     "output_type": "stream",
     "text": [
      "[1, 3, 5, 7, 9]\n"
     ]
    }
   ],
   "source": [
    "r3 = range(1, 10, 2)   # từ 1 đến 9, bước 2\n",
    "print(list(r3))        # [1, 3, 5, 7, 9]"
   ]
  },
  {
   "cell_type": "markdown",
   "id": "6be4cc39-6640-4f7f-a569-3f1c33d48f66",
   "metadata": {},
   "source": [
    "#### Dùng range để lặp"
   ]
  },
  {
   "cell_type": "code",
   "execution_count": 76,
   "id": "cab8c0f5-0309-4b70-9629-5f45cda74a54",
   "metadata": {},
   "outputs": [
    {
     "name": "stdout",
     "output_type": "stream",
     "text": [
      "Số: 0\n",
      "Số: 1\n",
      "Số: 2\n",
      "Số: 3\n",
      "Số: 4\n"
     ]
    }
   ],
   "source": [
    "for i in range(5):\n",
    "    print(\"Số:\", i)"
   ]
  },
  {
   "cell_type": "markdown",
   "id": "f2d129e2-bbe3-470d-bb1a-90a02a95aafa",
   "metadata": {},
   "source": [
    "### Set"
   ]
  },
  {
   "cell_type": "code",
   "execution_count": 77,
   "id": "69696c08-2c5c-47d5-aee1-cf7d4b51c692",
   "metadata": {},
   "outputs": [
    {
     "name": "stdout",
     "output_type": "stream",
     "text": [
      "{'pear', 'apple', 'orange'}\n"
     ]
    }
   ],
   "source": [
    "basket = {'apple','orange','apple','pear'}\n",
    "print(basket)\n",
    "#{'orange','pear','apple'} : xóa trùng nhau"
   ]
  },
  {
   "cell_type": "code",
   "execution_count": 78,
   "id": "2ffd27d4-af5f-463c-9ed1-d2732b33cf41",
   "metadata": {},
   "outputs": [
    {
     "name": "stdout",
     "output_type": "stream",
     "text": [
      "a= {1, 2, 3, 4, 5}\n"
     ]
    }
   ],
   "source": [
    "a = {5,2,3,1,4}\n",
    "print(\"a=\", a) #a = {1, 2, 3, 4, 5}"
   ]
  },
  {
   "cell_type": "markdown",
   "id": "9f333317-730d-4604-afb0-957b395a8927",
   "metadata": {},
   "source": [
    "##### Khởi tạo Set"
   ]
  },
  {
   "cell_type": "code",
   "execution_count": 80,
   "id": "2f19cfbf-379f-42d0-88de-5ccfba2ab4e4",
   "metadata": {},
   "outputs": [
    {
     "name": "stdout",
     "output_type": "stream",
     "text": [
      "{'r', 'd'}\n"
     ]
    }
   ],
   "source": [
    "# a = {'r', 'd'}\n",
    "a = {x for x in 'abracadabra' if x not in 'abc'}\n",
    "print(a)"
   ]
  },
  {
   "cell_type": "code",
   "execution_count": 81,
   "id": "7a20f579-d839-4697-85f3-963231c47d04",
   "metadata": {},
   "outputs": [
    {
     "name": "stdout",
     "output_type": "stream",
     "text": [
      "{1, 2, 3, 4, 5, 6, 8}\n"
     ]
    }
   ],
   "source": [
    "# Khởi tạo my_set\n",
    "my_set = {1,3}\n",
    "my_set.add(2) #thêm\n",
    "my_set.update([2,3,4]) # Cập nhật\n",
    "my_set.update([4,5], {1,6,8}) # Cập nhật set\n",
    "print(my_set)\n",
    "\n",
    "# Output: {1, 2, 3, 4, 5, 6, 8}"
   ]
  },
  {
   "cell_type": "markdown",
   "id": "b9ba17af-58ba-4aa6-98b6-b929007b142c",
   "metadata": {},
   "source": [
    "##### Các phép toán trên set"
   ]
  },
  {
   "cell_type": "code",
   "execution_count": 83,
   "id": "c40deb0c-5dcb-4829-8759-1b8ab8857b7d",
   "metadata": {},
   "outputs": [
    {
     "name": "stdout",
     "output_type": "stream",
     "text": [
      "a - b = {'r', 'b', 'd'}\n",
      "a | b = {'a', 'z', 'b', 'r', 'm', 'd', 'c', 'l'}\n",
      "a & b = {'a', 'c'}\n",
      "a ^ b = {'r', 'm', 'z', 'b', 'd', 'l'}\n"
     ]
    }
   ],
   "source": [
    "a = set('abracadabra')  # {'d', 'r', 'c', 'b', 'a'}\n",
    "b = set('alacazam')     # {'z', 'c', 'm', 'l', 'a'}\n",
    "\n",
    "# Phép Hiệu: thuộc a nhưng không thuộc b\n",
    "print(\"a - b =\", a - b)   # {'r', 'd', 'b'}\n",
    "\n",
    "# Phép Hợp: thuộc a hoặc b\n",
    "print(\"a | b =\", a | b)   # {'a', 'c', 'r', 'd', 'b', 'm', 'z', 'l'}\n",
    "\n",
    "# Phép Giao: thuộc cả a và b\n",
    "print(\"a & b =\", a & b)   # {'a', 'c'}\n",
    "\n",
    "# Phép Xor: thuộc hoặc a, hoặc b nhưng không phải cả 2\n",
    "print(\"a ^ b =\", a ^ b)   # {'r', 'd', 'b', 'm', 'z', 'l'}\n"
   ]
  },
  {
   "cell_type": "markdown",
   "id": "66019844-71bf-4478-bedc-85b9bbaf71c9",
   "metadata": {},
   "source": [
    "##### Các phương thức trên set"
   ]
  },
  {
   "cell_type": "code",
   "execution_count": 84,
   "id": "97d371b9-8351-470d-8290-fc25126a6928",
   "metadata": {},
   "outputs": [
    {
     "name": "stdout",
     "output_type": "stream",
     "text": [
      "add: {1, 2, 3, 4}\n",
      "clear: set()\n",
      "copy: {1, 2, 3, 4}\n",
      "difference: {1, 2}\n",
      "difference_update: {1, 2}\n",
      "discard: {1, 2}\n",
      "remove: {4, 5}\n",
      "union: {1, 2, 4, 5}\n",
      "intersection: set()\n"
     ]
    }
   ],
   "source": [
    "# Tạo tập hợp\n",
    "a = {1, 2, 3}\n",
    "b = {3, 4, 5}\n",
    "\n",
    "# 1. add(e): thêm e vào tập hợp\n",
    "a.add(4)\n",
    "print(\"add:\", a)  # {1, 2, 3, 4}\n",
    "\n",
    "# 2. clear(): xóa mọi phần tử trong tập hợp\n",
    "c = {10, 20, 30}\n",
    "c.clear()\n",
    "print(\"clear:\", c)  # set()\n",
    "\n",
    "# 3. copy(): tạo bản sao\n",
    "d = a.copy()\n",
    "print(\"copy:\", d)  # {1, 2, 3, 4}\n",
    "\n",
    "# 4. difference(x): phép trừ (a - b)\n",
    "print(\"difference:\", a.difference(b))  # {1, 2}\n",
    "\n",
    "# 5. difference_update(x): loại bỏ phần tử trong x khỏi a\n",
    "a.difference_update(b)\n",
    "print(\"difference_update:\", a)  # {1, 2}\n",
    "\n",
    "# 6. discard(e): bỏ phần tử, không báo lỗi nếu không có\n",
    "a.discard(10)\n",
    "print(\"discard:\", a)  # {1, 2}\n",
    "\n",
    "# 7. remove(e): bỏ phần tử, báo lỗi nếu không tìm thấy\n",
    "b.remove(3)\n",
    "print(\"remove:\", b)  # {4, 5}\n",
    "\n",
    "# 8. union(x): phép hợp\n",
    "print(\"union:\", a.union(b))  # {1, 2, 4, 5}\n",
    "\n",
    "# 9. intersection(x): phép giao\n",
    "print(\"intersection:\", a.intersection(b))  # set() (vì {1,2} và {4,5} không giao nhau)\n"
   ]
  },
  {
   "cell_type": "markdown",
   "id": "e2de54f6-20dc-42a1-a50d-392ff5f260cb",
   "metadata": {},
   "source": [
    "##### Vòng lặp for của set()"
   ]
  },
  {
   "cell_type": "code",
   "execution_count": 87,
   "id": "48d3c564-d925-456e-bd5d-d06005887bb7",
   "metadata": {},
   "outputs": [
    {
     "name": "stdout",
     "output_type": "stream",
     "text": [
      "pear\n",
      "apple\n",
      "lemon\n",
      "orange\n"
     ]
    }
   ],
   "source": [
    "setFruits = {'lemon','orange','apple','pear'}\n",
    "for x in setFruits:\n",
    "    print(x)"
   ]
  },
  {
   "cell_type": "markdown",
   "id": "19240bf7-bd69-44db-8c64-33e0c5d1d3c2",
   "metadata": {},
   "source": [
    "### Dictionary (từ điển)"
   ]
  },
  {
   "cell_type": "markdown",
   "id": "d0235e40-365a-4350-920a-dfdf92df9d2b",
   "metadata": {},
   "source": [
    "##### Tạo dict"
   ]
  },
  {
   "cell_type": "code",
   "execution_count": 89,
   "id": "1777dcc4-b56d-44e2-86c3-9c216c59698b",
   "metadata": {},
   "outputs": [
    {
     "name": "stdout",
     "output_type": "stream",
     "text": [
      "one\n",
      "{1: 'one', 2: 'two', 3: 'three', 4: 'four'}\n"
     ]
    }
   ],
   "source": [
    "dict = {1:'one',2:'two',3:'three'}\n",
    "print(dict[1]) #'one'\n",
    "dict[4]='four'\n",
    "print(dict)"
   ]
  },
  {
   "cell_type": "markdown",
   "id": "a070b4ce-e13f-42ab-bcc1-578090132542",
   "metadata": {},
   "source": [
    "##### Các phép toán / phương thức thường dùng"
   ]
  },
  {
   "cell_type": "code",
   "execution_count": 90,
   "id": "d47642f4-097d-4318-a78d-0a2d85b06b89",
   "metadata": {},
   "outputs": [
    {
     "name": "stdout",
     "output_type": "stream",
     "text": [
      "len: 3\n",
      "del: {'a': 1, 'c': 3}\n",
      "'a' in d: True\n",
      "'b' in d: False\n",
      "'b' not in d: True\n",
      "pop: 3 {'a': 1}\n",
      "popitem: ('a', 1) {}\n",
      "get('y'): 20\n",
      "get('t'): None\n",
      "update: {'x': 10, 'y': 200, 'z': 30, 't': 999}\n",
      "items: [('x', 10), ('y', 200), ('z', 30), ('t', 999)]\n",
      "keys: ['x', 'y', 'z', 't']\n",
      "values: [10, 200, 30, 999]\n"
     ]
    }
   ],
   "source": [
    "# Tạo từ điển\n",
    "d = {\"a\": 1, \"b\": 2, \"c\": 3}\n",
    "\n",
    "# 1. len(d): số cặp key-value\n",
    "print(\"len:\", len(d))  # 3\n",
    "\n",
    "# 2. del d[k]: xóa cặp theo key\n",
    "del d[\"b\"]\n",
    "print(\"del:\", d)  # {\"a\": 1, \"c\": 3}\n",
    "\n",
    "# 3. k in d: kiểm tra key có trong dict không\n",
    "print(\"'a' in d:\", \"a\" in d)   # True\n",
    "print(\"'b' in d:\", \"b\" in d)   # False\n",
    "\n",
    "# 4. k not in d: kiểm tra key không có trong dict\n",
    "print(\"'b' not in d:\", \"b\" not in d)  # True\n",
    "\n",
    "# 5. pop(k): lấy value và xóa cặp key\n",
    "value = d.pop(\"c\")\n",
    "print(\"pop:\", value, d)  # 3 {\"a\": 1}\n",
    "\n",
    "# 6. popitem(): lấy (key, value) cuối cùng và xóa nó\n",
    "pair = d.popitem()\n",
    "print(\"popitem:\", pair, d)  # (\"a\", 1) {}\n",
    "\n",
    "# Tạo lại dict để minh họa tiếp\n",
    "d = {\"x\": 10, \"y\": 20, \"z\": 30}\n",
    "\n",
    "# 7. get(k): lấy value theo key\n",
    "print(\"get('y'):\", d.get(\"y\"))   # 20\n",
    "print(\"get('t'):\", d.get(\"t\"))   # None (không lỗi)\n",
    "\n",
    "# 8. update(w): gộp dict\n",
    "d.update({\"y\": 200, \"t\": 999})\n",
    "print(\"update:\", d)  # {\"x\": 10, \"y\": 200, \"z\": 30, \"t\": 999}\n",
    "\n",
    "# 9. items(): trả về list cặp (key, value)\n",
    "print(\"items:\", list(d.items()))  \n",
    "# [('x', 10), ('y', 200), ('z', 30), ('t', 999)]\n",
    "\n",
    "# 10. keys(): trả về các key\n",
    "print(\"keys:\", list(d.keys()))  # ['x', 'y', 'z', 't']\n",
    "\n",
    "# 11. values(): trả về các value\n",
    "print(\"values:\", list(d.values()))  # [10, 200, 30, 999]\n"
   ]
  },
  {
   "cell_type": "markdown",
   "id": "601069c3-6b80-4fb0-af5d-61aa11ce806a",
   "metadata": {},
   "source": [
    "### Module và Package"
   ]
  },
  {
   "cell_type": "markdown",
   "id": "51492bd2-140a-4f85-9a9a-85c1a5116b67",
   "metadata": {},
   "source": [
    "##### Module"
   ]
  },
  {
   "cell_type": "code",
   "execution_count": 94,
   "id": "c921d969-a040-412b-8db9-bb943e50afad",
   "metadata": {},
   "outputs": [
    {
     "name": "stdout",
     "output_type": "stream",
     "text": [
      "Căn bậc 2 của 16: 4.0\n",
      "Số pi: 3.141592653589793\n",
      "Lũy thừa 2^5: 32.0\n"
     ]
    }
   ],
   "source": [
    "import math\n",
    "\n",
    "print(\"Căn bậc 2 của 16:\", math.sqrt(16))    # 4.0\n",
    "print(\"Số pi:\", math.pi)                     # 3.141592653589793\n",
    "print(\"Lũy thừa 2^5:\", math.pow(2, 5))       # 32.0\n"
   ]
  },
  {
   "cell_type": "code",
   "execution_count": 95,
   "id": "5b7b5587-85ce-40c9-ae5f-d619b722975b",
   "metadata": {},
   "outputs": [
    {
     "name": "stdout",
     "output_type": "stream",
     "text": [
      "sqrt(25): 5.0\n",
      "pi: 3.141592653589793\n"
     ]
    }
   ],
   "source": [
    "from math import sqrt, pi\n",
    "\n",
    "print(\"sqrt(25):\", sqrt(25))   # 5.0\n",
    "print(\"pi:\", pi)               # 3.141592653589793\n"
   ]
  },
  {
   "cell_type": "markdown",
   "id": "dfff4a90-c012-4a31-9ec3-12cbf6c4dc23",
   "metadata": {},
   "source": [
    "##### Package"
   ]
  },
  {
   "cell_type": "code",
   "execution_count": 93,
   "id": "f8ef8584-5122-44d2-adf3-ff2347b2d23a",
   "metadata": {},
   "outputs": [],
   "source": [
    "import numpy\n",
    "\n",
    "A = numpy.array([1, 2, 3])"
   ]
  },
  {
   "cell_type": "code",
   "execution_count": 96,
   "id": "25dc63e1-e1b9-465c-af74-58d2b3d383f8",
   "metadata": {},
   "outputs": [
    {
     "name": "stdout",
     "output_type": "stream",
     "text": [
      "Thư mục hiện tại: C:\\Users\\KHA\\Desktop\\Da_buoi_2\n",
      "Các file trong thư mục: ['.ipynb_checkpoints', '4a.png', '4b.png', 'lab2_HoDacKha_3123410143.zip', 'main', 'myfile.txt', 'mymodule.py', 'pi.png', 'sample_data', 'slide_DA03_code.ipynb', 'slide_thamkhao_code.ipynb', 'Untitled.ipynb', 'Untitled1.ipynb', '__pycache__']\n"
     ]
    }
   ],
   "source": [
    "import os\n",
    "\n",
    "print(\"Thư mục hiện tại:\", os.getcwd())\n",
    "print(\"Các file trong thư mục:\", os.listdir(\".\"))"
   ]
  },
  {
   "cell_type": "markdown",
   "id": "240e2be5-bfee-433d-a9a4-494b509c97ba",
   "metadata": {},
   "source": [
    "## Numpy"
   ]
  },
  {
   "cell_type": "markdown",
   "id": "b18c72f6-fbd2-4f3d-ae18-bf7f80e28672",
   "metadata": {
    "jp-MarkdownHeadingCollapsed": true
   },
   "source": [
    "#### Khởi tạo mảng và chỉ số"
   ]
  },
  {
   "cell_type": "markdown",
   "id": "e2d7a822-d0d0-4fb6-be90-6297470b7203",
   "metadata": {},
   "source": [
    "##### Tạo mảng và truy cậpTạo mảng và truy cập"
   ]
  },
  {
   "cell_type": "code",
   "execution_count": 98,
   "id": "7c9bc89c-a7b2-4a5f-9d35-a48f748f8e04",
   "metadata": {},
   "outputs": [
    {
     "name": "stdout",
     "output_type": "stream",
     "text": [
      "<class 'numpy.ndarray'>\n",
      "(3,)\n",
      "1 2 3\n",
      "[5 2 3]\n",
      "(2, 3)\n",
      "1 2 4\n",
      "[[1 0 0]\n",
      " [0 3 0]\n",
      " [0 0 4]]\n"
     ]
    }
   ],
   "source": [
    "import numpy as np\n",
    "\n",
    "a = np.array([1, 2, 3]) # tạo mảng 1 chiều\n",
    "print(type(a)) # in \"<class 'numpy.ndarray'>\"\n",
    "print(a.shape) # in \"(3,)\"\n",
    "print(a[0], a[1], a[2]) # in \"1 2 3\"\n",
    "a[0] = 5\n",
    "print(a) # in \"[5, 2, 3]\"\n",
    "b = np.array([[1, 2, 3],[4, 5, 6]]) # tạo mảng 2 chiều\n",
    "print(b.shape) # in \"(2, 3)\"\n",
    "print(b[0, 0], b[0, 1], b[1, 0]) # in \"1 2 4\"\n",
    "print(np.diag([1, 3, 4])) # in ra cái gì?"
   ]
  },
  {
   "cell_type": "markdown",
   "id": "473db7bb-707c-4580-8949-d1eb5f609d25",
   "metadata": {},
   "source": [
    "##### Nhiều cách khởi tạo phong phú"
   ]
  },
  {
   "cell_type": "code",
   "execution_count": 101,
   "id": "ee19b67f-1a50-4d46-a8f9-97db2ed2bcc0",
   "metadata": {},
   "outputs": [
    {
     "name": "stdout",
     "output_type": "stream",
     "text": [
      "x = [0. 1. 2.]\n",
      "a =\n",
      " [[0. 0.]\n",
      " [0. 0.]]\n",
      "b =\n",
      " [[1. 1.]]\n",
      "c =\n",
      " [[[9 9]\n",
      "  [9 9]]\n",
      "\n",
      " [[9 9]\n",
      "  [9 9]]\n",
      "\n",
      " [[9 9]\n",
      "  [9 9]]]\n",
      "d =\n",
      " [[1. 0.]\n",
      " [0. 1.]]\n",
      "e =\n",
      " [[0.36024718 0.68224921]\n",
      " [0.09770352 0.18996242]\n",
      " [0.03158936 0.23988423]]\n",
      "x =\n",
      " [[1 2 3]\n",
      " [4 5 6]]\n",
      "Số chiều: 2\n",
      "Số phần tử: 6\n",
      "Kích thước: (2, 3)\n",
      "Kiểu dữ liệu: int32\n"
     ]
    }
   ],
   "source": [
    "import numpy as np\n",
    "\n",
    "# range trong numpy là arange, không phải range\n",
    "x = np.arange(3.0)  \n",
    "print(\"x =\", x)  # [0. 1. 2.]\n",
    "\n",
    "a = np.zeros((2, 2))  \n",
    "print(\"a =\\n\", a)\n",
    "# [[0. 0.]\n",
    "#  [0. 0.]]\n",
    "\n",
    "b = np.ones((1, 2))  \n",
    "print(\"b =\\n\", b)\n",
    "# [[1. 1.]]\n",
    "\n",
    "c = np.full((3, 2, 2), 9)  \n",
    "print(\"c =\\n\", c)\n",
    "# [[[9 9]\n",
    "#   [9 9]]\n",
    "#  [[9 9]\n",
    "#   [9 9]]\n",
    "#  [[9 9]\n",
    "#   [9 9]]]\n",
    "\n",
    "d = np.eye(2)  \n",
    "print(\"d =\\n\", d)\n",
    "# [[1. 0.]\n",
    "#  [0. 1.]]\n",
    "\n",
    "# random.random chỉ nhận 1 tuple làm shape\n",
    "e = np.random.random((3, 2))  \n",
    "print(\"e =\\n\", e)  # ma trận 3x2 số ngẫu nhiên [0,1)\n",
    "\n",
    "# mảng 2x3 điền các số từ 1 đến 6\n",
    "x = np.array([[1, 2, 3], [4, 5, 6]], np.int32)\n",
    "print(\"x =\\n\", x)\n",
    "\n",
    "# Thông tin về mảng\n",
    "print(\"Số chiều:\", x.ndim)    # 2\n",
    "print(\"Số phần tử:\", x.size)  # 6\n",
    "print(\"Kích thước:\", x.shape) # (2, 3)\n",
    "print(\"Kiểu dữ liệu:\", x.dtype)  # int32\n"
   ]
  },
  {
   "cell_type": "markdown",
   "id": "2a5895ec-e27a-4c6a-9ce6-47c93c310c44",
   "metadata": {},
   "source": [
    "##### Truy cập theo chỉ số (slicing)"
   ]
  },
  {
   "cell_type": "code",
   "execution_count": 100,
   "id": "b71af51f-48d4-424d-80fc-4dcfdfca1ec5",
   "metadata": {},
   "outputs": [
    {
     "name": "stdout",
     "output_type": "stream",
     "text": [
      "2\n",
      "77\n"
     ]
    }
   ],
   "source": [
    "a = np.array([[1, 2, 3, 4], [5, 6, 7, 8], [9, 10, 11, 12]])\n",
    "b = a[:2, 1:3]\n",
    "print(a[0, 1]) # in \"2\"\n",
    "b[0, 0] = 77 # b[0, 0] cũng là a[0, 1]\n",
    "print(a[0, 1]) # in \"77\"\n"
   ]
  },
  {
   "cell_type": "markdown",
   "id": "45cf2b7d-5457-4675-aba6-74b4e3299698",
   "metadata": {},
   "source": [
    "### Các phép toán trên mảng"
   ]
  },
  {
   "cell_type": "code",
   "execution_count": 102,
   "id": "2b9463c8-c899-423b-adb2-4f9742adfa5f",
   "metadata": {},
   "outputs": [
    {
     "name": "stdout",
     "output_type": "stream",
     "text": [
      "[[ 6.  8.]\n",
      " [10. 12.]]\n",
      "[[-4. -4.]\n",
      " [-4. -4.]]\n",
      "[[ 5. 12.]\n",
      " [21. 32.]]\n",
      "[[0.2        0.33333333]\n",
      " [0.42857143 0.5       ]]\n",
      "[[1.         1.41421356]\n",
      " [1.73205081 2.        ]]\n",
      "[[ 2.  4.]\n",
      " [ 8. 16.]]\n"
     ]
    }
   ],
   "source": [
    "import numpy as np\n",
    "\n",
    "x = np.array([[1, 2], [3, 4]], dtype=np.float64)\n",
    "y = np.array([[5, 6], [7, 8]], dtype=np.float64)\n",
    "print(x + y) # print(np.add(x, y)), xử lý khác list\n",
    "print(x - y) # print(np.subtract(x, y))\n",
    "print(x * y) # print(np.multiply(x, y))\n",
    "print(x / y) # print(np.divide(x, y))\n",
    "print(np.sqrt(x)) # khai căn tất cả các phần tử\n",
    "print(2**x) # tính 2 mũ các phần tử trong x\n",
    "# chú ý: phép nhân/chia thực hiện theo cặp phần tử của"
   ]
  },
  {
   "cell_type": "markdown",
   "id": "6ae7f6d5-494d-4e4e-a96b-e45e84e39ad4",
   "metadata": {},
   "source": [
    "##### Nhân ma trận (dot) và nghịch đảo"
   ]
  },
  {
   "cell_type": "code",
   "execution_count": 103,
   "id": "b257eb1d-fda5-43a0-adb4-8eb96f646901",
   "metadata": {},
   "outputs": [
    {
     "name": "stdout",
     "output_type": "stream",
     "text": [
      "219\n",
      "[29 67]\n",
      "[[19 22]\n",
      " [43 50]]\n",
      "[[-2.   1. ]\n",
      " [ 1.5 -0.5]]\n"
     ]
    }
   ],
   "source": [
    "import numpy as np\n",
    "\n",
    "x = np.array([[1, 2],[3, 4]])\n",
    "y = np.array([[5, 6],[7, 8]])\n",
    "v = np.array([9, 10])\n",
    "w = np.array([11, 12])\n",
    "print(v.dot(w)) # tương tự print(np.dot(v, w))\n",
    "print(x.dot(v)) # tương tự print(np.dot(x, v))\n",
    "print(x.dot(y)) # tương tự print(np.dot(x, y))\n",
    "print(np.linalg.inv(x)) # tính và in nghịch đảo của x|"
   ]
  },
  {
   "cell_type": "markdown",
   "id": "523c536e-7469-45a6-81b5-5eeebea9a0bb",
   "metadata": {},
   "source": [
    "##### Ma trận chuyển vị"
   ]
  },
  {
   "cell_type": "code",
   "execution_count": 104,
   "id": "87828a3e-f52a-4c80-8e59-21ec77c3cbe4",
   "metadata": {},
   "outputs": [
    {
     "name": "stdout",
     "output_type": "stream",
     "text": [
      "[[1 2]\n",
      " [3 4]]\n",
      "[[1 3]\n",
      " [2 4]]\n",
      "[1 2 3]\n",
      "[1 2 3]\n",
      "[[1]\n",
      " [2]\n",
      " [3]]\n"
     ]
    }
   ],
   "source": [
    "import numpy as np\n",
    "x = np.array([[1, 2], [3, 4]])\n",
    "print(x) # in ra \"[[1 2]\n",
    "# [3 4]]\"\n",
    "print(x.T) # in ra \"[[1 3]\n",
    "# [2 4]]\"\n",
    "# chú ý: mảng 1 chiều không có chuyển vị\n",
    "y = np.array([1, 2, 3])\n",
    "print(y) # in ra \"[1 2 3]\"\n",
    "print(y.T) # in ra \"[1 2 3]\"\n",
    "z = np.array([[1, 2, 3]])\n",
    "print(z.T) # đoán xem in ra cái gì?"
   ]
  },
  {
   "cell_type": "markdown",
   "id": "102f28d4-762a-4bbc-8c60-18051421a9e4",
   "metadata": {},
   "source": [
    "### Một số thao tác thông dụng"
   ]
  },
  {
   "cell_type": "markdown",
   "id": "4fa81cf0-6269-4423-8ca7-008a13847a96",
   "metadata": {
    "jp-MarkdownHeadingCollapsed": true
   },
   "source": [
    "#### Đọc dữ liệu từ file"
   ]
  },
  {
   "cell_type": "code",
   "execution_count": 107,
   "id": "da21aa4e-4f56-464f-ac11-c033f439d3cc",
   "metadata": {},
   "outputs": [
    {
     "name": "stdout",
     "output_type": "stream",
     "text": [
      "x =\n",
      " [[0. 1.]\n",
      " [2. 3.]]\n",
      "y = [(b'M', 21, 72.) (b'F', 35, 58.)]\n"
     ]
    }
   ],
   "source": [
    "from io import StringIO\n",
    "import numpy as np\n",
    "\n",
    "# Ví dụ 1: ma trận số\n",
    "c = StringIO(\"0 1\\n2 3\")\n",
    "x = np.loadtxt(c)\n",
    "print(\"x =\\n\", x)\n",
    "# [[0. 1.]\n",
    "#  [2. 3.]]\n",
    "\n",
    "# Ví dụ 2: dữ liệu hỗn hợp (chuỗi + số nguyên + số thực)\n",
    "d = StringIO(\"M 21 72\\nF 35 58\")\n",
    "\n",
    "y = np.loadtxt(\n",
    "    d,\n",
    "    dtype={'names': ('gender', 'age', 'weight'),\n",
    "           'formats': ('S1', 'i4', 'f4')}\n",
    ")\n",
    "\n",
    "print(\"y =\", y)\n"
   ]
  },
  {
   "cell_type": "markdown",
   "id": "df685db2-f88c-44ff-9038-2595440f7adb",
   "metadata": {
    "jp-MarkdownHeadingCollapsed": true
   },
   "source": [
    "#### Cơ chế broadcasting"
   ]
  },
  {
   "cell_type": "code",
   "execution_count": 108,
   "id": "b44d2856-d463-4408-83fe-299ac9208ea8",
   "metadata": {},
   "outputs": [
    {
     "name": "stdout",
     "output_type": "stream",
     "text": [
      "[[ 2  2  4]\n",
      " [ 5  5  7]\n",
      " [ 8  8 10]\n",
      " [11 11 13]]\n"
     ]
    }
   ],
   "source": [
    "import numpy as np\n",
    "\n",
    "x = np.array([[1, 2, 3], [4, 5, 6], [7, 8, 9], [10, 11,\n",
    "12]])\n",
    "v = np.array([1, 0, 1])\n",
    "y = x + v\n",
    "print(y)"
   ]
  },
  {
   "cell_type": "markdown",
   "id": "55fbf75f-7249-4f83-b810-18b05d492e09",
   "metadata": {
    "jp-MarkdownHeadingCollapsed": true
   },
   "source": [
    "#### Tính tổng theo các trục"
   ]
  },
  {
   "cell_type": "code",
   "execution_count": 109,
   "id": "3e02ebb1-6a5f-4d51-b5f1-6dfac488ad37",
   "metadata": {},
   "outputs": [
    {
     "name": "stdout",
     "output_type": "stream",
     "text": [
      "10\n",
      "[4 6]\n",
      "[3 7]\n"
     ]
    }
   ],
   "source": [
    "import numpy as np\n",
    "\n",
    "x = np.array([[1, 2], [3, 4]])\n",
    "\n",
    "print(np.sum(x)) # tính tổng toàn bộ x, in \"10“\n",
    "print(np.sum(x, axis=0)) # tính tổng mỗi cột, in \"[4 6]“\n",
    "print(np.sum(x, axis=1)) # tính tổng mỗi hàng, in \"[3 7]\""
   ]
  },
  {
   "cell_type": "markdown",
   "id": "586d1a67-a71b-47d5-b63f-0a2962b24964",
   "metadata": {
    "jp-MarkdownHeadingCollapsed": true
   },
   "source": [
    "#### Trích xuất dữ liệu theo dãy"
   ]
  },
  {
   "cell_type": "code",
   "execution_count": 110,
   "id": "2f294314-6b4c-445d-aeb1-41f7e35dcb9a",
   "metadata": {},
   "outputs": [
    {
     "name": "stdout",
     "output_type": "stream",
     "text": [
      "[1 4 5]\n",
      "[1 4 5]\n",
      "[2 2]\n",
      "[2 2]\n"
     ]
    }
   ],
   "source": [
    "import numpy as np\n",
    "a = np.array([[1,2], [3, 4], [5, 6]])\n",
    "# Prints \"[1 4 5]\"\n",
    "print(a[[0, 1, 2], [0, 1, 0]])\n",
    "# Prints \"[1 4 5]\"\n",
    "print(np.array([a[0, 0], a[1, 1], a[2, 0]]))\n",
    "# Prints \"[2 2]\"\n",
    "print(a[[0, 0], [1, 1]])\n",
    "# Prints \"[2 2]\"\n",
    "print(np.array([a[0, 1], a[0, 1]]))"
   ]
  },
  {
   "cell_type": "markdown",
   "id": "90c376a0-e41d-4db4-9d68-6254cac94544",
   "metadata": {
    "jp-MarkdownHeadingCollapsed": true
   },
   "source": [
    "#### Lọc phần tử theo chỉ số"
   ]
  },
  {
   "cell_type": "code",
   "execution_count": 111,
   "id": "440f0568-285a-4d35-aba5-34de1ffa0f57",
   "metadata": {},
   "outputs": [
    {
     "name": "stdout",
     "output_type": "stream",
     "text": [
      "[ 1  6  7 11]\n",
      "[[11  2  3]\n",
      " [ 4  5 16]\n",
      " [17  8  9]\n",
      " [10 21 12]]\n"
     ]
    }
   ],
   "source": [
    "import numpy as np\n",
    "\n",
    "a = np.array([[1, 2, 3], [4, 5, 6], [7, 8, 9], [10, 11, 12]])\n",
    "b = np.array([0, 2, 0, 1]) # b là mảng các chỉ số\n",
    "print(a[np.arange(4), b]) # in ra \"[1 6 7 11]\"\n",
    "# cộng tất cả các phần tử được lọc thêm 10\n",
    "a[np.arange(4), b] += 10\n",
    "print(a)"
   ]
  },
  {
   "cell_type": "markdown",
   "id": "f1d111b3-b9a0-45f3-a542-9daeccdad275",
   "metadata": {},
   "source": [
    "#### Lọc dữ liệu theo điều kiện"
   ]
  },
  {
   "cell_type": "code",
   "execution_count": 112,
   "id": "c0ca8fc2-3675-423e-be9a-8109f0caeb31",
   "metadata": {},
   "outputs": [
    {
     "name": "stdout",
     "output_type": "stream",
     "text": [
      "[[False False]\n",
      " [ True  True]\n",
      " [ True  True]]\n",
      "[3 4 5 6]\n",
      "[3 4 5 6]\n"
     ]
    }
   ],
   "source": [
    "import numpy as np\n",
    "\n",
    "a = np.array([[1, 2], [3, 4], [5, 6]])\n",
    "bool_idx = (a > 2)\n",
    "print(bool_idx) # in ra \"[[False False]\n",
    "# [ True True]\n",
    "# [ True True]]\"\n",
    "# lọc dữ liệu trong a, trả về một dãy\n",
    "print(a[bool_idx]) # Prints \"[3 4 5 6]\"\n",
    "# có thể viết trực tiếp điều kiện (ngắn gọn hơn)\n",
    "print(a[a > 2]) # Prints \"[3 4 5 6]\""
   ]
  },
  {
   "cell_type": "markdown",
   "id": "d578f887-de4c-4ad5-8012-0ad1938d8e59",
   "metadata": {},
   "source": [
    "#### Điều chỉnh cỡ ma trận"
   ]
  },
  {
   "cell_type": "code",
   "execution_count": 113,
   "id": "08e0bdfe-20fa-42a9-90a8-daf99dd7dfb3",
   "metadata": {},
   "outputs": [
    {
     "name": "stdout",
     "output_type": "stream",
     "text": [
      "x ban đầu:\n",
      " [[1 3]\n",
      " [4 4]\n",
      " [4 2]]\n",
      "shape = (3, 2)\n"
     ]
    }
   ],
   "source": [
    "import numpy as np\n",
    "\n",
    "# Tạo mảng 3x2\n",
    "x = np.array([[1, 3],\n",
    "              [4, 4],\n",
    "              [4, 2]])\n",
    "print(\"x ban đầu:\\n\", x)\n",
    "print(\"shape =\", x.shape)  # (3, 2)\n"
   ]
  },
  {
   "cell_type": "code",
   "execution_count": 115,
   "id": "798e1012-baa7-4034-8bbe-82d80fb00673",
   "metadata": {},
   "outputs": [
    {
     "name": "stdout",
     "output_type": "stream",
     "text": [
      "x1 reshape(2,3):\n",
      " [[1 3 4]\n",
      " [4 4 2]]\n"
     ]
    }
   ],
   "source": [
    "x1 = x.reshape(2, 3)\n",
    "print(\"x1 reshape(2,3):\\n\", x1)"
   ]
  },
  {
   "cell_type": "code",
   "execution_count": 117,
   "id": "154d972c-273f-4727-b5af-e74f39360d42",
   "metadata": {},
   "outputs": [
    {
     "name": "stdout",
     "output_type": "stream",
     "text": [
      "x2 reshape(2,-1):\n",
      " [[1 3 4]\n",
      " [4 4 2]]\n"
     ]
    }
   ],
   "source": [
    "x2 = x.reshape(2, -1)  # NumPy tự tính số cột\n",
    "print(\"x2 reshape(2,-1):\\n\", x2)"
   ]
  },
  {
   "cell_type": "markdown",
   "id": "5b81359f-4621-4b58-96d0-b0bcf4c42f01",
   "metadata": {},
   "source": [
    "#### Elementwise operation"
   ]
  },
  {
   "cell_type": "code",
   "execution_count": 119,
   "id": "92066c7a-77c1-4f99-8dd9-23c45ad6c09a",
   "metadata": {},
   "outputs": [
    {
     "name": "stdout",
     "output_type": "stream",
     "text": [
      "log(x) = [0.         0.69314718 1.09861229]\n",
      "abs(x) = [1 2 3]\n",
      "maximum(x, [2,1,3]) = [2 2 3]\n",
      "minimum(x, [2,1,3]) = [1 1 3]\n",
      "x**2 = [1 4 9]\n"
     ]
    }
   ],
   "source": [
    "import numpy as np\n",
    "\n",
    "x = np.array([1, 2, 3])\n",
    "\n",
    "# Log cơ số e\n",
    "print(\"log(x) =\", np.log(x))\n",
    "# [0.         0.69314718 1.09861229]\n",
    "\n",
    "# Giá trị tuyệt đối\n",
    "print(\"abs(x) =\", np.abs(x))\n",
    "# [1 2 3]\n",
    "\n",
    "# Lấy giá trị lớn nhất giữa x và một mảng khác\n",
    "print(\"maximum(x, [2,1,3]) =\", np.maximum(x, [2, 1, 3]))\n",
    "# [2 2 3]\n",
    "\n",
    "# Lấy giá trị nhỏ nhất giữa x và một mảng khác\n",
    "print(\"minimum(x, [2,1,3]) =\", np.minimum(x, [2, 1, 3]))\n",
    "# [1 1 3]\n",
    "\n",
    "# Lũy thừa 2\n",
    "print(\"x**2 =\", x**2)"
   ]
  },
  {
   "cell_type": "markdown",
   "id": "57f781a8-6146-4987-bfab-0778635fde12",
   "metadata": {},
   "source": [
    "##### Tính norm cấp 2 của vector"
   ]
  },
  {
   "cell_type": "code",
   "execution_count": 121,
   "id": "129ec19e-7fed-4b0d-b735-9b063fd56036",
   "metadata": {},
   "outputs": [
    {
     "name": "stdout",
     "output_type": "stream",
     "text": [
      "Norm từng dòng:\n",
      " [[ 3.]\n",
      " [ 5.]\n",
      " [10.]]\n",
      "Norm từng cột:\n",
      " [[ 5. 10.]]\n"
     ]
    }
   ],
   "source": [
    "import numpy as np\n",
    "\n",
    "# Ví dụ 1: Tính norm theo từng dòng (vector hàng)\n",
    "x = np.array([[0, 3],\n",
    "              [4, 3],\n",
    "              [6, 8]])\n",
    "\n",
    "row_norms = np.linalg.norm(x, axis=1, keepdims=True)\n",
    "print(\"Norm từng dòng:\\n\", row_norms)\n",
    "# [[ 3.]\n",
    "#  [ 5.]\n",
    "#  [10.]]\n",
    "\n",
    "# Ví dụ 2: Tính norm theo từng cột (vector cột)\n",
    "x = np.array([[0, 6],\n",
    "              [4, 0],\n",
    "              [3, 8]])\n",
    "\n",
    "col_norms = np.linalg.norm(x, axis=0, keepdims=True)\n",
    "print(\"Norm từng cột:\\n\", col_norms)\n",
    "# [[5. 10.]]"
   ]
  },
  {
   "cell_type": "markdown",
   "id": "00043f40-fb78-4cb7-be42-3cd4091308a9",
   "metadata": {},
   "source": [
    "#### Sinh mảng ngẫu nhiên"
   ]
  },
  {
   "cell_type": "code",
   "execution_count": 124,
   "id": "3ba57c9b-819d-4bc9-9a15-b47954acaa42",
   "metadata": {},
   "outputs": [
    {
     "name": "stdout",
     "output_type": "stream",
     "text": [
      "random((3,2)) =\n",
      " [[0.3000587  0.42780001]\n",
      " [0.73889273 0.04010851]\n",
      " [0.24236011 0.73360215]]\n",
      "random() = 0.4966355133207605\n",
      "random(3) = [0.06257208 0.07266272 0.3595755 ]\n"
     ]
    }
   ],
   "source": [
    "import numpy as np\n",
    "\n",
    "# Mảng 3x2 số ngẫu nhiên trong [0, 1)\n",
    "a = np.random.random((3, 2))\n",
    "print(\"random((3,2)) =\\n\", a)\n",
    "\n",
    "# Một số ngẫu nhiên [0,1)\n",
    "b = np.random.random()\n",
    "print(\"random() =\", b)\n",
    "\n",
    "# Mảng 3 số ngẫu nhiên [0,1)\n",
    "c = np.random.random(3)\n",
    "print(\"random(3) =\", c)\n"
   ]
  },
  {
   "cell_type": "markdown",
   "id": "227c88d4-fa1c-45ad-bbc3-ba51cfdabb4b",
   "metadata": {},
   "source": [
    "#### Các hàm thống kê"
   ]
  },
  {
   "cell_type": "code",
   "execution_count": 125,
   "id": "85f4fdc0-89e6-4096-b164-d314f2c05396",
   "metadata": {},
   "outputs": [
    {
     "name": "stdout",
     "output_type": "stream",
     "text": [
      "0.007338670875717587\n",
      "1.1314955981778445\n",
      "[1.39443877 1.22909551 0.64375653 0.83060292]\n",
      "[1.93316142 0.82710413 0.28293981]\n"
     ]
    }
   ],
   "source": [
    "import numpy as np\n",
    "a = np.random.randn(3, 4)\n",
    "# tính trung bình của cả ma trận a\n",
    "print(np.mean(a))\n",
    "# tính trung vị của cột đầu tiên\n",
    "print(np.median(a[:,0]))\n",
    "# tính độ lệch chuẩn của từng dòng\n",
    "print(a.std(axis=0))\n",
    "# tính phương sai của từng cột\n",
    "print(a.var(axis=1))"
   ]
  },
  {
   "cell_type": "markdown",
   "id": "42b1e792-53ae-45a6-9b8c-e93114174d83",
   "metadata": {},
   "source": [
    "## Thư viện matplotlib"
   ]
  },
  {
   "cell_type": "markdown",
   "id": "b0fb1277-0bb8-439a-9bcb-75feffba34fd",
   "metadata": {},
   "source": [
    "### Vẽ biểu đồ đơn giản"
   ]
  },
  {
   "cell_type": "markdown",
   "id": "23cd76f6-4242-4068-8303-6030f46c47ad",
   "metadata": {},
   "source": [
    "#### Ví dụ: vẽ biểu đồ y = x2v"
   ]
  },
  {
   "cell_type": "code",
   "execution_count": 126,
   "id": "48bd6b3e-2244-4f4a-bd98-41f670c6385e",
   "metadata": {},
   "outputs": [
    {
     "data": {
      "image/png": "[encoded data removed]",
      "text/plain": [
       "<Figure size 640x480 with 1 Axes>"
      ]
     },
     "metadata": {},
     "output_type": "display_data"
    }
   ],
   "source": [
    "import numpy as np # thư viện numpy\n",
    "import matplotlib.pyplot as plt # thư viện pyplot\n",
    "\n",
    "# chia đoạn từ -20 đến 20 thành 1000 đoạn\n",
    "x = np.linspace(-20, 20, 1000)\n",
    "# tính y\n",
    "y = x * x\n",
    "# vẽ biểu đồ tương quan giữa x và y\n",
    "plt.plot(x, y)\n",
    "# hiển thị biểu đồ\n",
    "plt.show()"
   ]
  },
  {
   "cell_type": "markdown",
   "id": "a574445c-aea7-41ca-859d-d61936da4d66",
   "metadata": {},
   "source": [
    "#### Ví dụ: Vẽ biểu đồ hình sin"
   ]
  },
  {
   "cell_type": "code",
   "execution_count": 129,
   "id": "ff5baa7e-f12d-48f0-96f0-4de46a88c386",
   "metadata": {},
   "outputs": [
    {
     "data": {
      "image/png": "[encoded data removed]",
      "text/plain": [
       "<Figure size 640x480 with 1 Axes>"
      ]
     },
     "metadata": {},
     "output_type": "display_data"
    }
   ],
   "source": [
    "import numpy as np # thư viện numpy\n",
    "import matplotlib.pyplot as plt # thư viện pyplot\n",
    "\n",
    "x = np.arange(0, 3 * np.pi, 0.1)\n",
    "# tính sin tương ứng với từng phần tử của x\n",
    "y = np.sin(x)\n",
    "# vẽ biểu đồ tương quan giữa x và y\n",
    "plt.plot(x, y)\n",
    "# hiển thị biểu đồ\n",
    "plt.show()"
   ]
  },
  {
   "cell_type": "markdown",
   "id": "e233c823-c416-424e-9ef3-8cbcb0b0b348",
   "metadata": {},
   "source": [
    "#### Ví dụ: Biểu đồ cả SIN và COS"
   ]
  },
  {
   "cell_type": "code",
   "execution_count": 131,
   "id": "69659c0e-6d61-4d5a-8deb-b6148009cc07",
   "metadata": {},
   "outputs": [
    {
     "data": {
      "image/png": "[encoded data removed]",
      "text/plain": [
       "<Figure size 640x480 with 1 Axes>"
      ]
     },
     "metadata": {},
     "output_type": "display_data"
    }
   ],
   "source": [
    "import numpy as np\n",
    "import matplotlib.pyplot as plt\n",
    "\n",
    "x = np.arange(0, 3 * np.pi, 0.1)\n",
    "y_sin = np.sin(x)\n",
    "y_cos = np.cos(x)\n",
    "plt.plot(x, y_sin)\n",
    "plt.plot(x, y_cos)\n",
    "plt.xlabel('Trục X')\n",
    "plt.ylabel('Trục Y')\n",
    "plt.title('Hàm SIN và COS trong khoảng 0 đến 3pi')\n",
    "plt.legend(['SIN(x)', 'COS(x)'])\n",
    "plt.show()"
   ]
  },
  {
   "cell_type": "markdown",
   "id": "8d0f54fc-d7ca-41e6-92a1-0a53f1a35c24",
   "metadata": {},
   "source": [
    "### Một số loại biểu đồ thông dụng trong matplotlib"
   ]
  },
  {
   "cell_type": "markdown",
   "id": "0b230392-f0dd-475f-bbd8-7b186f489810",
   "metadata": {},
   "source": [
    "##### Biểu đồ dạng đường (line plot)"
   ]
  },
  {
   "cell_type": "code",
   "execution_count": 138,
   "id": "84001c3b-35d3-4ee3-89e3-f9c0ce3c7fd2",
   "metadata": {},
   "outputs": [
    {
     "data": {
      "image/png": "[encoded data removed]",
      "text/plain": [
       "<Figure size 640x480 with 1 Axes>"
      ]
     },
     "metadata": {},
     "output_type": "display_data"
    }
   ],
   "source": [
    "import numpy as np\n",
    "import matplotlib.pyplot as plt\n",
    "\n",
    "t = np.arange(0., 5., 0.2)\n",
    "plt.plot(t, t, 'r--', t, t**2, 'bs', t, t**3, 'g^')\n",
    "plt.show()"
   ]
  },
  {
   "cell_type": "markdown",
   "id": "7debd2ae-05bc-4bae-9ec8-00836ddcb25d",
   "metadata": {},
   "source": [
    "##### Biểu đồ dạng cột (bar plot)"
   ]
  },
  {
   "cell_type": "markdown",
   "id": "32e7d20c-11a1-4354-9a78-231a5767d7ac",
   "metadata": {},
   "source": [
    "##### Biểu đồ dạng cột chiều đứng"
   ]
  },
  {
   "cell_type": "code",
   "execution_count": 140,
   "id": "1ca69c72-0be8-4dd6-91b9-7db2be236c9a",
   "metadata": {},
   "outputs": [
    {
     "data": {
      "image/png": "[encoded data removed]",
      "text/plain": [
       "<Figure size 640x480 with 1 Axes>"
      ]
     },
     "metadata": {},
     "output_type": "display_data"
    }
   ],
   "source": [
    "import matplotlib.pyplot as plt\n",
    "D = { 'Dược học': 3000,\n",
    "'KT-NH': 900,\n",
    "'QTKD': 2000,\n",
    "'CNTT': 1200,\n",
    "'CK-Oto': 1500,\n",
    "'NN': 500 }\n",
    "plt.bar(range(len(D)), D.values(),\n",
    "align='center')\n",
    "plt.xticks(range(len(D)),\n",
    "D.keys())\n",
    "plt.title('Các ngành tuyển sinh của Đại học Nguyễn Tất Thành')\n",
    "plt.show()"
   ]
  },
  {
   "cell_type": "markdown",
   "id": "cfd0400b-8e00-4a69-beb8-a4fd21adfbb2",
   "metadata": {},
   "source": [
    "##### Biểu đồ dạng cột chiều ngang"
   ]
  },
  {
   "cell_type": "code",
   "execution_count": 145,
   "id": "6bc3f94f-72cd-4b82-a2f4-b2d1af96a8f6",
   "metadata": {},
   "outputs": [
    {
     "data": {
      "image/png": "[encoded data removed]",
      "text/plain": [
       "<Figure size 640x480 with 1 Axes>"
      ]
     },
     "metadata": {},
     "output_type": "display_data"
    }
   ],
   "source": [
    "import matplotlib.pyplot as plt\n",
    "\n",
    "D = { \n",
    "    'Dược học': 3000,\n",
    "    'KT-NH': 900,\n",
    "    'QTKD': 2000,\n",
    "    'CNTT': 1200,\n",
    "    'CK-Oto': 1500,\n",
    "    'NN': 500 \n",
    "}\n",
    "\n",
    "plt.barh(range(len(D)), D.values(), align='center')  # barh = horizontal bar\n",
    "plt.yticks(range(len(D)), D.keys())                 # hiển thị nhãn theo trục y\n",
    "plt.xlabel('Số lượng thí sinh')\n",
    "plt.title('Các ngành tuyển sinh của Đại học Nguyễn Tất Thành')\n",
    "plt.show()\n"
   ]
  },
  {
   "cell_type": "markdown",
   "id": "0eb3a615-80e3-46d8-a968-388b3fc83b61",
   "metadata": {},
   "source": [
    "##### Có thể ghép 2 biểu đồ"
   ]
  },
  {
   "cell_type": "code",
   "execution_count": 149,
   "id": "1cc876f7-bf6a-4d3b-bded-ac01085cb860",
   "metadata": {},
   "outputs": [
    {
     "data": {
      "image/png": "[encoded data removed]",
      "text/plain": [
       "<Figure size 640x480 with 1 Axes>"
      ]
     },
     "metadata": {},
     "output_type": "display_data"
    }
   ],
   "source": [
    "\n",
    "plt.bar([1,3,5,7,9],[5,2,7,8,2],\n",
    "label=\"One\")\n",
    "plt.bar([2,4,6,8,10],[8,6,2,5,6] , label=\"Two\", color='g')\n",
    "plt.legend()\n",
    "plt.xlabel('bar number')\n",
    "plt.ylabel('bar height')\n",
    "plt.title('Ghép 2 biểu đồ')\n",
    "plt.show()"
   ]
  },
  {
   "cell_type": "markdown",
   "id": "ec37a39f-4ac8-400f-8be8-19704e456079",
   "metadata": {},
   "source": [
    "#### Biểu đồ bánh (pie chart)"
   ]
  },
  {
   "cell_type": "code",
   "execution_count": 150,
   "id": "8a2049b6-f78b-46e1-b97a-4e0988781580",
   "metadata": {},
   "outputs": [
    {
     "data": {
      "image/png": "[encoded data removed]",
      "text/plain": [
       "<Figure size 640x480 with 1 Axes>"
      ]
     },
     "metadata": {},
     "output_type": "display_data"
    }
   ],
   "source": [
    "import matplotlib.pyplot as plt\n",
    "D = { 'Dược học': 3000,\n",
    "'KT-NH': 900,\n",
    "'QTKD': 2000,\n",
    "'CNTT': 1200,\n",
    "'CK-Oto': 1500,\n",
    "'NN': 500 }\n",
    "plt.pie(D.values(),\n",
    "labels=D.keys(), autopct='%1.1f%%')\n",
    "plt.axis('equal') # trục x = trục y\n",
    "plt.show()"
   ]
  },
  {
   "cell_type": "markdown",
   "id": "ad178247-3e88-43a3-a6c0-81d1f5969a3d",
   "metadata": {},
   "source": [
    "#### Một số chức năng hữu ích"
   ]
  },
  {
   "cell_type": "markdown",
   "id": "5df97534-1bde-450d-9e48-25cb7b61e599",
   "metadata": {},
   "source": [
    "##### Chia thành các biểu đồ con"
   ]
  },
  {
   "cell_type": "code",
   "execution_count": 151,
   "id": "7bf75063-7306-4ed6-afd4-b1763681edae",
   "metadata": {},
   "outputs": [
    {
     "data": {
      "image/png": "[encoded data removed]",
      "text/plain": [
       "<Figure size 640x480 with 2 Axes>"
      ]
     },
     "metadata": {},
     "output_type": "display_data"
    }
   ],
   "source": [
    "import numpy as np\n",
    "import matplotlib.pyplot as plt\n",
    "x = np.arange(0, 3 * np.pi, 0.1)\n",
    "y_sin = np.sin(x)\n",
    "y_cos = np.cos(x)\n",
    "plt.subplot(2, 1, 1) # biểu đồ 1\n",
    "plt.plot(x, y_sin)\n",
    "plt.title('SIN(x)')\n",
    "plt.subplot(2, 1, 2) # biểu đồ 2\n",
    "plt.plot(x, y_cos)\n",
    "plt.title('COS(x)')\n",
    "plt.show()"
   ]
  },
  {
   "cell_type": "markdown",
   "id": "c90033cf-1e26-4a8f-8c04-c21f44131514",
   "metadata": {},
   "source": [
    "##### Nạp ảnh (png_jpg)"
   ]
  },
  {
   "cell_type": "code",
   "execution_count": 152,
   "id": "5ed82bcf-008c-4be2-9fb6-bf6b9fcf2c42",
   "metadata": {},
   "outputs": [
    {
     "data": {
      "image/png": "[encoded data removed]",
      "text/plain": [
       "<Figure size 500x500 with 4 Axes>"
      ]
     },
     "metadata": {},
     "output_type": "display_data"
    }
   ],
   "source": [
    "import matplotlib.pyplot as plt\n",
    "import matplotlib.image as mpimg\n",
    "\n",
    "# Đọc ảnh\n",
    "image = mpimg.imread(\"caphe.jpg\")\n",
    "\n",
    "# Tạo figure với 2x2 ô\n",
    "fig, axs = plt.subplots(2, 2, figsize=(5, 5))\n",
    "\n",
    "# Hiển thị ảnh ở từng subplot\n",
    "axs[0, 0].imshow(image)\n",
    "axs[1, 0].imshow(image)\n",
    "axs[0, 1].imshow(image)\n",
    "axs[1, 1].imshow(image)\n",
    "\n",
    "# Ẩn trục cho đẹp hơn\n",
    "for ax in axs.flat:\n",
    "    ax.axis(\"off\")\n",
    "\n",
    "plt.show()"
   ]
  },
  {
   "cell_type": "markdown",
   "id": "214f9846-aad5-41c2-b1c7-69911f240453",
   "metadata": {},
   "source": [
    "## Thư viện Panda"
   ]
  },
  {
   "cell_type": "markdown",
   "id": "16a88bea-3e67-4683-b875-c4b7e5579801",
   "metadata": {
    "jp-MarkdownHeadingCollapsed": true
   },
   "source": [
    "### Làm việc với series"
   ]
  },
  {
   "cell_type": "markdown",
   "id": "6b0b6445-67e6-44d4-9135-7745e516db08",
   "metadata": {},
   "source": [
    "##### Tạo dữ liệu series (1)"
   ]
  },
  {
   "cell_type": "code",
   "execution_count": 153,
   "id": "70b6ecd3-f585-452c-9302-0fa68aa03e49",
   "metadata": {},
   "outputs": [
    {
     "name": "stdout",
     "output_type": "stream",
     "text": [
      "0    99\n",
      "1    93\n",
      "2    31\n",
      "3    93\n",
      "dtype: int32\n",
      "RangeIndex(start=0, stop=4, step=1)\n",
      "[99 93 31 93]\n"
     ]
    }
   ],
   "source": [
    "import pandas as pd\n",
    "import numpy as np\n",
    "\n",
    "S = pd.Series(np.random.randint(100, size = 4))\n",
    "print(S)\n",
    "print(S.index)\n",
    "print(S.values)"
   ]
  },
  {
   "cell_type": "markdown",
   "id": "35bdf077-691b-47e1-b55e-615d0760a80e",
   "metadata": {},
   "source": [
    "#### Tạo dữ liệu series (2)"
   ]
  },
  {
   "cell_type": "code",
   "execution_count": 154,
   "id": "e7a48290-64bb-4c88-bb3f-4e63d4c37cbb",
   "metadata": {},
   "outputs": [
    {
     "name": "stdout",
     "output_type": "stream",
     "text": [
      "Ke toan    310\n",
      "KT         360\n",
      "CNTT       580\n",
      "Co khi     340\n",
      "dtype: int64\n",
      "Index(['Ke toan', 'KT', 'CNTT', 'Co khi'], dtype='object')\n",
      "[310 360 580 340]\n"
     ]
    }
   ],
   "source": [
    "import pandas as pd\n",
    "import numpy as np\n",
    "\n",
    "chi_so = [\"Ke toan\", \"KT\", \"CNTT\", \"Co khi\"]\n",
    "gia_tri = [310, 360, 580, 340]\n",
    "S = pd.Series(gia_tri, index=chi_so)\n",
    "print(S)\n",
    "print(S.index)\n",
    "print(S.values)"
   ]
  },
  {
   "cell_type": "markdown",
   "id": "2bd6e9cf-6969-4ca9-bf31-38b8036603f9",
   "metadata": {},
   "source": [
    "#### Tạo dữ liệu series (3)"
   ]
  },
  {
   "cell_type": "code",
   "execution_count": 156,
   "id": "919e9aec-c405-4adc-bf3e-7897d30e45f2",
   "metadata": {},
   "outputs": [
    {
     "name": "stdout",
     "output_type": "stream",
     "text": [
      "KT        310\n",
      "KT        360\n",
      "CNTT      580\n",
      "Co khi    340\n",
      "dtype: int64\n",
      "Index(['KT', 'KT', 'CNTT', 'Co khi'], dtype='object')\n",
      "[310 360 580 340]\n"
     ]
    }
   ],
   "source": [
    "import pandas as pd\n",
    "import numpy as np\n",
    "\n",
    "chi_so = [\"KT\", \"KT\", \"CNTT\", \"Co khi\"] \n",
    "gia_tri = [310, 360, 580, 340]\n",
    "S = pd.Series(gia_tri, index=chi_so)\n",
    "print(S)\n",
    "print(S.index)\n",
    "print(S.values)"
   ]
  },
  {
   "cell_type": "markdown",
   "id": "d5eab4d3-639b-44fc-abaa-800807442788",
   "metadata": {},
   "source": [
    "#### Truy vấn dữ liệu thông qua chỉ số"
   ]
  },
  {
   "cell_type": "code",
   "execution_count": 158,
   "id": "1cdcc72c-a174-4f65-b652-e87251c93834",
   "metadata": {},
   "outputs": [
    {
     "name": "stdout",
     "output_type": "stream",
     "text": [
      "340\n",
      "KT    310\n",
      "KT    360\n",
      "dtype: int64\n",
      "580\n"
     ]
    }
   ],
   "source": [
    "import pandas as pd\n",
    "import numpy as np\n",
    "\n",
    "chi_so = [\"KT\", \"KT\", \"CNTT\", \"Co khi\"] # trùng nhau\n",
    "gia_tri = [310, 360, 580, 340]\n",
    "S = pd.Series(gia_tri, index=chi_so)\n",
    "print(S['Co khi'])\n",
    "print(S['KT'])\n",
    "print(S.CNTT)"
   ]
  },
  {
   "cell_type": "markdown",
   "id": "b326418b-7879-414a-9d6d-685f67b41ac2",
   "metadata": {},
   "source": [
    "#### Phép toán trên series"
   ]
  },
  {
   "cell_type": "code",
   "execution_count": 162,
   "id": "8609e23f-376e-450d-9b23-9f99f86d11ad",
   "metadata": {},
   "outputs": [
    {
     "name": "stdout",
     "output_type": "stream",
     "text": [
      "CNTT       680.0\n",
      "Co khi       NaN\n",
      "KT           NaN\n",
      "Ke toan      NaN\n",
      "PM           NaN\n",
      "dtype: float64\n"
     ]
    }
   ],
   "source": [
    "import pandas as pd\n",
    "import numpy as np\n",
    "\n",
    "chi_so = [\"Ke toan\",\"KT\",\"CNTT\",\"Co khi\"]\n",
    "gia_tri = [310, 360, 580, 340]\n",
    "S = pd.Series(gia_tri, index=chi_so)\n",
    "P = pd.Series([100, 100], ['CNTT','PM'])\n",
    "Y = S + P\n",
    "print(Y)"
   ]
  },
  {
   "cell_type": "markdown",
   "id": "d04dfe77-b925-473a-a8ce-ac3b23a65c0a",
   "metadata": {},
   "source": [
    "#### apply() một hàm khác trên series"
   ]
  },
  {
   "cell_type": "code",
   "execution_count": 164,
   "id": "a5490e6e-f951-4d9e-a680-b1d006027874",
   "metadata": {},
   "outputs": [
    {
     "name": "stdout",
     "output_type": "stream",
     "text": [
      "Ke toan    1310\n",
      "KT         1360\n",
      "CNTT        580\n",
      "Cokhi      1340\n",
      "dtype: int64\n"
     ]
    }
   ],
   "source": [
    "import pandas as pd\n",
    "import numpy as np\n",
    "\n",
    "def Tang(x):\n",
    "    return x if x > 500 else x + 1000\n",
    "\n",
    "chi_so = [\"Ke toan\", \"KT\", \"CNTT\", \"Cokhi\"]\n",
    "gia_tri = [310, 360, 580, 340]\n",
    "S = pd.Series(gia_tri, chi_so)\n",
    "print(S.apply(Tang))"
   ]
  },
  {
   "cell_type": "markdown",
   "id": "a4cc5176-3ddf-43e0-907e-68277df7f94b",
   "metadata": {},
   "source": [
    "### Làm việc với dataframe"
   ]
  },
  {
   "cell_type": "markdown",
   "id": "ddb55427-7395-4e25-910f-9d2828760efd",
   "metadata": {},
   "source": [
    "#### Tạo dataframe từ list"
   ]
  },
  {
   "cell_type": "code",
   "execution_count": 165,
   "id": "379edf03-c98e-4902-81ff-6202154761db",
   "metadata": {},
   "outputs": [
    {
     "name": "stdout",
     "output_type": "stream",
     "text": [
      "   Year  Population    Total  Violent\n",
      "0  1960   179323175  3384200   288460\n",
      "1  1961   182992000  3488000   289390\n",
      "2  1962   185771000  3752200   301510\n",
      "3  1963   188483000  4109500   316970\n",
      "4  1964   191141000  4564600   364220\n"
     ]
    }
   ],
   "source": [
    "crimes_rates = {\n",
    "\"Year\":[1960,1961,1962,1963,1964],\n",
    "\"Population\":[179323175,182992000,185771000,188483000,\n",
    "191141000],\n",
    "\"Total\":[3384200,3488000,3752200,4109500,4564600],\n",
    "\"Violent\":[288460,289390,301510,316970,364220]\n",
    "}\n",
    "crimes_dataframe = pd.DataFrame(crimes_rates)\n",
    "print(crimes_dataframe)"
   ]
  },
  {
   "cell_type": "markdown",
   "id": "23da77d6-d928-4fef-b520-5d5f2e06d898",
   "metadata": {},
   "source": [
    "#### Tạo dataframe từ list các dictionary"
   ]
  },
  {
   "cell_type": "code",
   "execution_count": 166,
   "id": "6f7b2fdd-edfd-4ad7-99bf-47c862e12604",
   "metadata": {},
   "outputs": [
    {
     "name": "stdout",
     "output_type": "stream",
     "text": [
      "                MIT  Stanford   DHTL\n",
      "NumOfStudents  5000      4500  15000\n",
      "ranking           1         2    200\n",
      "int64\n"
     ]
    }
   ],
   "source": [
    "data = [\n",
    "{'MIT': 5000, 'Stanford': 4500, \"DHTL\":15000},\n",
    "{'MIT': 1, 'Stanford': 2, \"DHTL\":200}\n",
    "]\n",
    "df = pd.DataFrame(data, index=['NumOfStudents', \"ranking\"])\n",
    "print(df)\n",
    "print(df.DHTL.dtype)"
   ]
  },
  {
   "cell_type": "markdown",
   "id": "ca6df343-4d16-4193-8c88-32a05af21878",
   "metadata": {},
   "source": [
    "#### Tạo dataframe từ dictionary serias"
   ]
  },
  {
   "cell_type": "code",
   "execution_count": 167,
   "id": "364726ff-6242-4651-8d7c-89e85d46a30f",
   "metadata": {},
   "outputs": [
    {
     "name": "stdout",
     "output_type": "stream",
     "text": [
      "    one   two\n",
      "1   1.0  1000\n",
      "2  23.0  2400\n",
      "3  45.0  1132\n",
      "4   NaN  3434\n"
     ]
    }
   ],
   "source": [
    "data = {\n",
    "\"one\": pd.Series([1,23,45], index = [1,2,3]),\n",
    "\"two\": pd.Series([1000,2400,1132,3434], index =\n",
    "[1,2,3,4])\n",
    "}\n",
    "df = pd.DataFrame(data)\n",
    "print(df)"
   ]
  },
  {
   "cell_type": "markdown",
   "id": "f99e3d14-7248-4baf-afba-d9007f8280ff",
   "metadata": {},
   "source": [
    "#### Đọc dữ liệu từ file .csv"
   ]
  },
  {
   "cell_type": "code",
   "execution_count": 169,
   "id": "b0ee776f-cae7-4222-b8ba-9167ae6ff7fd",
   "metadata": {},
   "outputs": [
    {
     "name": "stdout",
     "output_type": "stream",
     "text": [
      "  Unnamed: 0       country  population      area    capital\n",
      "0         BR        Brazil         200   8515767   Brasilia\n",
      "1         RU        Russia         144  17098242     Moscow\n",
      "2         IN         India        1252   3287590  New Delhi\n",
      "3         CH         China        1357   9596961    Beijing\n",
      "4         SA  South Africa          55   1221037   Pretoria\n"
     ]
    }
   ],
   "source": [
    "import pandas as pd\n",
    "\n",
    "d = pd.read_csv(\"brics.csv\")\n",
    "print(d)"
   ]
  },
  {
   "cell_type": "markdown",
   "id": "b9dd0b33-4103-45cf-b26b-69ad8783b9e0",
   "metadata": {},
   "source": [
    "#### Truy cập theo từng cột"
   ]
  },
  {
   "cell_type": "code",
   "execution_count": 171,
   "id": "2ac93d8e-2299-40dd-acfe-db07bd56126f",
   "metadata": {},
   "outputs": [
    {
     "name": "stdout",
     "output_type": "stream",
     "text": [
      "0          Brazil\n",
      "1          Russia\n",
      "2           India\n",
      "3           China\n",
      "4    South Africa\n",
      "Name: country, dtype: object\n"
     ]
    }
   ],
   "source": [
    "print(d[\"country\"])"
   ]
  },
  {
   "cell_type": "code",
   "execution_count": 172,
   "id": "d7601823-28d6-4aa5-bae2-dd361a22cfb4",
   "metadata": {},
   "outputs": [
    {
     "name": "stdout",
     "output_type": "stream",
     "text": [
      "0          Brazil\n",
      "1          Russia\n",
      "2           India\n",
      "3           China\n",
      "4    South Africa\n",
      "Name: country, dtype: object\n"
     ]
    }
   ],
   "source": [
    "print(d.country)"
   ]
  },
  {
   "cell_type": "markdown",
   "id": "c8c900ec-6b52-46b7-8012-e27f40aef706",
   "metadata": {},
   "source": [
    "#### Thêm một cột (1)"
   ]
  },
  {
   "cell_type": "code",
   "execution_count": 173,
   "id": "d05b2866-5a60-407f-99e7-a113e6923993",
   "metadata": {},
   "outputs": [
    {
     "name": "stdout",
     "output_type": "stream",
     "text": [
      "  Unnamed: 0       country  population      area    capital  on_earth\n",
      "0         BR        Brazil         200   8515767   Brasilia      True\n",
      "1         RU        Russia         144  17098242     Moscow      True\n",
      "2         IN         India        1252   3287590  New Delhi      True\n",
      "3         CH         China        1357   9596961    Beijing      True\n",
      "4         SA  South Africa          55   1221037   Pretoria      True\n"
     ]
    }
   ],
   "source": [
    "d[\"on_earth\"] = [True, True, True, True, True]\n",
    "print(d)"
   ]
  },
  {
   "cell_type": "markdown",
   "id": "c49d88d9-6b60-4ea0-8b8b-32365197d405",
   "metadata": {
    "jp-MarkdownHeadingCollapsed": true
   },
   "source": [
    "#### Xóa dòng hoặc cột bằng drop"
   ]
  },
  {
   "cell_type": "code",
   "execution_count": 178,
   "id": "20c4473e-4786-44c3-960e-59190b9029bc",
   "metadata": {},
   "outputs": [
    {
     "name": "stdout",
     "output_type": "stream",
     "text": [
      "  Unnamed: 0       country    capital  on_earth\n",
      "0         BR        Brazil   Brasilia      True\n",
      "1         RU        Russia     Moscow      True\n",
      "2         IN         India  New Delhi      True\n",
      "3         CH         China    Beijing      True\n",
      "4         SA  South Africa   Pretoria      True\n",
      "  Unnamed: 0       country    capital  on_earth\n",
      "0         BR        Brazil   Brasilia      True\n",
      "1         RU        Russia     Moscow      True\n",
      "2         IN         India  New Delhi      True\n",
      "3         CH         China    Beijing      True\n",
      "4         SA  South Africa   Pretoria      True\n"
     ]
    }
   ],
   "source": [
    "# tạo ra dataframe mới bằng cách xóa 2 cột\n",
    "print(d.drop([\"area\", \"population\"], axis=1))\n",
    "# trường hợp muốn xóa trên d, thêm tham số inplace=True\n",
    "d.drop([\"area\", \"population\"], axis=1, inplace=True)\n",
    "print(d)"
   ]
  },
  {
   "cell_type": "markdown",
   "id": "21850a5f-fce2-4bf4-9b9f-4f6d769696f8",
   "metadata": {},
   "source": [
    "#### Kết hợp giữa pandas và matplotlib"
   ]
  },
  {
   "cell_type": "code",
   "execution_count": 188,
   "id": "8bfb7308-58a5-44dc-a2ba-e9044e2624bf",
   "metadata": {},
   "outputs": [
    {
     "data": {
      "image/png": "[encoded data removed]",
      "text/plain": [
       "<Figure size 640x480 with 1 Axes>"
      ]
     },
     "metadata": {},
     "output_type": "display_data"
    }
   ],
   "source": [
    "import pandas as pd\n",
    "import matplotlib.pyplot as plt\n",
    "d = pd.read_csv(\"brics.csv\", index_col = 0)\n",
    "d.area.plot(kind='bar')\n",
    "plt.show()"
   ]
  },
  {
   "cell_type": "markdown",
   "id": "db1fdb72-2ef6-42c9-83f9-d4fa9d1d55c7",
   "metadata": {},
   "source": [
    "### Chọn và nhóm phần tử"
   ]
  },
  {
   "cell_type": "markdown",
   "id": "5fdaba01-b975-4dec-ac8d-b8b062774ea6",
   "metadata": {},
   "source": [
    "#### Chọn với iloc, loc và ix"
   ]
  },
  {
   "cell_type": "code",
   "execution_count": 190,
   "id": "8fe668ac-ac66-452d-b5a2-66591e7980c9",
   "metadata": {},
   "outputs": [
    {
     "name": "stdout",
     "output_type": "stream",
     "text": [
      "      name  age  score\n",
      "SV1     An   20     85\n",
      "SV2   Bình   21     90\n",
      "SV3  Cường   19     78\n",
      "SV4   Dung   22     88\n"
     ]
    }
   ],
   "source": [
    "import pandas as pd\n",
    "\n",
    "# Tạo DataFrame mẫu\n",
    "data = {\n",
    "    \"name\": [\"An\", \"Bình\", \"Cường\", \"Dung\"],\n",
    "    \"age\": [20, 21, 19, 22],\n",
    "    \"score\": [85, 90, 78, 88]\n",
    "}\n",
    "\n",
    "df = pd.DataFrame(data, index=[\"SV1\", \"SV2\", \"SV3\", \"SV4\"])\n",
    "print(df)\n"
   ]
  },
  {
   "cell_type": "markdown",
   "id": "785e8bdb-2099-46d4-b2de-f148b917f2d9",
   "metadata": {},
   "source": [
    "#### Nhóm phần tử"
   ]
  },
  {
   "cell_type": "code",
   "execution_count": 191,
   "id": "61cbe9f8-1551-415f-9da2-893404a4f4b6",
   "metadata": {},
   "outputs": [
    {
     "data": {
      "text/html": [
       "<div>\n",
       "<style scoped>\n",
       "    .dataframe tbody tr th:only-of-type {\n",
       "        vertical-align: middle;\n",
       "    }\n",
       "\n",
       "    .dataframe tbody tr th {\n",
       "        vertical-align: top;\n",
       "    }\n",
       "\n",
       "    .dataframe thead th {\n",
       "        text-align: right;\n",
       "    }\n",
       "</style>\n",
       "<table border=\"1\" class=\"dataframe\">\n",
       "  <thead>\n",
       "    <tr style=\"text-align: right;\">\n",
       "      <th></th>\n",
       "      <th>Y</th>\n",
       "    </tr>\n",
       "    <tr>\n",
       "      <th>X</th>\n",
       "      <th></th>\n",
       "    </tr>\n",
       "  </thead>\n",
       "  <tbody>\n",
       "    <tr>\n",
       "      <th>A</th>\n",
       "      <td>7</td>\n",
       "    </tr>\n",
       "    <tr>\n",
       "      <th>B</th>\n",
       "      <td>3</td>\n",
       "    </tr>\n",
       "  </tbody>\n",
       "</table>\n",
       "</div>"
      ],
      "text/plain": [
       "   Y\n",
       "X   \n",
       "A  7\n",
       "B  3"
      ]
     },
     "execution_count": 191,
     "metadata": {},
     "output_type": "execute_result"
    }
   ],
   "source": [
    "df2 = pd.DataFrame({'X' : ['B', 'B', 'A', 'A'], 'Y' : [1, 2, 3, 4]})\n",
    "df2.groupby(['X']).sum()"
   ]
  },
  {
   "cell_type": "code",
   "execution_count": 192,
   "id": "66ae7659-1e3f-428d-9d21-79f11b0f5f23",
   "metadata": {},
   "outputs": [
    {
     "data": {
      "text/html": [
       "<div>\n",
       "<style scoped>\n",
       "    .dataframe tbody tr th:only-of-type {\n",
       "        vertical-align: middle;\n",
       "    }\n",
       "\n",
       "    .dataframe tbody tr th {\n",
       "        vertical-align: top;\n",
       "    }\n",
       "\n",
       "    .dataframe thead th {\n",
       "        text-align: right;\n",
       "    }\n",
       "</style>\n",
       "<table border=\"1\" class=\"dataframe\">\n",
       "  <thead>\n",
       "    <tr style=\"text-align: right;\">\n",
       "      <th></th>\n",
       "      <th>Y</th>\n",
       "    </tr>\n",
       "    <tr>\n",
       "      <th>X</th>\n",
       "      <th></th>\n",
       "    </tr>\n",
       "  </thead>\n",
       "  <tbody>\n",
       "    <tr>\n",
       "      <th>B</th>\n",
       "      <td>3</td>\n",
       "    </tr>\n",
       "    <tr>\n",
       "      <th>A</th>\n",
       "      <td>7</td>\n",
       "    </tr>\n",
       "  </tbody>\n",
       "</table>\n",
       "</div>"
      ],
      "text/plain": [
       "   Y\n",
       "X   \n",
       "B  3\n",
       "A  7"
      ]
     },
     "execution_count": 192,
     "metadata": {},
     "output_type": "execute_result"
    }
   ],
   "source": [
    "df2.groupby(['X'], sort=False).sum()"
   ]
  },
  {
   "cell_type": "code",
   "execution_count": 194,
   "id": "af6e140b-ae08-4530-8ba8-ce7ae28b43ab",
   "metadata": {},
   "outputs": [
    {
     "name": "stderr",
     "output_type": "stream",
     "text": [
      "C:\\Users\\KHA\\AppData\\Local\\Temp\\ipykernel_13556\\1406314276.py:2: FutureWarning: When grouping with a length-1 list-like, you will need to pass a length-1 tuple to get_group in a future version of pandas. Pass `(name,)` instead of `name` to silence this warning.\n",
      "  df3.groupby(['X']).get_group('A')\n"
     ]
    },
    {
     "data": {
      "text/html": [
       "<div>\n",
       "<style scoped>\n",
       "    .dataframe tbody tr th:only-of-type {\n",
       "        vertical-align: middle;\n",
       "    }\n",
       "\n",
       "    .dataframe tbody tr th {\n",
       "        vertical-align: top;\n",
       "    }\n",
       "\n",
       "    .dataframe thead th {\n",
       "        text-align: right;\n",
       "    }\n",
       "</style>\n",
       "<table border=\"1\" class=\"dataframe\">\n",
       "  <thead>\n",
       "    <tr style=\"text-align: right;\">\n",
       "      <th></th>\n",
       "      <th>X</th>\n",
       "      <th>Y</th>\n",
       "    </tr>\n",
       "  </thead>\n",
       "  <tbody>\n",
       "    <tr>\n",
       "      <th>0</th>\n",
       "      <td>A</td>\n",
       "      <td>1</td>\n",
       "    </tr>\n",
       "    <tr>\n",
       "      <th>2</th>\n",
       "      <td>A</td>\n",
       "      <td>3</td>\n",
       "    </tr>\n",
       "  </tbody>\n",
       "</table>\n",
       "</div>"
      ],
      "text/plain": [
       "   X  Y\n",
       "0  A  1\n",
       "2  A  3"
      ]
     },
     "execution_count": 194,
     "metadata": {},
     "output_type": "execute_result"
    }
   ],
   "source": [
    "df3 = pd.DataFrame({'X' : ['A', 'B', 'A', 'B'], 'Y' :[1, 4, 3, 2]})\n",
    "df3.groupby(['X']).get_group('A')"
   ]
  },
  {
   "cell_type": "code",
   "execution_count": 195,
   "id": "0d9e5943-c1d2-40ee-a34b-242b42bddd72",
   "metadata": {},
   "outputs": [
    {
     "name": "stderr",
     "output_type": "stream",
     "text": [
      "C:\\Users\\KHA\\AppData\\Local\\Temp\\ipykernel_13556\\1694778141.py:1: FutureWarning: When grouping with a length-1 list-like, you will need to pass a length-1 tuple to get_group in a future version of pandas. Pass `(name,)` instead of `name` to silence this warning.\n",
      "  df3.groupby(['X']).get_group('B')\n"
     ]
    },
    {
     "data": {
      "text/html": [
       "<div>\n",
       "<style scoped>\n",
       "    .dataframe tbody tr th:only-of-type {\n",
       "        vertical-align: middle;\n",
       "    }\n",
       "\n",
       "    .dataframe tbody tr th {\n",
       "        vertical-align: top;\n",
       "    }\n",
       "\n",
       "    .dataframe thead th {\n",
       "        text-align: right;\n",
       "    }\n",
       "</style>\n",
       "<table border=\"1\" class=\"dataframe\">\n",
       "  <thead>\n",
       "    <tr style=\"text-align: right;\">\n",
       "      <th></th>\n",
       "      <th>X</th>\n",
       "      <th>Y</th>\n",
       "    </tr>\n",
       "  </thead>\n",
       "  <tbody>\n",
       "    <tr>\n",
       "      <th>1</th>\n",
       "      <td>B</td>\n",
       "      <td>4</td>\n",
       "    </tr>\n",
       "    <tr>\n",
       "      <th>3</th>\n",
       "      <td>B</td>\n",
       "      <td>2</td>\n",
       "    </tr>\n",
       "  </tbody>\n",
       "</table>\n",
       "</div>"
      ],
      "text/plain": [
       "   X  Y\n",
       "1  B  4\n",
       "3  B  2"
      ]
     },
     "execution_count": 195,
     "metadata": {},
     "output_type": "execute_result"
    }
   ],
   "source": [
    "df3.groupby(['X']).get_group('B')"
   ]
  },
  {
   "cell_type": "markdown",
   "id": "bd3fc19a-fae1-46b6-8eb5-177e42de9a61",
   "metadata": {},
   "source": [
    "### Sử dụng pandas trong bài toán thực tế"
   ]
  },
  {
   "cell_type": "markdown",
   "id": "239894d2-f5dc-4374-a2db-fad5bcd47a73",
   "metadata": {},
   "source": [
    "#### Dữ liệu kết quả xổ số :\n",
    "Dữ liệu kết quả xổ số (độc đắc) từ ngày 1-1-2000 đến ngày\n",
    "21-5-2018 (hôm qua)\n",
    "▪ Lưu ở định dạng csv, 2 cột:\n",
    "✓ Cột 1: ngày ra số\n",
    "✓ Cột 2: số độc đắc\n",
    "❖ Dạng số (nếu không đủ 5 chữ số thì có nghĩa là đã bị xóa các chữ số 0 ở\n",
    "đầu)\n",
    "❖ Có thể không có dữ liệu (mỗi năm có 4 ngày không quay xổ số)\n",
    "\n",
    "▪ Bài toán (vui + khoa học): phân tích các chiến lược chơi số\n",
    "đề mà người dân hay theo "
   ]
  },
  {
   "cell_type": "markdown",
   "id": "f8381f94-3d46-4615-80fc-fb49115afa8d",
   "metadata": {},
   "source": [
    "#### Đọc và tiền xử lý dữ liệu"
   ]
  },
  {
   "cell_type": "code",
   "execution_count": null,
   "id": "59bab92c-21fd-4343-8d1a-6c575e1c7446",
   "metadata": {},
   "outputs": [],
   "source": [
    "import matplotlib.pyplot as plt\n",
    "import pandas as pd\n",
    "import numpy as np\n",
    "\n",
    "# đọc dữ liệu từ file csv, chuyển dữ liệu cột 1 sang date\n",
    "df = pd.read_csv(\"kqxs.csv\", index_col = 0, parse_dates=True)\n",
    "\n",
    "# xóa bỏ các dòng không có dữ liệu\n",
    "df.dropna(inplace=True)\n",
    "# thêm cột mới là 2 số cuối của giải độc đắc\n",
    "df['Cuoi'] = df.So % 100"
   ]
  },
  {
   "cell_type": "markdown",
   "id": "e4adb311-045c-4597-8990-9d30a4a16575",
   "metadata": {},
   "source": [
    "#### Khảo sát dữ liệu"
   ]
  },
  {
   "cell_type": "code",
   "execution_count": null,
   "id": "423dabe4-c792-445d-a3e0-212bf135dee9",
   "metadata": {},
   "outputs": [],
   "source": [
    "# trích xuất cột mới thành dữ liệu series để dễ xử lý\n",
    "s = pd.Series(df.Cuoi, dtype='int64’)\n",
    "\n",
    "# xem phân bổ dữ liệu: biểu đồ histogram, 100 nhóm\n",
    "s.plot('hist', bins=100)\n",
    "plt.show()\n",
    "\n",
    "# một dạng phân bổ dữ liệu khác: biểu đồ bar, đếm tần suất\n",
    "s.value_counts().sort_index().plot('bar')\n",
    "plt.show()"
   ]
  },
  {
   "cell_type": "markdown",
   "id": "b8d9d67a-a027-40ef-a257-1a1641ae0561",
   "metadata": {},
   "source": [
    "#### Viết hàm tính số tiền thu về"
   ]
  },
  {
   "cell_type": "code",
   "execution_count": null,
   "id": "049b59ec-250b-4345-8dfa-902b4ea084d8",
   "metadata": {},
   "outputs": [],
   "source": [
    "# thử bộ số myNums, kết quả về là result, số tiền chơi là money\n",
    "def one_day(myNums, result, money):\n",
    "pay = len(myNums) * money\n",
    "get = money * 70 if result in myNums else 0\n",
    "return get-pay\n",
    "\n",
    "# chơi nhiều ngày bộ số myNums, kết quả về là results\n",
    "def many_day(myNums, results, money):\n",
    "total = 0\n",
    "for x in results:\n",
    "total += one_day(myNums, x, money)\n",
    "return total"
   ]
  },
  {
   "cell_type": "markdown",
   "id": "a75ca34b-2ffe-4ea3-9341-116f088fb11e",
   "metadata": {},
   "source": [
    "#### Chiến lược: nuôi một số"
   ]
  },
  {
   "cell_type": "code",
   "execution_count": null,
   "id": "e265e4ec-1dcf-4f40-a9b3-c5c709f5663d",
   "metadata": {},
   "outputs": [],
   "source": [
    "money = 1000\n",
    "\n",
    "# thử chiến lược chơi: nuôi một con\n",
    "print(\"Chơi con 76 toàn năm 2000:\", many_day([76],\n",
    "s[0:367], money))\n",
    "print(\"Chơi con 76 toàn bộ các năm:\", many_day([76], s,\n",
    "money))\n",
    "# thử chiến lược chơi: nuôi nhiều con\n",
    "print(\"Nuôi nhiều số toàn năm 2000:\", many_day([76, 92,\n",
    "3, 10, 51, 45], s[0:367], money))\n",
    "print(\"Nuôi nhiều số toàn bộ các năm:\", many_day([76,\n",
    "92, 3, 10, 51,45], s, money))"
   ]
  },
  {
   "cell_type": "markdown",
   "id": "d25d97b4-2145-4fa4-8877-471bd5fe21f5",
   "metadata": {},
   "source": [
    "#### Chiến lược: thống kê"
   ]
  },
  {
   "cell_type": "code",
   "execution_count": null,
   "id": "b51a5fd0-2246-4320-9e49-50a56a9f42f9",
   "metadata": {},
   "outputs": [],
   "source": [
    "# thống kê con ra nhiều nhất rồi chơi\n",
    "\n",
    "x = s[0:362].value_counts().idxmax()\n",
    "y = s.value_counts().idxmax()\n",
    "print(\"Chơi theo số ra nhiều nhất năm 2000:\", x,\n",
    "many_day([x], s, money))\n",
    "print(\"Chơi theo số ra nhiều nhất các năm:\", y,\n",
    "many_day([y], s, money))"
   ]
  },
  {
   "cell_type": "markdown",
   "id": "bb840c3e-46ea-4f96-8bd6-80ce27b50978",
   "metadata": {},
   "source": [
    "#### Chiến lược: ngẫu nhiên"
   ]
  },
  {
   "cell_type": "code",
   "execution_count": null,
   "id": "142e5c40-f6ae-43eb-b8fd-f0501771c5ec",
   "metadata": {},
   "outputs": [],
   "source": [
    "# chơi ngẫu nhiên, mỗi ngày một con\n",
    "\n",
    "total = 0\n",
    "for d in s:\n",
    "total -= money\n",
    "\n",
    "m = np.random.randint(100)\n",
    "if (m == d): total += 70 * money\n",
    "print(\"Chơi ngẫu nhiên:\", total)"
   ]
  },
  {
   "cell_type": "markdown",
   "id": "f8001af4-931b-40f4-8690-fccbbac8a124",
   "metadata": {},
   "source": [
    "## Thư viện scikit-learn"
   ]
  },
  {
   "cell_type": "markdown",
   "id": "7fe816e0-ae96-49ad-a1d2-cbfdf3683b06",
   "metadata": {},
   "source": [
    "### Dự báo sử dụng hồi quy tuyến tính"
   ]
  },
  {
   "cell_type": "code",
   "execution_count": null,
   "id": "c5955a56-0008-4c8c-989c-db2f92479ab0",
   "metadata": {},
   "outputs": [],
   "source": [
    "import matplotlib.pyplot as plt\n",
    "import pandas as pd\n",
    "import numpy as np\n",
    "from sklearn import linear_model, metrics\n",
    "\n",
    "# đọc dữ liệu từ file csv\n",
    "df = pd.read_csv(\"nguoi.csv\", index_col = 0)\n",
    "print(df)\n",
    "# vẽ biểu đồ minh họa dataset\n",
    "plt.plot(df.Cao, df.Nang, 'ro')\n",
    "plt.xlabel('Chiều cao (cm)')\n",
    "plt.ylabel('Cân nặng (kg)')\n",
    "plt.show()"
   ]
  },
  {
   "cell_type": "code",
   "execution_count": null,
   "id": "3774cbff-971c-4622-a7fd-703afdb4c17a",
   "metadata": {},
   "outputs": [],
   "source": [
    "# sử dụng hồi quy tuyến tính\n",
    "X = df.loc[:, ['Cao']].values\n",
    "y = df.Nang.values\n",
    "\n",
    "# X là dữ liệu đầu vào\n",
    "# y là dữ liệu đầu ra\n",
    "# loại mô hình\n",
    "# tập huấn trên dữ liệu\n",
    "\n",
    "model = linear_model.LinearRegression()\n",
    "model.fit(X, y)\n",
    "# in một số thông tin về mô hình\n",
    "mse = metrics.mean_squared_error(model.predict(X), y)\n",
    "print(\"Tổng bình phương sai số trên tập mẫu:\", mse)\n",
    "print(\"Hệ số hồi quy:\", model.coef_)\n",
    "print(\"Sai số:\", model.intercept_)\n",
    "print(f\"Công thức: [Nặng] = {model.coef_} x [Cao] +{model.intercept_}\")"
   ]
  },
  {
   "cell_type": "code",
   "execution_count": null,
   "id": "d90bb4fd-594f-46fe-be17-848baf713167",
   "metadata": {},
   "outputs": [],
   "source": [
    "# vẽ lại sơ đồ\n",
    "plt.scatter(X, y, c='b')\n",
    "plt.plot(X, model.predict(X))\n",
    "plt.show()\n",
    "\n",
    "# dự báo một số tình huống\n",
    "while True:\n",
    "\n",
    "    x = float(input(\"Nhập chiều cao (nhập 0 để dừng): \"))\n",
    "    if x <= 0: break\n",
    "    print(\"Người cao\", x, \"cm, dự báo cân nặng\",\n",
    "\n",
    "model.predict([[x]]))"
   ]
  },
  {
   "cell_type": "markdown",
   "id": "3f8bf378-4c97-4fd9-95d9-b0940567a4a2",
   "metadata": {},
   "source": [
    "### Mở rộng: thêm cột giới tính"
   ]
  },
  {
   "cell_type": "code",
   "execution_count": null,
   "id": "e5b6acc1-22c4-489c-b4ee-2410a96bc056",
   "metadata": {},
   "outputs": [],
   "source": [
    "import matplotlib.pyplot as plt\n",
    "import pandas as pd\n",
    "import numpy as np\n",
    "from sklearn import linear_model, metrics\n",
    "\n",
    "# đọc dữ liệu từ file csv\n",
    "df = pd.read_csv(\"nguoi2.csv\", index_col = 0)\n",
    "print(df)\n",
    "# thêm cột mới, giới tính Nam = 1, giới tính Nữ = 0\n",
    "df['GT'] = df.Gioitinh.apply(lambda x: 1 if x=='Nam' else 0)\n",
    "print(df)"
   ]
  },
  {
   "cell_type": "code",
   "execution_count": null,
   "id": "476b0e49-2b48-48fa-8d7b-2a58dd42e683",
   "metadata": {},
   "outputs": [],
   "source": [
    "# sử dụng hồi quy tuyến tính\n",
    "X = df.loc[:, ['Cao', 'GT']].values\n",
    "y = df.Nang.values\n",
    "\n",
    "# X là dữ liệu đầu vào\n",
    "# y là dữ liệu đầu ra\n",
    "model = linear_model.LinearRegression() # loại mô hình\n",
    "model.fit(X, y) # tập huấn trên dữ liệu\n",
    "\n",
    "# in một số thông tin về mô hình\n",
    "mse = metrics.mean_squared_error(model.predict(X), y)\n",
    "print(\"Tổng bình phương sai số trên tập mẫu:\", mse)\n",
    "print(\"Hệ số hồi quy:\", model.coef_)\n",
    "print(\"Sai số:\", model.intercept_)\n",
    "print(f\"Công thức: [Nặng] = {model.coef_} x [Cao, Giới tính] +\n",
    "{model.intercept_}\")"
   ]
  },
  {
   "cell_type": "code",
   "execution_count": null,
   "id": "30406175-9cbb-4d63-a5d1-1e386caaf769",
   "metadata": {},
   "outputs": [],
   "source": [
    "# dự báo một số tình huống\n",
    "while True:\n",
    "\n",
    "x = float(input(\"Nhập chiều cao (nhập 0 để dừng): \"))\n",
    "if x <= 0: break\n",
    "print(\"Nam giới cao\", x, \"cm, dự báo cân nặng\", model.predict([[x, 1]]))\n",
    "print(\"Nữ giới cao\", x, \"cm, dự báo cân nặng\", model.predict([[x, 0]]))"
   ]
  },
  {
   "cell_type": "markdown",
   "id": "df03038d-a8bb-4b9a-9f9d-9006405ef68a",
   "metadata": {},
   "source": [
    "# END"
   ]
  },
  {
   "cell_type": "code",
   "execution_count": 199,
   "id": "c8321c0a-2a58-4dba-b2fe-56922656edf9",
   "metadata": {},
   "outputs": [
    {
     "name": "stderr",
     "output_type": "stream",
     "text": [
      "[NbConvertApp] Converting notebook slide_thamkhao_code.ipynb to html\n",
      "[NbConvertApp] WARNING | Alternative text is missing on 11 image(s).\n",
      "[NbConvertApp] Writing 1127710 bytes to slide_thamkhao_code.html\n"
     ]
    }
   ],
   "source": [
    "!jupyter nbconvert --to html slide_thamkhao_code.ipynb "
   ]
  },
  {
   "cell_type": "code",
   "execution_count": null,
   "id": "5a4265b6-c33d-40dc-8527-aba92afa7e0f",
   "metadata": {},
   "outputs": [],
   "source": []
  }
 ],
 "metadata": {
  "kernelspec": {
   "display_name": "Python 3 (ipykernel)",
   "language": "python",
   "name": "python3"
  },
  "language_info": {
   "codemirror_mode": {
    "name": "ipython",
    "version": 3
   },
   "file_extension": ".py",
   "mimetype": "text/x-python",
   "name": "python",
   "nbconvert_exporter": "python",
   "pygments_lexer": "ipython3",
   "version": "3.12.7"
  }
 },
 "nbformat": 4,
 "nbformat_minor": 5
}
