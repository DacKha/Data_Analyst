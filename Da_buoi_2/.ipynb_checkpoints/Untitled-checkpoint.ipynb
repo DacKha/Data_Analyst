{
 "cells": [
  {
   "cell_type": "markdown",
   "id": "849003eb-131f-42e5-9839-629cea226cdb",
   "metadata": {
    "jp-MarkdownHeadingCollapsed": true
   },
   "source": [
    "#  03_exercise_01"
   ]
  },
  {
   "cell_type": "markdown",
   "id": "5f0f6b2e-19a2-47d2-ae44-8eabfa3fa2f2",
   "metadata": {
    "jp-MarkdownHeadingCollapsed": true
   },
   "source": [
    "## 1.Nhập / Xuất ,biểu thức toán học."
   ]
  },
  {
   "cell_type": "markdown",
   "id": "cb8e826d-1772-4ab0-968a-437ed77195d3",
   "metadata": {
    "jp-MarkdownHeadingCollapsed": true
   },
   "source": [
    "### Bài 1. Tính giá trị hàm số\n",
    "**Yêu cầu**: Hãy viết chương trình nhập vào số thực x và tính giá trị biểu thức:\n",
    "$$\n",
    "    f\\left(x\\right) = x + \\frac{x^5}{5!} + \\frac{\\sqrt{|x|}}{x^{3/2}}\n",
    "$$\n",
    "> Moi ban nhap vao gia tri cua bien so x: **2.3** <br/>\n",
    "> Gia tri cua ham so f(**2.3**) = **3.27**."
   ]
  },
  {
   "cell_type": "markdown",
   "id": "7d5d6eda-23f2-41d8-a562-ba789a8daeac",
   "metadata": {},
   "source": [
    "#### Bài làm:"
   ]
  },
  {
   "cell_type": "code",
   "execution_count": 3,
   "id": "80a53e3d-214b-4ea5-9c7e-01830b4e3222",
   "metadata": {},
   "outputs": [
    {
     "name": "stdin",
     "output_type": "stream",
     "text": [
      "Moi ban nhap vao gia tri cua bien so x:  2.3\n"
     ]
    },
    {
     "name": "stdout",
     "output_type": "stream",
     "text": [
      "Gia tri cua ham so f(2.3) =  3.27.\n"
     ]
    }
   ],
   "source": [
    "# Khai báo thư viện\n",
    "import math\n",
    "\n",
    "# Nhập dữ liệu\n",
    "x   = float(input('Moi ban nhap vao gia tri cua bien so x: '))\n",
    "# Xử lý\n",
    "f_x = x + (x**5)/math.factorial(5)  + math.sqrt(abs(x))/x**(3/2)\n",
    "\n",
    "# Xuất dữ liệu\n",
    "print(f'Gia tri cua ham so f({x}) = {f_x: .2f}.')"
   ]
  },
  {
   "cell_type": "markdown",
   "id": "7cedd437-a778-4f09-9df5-489405b5b4cf",
   "metadata": {
    "jp-MarkdownHeadingCollapsed": true
   },
   "source": [
    "### Bài 2. Đổi sang giờ phút giây\n",
    "**Yêu cầu**: Một thiết bị hoạt động được t giây. Hãy viết chương trình chuyển số giây đó dưới dạng số giờ, số phút và số giây.\n",
    ">Nhap vao tong so giay: **4810** <br/>\n",
    ">**4810** giay co dang **1:20:10**"
   ]
  },
  {
   "cell_type": "markdown",
   "id": "ee5d454d-fe3d-49f3-8a87-3882bfb21dfd",
   "metadata": {},
   "source": [
    "#### Bài làm:"
   ]
  },
  {
   "cell_type": "code",
   "execution_count": 6,
   "id": "6c487147-5f28-4ce3-a72f-18c894e1c552",
   "metadata": {},
   "outputs": [
    {
     "name": "stdin",
     "output_type": "stream",
     "text": [
      "Nhap vao tong so giay:  4810\n"
     ]
    },
    {
     "name": "stdout",
     "output_type": "stream",
     "text": [
      "4810 giay co dang 1:20:10\n"
     ]
    }
   ],
   "source": [
    "# Nhập dữ liệu\n",
    "t  = int(input('Nhap vao tong so giay: '))\n",
    "\n",
    "# Xử lý\n",
    "hh = t//3600\n",
    "mm = (t % 3600) // 60\n",
    "ss = t % 60\n",
    "\n",
    "# Xuất dữ liệu\n",
    "print(f'{t} giay co dang {hh}:{mm}:{ss}')"
   ]
  },
  {
   "cell_type": "markdown",
   "id": "3bf1b9f4-45c5-4220-8aa2-9e081fc62f34",
   "metadata": {},
   "source": [
    "## 2. Cấu trúc lựa chọn"
   ]
  },
  {
   "cell_type": "markdown",
   "id": "f6a7c30b-3794-494d-ad36-8c5c6698807c",
   "metadata": {
    "jp-MarkdownHeadingCollapsed": true
   },
   "source": [
    "### Bài 3. Giải phuơng trình bậc 1\n",
    "Nhập 2 số thực $a$, $b$. Tìm nghiệm của phương trình bậc 1 $ax + b = 0$.\n",
    ">Moi ban nhap he so a: **1** <br/>\n",
    ">Moi ban nhap he so b: **5** <br/>\n",
    ">Phuong trinh **1x + 5 = 0** co **1** nghiem x = **-5.00**."
   ]
  },
  {
   "cell_type": "markdown",
   "id": "c4e8af5c-775b-4c43-a4db-d5d9fc91890f",
   "metadata": {},
   "source": [
    "#### Bài làm :"
   ]
  },
  {
   "cell_type": "code",
   "execution_count": 7,
   "id": "e118d99e-334f-4102-a6e1-a5001f5e2e73",
   "metadata": {},
   "outputs": [
    {
     "name": "stdin",
     "output_type": "stream",
     "text": [
      "Moi ban nhap he so a:  1\n",
      "Moi ban nhap he so b:  5\n"
     ]
    },
    {
     "name": "stdout",
     "output_type": "stream",
     "text": [
      "Phuong trinh 1x + 5 = 0 co 1 nghiem x = -5.00.\n"
     ]
    }
   ],
   "source": [
    "# Nhập dữ liệu\n",
    "a  = int(input('Moi ban nhap he so a: '))\n",
    "b  = int(input('Moi ban nhap he so b: '))\n",
    "\n",
    "# Xử lý\n",
    "flag = -100\n",
    "x=0\n",
    "if a == 0 and b != 0:\n",
    "    flag = 0\n",
    "elif a == 0 and b == 0:\n",
    "    flag = -1\n",
    "else:\n",
    "    x = -b /a\n",
    "# Xuất dữ liệu\n",
    "s = f'Phuong trinh {a}x + {b} = 0'\n",
    "if flag == -1:\n",
    "    print(f'{s} vo so nghiem.')\n",
    "elif flag == 0:\n",
    "    print(f'{s} vo nghiem.')\n",
    "else:\n",
    "    print(f'{s} co 1 nghiem x = {x: .2f}.')"
   ]
  },
  {
   "cell_type": "markdown",
   "id": "43a74539-56cc-460f-9624-1731c1833149",
   "metadata": {
    "jp-MarkdownHeadingCollapsed": true
   },
   "source": [
    "### Bài 4. Chuyển ký số sang số\n",
    "Nhập một chuỗi s là chuỗi biểu diễn ký tự số trong tiếng Anh gồm {zero, one, two, three, four, five, six, seven, eight, nine}. Hãy kiểm tra chuỗi nhập có hợp lệ không? Nếu hợp lệ thì in ra ký số của chuỗi đó và chuỗi ký số bên tiếng việt tương ứng.\n",
    "> Moi ban nhap chuoi ky so s: One <br/>\n",
    "> Chuoi vua nhap hop le! \n",
    "> \"One\" bieu dien so cho \"1\" va ung voi tieng Viet \"mot\".\n",
    "\n",
    "> Moi ban nhap chuoi ky so s: hello <br/>\n",
    "> Chuoi vua nhap khong hop le!"
   ]
  },
  {
   "cell_type": "markdown",
   "id": "1467aaee-7e62-4ca2-951a-f9d28cafa9bc",
   "metadata": {
    "jp-MarkdownHeadingCollapsed": true
   },
   "source": [
    "#### Bài làm:"
   ]
  },
  {
   "cell_type": "code",
   "execution_count": 11,
   "id": "84c29072-a9be-48bf-b8eb-433322ccf7e5",
   "metadata": {},
   "outputs": [
    {
     "name": "stdin",
     "output_type": "stream",
     "text": [
      "Moi ban nhap chuoi ky so s:  hello\n"
     ]
    },
    {
     "name": "stdout",
     "output_type": "stream",
     "text": [
      "Chuoi vua nhap khong hop le!\n"
     ]
    }
   ],
   "source": [
    "s = input(\"Moi ban nhap chuoi ky so s: \")\n",
    "\n",
    "en  = [\"zero\", \"one\", \"two\", \"three\", \"four\", \"five\", \"six\", \"seven\", \"eight\", \"nine\"]\n",
    "vi  = [\"khong\", \"mot\", \"hai\", \"ba\", \"bon\", \"nam\", \"sau\", \"bay\", \"tam\", \"chin\"]\n",
    "num = [0, 1, 2, 3, 4, 5, 6, 7, 8, 9]\n",
    "#xử lí\n",
    "s_lower = s.lower()\n",
    "if s_lower in en:\n",
    "    idx = en.index(s_lower)\n",
    "    print(f'Chuoi vua nhap hop le! \"{s}\" bieu dien so cho \"{num[idx]}\" va ung voi tieng Viet \"{vi[idx]}\".')\n",
    "else:\n",
    "    print(\"Chuoi vua nhap khong hop le!\")\n"
   ]
  },
  {
   "cell_type": "markdown",
   "id": "01375206-1b35-403d-b102-22bef26933b9",
   "metadata": {
    "jp-MarkdownHeadingCollapsed": true
   },
   "source": [
    "## 3. Cấu trúc lặp"
   ]
  },
  {
   "cell_type": "markdown",
   "id": "a891a033-5a9f-4cc3-b0ed-1ac004f2e53f",
   "metadata": {
    "jp-MarkdownHeadingCollapsed": true
   },
   "source": [
    "### Bài 5. Tính tổng các số chẵn\n",
    "Nhập một số nguyên n. Hãy tính tổng các số chẵn từ 1 đến n.\n",
    "> Moi ban nhap so nguyen n: **100** <br>\n",
    "> Tong cac so chan tu 1 den **100** la **2550**."
   ]
  },
  {
   "cell_type": "markdown",
   "id": "bfe6c7de-6293-4deb-81f6-5707ead039fa",
   "metadata": {},
   "source": [
    "#### Bài làm:"
   ]
  },
  {
   "cell_type": "code",
   "execution_count": 13,
   "id": "4b1dca2a-87d2-48ee-a63b-6267fb0687db",
   "metadata": {},
   "outputs": [
    {
     "name": "stdin",
     "output_type": "stream",
     "text": [
      "Moi ban nhap so nguyen n:  100\n"
     ]
    },
    {
     "name": "stdout",
     "output_type": "stream",
     "text": [
      "Tong cac so chan tu 1 den 100 la 2550.\n"
     ]
    }
   ],
   "source": [
    "# Nhập dữ liệu\n",
    "n   = int(input(\"Moi ban nhap so nguyen n: \"))\n",
    "\n",
    "# Xuất dữ liệu\n",
    "s   = 0\n",
    "#xử lí\n",
    "for i in range(n+1):\n",
    "    if i % 2 == 0:\n",
    "        s+=i\n",
    "\n",
    "print(f'Tong cac so chan tu 1 den {n} la {s}.')"
   ]
  },
  {
   "cell_type": "markdown",
   "id": "6e399824-1901-44f8-ae99-b6ecfba2dbe9",
   "metadata": {
    "jp-MarkdownHeadingCollapsed": true
   },
   "source": [
    "### Bài 6. Kiểm tra số nguyên tố\n",
    "\n",
    "Nhập vào một số nguyên dương n. Hãy kiểm tra xem n có phải là nguyên tố không?\n",
    "> Moi nhap nhap so nguyen n: **10** <br/>\n",
    "> **10** khong phai la so nguyen to.\n",
    "\n",
    "> Moi nhap nhap so nguyen n: **97** <br/>\n",
    "> **97** la so nguyen to.\n",
    "\n",
    "**Lưu ý**: n là số nguyên tố khi và chỉ khi không tồn tại số nguyên từ $2$ đến $\\sqrt(n)$ mà chia hết cho n."
   ]
  },
  {
   "cell_type": "markdown",
   "id": "64b62eb6-db05-468f-8151-93d6820b2315",
   "metadata": {},
   "source": [
    "#### Bài làm:"
   ]
  },
  {
   "cell_type": "code",
   "execution_count": 22,
   "id": "94fcc145-7d14-4211-8127-01af79740bd1",
   "metadata": {},
   "outputs": [
    {
     "name": "stdin",
     "output_type": "stream",
     "text": [
      "Moi ban nhap so nguyen n:  97\n"
     ]
    },
    {
     "name": "stdout",
     "output_type": "stream",
     "text": [
      "97 la so nguyen to.\n"
     ]
    }
   ],
   "source": [
    "# Nhập dữ liệu\n",
    "n   = int(input(\"Moi ban nhap so nguyen n: \"))\n",
    "\n",
    "# Xử lý \n",
    "lant = True\n",
    "for i in range(2,int(math.sqrt(n)+1)):\n",
    "    if n % i == 0:\n",
    "        lant= False\n",
    "        break\n",
    "# Xuất dữ liệu\n",
    "if lant == True:\n",
    "    print(f'{n} la so nguyen to.')\n",
    "else:\n",
    "    print(f'{n} khong la so nguyen to.')"
   ]
  },
  {
   "cell_type": "markdown",
   "id": "ae21236b-2d1f-45d6-9d2c-498b61c8ad0d",
   "metadata": {
    "jp-MarkdownHeadingCollapsed": true
   },
   "source": [
    "## 4. Xử lý ngoại lệ và hàm số"
   ]
  },
  {
   "cell_type": "markdown",
   "id": "60d5df27-0dee-422d-93b6-0a1cb21fd330",
   "metadata": {},
   "source": [
    "### Bài 7. Giải phương trình bậc 2\n",
    "Nhập 3 số thực a, b, c (có kiểm tra dữ liệu nhập số thực). Hãy xây dựng hàm giải phương trình bậc 2 $ax^2+bx+c=0$ và in kết quả giải ra màn hình.\n",
    "> Moi ban nhap he so a, b, c:  **a b c**<br/>\n",
    "> Ban nhap sai! Moi ban nhap lai!<br/>\n",
    "> Moi ban nhap he so a, b, c:  **1 a 3**<br/>\n",
    "> Ban nhap sai! Moi ban nhap lai!<br/>\n",
    "> Moi ban nhap he so a, b, c: **1 5 6**<br/>\n",
    "> Phuong trinh bac 2 **1x^2 + 5x + 6 = 0** co **2**  nghiem x1 = **-2.00**, x2 = **-3.00**."
   ]
  },
  {
   "cell_type": "markdown",
   "id": "f9c353f1-b79c-4b5d-bd56-b729d457c720",
   "metadata": {},
   "source": [
    "#### Bài làm:"
   ]
  },
  {
   "cell_type": "code",
   "execution_count": 28,
   "id": "a96efbb5-d06d-44c5-91db-b73faee95652",
   "metadata": {},
   "outputs": [
    {
     "name": "stdin",
     "output_type": "stream",
     "text": [
      "Moi ban nhap he so a b c : a b c\n"
     ]
    },
    {
     "name": "stdout",
     "output_type": "stream",
     "text": [
      "Ban nhap sai! Moi ban nhap lai!\n"
     ]
    },
    {
     "name": "stdin",
     "output_type": "stream",
     "text": [
      "Moi ban nhap he so a b c : 1 a 5\n"
     ]
    },
    {
     "name": "stdout",
     "output_type": "stream",
     "text": [
      "Ban nhap sai! Moi ban nhap lai!\n"
     ]
    },
    {
     "name": "stdin",
     "output_type": "stream",
     "text": [
      "Moi ban nhap he so a b c : 1 5 7\n"
     ]
    },
    {
     "name": "stdout",
     "output_type": "stream",
     "text": [
      "1 5 7\n"
     ]
    }
   ],
   "source": [
    "def NhapDuLieu():\n",
    "    \"\"\"\n",
    "    Input: \n",
    "        Ban phim = 1 5 6\n",
    "    Output:\n",
    "        (a, b, c) --> (1, 5, 6)\n",
    "    \"\"\"\n",
    "    #Xử lí   \n",
    "    while True:\n",
    "        try:\n",
    "            a,b,c = map(int, input(\"Moi ban nhap he so a b c :\").split())\n",
    "            return a, b, c\n",
    "        except ValueError:\n",
    "            print(\"Ban nhap sai! Moi ban nhap lai!\")\n",
    "    \n",
    "# NhapDuLieu\n",
    "a, b, c = NhapDuLieu()\n",
    "print(a,b,c)"
   ]
  },
  {
   "cell_type": "code",
   "execution_count": 29,
   "id": "197130d5-76ab-4b76-b5ed-772457b6676c",
   "metadata": {},
   "outputs": [],
   "source": [
    "def GiaiPhuongTrinhBac2(a, b, c):\n",
    "    \"\"\"\n",
    "    Input: a, b, c\n",
    "    Output: \n",
    "    + flag = -1 (VSN), 0 (VN), k (k nghiem)\n",
    "    + () --> flag = -1, 0\n",
    "    + (x,) --> flag = 1\n",
    "    + (x1, x2) --> flag = 2\n",
    "    \"\"\"\n",
    "    import math\n",
    "    flag = None\n",
    "    x = ()\n",
    "    if a == 0:\n",
    "        if b == 0:\n",
    "            if c == 0:\n",
    "                flag = -1  # vô số nghiệm\n",
    "                x = ()\n",
    "            else:\n",
    "                flag = 0   # vô nghiệm\n",
    "                x = ()\n",
    "        else:\n",
    "            flag = 1  # nghiệm duy nhất\n",
    "            x = (-c / b,)\n",
    "    else:\n",
    "        # Tính delta\n",
    "        delta = b**2 - 4*a*c\n",
    "        if delta < 0:\n",
    "            flag = 0  # vô nghiệm\n",
    "            x = ()\n",
    "        elif delta == 0:\n",
    "            flag = 1  # nghiệm kép\n",
    "            x = (-b / (2*a),)\n",
    "        else:\n",
    "            flag = 2  # 2 nghiệm phân biệt\n",
    "            x1 = (-b - math.sqrt(delta)) / (2*a)\n",
    "            x2 = (-b + math.sqrt(delta)) / (2*a)\n",
    "            x = (x1, x2)\n",
    "    \n",
    "    return flag, x\n"
   ]
  },
  {
   "cell_type": "code",
   "execution_count": 30,
   "id": "d7800e2b-17e8-4f5b-861e-f45b60c4f659",
   "metadata": {},
   "outputs": [
    {
     "name": "stdout",
     "output_type": "stream",
     "text": [
      "a = 0\n",
      "So nghiem: -1, nghiem = ()\n",
      "So nghiem: 0, nghiem = ()\n",
      "So nghiem: 1, nghiem = (-1.2,)\n",
      "a <> 0\n",
      "So nghiem: 0, nghiem = ()\n",
      "So nghiem: 1, nghiem = (-1.0,)\n",
      "So nghiem: 2, nghiem = (-3.0, -2.0)\n"
     ]
    }
   ],
   "source": [
    "print(\"a = 0\")\n",
    "flag, x = GiaiPhuongTrinhBac2(0, 0, 0)\n",
    "print(f'So nghiem: {flag}, nghiem = {x}')\n",
    "flag, x = GiaiPhuongTrinhBac2(0, 0, 5)\n",
    "print(f'So nghiem: {flag}, nghiem = {x}')\n",
    "flag, x = GiaiPhuongTrinhBac2(0, 5, 6)\n",
    "print(f'So nghiem: {flag}, nghiem = {x}')\n",
    "\n",
    "print(\"a <> 0\")\n",
    "flag, x = GiaiPhuongTrinhBac2(5, 1, 2)\n",
    "print(f'So nghiem: {flag}, nghiem = {x}')\n",
    "flag, x = GiaiPhuongTrinhBac2(1, 2, 1)\n",
    "print(f'So nghiem: {flag}, nghiem = {x}')\n",
    "flag, x = GiaiPhuongTrinhBac2(1, 5, 6)\n",
    "print(f'So nghiem: {flag}, nghiem = {x}')"
   ]
  },
  {
   "cell_type": "code",
   "execution_count": 31,
   "id": "525ece2c-1287-415c-b7be-250cc0eddf21",
   "metadata": {},
   "outputs": [
    {
     "name": "stdin",
     "output_type": "stream",
     "text": [
      "Moi ban nhap he so a b c : 1 5 6\n"
     ]
    },
    {
     "name": "stdout",
     "output_type": "stream",
     "text": [
      "Phuong trinh bac 2 1x^2 + 5x + 6 = 0 co 2 nghiem, x1 = -3.0, x2 = -2.0!\n"
     ]
    }
   ],
   "source": [
    "# Kết nối bài\n",
    "a, b, c = NhapDuLieu()\n",
    "# Gọi hàm giải\n",
    "flag, x = GiaiPhuongTrinhBac2(1, 5, 6)\n",
    "# Xuất dữ liệu\n",
    "s = f'Phuong trinh bac 2 {a}x^2 + {b}x + {c} = 0'\n",
    "if flag == -1:\n",
    "    print(f'{s} co vo so nghiem!')\n",
    "elif flag == 0:\n",
    "    print(f'{s} vo nghiem!')\n",
    "elif flag == 1:\n",
    "    print(f'{s} co 1 nghiem, x = {x[0]}!')\n",
    "elif flag == 2:\n",
    "    print(f'{s} co 2 nghiem, x1 = {x[0]}, x2 = {x[1]}!')"
   ]
  },
  {
   "cell_type": "markdown",
   "id": "2ce0c3e9-1891-47f3-b4d5-ff6fd27966d8",
   "metadata": {},
   "source": [
    "## 5. Dữ liệu nâng cao (List, Tuple, Set, Dictionary)"
   ]
  },
  {
   "cell_type": "markdown",
   "id": "f25c6afd-145a-41c2-8c04-cf867483e21c",
   "metadata": {
    "jp-MarkdownHeadingCollapsed": true
   },
   "source": [
    "### Bài 8. Các thao tác xử lý mảng số\n",
    "\n",
    "Viết chương trình xây dựng các hàm sau cho List và kiểm tra tính đúng đắn của các hàm số:\n",
    "+ Nhập một mảng số từ bàn phím cách nhau bởi khoảng trắng. Xuất mảng ra màn hình. <br/>\n",
    "+ Sinh một mảng số ngẫu nhiên có n phần tử trong khoảng a, b.\n",
    "+ Tính tổng của mảng số, đếm các phần tử chẵn, lẻ trong mảng.\n",
    "+ Cho một mảng số, hãy trả về dãy chẳn, dãy lẻ.\n",
    "\n",
    "> a = NhapMang() <br/>\n",
    "> XuatMang(a) <br/>\n",
    "> b = SinhNgauNhien(10, -10, 10) <br/>\n",
    "> XuatMang(b) <br/>\n",
    "> tong, chan, le = TinhTongChanLe(b) <br/>\n",
    "> a_chan, a_le = TimChanLe(b) <br/>"
   ]
  },
  {
   "cell_type": "markdown",
   "id": "d0f6b621-4673-4aa0-8622-b90c6af9ddfe",
   "metadata": {},
   "source": [
    "#### Bài làm :"
   ]
  },
  {
   "cell_type": "code",
   "execution_count": 8,
   "id": "8f336217-a6f1-4260-b858-71786ca3ddee",
   "metadata": {},
   "outputs": [],
   "source": [
    "def NhapMang():\n",
    "    \"\"\"\n",
    "    Input:\n",
    "        Ban phim = 1 4 1 2 3 4 1 2 3 3 1 2 3 4 10 2\n",
    "    Output:\n",
    "        a = [1, 4, 1, 2, 3, 4, 1, 2, 3, 3, 1, 2, 3, 4, 10, 2]\n",
    "    \"\"\"\n",
    "    # Xử lí\n",
    "    s=input(\"Mời bạn nhập mảng (cách nhau khoảng trắng) = \")\n",
    "    a=list(map(int,s.split()))\n",
    "    \n",
    "    \n",
    "    return a\n"
   ]
  },
  {
   "cell_type": "code",
   "execution_count": 9,
   "id": "88a85a0a-3794-49b4-a8dc-aab1c1109afe",
   "metadata": {},
   "outputs": [
    {
     "name": "stdin",
     "output_type": "stream",
     "text": [
      "Mời bạn nhập mảng (cách nhau khoảng trắng) =   1 4 1 2 3 4 1 2 3 3 1 2 3 4 10 2\n"
     ]
    },
    {
     "name": "stdout",
     "output_type": "stream",
     "text": [
      "[1, 4, 1, 2, 3, 4, 1, 2, 3, 3, 1, 2, 3, 4, 10, 2]\n"
     ]
    }
   ],
   "source": [
    "# NhapMang\n",
    "a = NhapMang() # 1 4 1 2 3 4 1 2 3 3 1 2 3 4 10 2\n",
    "print(a)"
   ]
  },
  {
   "cell_type": "code",
   "execution_count": 10,
   "id": "088b368f-875c-44b9-ad09-1fb0574b1c0e",
   "metadata": {},
   "outputs": [],
   "source": [
    "def XuatMang(a):\n",
    "    \"\"\"\n",
    "    Input:\n",
    "        a = [1, 4, 1, 2, 3, 4, 1, 2, 3, 3, 1, 2, 3, 4, 10, 2]\n",
    "    Output: \n",
    "        In ra man hinh:\n",
    "            Mang co 16 phan tu: 1 4 1 2 3 4 1 2 3 3 1 2 3 4 10 2 \n",
    "    \"\"\"\n",
    "    #xử lí\n",
    "    print(f\"Mang co {len(a)} phan tu\" , a)\n",
    "    "
   ]
  },
  {
   "cell_type": "code",
   "execution_count": 13,
   "id": "6bf46d1f-5957-428d-a164-01aa7b4783b5",
   "metadata": {},
   "outputs": [
    {
     "name": "stdout",
     "output_type": "stream",
     "text": [
      "Mang co 16 phan tu [1, 4, 1, 2, 3, 4, 1, 2, 3, 3, 1, 2, 3, 4, 10, 2]\n"
     ]
    }
   ],
   "source": [
    "# XuatMang\n",
    "a = [1, 4, 1, 2, 3, 4, 1, 2, 3, 3, 1, 2, 3, 4, 10, 2]\n",
    "XuatMang(a)"
   ]
  },
  {
   "cell_type": "code",
   "execution_count": 14,
   "id": "ec919fa0-90c7-4e4b-ac33-a1f627ac7b2c",
   "metadata": {},
   "outputs": [],
   "source": [
    "import random\n",
    "def SinhNgauNhien(n, vmin = -10, vmax = 10):\n",
    "    \"\"\"\n",
    "    Input:\n",
    "        n = 30, vmin = -10, vmax = 10\n",
    "    Output:\n",
    "        a = [-1, -4, -8, 6, 4, -5, -1, -4, -9, -5, -10, 0, -6, 2, 1, -9, -9, 10, -8, -9, -7, 9, 2, -4, -1, -6, 5, -6, 9, -8]\n",
    "    \"\"\"    \n",
    "    a = []\n",
    "    #xử lí\n",
    "    for _ in range(n):\n",
    "        a.append(random.randint(vmin,vmax))\n",
    "    \n",
    "    return a"
   ]
  },
  {
   "cell_type": "code",
   "execution_count": 16,
   "id": "c49154f9-da98-4278-9291-b25bcfcc0060",
   "metadata": {},
   "outputs": [
    {
     "name": "stdout",
     "output_type": "stream",
     "text": [
      "[6, 6, 8, -2, 1, -8, -4, -5, 9, 5, 9, 6, 1, 8, -10, -6, -6, -4, 0, -9, 4, -9, 9, 4, 9, 2, 2, 3, 7, -4]\n",
      "[10, 5, 9, 9, 6, 9, 8, 7, 6, 7, 9, 10, 6, 0, 1, 7, 7, 3, 10, 2, 4, 3, 8, 9, 8, 9, 5, 10, 2, 0]\n",
      "[-7, -2, -1, -2, -1, -6, 2, -4, -5, -3, -8, 0, -3, -3, 2, -4, -9, -4, -2, -3, -3, 1, -1, -1, -1, -5, -4, -8, -7, -6]\n"
     ]
    }
   ],
   "source": [
    "# SinhNgauNhien\n",
    "b = SinhNgauNhien(30, -10, 10)\n",
    "print(b)\n",
    "b = SinhNgauNhien(30, vmin = 0)\n",
    "print(b)\n",
    "b = SinhNgauNhien(30, vmax = 2)\n",
    "print(b)"
   ]
  },
  {
   "cell_type": "code",
   "execution_count": 17,
   "id": "aac3a5ad-2bb9-4be6-9752-5783f73c4beb",
   "metadata": {},
   "outputs": [],
   "source": [
    "def DemTongChanLe(a):\n",
    "    \"\"\"\n",
    "    Input: a[] = [1, 4, 2, 0, -1, -7, 3, -6, 4, 9, -5, 7, 7, -7, -10, 1, -10, 9, -4, -6, 10, -2, -10, -8, -3, 2, -7, -10, 6, 0]\n",
    "    Output: tong, sochan, sole\n",
    "    \"\"\"\n",
    "    tong = 0\n",
    "    sochan = 0\n",
    "    sole = 0\n",
    "    \n",
    "    #Xử lí\n",
    "    for i in a:\n",
    "        tong+=i\n",
    "        if i % 2 == 0:\n",
    "            sochan +=1\n",
    "        elif i % 2 != 0:\n",
    "            sole +=1\n",
    "    \n",
    "    return tong, sochan, sole"
   ]
  },
  {
   "cell_type": "code",
   "execution_count": 18,
   "id": "fbf31398-29fa-448f-a592-36c71f4e4089",
   "metadata": {},
   "outputs": [
    {
     "name": "stdout",
     "output_type": "stream",
     "text": [
      "(-31, 17, 13)\n",
      "(141, 17, 13)\n"
     ]
    }
   ],
   "source": [
    "# DemTongChanLe\n",
    "a = [1, 4, 2, 0, -1, -7, 3, -6, 4, 9, -5, 7, 7, -7, -10, 1, -10, 9, -4, -6, 10, -2, -10, -8, -3, 2, -7, -10, 6, 0]\n",
    "print(DemTongChanLe(a))\n",
    "a = [9, 6, 5, 0, 8, 8, 1, 10, 0, 0, 1, 1, 2, 7, 1, 10, 9, 1, 10, 8, 2, 8, 4, 5, 4, 5, 5, 3, 6, 2]\n",
    "print(DemTongChanLe(a))"
   ]
  },
  {
   "cell_type": "code",
   "execution_count": 19,
   "id": "4876c811-6a3e-4d39-b43a-9762c2c0a7bf",
   "metadata": {},
   "outputs": [],
   "source": [
    "def DayChanLe(a): # Gia tri tra ve\n",
    "    \"\"\"\n",
    "    Input:\n",
    "        a = [1, 4, 2, 0, -1, -7, 3, -6, 4, 9, -5, 7, 7, -7, -10, 1, -10, 9, -4, -6, 10, -2, -10, -8, -3, 2, -7, -10, 6, 0]\n",
    "    Output: (achan, ale)\n",
    "        achan = [4, 2, 0, -6, 4, -10, -10, -4, -6, 10, -2, -10, -8, 2, -10, 6, 0]\n",
    "        ale = [1, -1, -7, 3, 9, -5, 7, 7, -7, 1, 9, -3, -7]\n",
    "    \"\"\"    \n",
    "    achan = []\n",
    "    ale = []\n",
    "    \n",
    "    # Xử lí\n",
    "    for i in a:\n",
    "        if i % 2==0:\n",
    "            achan.append(i)\n",
    "        else:\n",
    "            ale.append(i)\n",
    "    \n",
    "    return achan, ale"
   ]
  },
  {
   "cell_type": "code",
   "execution_count": 20,
   "id": "760b7b3f-94e8-491d-99d0-fb686ceeca23",
   "metadata": {},
   "outputs": [
    {
     "name": "stdout",
     "output_type": "stream",
     "text": [
      "DayChanLe:\n",
      "Chan = [4, 2, 0, -6, 4, -10, -10, -4, -6, 10, -2, -10, -8, 2, -10, 6, 0]\n",
      "Le = [1, -1, -7, 3, 9, -5, 7, 7, -7, 1, 9, -3, -7]\n",
      "\n"
     ]
    }
   ],
   "source": [
    "# DayChanLe\n",
    "a = [1, 4, 2, 0, -1, -7, 3, -6, 4, 9, -5, 7, 7, -7, -10, 1, -10, 9, -4, -6, 10, -2, -10, -8, -3, 2, -7, -10, 6, 0]\n",
    "achan, ale = DayChanLe(a)\n",
    "print(f'DayChanLe:\\nChan = {achan}\\nLe = {ale}\\n')"
   ]
  },
  {
   "cell_type": "markdown",
   "id": "9b148ed7-fc18-4c6d-ac88-41b35c4e0e9d",
   "metadata": {},
   "source": [
    "### Bài 9. Các thao tác trên tập hợp, từ điển\n",
    "\n",
    "Viết chương trình nhập vào một dãy ký tự a cách nhau bởi khoảng trắng. Hãy thực hiện:\n",
    "+ In các ký tự trong a không trùng nhau và được sắp theo thứ tự tăng dần\n",
    "+ Đếm số lần xuất hiện các ký tự trong dãy a\n"
   ]
  },
  {
   "cell_type": "markdown",
   "id": "bfcb065d-4c59-4de4-8176-4b5bbceda11a",
   "metadata": {},
   "source": [
    "#### Bài làm:"
   ]
  },
  {
   "cell_type": "code",
   "execution_count": 21,
   "id": "6c1147fa-42d8-433f-9299-7e9bc1fc81de",
   "metadata": {},
   "outputs": [],
   "source": [
    "def XuLyKhongTrung(a):\n",
    "    \"\"\"\n",
    "    Input:\n",
    "        a = ['A', 'G', 'C', 'A', 'C', 'F', 'F', 'T', 'H']\n",
    "    Output:\n",
    "        s = ['A', 'C', 'F', 'G', 'H', 'T']\n",
    "    \"\"\"\n",
    "    s = set([])\n",
    "    #Xử lí\n",
    "    for i in a:\n",
    "        s.add(i)\n",
    "        \n",
    "    return sorted(s)"
   ]
  },
  {
   "cell_type": "code",
   "execution_count": 22,
   "id": "f6b07abc-a660-4a86-9674-0993410d6dca",
   "metadata": {},
   "outputs": [
    {
     "name": "stdout",
     "output_type": "stream",
     "text": [
      "['A', 'C', 'F', 'G', 'H', 'T']\n"
     ]
    }
   ],
   "source": [
    "# XuLyKhongTrung\n",
    "a = ['A', 'G', 'C', 'A', 'C', 'F', 'F', 'T', 'H']\n",
    "b = XuLyKhongTrung(a)\n",
    "print(b)"
   ]
  },
  {
   "cell_type": "code",
   "execution_count": 23,
   "id": "246c12bd-81f1-489b-9e87-eb029d22bdcb",
   "metadata": {},
   "outputs": [],
   "source": [
    "def DemSoLanXuatHien(a):\n",
    "    \"\"\"\n",
    "    Input:\n",
    "        a = ['A', 'G', 'C', 'A', 'C', 'F', 'F', 'T', 'H']\n",
    "    Output:\n",
    "        dem = {'A': 2, 'G': 1, 'C': 2, 'F': 2, 'T': 1, 'H': 1}\n",
    "    \"\"\"\n",
    "    dem = {} # (k, v): k (ky tu) v (so lan xuat hien)\n",
    "    #xử lí\n",
    "    for i in a:\n",
    "        if i in dem:\n",
    "            dem[i] +=1\n",
    "        else:\n",
    "            dem[i] =1\n",
    "    \n",
    "    return dem"
   ]
  },
  {
   "cell_type": "code",
   "execution_count": 24,
   "id": "529f4688-4e2c-457c-a171-40be4e54233a",
   "metadata": {},
   "outputs": [
    {
     "name": "stdout",
     "output_type": "stream",
     "text": [
      "{'A': 2, 'G': 1, 'C': 2, 'F': 2, 'T': 1, 'H': 1}\n"
     ]
    }
   ],
   "source": [
    "# DemSoLanXuatHien\n",
    "a = ['A', 'G', 'C', 'A', 'C', 'F', 'F', 'T', 'H']\n",
    "b = DemSoLanXuatHien(a)\n",
    "print(b)"
   ]
  },
  {
   "cell_type": "markdown",
   "id": "8dcd1c11-40ff-4951-b5a1-b07ff5b552cb",
   "metadata": {},
   "source": [
    "## END"
   ]
  },
  {
   "cell_type": "markdown",
   "id": "ed1734eb-5d02-4ddb-94d3-6e471ac1b8d1",
   "metadata": {},
   "source": [
    "# 04_exercise_02"
   ]
  },
  {
   "cell_type": "markdown",
   "id": "81365cc0-c61d-4f98-b78c-76211673ebea",
   "metadata": {},
   "source": [
    "## Làm quen với Numpy"
   ]
  },
  {
   "cell_type": "markdown",
   "id": "d7e2e46e-52b7-434e-805b-9a35b2d04a67",
   "metadata": {},
   "source": [
    "### Bài 1. Tính toán trên dãy số"
   ]
  },
  {
   "cell_type": "markdown",
   "id": "5fcfa3a9-73ae-4461-896d-d0b3195eee8c",
   "metadata": {
    "jp-MarkdownHeadingCollapsed": true
   },
   "source": [
    "#### 1. Tạo một dãy số a có N phần tử (N = 10)"
   ]
  },
  {
   "cell_type": "markdown",
   "id": "a46513bb-7a51-43df-a66d-faf78d29cc2d",
   "metadata": {},
   "source": [
    "##### Bài Làm:"
   ]
  },
  {
   "cell_type": "code",
   "execution_count": 34,
   "id": "e9affa2d-6e95-4b5d-bfb3-db7537590dbb",
   "metadata": {},
   "outputs": [
    {
     "name": "stdout",
     "output_type": "stream",
     "text": [
      "1. Tạo một dãy số a có N phần tử (N = 10)\n",
      "Day so a:  [120 183 160 175 145 162 190 160 152 162]\n"
     ]
    }
   ],
   "source": [
    "import numpy as np # Khai báo thư viện numpy\n",
    "\n",
    "print(\"1. Tạo một dãy số a có N phần tử (N = 10)\")\n",
    "#Xử lí\n",
    "a = np.array([120, 183, 160, 175, 145, 162, 190, 160, 152, 162])\n",
    "\n",
    "print(\"Day so a: \", a)"
   ]
  },
  {
   "cell_type": "markdown",
   "id": "17d2e046-0c2a-4e7d-8339-b9dd56cc2192",
   "metadata": {
    "jp-MarkdownHeadingCollapsed": true
   },
   "source": [
    "#### 2. Các thao tác trên dãy số a\n",
    "(a) Bình phương các phần tử trong dãy số <br/>\n",
    "(b) Tìm số lượng các phần tử của dãy số <br/>\n",
    "(c) In ra giá trị lớn nhất, giá trị nhỏ nhất và giá trị trung bình <br/>\n",
    "(d) Tính phương sai của dãy số $\\sigma^2 = \\frac{\\sum{\\left(a_i - \\mu\\right)^2}}{N - 1}$ với $\\mu = \\frac{\\sum{a_i}}{N}$ và độ lệch chuẩn $var = \\sqrt{\\sigma^2}$"
   ]
  },
  {
   "cell_type": "markdown",
   "id": "f4c079e2-5842-41de-8e02-004099984386",
   "metadata": {
    "jp-MarkdownHeadingCollapsed": true
   },
   "source": [
    "##### Bài làm:"
   ]
  },
  {
   "cell_type": "code",
   "execution_count": 40,
   "id": "68bd103b-feeb-42cb-8d59-8f7878ceea5d",
   "metadata": {},
   "outputs": [
    {
     "name": "stdout",
     "output_type": "stream",
     "text": [
      "2. Các thao tác tính toán đơn giản với dãy số a\n",
      "a. Binh phuong a:  [14400, 33489, 25600, 30625, 21025, 26244, 36100, 25600, 23104, 26244]\n",
      "\n",
      "b. Do dai a:  10\n",
      "\n",
      "c. Gia tri lon nhat: [190], gia tri nho nhat: [120], gia tri trung binh [160.9]\n",
      "\n",
      "d. Phuong sai: [ 354.29] va do lech chuan: [ 18.82]\n"
     ]
    }
   ],
   "source": [
    "print(\"2. Các thao tác tính toán đơn giản với dãy số a\")\n",
    "#xử lí\n",
    "a2=[]\n",
    "for i in a:\n",
    "    a2.append( i**2)\n",
    "na=len(a)\n",
    "print(\"a. Binh phuong a: \", a2)\n",
    "print(\"\\nb. Do dai a: \", na)\n",
    "\n",
    "#xử lí\n",
    "v_max = np.max(a)\n",
    "v_min =np.min(a)\n",
    "v_avg=np.mean(a)\n",
    "print(f'\\nc. Gia tri lon nhat: [{v_max}], gia tri nho nhat: [{v_min}], gia tri trung binh [{v_avg}]')\n",
    "\n",
    "#xử lí\n",
    "v_sigma2 = np.var(a)\n",
    "v_var=np.std(a)\n",
    "\n",
    "print(f'\\nd. Phuong sai: [{v_sigma2: .2f}] va do lech chuan: [{v_var: .2f}]')"
   ]
  },
  {
   "cell_type": "markdown",
   "id": "046477cb-7679-4378-8807-6458d076bddc",
   "metadata": {
    "jp-MarkdownHeadingCollapsed": true
   },
   "source": [
    "#### 3. Toán tử trên hai dãy số\n",
    "(a) Tạo dãy số x có 10 phần tử từ 1 đến 10 (dùng hàm np.arange) <br/>\n",
    "(b) Liệt kê và đếm số lượng phần tử chẵn và lẻ có trong dãy a và x <br/>\n",
    "(c) Tính khoảng cách giữa các phần tử ở vị trí lẻ của mảng a và x với $s = \\sqrt{\\sum{\\left(a_i - x_i\\right)^2}}$ với $i$ lẻ<br/>\n",
    "(d) Tìm khoảng cách nhỏ nhất giữa tập a và x. Ví dụ: min({1, 3, 5}, {2, 10, 8}} = 1"
   ]
  },
  {
   "cell_type": "markdown",
   "id": "25517b1f-edd6-470e-85f8-ec43d99ef7a6",
   "metadata": {
    "jp-MarkdownHeadingCollapsed": true
   },
   "source": [
    "##### Bài làm:"
   ]
  },
  {
   "cell_type": "code",
   "execution_count": 41,
   "id": "2dfcb48b-6779-4c6c-9f3d-5dce99ef072d",
   "metadata": {},
   "outputs": [
    {
     "name": "stdout",
     "output_type": "stream",
     "text": [
      "3. Xử lý khác trên dãy số\n",
      "a. Day so x: [ 1  2  3  4  5  6  7  8  9 10]\n"
     ]
    }
   ],
   "source": [
    "print(\"3. Xử lý khác trên dãy số\")\n",
    "#Xử lí\n",
    "x = np.arange(1,11)\n",
    "\n",
    "print(f'a. Day so x: {x}')"
   ]
  },
  {
   "cell_type": "code",
   "execution_count": 46,
   "id": "0e943d99-36fe-4c64-9fb8-74ca51edf08a",
   "metadata": {},
   "outputs": [
    {
     "name": "stdout",
     "output_type": "stream",
     "text": [
      "b. Cac phan tu chan trong day a, b: \n",
      "+ Day a: [120 183 160 175 145 162 190 160 152 162]\n",
      "  - Loc chan: [True, False, True, False, False, True, True, True, True, True]\n",
      "  - Day chua phan tu chan trong a: [120, 160, 162, 190, 160, 152, 162], so luong 7 phan tu.\n",
      "+ Day x: [ 1  2  3  4  5  6  7  8  9 10]\n",
      "  - Loc chan: [False, True, False, True, False, True, False, True, False, True]\n",
      "  - Day chua phan tu chan trong a: [2, 4, 6, 8, 10], so luong 5 phan tu.\n"
     ]
    }
   ],
   "source": [
    "#Xử lí\n",
    "a_la_chan =[x % 2 ==0 for x in a]\n",
    "a_chan = [i for i in a  if i % 2 ==0]\n",
    "n_a_chan = len(a_chan)\n",
    "print( \"b. Cac phan tu chan trong day a, b: \")\n",
    "print(f\"+ Day a: {a}\")\n",
    "print(f\"  - Loc chan: {a_la_chan}\")\n",
    "print(f\"  - Day chua phan tu chan trong a: {a_chan}, so luong {n_a_chan} phan tu.\")\n",
    "x_la_chan =[i % 2 ==0 for i in x]\n",
    "x_chan = [i for i in x  if i % 2 ==0]\n",
    "n_x_chan = len(x_chan)\n",
    "print(f\"+ Day x: {x}\")\n",
    "print(f\"  - Loc chan: {x_la_chan}\")\n",
    "print(f\"  - Day chua phan tu chan trong a: {x_chan}, so luong {n_x_chan} phan tu.\")"
   ]
  },
  {
   "cell_type": "code",
   "execution_count": 48,
   "id": "8d0d77ee-50ae-4caa-b015-353b169024ea",
   "metadata": {},
   "outputs": [
    {
     "name": "stdout",
     "output_type": "stream",
     "text": [
      "c.Tính hiệu các phần tử ở vị trí lẻ của mảng a và x: \n",
      "+ Vi tri le trong a va x: [1, 3, 5, 7, 9]\n",
      "+ Day so a: [120 183 160 175 145 162 190 160 152 162] va cac so o vi tri le: [183 175 162 160 162]\n",
      "+ Day so x: [ 1  2  3  4  5  6  7  8  9 10] va cac so o vi tri le: [ 2  4  6  8 10]\n",
      "+ Hieu cua a va x o vi tri le: [181 171 156 152 152]\n",
      "+ Khoang cach cac phan tu cua a va x o vi tri le:  364.07\n"
     ]
    }
   ],
   "source": [
    "#xử lí\n",
    "v_le = list(range(1, len(a), 2))\n",
    "\n",
    "\n",
    "a_le = a[v_le]\n",
    "x_le = x[v_le]\n",
    "\n",
    "hieu_le = a_le - x_le\n",
    "\n",
    "kc_le = np.linalg.norm(a_le - x_le)\n",
    "\n",
    "print( \"c.Tính hiệu các phần tử ở vị trí lẻ của mảng a và x: \")\n",
    "print(f\"+ Vi tri le trong a va x: {v_le}\")\n",
    "print(f\"+ Day so a: {a} va cac so o vi tri le: {a_le}\")\n",
    "print(f\"+ Day so x: {x} va cac so o vi tri le: {x_le}\")\n",
    "print(f\"+ Hieu cua a va x o vi tri le: {hieu_le}\")\n",
    "print(f\"+ Khoang cach cac phan tu cua a va x o vi tri le: {kc_le: .2f}\")"
   ]
  },
  {
   "cell_type": "code",
   "execution_count": 49,
   "id": "c1739d37-7d84-4f30-820c-32c6db7d1936",
   "metadata": {},
   "outputs": [
    {
     "name": "stdout",
     "output_type": "stream",
     "text": [
      "d. Tìm khoảng cách nhỏ nhất giữa tập a và x. Ví dụ: min({1, 3, 5}, {2, 10, 8}} = 1\n",
      "+ Day a: [120 183 160 175 145 162 190 160 152 162]\n",
      "+ Day x: [ 1  2  3  4  5  6  7  8  9 10]\n",
      "+ Khoang cach nho nhat: 110\n"
     ]
    }
   ],
   "source": [
    "print(\"d. Tìm khoảng cách nhỏ nhất giữa tập a và x. Ví dụ: min({1, 3, 5}, {2, 10, 8}} = 1\")\n",
    "\"\"\"\n",
    "Gợi ý: Áp dụng toán tử broatcasting\n",
    "[[1],                    [[1, 1, 1],        [[2, 10, 8],    =   [[-1, -9, -7],\n",
    " [3],   - [2, 10, 8] =    [3, 3, 3],   -     [2, 10, 8],         [ 1, -7, -5],  --> np.min(np.abs(...)) = 1\n",
    " [5]]                     [5, 5, 5]]         [2, 10, 8]]         [ 3, -5, -3]]\n",
    "\"\"\"\n",
    "#Xử lí\n",
    "# Tăng số chiều dùng tại vị trí chiều cuối dùng np.newaxis như sau: a[:, np.newaxis]\n",
    "diff = a[:, np.newaxis] - x  \n",
    "abs_diff = np.abs(diff)      \n",
    "v_min = np.min(abs_diff) \n",
    "\n",
    "print(f\"+ Day a: {a}\")\n",
    "print(f\"+ Day x: {x}\")\n",
    "print(f\"+ Khoang cach nho nhat: {v_min}\")"
   ]
  },
  {
   "cell_type": "markdown",
   "id": "ae4bee78-d5ad-4872-b2ba-9a3e8156becf",
   "metadata": {
    "jp-MarkdownHeadingCollapsed": true
   },
   "source": [
    "#### 4. Sinh ngẫu nhiên dãy số\n",
    "(a) Sinh ngẫu nhiên dãy số có 100 phần tử theo phân bố đều với giá trị trong đoạn [1, 10] và vẽ đồ thị tần số xuất hiện <br/> \n",
    "(b) Sinh ngẫu nhiên N diem (x, y) với y là hàm phân phối chuẩn $N(\\mu = 1, \\sigma^2 = 1.0)$: <br/>\n",
    " $$\n",
    " y = f\\left(x| \\mu, \\sigma\\right) = \\frac{1}{\\sigma\\sqrt{2\\pi}}exp\\left(-\\frac{\\left(x - \\mu\\right)^2}{2\\sigma^2}\\right)\n",
    " $$\n",
    " nơi mà $x \\in [\\mu - 5\\sigma, \\mu + 5\\sigma]$ <br/> \n",
    " (c) Sinh ngẫu nhiên dãy số có 100000 phần tử theo phân bố chuẩn $N(\\mu = 1, \\sigma^2 = 1.0)$ và vẽ đồ thị tần số xuất hiện <br/> <br/> "
   ]
  },
  {
   "cell_type": "markdown",
   "id": "b8340a20-7e3a-4434-9c18-4fa40fc8013b",
   "metadata": {
    "jp-MarkdownHeadingCollapsed": true
   },
   "source": [
    "##### Bài làm:"
   ]
  },
  {
   "cell_type": "code",
   "execution_count": 50,
   "id": "959e6ce5-ab63-457b-a0bd-9700cee03299",
   "metadata": {},
   "outputs": [
    {
     "name": "stdout",
     "output_type": "stream",
     "text": [
      "a. Sinh ngẫu nhiên theo phân bố đều\n",
      "+ Gia tri: [ 1  2  3  4  5  6  7  8  9 10]\n",
      "+ So lan xuat hien: [ 969 1041 1044  972 1060 1011  996  959  924 1024]\n",
      "+ Do thi ham so xuat hien\n"
     ]
    },
    {
     "data": {
      "image/png": "[encoded data removed]",
      "text/plain": [
       "<Figure size 600x600 with 1 Axes>"
      ]
     },
     "metadata": {},
     "output_type": "display_data"
    }
   ],
   "source": [
    "import matplotlib.pyplot as plt  \n",
    "\n",
    "#Xử lí\n",
    "# Sử dụng hàm np.random.randint để sinh dãy số ngẫu nhiên\n",
    "a = np.random.randint(1,11,size=10000)\n",
    "# Sử dụng hàm np.unique để trả về tần số xuất hiện\n",
    "value, cnt = np.unique(a, return_counts=True)\n",
    "\n",
    "print(\"a. Sinh ngẫu nhiên theo phân bố đều\")\n",
    "print(f\"+ Gia tri: {value}\")\n",
    "print(f\"+ So lan xuat hien: {cnt}\")\n",
    "print(\"+ Do thi ham so xuat hien\")\n",
    "plt.figure(figsize=(6,6))      #  kich thuoc ban ve\n",
    "plt.bar(value, cnt)            #  ve cac khoi chu nhat theo day x, y\n",
    "plt.xlim(0, 11)                #  gioi han truc x\n",
    "plt.ylim(0, np.max(cnt) + 10)  #  gioi han truc y\n",
    "plt.savefig(\"4a.png\")          #  luu do thi\n",
    "plt.show()                     #  hien thi do thi"
   ]
  },
  {
   "cell_type": "code",
   "execution_count": 51,
   "id": "7d9d7e58-e301-4168-8c21-aec04e33fd0a",
   "metadata": {},
   "outputs": [
    {
     "name": "stdout",
     "output_type": "stream",
     "text": [
      "b. Sinh cặp (x, y) với y làm hàm phân phối chuẩn\n",
      "+ x: -4.0 <= min [-3.89] <= max [ 6.00] <= 6.0\n",
      "+ Ve ham so y(x)\n"
     ]
    },
    {
     "data": {
      "image/png": "[encoded data removed]",
      "text/plain": [
       "<Figure size 600x600 with 1 Axes>"
      ]
     },
     "metadata": {},
     "output_type": "display_data"
    }
   ],
   "source": [
    "\"\"\" CÁC BẠN LÀM BÀI Ở ĐÂY \"\"\"\n",
    "# Sử dụm hàm np.random.rand() sinh số ngẫu nhiên trong [0,1) --> [0,1) * (b - a) + a --> [a, b)\n",
    "# Sử dụng hàm sau để tính hàm xác suất chuẩn N(m, s): np.sqrt, np.exp\n",
    "x_min, x_max = -4.0, 6.0\n",
    "m, s = 0, 1   # mean = 0, std = 1\n",
    "\n",
    "# Sinh ngẫu nhiên x trong [x_min, x_max]\n",
    "N = 200\n",
    "x = np.random.rand(N) * (x_max - x_min) + x_min\n",
    "\n",
    "# Hàm phân phối chuẩn N(m, s)\n",
    "y = (1 / (s * np.sqrt(2 * np.pi))) * np.exp(-((x - m) ** 2) / (2 * s ** 2))\n",
    "\n",
    "print(\"b. Sinh cặp (x, y) với y làm hàm phân phối chuẩn\")\n",
    "print(f\"+ x: {x_min} <= min [{np.min(x): .2f}] <= max [{np.max(x): .2f}] <= {x_max}\")\n",
    "print(f\"+ Ve ham so y(x)\")\n",
    "plt.figure(figsize=(6,6))      # kich thuoc ban ve\n",
    "plt.scatter(x, y)              # ve cac diem (xi, yi)\n",
    "plt.savefig(\"4b.png\")          #  luu do thi\n",
    "plt.show()                     #  hien thi do thi"
   ]
  },
  {
   "cell_type": "code",
   "execution_count": 53,
   "id": "d919b99e-4cf4-42cb-828b-b02fae769b50",
   "metadata": {},
   "outputs": [
    {
     "name": "stdout",
     "output_type": "stream",
     "text": [
      "c. Sinh day so theo phan phoi chuan\n",
      "+ x: len = 100000, min [-3.089388555073917], max [5.738795844833184]\n",
      "+ Mat so xac suat cua day so x\n"
     ]
    },
    {
     "data": {
      "image/png": "[encoded data removed]",
      "text/plain": [
       "<Figure size 600x600 with 1 Axes>"
      ]
     },
     "metadata": {},
     "output_type": "display_data"
    }
   ],
   "source": [
    "\"\"\" CÁC BẠN LÀM BÀI Ở ĐÂY \"\"\"\n",
    "m, s = 1, 1     # mean = 1, std = 1\n",
    "N = 100000      # số lượng mẫu\n",
    "\n",
    "# Sinh dữ liệu N(m, s^2)\n",
    "x = m + np.random.randn(N) * s\n",
    "\n",
    "# Tính histogram với mật số xác suất\n",
    "cnt, edges = np.histogram(x, bins=300, density=True)\n",
    "\n",
    "# Tính tâm của mỗi bin\n",
    "val = (edges[:-1] + edges[1:]) / 2\n",
    "\n",
    "print( \"c. Sinh day so theo phan phoi chuan\")\n",
    "print(f\"+ x: len = {len(x)}, min [{np.min(x)}], max [{np.max(x)}]\")\n",
    "print(f\"+ Mat so xac suat cua day so x\")\n",
    "plt.figure(figsize=(6,6))      # kich thuoc ban ve\n",
    "plt.xlim(np.min(val), np.max(val))\n",
    "plt.scatter(val, cnt)\n",
    "plt.show()"
   ]
  },
  {
   "cell_type": "markdown",
   "id": "16fd07fe-87bc-49d9-bbff-28075ce4e10c",
   "metadata": {},
   "source": [
    "### Bài 2. Tính toán trên ma trận"
   ]
  },
  {
   "cell_type": "markdown",
   "id": "cfd4ed30-6587-4266-88bc-14b6113e2b96",
   "metadata": {
    "jp-MarkdownHeadingCollapsed": true
   },
   "source": [
    "#### 1. Tạo ma trận a có M = 6 dòng, N = 4 cột"
   ]
  },
  {
   "cell_type": "markdown",
   "id": "a50bd6f7-5b95-4bd3-b9ae-6b9eabb37948",
   "metadata": {},
   "source": [
    "##### Bài làm:"
   ]
  },
  {
   "cell_type": "code",
   "execution_count": 2,
   "id": "f5345fb3-3c0b-4397-b4d9-f8344fdc81d7",
   "metadata": {},
   "outputs": [
    {
     "name": "stdout",
     "output_type": "stream",
     "text": [
      "Ma trận a: \n",
      " [[157 169 138 186]\n",
      " [184 111 121 178]\n",
      " [196 131 121 141]\n",
      " [150 160 141 165]\n",
      " [128 137 136 191]\n",
      " [194 185 106 119]]\n"
     ]
    }
   ],
   "source": [
    "import numpy as np\n",
    "# a = np.random.randint(100, 200, (6, 4))\n",
    "#Xử lí\n",
    "a = np.random.randint(100, 200, (6, 4))\n",
    "\n",
    "print(\"Ma trận a: \\n\", a)"
   ]
  },
  {
   "cell_type": "markdown",
   "id": "df80a67a-654e-4e91-8ea5-5d64cc9ce19a",
   "metadata": {
    "jp-MarkdownHeadingCollapsed": true
   },
   "source": [
    "#### 2. Các thao tác trên ma trận a\n",
    "(a) In ra ma trận chuyển vị <br/>\n",
    "(b) In ra phần tử ở vị trí dòng 2 cột 3 <br/>\n",
    "(c) Trích xuất dòng đầu, dòng cuối, dòng 2 <br/>\n",
    "(d) Trích xuất cột kế cuối, cột đầu <br/>\n",
    "(e) Đảo các giá trị trên từng cột <br/>\n",
    "(f) Tính tổng các dòng, trung bình các cột <br/\n",
    "                                               >"
   ]
  },
  {
   "cell_type": "markdown",
   "id": "b314f447-66b5-48b3-b084-4416d9d62e16",
   "metadata": {},
   "source": [
    "##### Bài làm:"
   ]
  },
  {
   "cell_type": "code",
   "execution_count": 4,
   "id": "bcbcdc02-d5d5-49a1-add7-a5308e0406d3",
   "metadata": {},
   "outputs": [
    {
     "name": "stdout",
     "output_type": "stream",
     "text": [
      "a. In ra ma trận chuyển vị: \n",
      "[[157 184 196 150 128 194]\n",
      " [169 111 131 160 137 185]\n",
      " [138 121 121 141 136 106]\n",
      " [186 178 141 165 191 119]]\n",
      "\n",
      "b. In ra phần tử ở vị trí dòng 2 cột 3: 121\n",
      "\n",
      "c. Trích xuất các dòng: \n",
      "   + Dòng đầu : [157 169 138 186]\n",
      "   + Dòng cuối: [194 185 106 119]\n",
      "   + Dòng hai : [184 111 121 178]\n",
      "\n",
      "d. Trích xuất các cột: \n",
      "   + Cột kế cuối: [138 121 121 141 136 106]\n",
      "   + Cột đầu: [157 184 196 150 128 194]\n",
      "\n",
      "e. Đảo các giá trị trên từng cột: \n",
      " [[194 185 106 119]\n",
      " [128 137 136 191]\n",
      " [150 160 141 165]\n",
      " [196 131 121 141]\n",
      " [184 111 121 178]\n",
      " [157 169 138 186]]\n",
      "\n",
      "f. Phép tính theo trục:\n",
      "   + Tổng dòng: [650 594 589 616 592 604]\n",
      "   + Trung bình cột: [168.16666667 148.83333333 127.16666667 163.33333333]\n"
     ]
    }
   ],
   "source": [
    "#Xử lí\n",
    "# a. Ma trận chuyển vị\n",
    "a_t = a.T\n",
    "# b. Phần tử ở dòng 2, cột 3 (chỉ số bắt đầu từ 0 -> tức là a[1, 2])\n",
    "v_23 = a[1, 2]\n",
    "# c. Trích xuất các dòng\n",
    "d_0 = a[0]        # dòng đầu\n",
    "d_last = a[-1]    # dòng cuối\n",
    "d_2 = a[1]        # dòng thứ hai\n",
    "# d. Trích xuất các cột\n",
    "c_l1 = a[:, -2]   # cột kế cuối\n",
    "c_0 = a[:, 0]     # cột đầu\n",
    "# e. Đảo các giá trị trên từng cột (lật ngược ma trận theo dòng)\n",
    "dao_cot = a[::-1, :]\n",
    "# f. Phép tính theo trục\n",
    "tong_dong = a.sum(axis=1)       \n",
    "tb_cot = a.mean(axis=0)  \n",
    "print(f\"a. In ra ma trận chuyển vị: \\n{a_t}\")\n",
    "print(f\"\\nb. In ra phần tử ở vị trí dòng 2 cột 3: {v_23}\")\n",
    "print(f\"\\nc. Trích xuất các dòng: \")\n",
    "print(f\"   + Dòng đầu : {d_0}\")\n",
    "print(f\"   + Dòng cuối: {d_last}\")\n",
    "print(f\"   + Dòng hai : {d_2}\")\n",
    "print(f\"\\nd. Trích xuất các cột: \")\n",
    "print(f\"   + Cột kế cuối: {c_l1}\")\n",
    "print(f\"   + Cột đầu: {c_0}\")\n",
    "print(f\"\\ne. Đảo các giá trị trên từng cột: \\n {dao_cot}\")\n",
    "print(f\"\\nf. Phép tính theo trục:\")\n",
    "print(f\"   + Tổng dòng: {tong_dong}\")\n",
    "print(f\"   + Trung bình cột: {tb_cot}\")"
   ]
  },
  {
   "cell_type": "markdown",
   "id": "c1552400-6b81-48f4-aaf2-72282d9360a5",
   "metadata": {},
   "source": [
    "#### 3. Các toán tử trên hai ma trận\n",
    "(a) Tạo hai ma trận A và B có 4 dòng x 3 cột và X có 3 dòng x 4 cột <br/>\n",
    "(b) Tính tổng, hiệu, tích của từng phần tử trên hai ma trận A và B <br/>\n",
    "(c) Tính phép nhân ma trận Y = A x X"
   ]
  },
  {
   "cell_type": "markdown",
   "id": "c97d3ed1-6188-4ecc-9160-67cf35cce8ab",
   "metadata": {},
   "source": [
    "##### Bài làm:"
   ]
  },
  {
   "cell_type": "code",
   "execution_count": 6,
   "id": "199ece59-f75a-4df1-8aeb-755a11185e3d",
   "metadata": {},
   "outputs": [
    {
     "name": "stdout",
     "output_type": "stream",
     "text": [
      "a. Tạo hai ma trận A và B có 4 dòng x 3 cột và X có 3 dòng x 4 cột\n",
      "+ Ma tran A: \n",
      "[[2 3 3]\n",
      " [2 3 2]\n",
      " [4 2 2]\n",
      " [1 2 5]]\n",
      "+ Ma tran B: \n",
      "[[4 4 4]\n",
      " [4 4 3]\n",
      " [5 3 1]\n",
      " [1 2 4]]\n",
      "+ Ma tran X: \n",
      "[[5 4 1 4]\n",
      " [3 4 1 2]\n",
      " [3 2 4 4]]\n",
      "\n",
      "b. Tính tổng, hiệu, tích của từng phần tử trên hai ma trận A và B\n",
      "A + B = \n",
      "[[6 7 7]\n",
      " [6 7 5]\n",
      " [9 5 3]\n",
      " [2 4 9]]\n",
      "A - B = \n",
      "[[-2 -1 -1]\n",
      " [-2 -1 -1]\n",
      " [-1 -1  1]\n",
      " [ 0  0  1]]\n",
      "A . B = \n",
      "[[ 8 12 12]\n",
      " [ 8 12  6]\n",
      " [20  6  2]\n",
      " [ 1  4 20]]\n",
      "\n",
      "c. Tính phép nhân ma trận Y = A x X\n",
      "Y = A x X --> shape A ((4, 3)) x shape X ((3, 4)) = shape Y ((4, 4)) \n",
      "[[28 26 17 26]\n",
      " [25 24 13 22]\n",
      " [32 28 14 28]\n",
      " [26 22 23 28]]\n"
     ]
    }
   ],
   "source": [
    "import numpy as np\n",
    "\n",
    "# (a) Khai báo các ma trận\n",
    "A = np.array([\n",
    "    [2, 3, 3],\n",
    "    [2, 3, 2],\n",
    "    [4, 2, 2],\n",
    "    [1, 2, 5]\n",
    "])\n",
    "\n",
    "B = np.array([\n",
    "    [4, 4, 4],\n",
    "    [4, 4, 3],\n",
    "    [5, 3, 1],\n",
    "    [1, 2, 4]\n",
    "])\n",
    "\n",
    "X = np.array([\n",
    "    [5, 4, 1, 4],\n",
    "    [3, 4, 1, 2],\n",
    "    [3, 2, 4, 4]\n",
    "])\n",
    "\n",
    "# (b) Các toán tử trên ma trận A và B\n",
    "AB_add = A + B\n",
    "AB_sub = A - B\n",
    "AB_mul = A * B   # tích phần tử\n",
    "\n",
    "# (c) Nhân ma trận\n",
    "Y = A.dot(X)\n",
    "\n",
    "print(\"a. Tạo hai ma trận A và B có 4 dòng x 3 cột và X có 3 dòng x 4 cột\")\n",
    "print(f\"+ Ma tran A: \\n{A}\")\n",
    "print(f\"+ Ma tran B: \\n{B}\")\n",
    "print(f\"+ Ma tran X: \\n{X}\")\n",
    "\n",
    "print(\"\\nb. Tính tổng, hiệu, tích của từng phần tử trên hai ma trận A và B\")\n",
    "print(f\"A + B = \\n{AB_add}\")\n",
    "print(f\"A - B = \\n{AB_sub}\")\n",
    "print(f\"A . B = \\n{AB_mul}\")\n",
    "\n",
    "print(\"\\nc. Tính phép nhân ma trận Y = A x X\")\n",
    "print(f\"Y = A x X --> shape A ({A.shape}) x shape X ({X.shape}) = shape Y ({Y.shape}) \\n{Y}\")"
   ]
  },
  {
   "cell_type": "markdown",
   "id": "812178fa-f3d1-4047-8056-8fec0861b482",
   "metadata": {},
   "source": [
    "#### 4. Giải hệ phương trình tuyến tính\n",
    "Giải hệ phương trình tuyến tính sau:\n",
    "$$\n",
    "\\left\\{\\begin{matrix}\n",
    "        4x_1  + 3x_2 - 5x_3 = 2 \\\\ \n",
    "        -2x_1 - 4x_2 + 5x_3 = 5 \\\\ \n",
    "        8x_1 + 8x_2 = -3 \\\\ \n",
    "\\end{matrix}\\right.\n",
    "$$"
   ]
  },
  {
   "cell_type": "markdown",
   "id": "25f7096a-618d-43bc-9c3c-2478e26dbd13",
   "metadata": {},
   "source": [
    "##### Bài làm:"
   ]
  },
  {
   "cell_type": "code",
   "execution_count": 7,
   "id": "5d2e671e-32f9-457c-837f-9a644a09236e",
   "metadata": {},
   "outputs": [
    {
     "name": "stdout",
     "output_type": "stream",
     "text": [
      "+ Ma tran A: \n",
      "[[ 4  3 -5]\n",
      " [-2 -4  5]\n",
      " [ 8  8  0]]\n",
      "+ Vector y: [ 2  5 -3]\n",
      "+ Nghiem x: [ 2.20833333 -2.58333333 -0.18333333]\n",
      "+ Kiem tra: yy = Ax = [ 2.  5. -3.] ==> ||yy -y ||_2 =  0.00\n"
     ]
    }
   ],
   "source": [
    "import numpy as np\n",
    "\n",
    "# Ma trận A (3x3) và vector y (3x1)\n",
    "A = np.array([\n",
    "    [4, 3, -5],\n",
    "    [-2, -4, 5],\n",
    "    [8, 8, 0]\n",
    "])\n",
    "\n",
    "y = np.array([2, 5, -3])\n",
    "\n",
    "# Giải hệ phương trình Ax = y\n",
    "x = np.linalg.solve(A, y)\n",
    "\n",
    "# Kiểm tra lại: yy = A @ x\n",
    "yy = A.dot(x)\n",
    "\n",
    "# Chuẩn sai số ||yy - y||_2\n",
    "diff = np.linalg.norm(yy - y, 2)\n",
    "\n",
    "print(f\"+ Ma tran A: \\n{A}\")\n",
    "print(f\"+ Vector y: {y}\")\n",
    "print(f\"+ Nghiem x: {x}\")\n",
    "print(f\"+ Kiem tra: yy = Ax = {yy} ==> ||yy -y ||_2 = {diff: .2f}\")"
   ]
  },
  {
   "cell_type": "markdown",
   "id": "b41d2ff0-8d24-4a38-88d7-5c30aa61cd4e",
   "metadata": {},
   "source": [
    "## Bài tập áp dụng"
   ]
  },
  {
   "cell_type": "markdown",
   "id": "c88184dc-c94e-4652-8e34-fb8f7c86d7a4",
   "metadata": {},
   "source": [
    "### Bài 3. Tính gần đúng số pi dùng phương pháp Monte Carlo\n",
    "\n",
    "Vẽ một đường tròn $C$ có bán kính $r$ nội tiếp một hình vuông $C$, và đặt ngẫu nhiên $N$ chấm lên hình vuông. Tỉ lệ các chấm nằm trong hình tròn trên tổng số chấm xấp xỉ bằng diện tích của hình tròn chia cho hình vuông như sau:\n",
    "$$\n",
    "\\frac{N_C}{N} \\approx  \\frac{\\mathbb{S}_C}{\\mathbb{S}_N}\n",
    "$$\n",
    "nơi mà $N_C$ là các chấm trong hình tròn, $N$ là tổng số chấm, $\\mathbb{S}_C$ và $\\mathbb{S}_N$ lần lượt là diện tích của hình tròn và hình vuông.\n",
    "$$ \\mathbb{S}_C = \\pi * r^2 $$\n",
    "$$ \\mathbb{S}_N = (2*r)^2 = 4r^2 $$\n",
    "Do đó, công thức trên trở thành:\n",
    "$$\n",
    "\\frac{N_C}{N} \\approx \\frac{\\pi * r^2}{4r^2} = \\frac{\\pi}{4}\n",
    "$$\n",
    "Suy ra, ta có giá trị số $\\pi$ được tính như sau:\n",
    "$$\n",
    "\\pi \\approx \\frac{4N_C}{N}\n",
    "$$\n",
    "\n",
    "Các bạn hãy lập trình tính sấp xỉ số $\\pi$ dùng phương pháp Monte Carlo. Cho biết các sai số với $N = 100$, $N = 10000$, và $N = 1000000$. Vẽ đồ thị minh họa cho chương trình.\n",
    "\n",
    "**Hướng dẫn**: Viết chương trình phát sinh $N$ điểm $(x_i, y_i)$ với $x_i, y_i \\in [-1, -1]$. $(x_i, y_i)$ thuộc hình tròn tâm $(0, 0)$ bán kính 1 nội tiếp hình vuông có tâm tại $(0, 0)$ độ dài cạnh 2 khi và chỉ khi $x_i^2 + y_i^2 <= 1$."
   ]
  },
  {
   "cell_type": "markdown",
   "id": "5298412a-365e-4eb7-ab1d-f1fed83e2c80",
   "metadata": {},
   "source": [
    "##### Bài làm:"
   ]
  },
  {
   "cell_type": "code",
   "execution_count": 11,
   "id": "d6118f48-ab16-4f94-8b78-1aacaeb765da",
   "metadata": {},
   "outputs": [
    {
     "data": {
      "image/png": "[encoded data removed]",
      "text/plain": [
       "<Figure size 600x600 with 1 Axes>"
      ]
     },
     "metadata": {},
     "output_type": "display_data"
    }
   ],
   "source": [
    "import matplotlib.pyplot as plt # khai báo thư viện vẽ pyplot\n",
    "import math\n",
    "\n",
    "circle = plt.Circle((0, 0), 1, color='g') # tạo đối tượng vòng tròn\n",
    "\n",
    "fig, ax = plt.subplots(figsize=(6, 6)) # lấy figure và vùng vẽ\n",
    "\n",
    "plt.plot(0, 0, 'o', color=(0.9, 0.9, 1.0), alpha=0.8) # vẽ điểm tại tâm (0,0)\n",
    "ax.add_patch(circle) # thêm vòng tròn vào vùng vẽ\n",
    "\n",
    "x = 0.75; y = math.sqrt(1 - (x ** 2)) # (x = 0.75, y = căn bậc 2 của 1 - x^2)\n",
    "plt.arrow(0, 0, x, y)\n",
    "\n",
    "plt.xlim(-1, 1) # giới hạn trục x\n",
    "plt.ylim(-1, 1) # giới hạn trục y\n",
    "\n",
    "plt.savefig('pi.png') # lưu đồ thị xuống tập tin\n",
    "plt.show()            # hiển thị đồ thị"
   ]
  },
  {
   "cell_type": "code",
   "execution_count": 28,
   "id": "e5fbbca6-10fd-4ac9-be7c-761688f33387",
   "metadata": {},
   "outputs": [],
   "source": [
    "import numpy as np\n",
    "\n",
    "def calc_pi_monte_carlo(n = 100):\n",
    "    \n",
    "    x = np.random.uniform(-1, 1, n)\n",
    "    y = np.random.uniform(-1, 1, n)\n",
    "    inside_circle = (x**2 + y**2) <= 1\n",
    "\n",
    "    pi = 4 * np.sum(inside_circle) / n\n",
    "    \n",
    "    return pi\n",
    "# calc_pi_monte_carlo"
   ]
  },
  {
   "cell_type": "code",
   "execution_count": 30,
   "id": "183c40fc-761e-4341-8945-aa5944fdb7d5",
   "metadata": {},
   "outputs": [
    {
     "name": "stdout",
     "output_type": "stream",
     "text": [
      "epsilon(n=100):  0.33840734641020687\n",
      "epsilon(n=100):  -0.18159265358979315\n",
      "epsilon(n=10000):  0.004407346410206792\n",
      "epsilon(n=10000):  -0.005992653589792951\n",
      "epsilon(n=1000000):  0.0005073464102069991\n",
      "epsilon(n=1000000):  1.934641020673311e-05\n"
     ]
    }
   ],
   "source": [
    "import math\n",
    "\n",
    "print(\"epsilon(n=100): \", calc_pi_monte_carlo(n = 100) - math.pi)\n",
    "print(\"epsilon(n=100): \", calc_pi_monte_carlo(n = 100) - math.pi)\n",
    "print(\"epsilon(n=10000): \", calc_pi_monte_carlo(n = 10000) - math.pi)\n",
    "print(\"epsilon(n=10000): \", calc_pi_monte_carlo(n = 10000) - math.pi)\n",
    "print(\"epsilon(n=1000000): \", calc_pi_monte_carlo(n = 1000000) - math.pi)\n",
    "print(\"epsilon(n=1000000): \", calc_pi_monte_carlo(n = 1000000) - math.pi)"
   ]
  },
  {
   "cell_type": "markdown",
   "id": "cb5b3ff7-8a0f-4cc5-839e-896603ede9f0",
   "metadata": {},
   "source": [
    "## END"
   ]
  },
  {
   "cell_type": "code",
   "execution_count": 34,
   "id": "fc3fdbc3-155b-4d00-a875-328b423726c8",
   "metadata": {},
   "outputs": [
    {
     "name": "stdout",
     "output_type": "stream",
     "text": [
      "This application is used to convert notebook files (*.ipynb)\n",
      "        to various other formats.\n",
      "\n",
      "        WARNING: THE COMMANDLINE INTERFACE MAY CHANGE IN FUTURE RELEASES.\n",
      "\n",
      "Options\n",
      "=======\n",
      "The options below are convenience aliases to configurable class-options,\n",
      "as listed in the \"Equivalent to\" description-line of the aliases.\n",
      "To see all configurable class-options for some <cmd>, use:\n",
      "    <cmd> --help-all\n",
      "\n",
      "--debug\n",
      "    set log level to logging.DEBUG (maximize logging output)\n",
      "    Equivalent to: [--Application.log_level=10]\n",
      "--show-config\n",
      "    Show the application's configuration (human-readable format)\n",
      "    Equivalent to: [--Application.show_config=True]\n",
      "--show-config-json\n",
      "    Show the application's configuration (json format)\n",
      "    Equivalent to: [--Application.show_config_json=True]\n",
      "--generate-config\n",
      "    generate default config file\n",
      "    Equivalent to: [--JupyterApp.generate_config=True]\n",
      "-y\n",
      "    Answer yes to any questions instead of prompting.\n",
      "    Equivalent to: [--JupyterApp.answer_yes=True]\n",
      "--execute\n",
      "    Execute the notebook prior to export.\n",
      "    Equivalent to: [--ExecutePreprocessor.enabled=True]\n",
      "--allow-errors\n",
      "    Continue notebook execution even if one of the cells throws an error and include the error message in the cell output (the default behaviour is to abort conversion). This flag is only relevant if '--execute' was specified, too.\n",
      "    Equivalent to: [--ExecutePreprocessor.allow_errors=True]\n",
      "--stdin\n",
      "    read a single notebook file from stdin. Write the resulting notebook with default basename 'notebook.*'\n",
      "    Equivalent to: [--NbConvertApp.from_stdin=True]\n",
      "--stdout\n",
      "    Write notebook output to stdout instead of files.\n",
      "    Equivalent to: [--NbConvertApp.writer_class=StdoutWriter]\n",
      "--inplace\n",
      "    Run nbconvert in place, overwriting the existing notebook (only\n",
      "            relevant when converting to notebook format)\n",
      "    Equivalent to: [--NbConvertApp.use_output_suffix=False --NbConvertApp.export_format=notebook --FilesWriter.build_directory=]\n",
      "--clear-output\n",
      "    Clear output of current file and save in place,\n",
      "            overwriting the existing notebook.\n",
      "    Equivalent to: [--NbConvertApp.use_output_suffix=False --NbConvertApp.export_format=notebook --FilesWriter.build_directory= --ClearOutputPreprocessor.enabled=True]\n",
      "--coalesce-streams\n",
      "    Coalesce consecutive stdout and stderr outputs into one stream (within each cell).\n",
      "    Equivalent to: [--NbConvertApp.use_output_suffix=False --NbConvertApp.export_format=notebook --FilesWriter.build_directory= --CoalesceStreamsPreprocessor.enabled=True]\n",
      "--no-prompt\n",
      "    Exclude input and output prompts from converted document.\n",
      "    Equivalent to: [--TemplateExporter.exclude_input_prompt=True --TemplateExporter.exclude_output_prompt=True]\n",
      "--no-input\n",
      "    Exclude input cells and output prompts from converted document.\n",
      "            This mode is ideal for generating code-free reports.\n",
      "    Equivalent to: [--TemplateExporter.exclude_output_prompt=True --TemplateExporter.exclude_input=True --TemplateExporter.exclude_input_prompt=True]\n",
      "--allow-chromium-download\n",
      "    Whether to allow downloading chromium if no suitable version is found on the system.\n",
      "    Equivalent to: [--WebPDFExporter.allow_chromium_download=True]\n",
      "--disable-chromium-sandbox\n",
      "    Disable chromium security sandbox when converting to PDF..\n",
      "    Equivalent to: [--WebPDFExporter.disable_sandbox=True]\n",
      "--show-input\n",
      "    Shows code input. This flag is only useful for dejavu users.\n",
      "    Equivalent to: [--TemplateExporter.exclude_input=False]\n",
      "--embed-images\n",
      "    Embed the images as base64 dataurls in the output. This flag is only useful for the HTML/WebPDF/Slides exports.\n",
      "    Equivalent to: [--HTMLExporter.embed_images=True]\n",
      "--sanitize-html\n",
      "    Whether the HTML in Markdown cells and cell outputs should be sanitized..\n",
      "    Equivalent to: [--HTMLExporter.sanitize_html=True]\n",
      "--log-level=<Enum>\n",
      "    Set the log level by value or name.\n",
      "    Choices: any of [0, 10, 20, 30, 40, 50, 'DEBUG', 'INFO', 'WARN', 'ERROR', 'CRITICAL']\n",
      "    Default: 30\n",
      "    Equivalent to: [--Application.log_level]\n",
      "--config=<Unicode>\n",
      "    Full path of a config file.\n",
      "    Default: ''\n",
      "    Equivalent to: [--JupyterApp.config_file]\n",
      "--to=<Unicode>\n",
      "    The export format to be used, either one of the built-in formats\n",
      "            ['asciidoc', 'custom', 'html', 'latex', 'markdown', 'notebook', 'pdf', 'python', 'qtpdf', 'qtpng', 'rst', 'script', 'slides', 'webpdf']\n",
      "            or a dotted object name that represents the import path for an\n",
      "            ``Exporter`` class\n",
      "    Default: ''\n",
      "    Equivalent to: [--NbConvertApp.export_format]\n",
      "--template=<Unicode>\n",
      "    Name of the template to use\n",
      "    Default: ''\n",
      "    Equivalent to: [--TemplateExporter.template_name]\n",
      "--template-file=<Unicode>\n",
      "    Name of the template file to use\n",
      "    Default: None\n",
      "    Equivalent to: [--TemplateExporter.template_file]\n",
      "--theme=<Unicode>\n",
      "    Template specific theme(e.g. the name of a JupyterLab CSS theme distributed\n",
      "    as prebuilt extension for the lab template)\n",
      "    Default: 'light'\n",
      "    Equivalent to: [--HTMLExporter.theme]\n",
      "--sanitize_html=<Bool>\n",
      "    Whether the HTML in Markdown cells and cell outputs should be sanitized.This\n",
      "    should be set to True by nbviewer or similar tools.\n",
      "    Default: False\n",
      "    Equivalent to: [--HTMLExporter.sanitize_html]\n",
      "--writer=<DottedObjectName>\n",
      "    Writer class used to write the\n",
      "                                        results of the conversion\n",
      "    Default: 'FilesWriter'\n",
      "    Equivalent to: [--NbConvertApp.writer_class]\n",
      "--post=<DottedOrNone>\n",
      "    PostProcessor class used to write the\n",
      "                                        results of the conversion\n",
      "    Default: ''\n",
      "    Equivalent to: [--NbConvertApp.postprocessor_class]\n",
      "--output=<Unicode>\n",
      "    Overwrite base name use for output files.\n",
      "                Supports pattern replacements '{notebook_name}'.\n",
      "    Default: '{notebook_name}'\n",
      "    Equivalent to: [--NbConvertApp.output_base]\n",
      "--output-dir=<Unicode>\n",
      "    Directory to write output(s) to. Defaults\n",
      "                                  to output to the directory of each notebook. To recover\n",
      "                                  previous default behaviour (outputting to the current\n",
      "                                  working directory) use . as the flag value.\n",
      "    Default: ''\n",
      "    Equivalent to: [--FilesWriter.build_directory]\n",
      "--reveal-prefix=<Unicode>\n",
      "    The URL prefix for reveal.js (version 3.x).\n",
      "            This defaults to the reveal CDN, but can be any url pointing to a copy\n",
      "            of reveal.js.\n",
      "            For speaker notes to work, this must be a relative path to a local\n",
      "            copy of reveal.js: e.g., \"reveal.js\".\n",
      "            If a relative path is given, it must be a subdirectory of the\n",
      "            current directory (from which the server is run).\n",
      "            See the usage documentation\n",
      "            (https://nbconvert.readthedocs.io/en/latest/usage.html#reveal-js-html-slideshow)\n",
      "            for more details.\n",
      "    Default: ''\n",
      "    Equivalent to: [--SlidesExporter.reveal_url_prefix]\n",
      "--nbformat=<Enum>\n",
      "    The nbformat version to write.\n",
      "            Use this to downgrade notebooks.\n",
      "    Choices: any of [1, 2, 3, 4]\n",
      "    Default: 4\n",
      "    Equivalent to: [--NotebookExporter.nbformat_version]\n",
      "\n",
      "Examples\n",
      "--------\n",
      "\n",
      "    The simplest way to use nbconvert is\n",
      "\n",
      "            > jupyter nbconvert mynotebook.ipynb --to html\n",
      "\n",
      "            Options include ['asciidoc', 'custom', 'html', 'latex', 'markdown', 'notebook', 'pdf', 'python', 'qtpdf', 'qtpng', 'rst', 'script', 'slides', 'webpdf'].\n",
      "\n",
      "            > jupyter nbconvert --to latex mynotebook.ipynb\n",
      "\n",
      "            Both HTML and LaTeX support multiple output templates. LaTeX includes\n",
      "            'base', 'article' and 'report'.  HTML includes 'basic', 'lab' and\n",
      "            'classic'. You can specify the flavor of the format used.\n",
      "\n",
      "            > jupyter nbconvert --to html --template lab mynotebook.ipynb\n",
      "\n",
      "            You can also pipe the output to stdout, rather than a file\n",
      "\n",
      "            > jupyter nbconvert mynotebook.ipynb --stdout\n",
      "\n",
      "            PDF is generated via latex\n",
      "\n",
      "            > jupyter nbconvert mynotebook.ipynb --to pdf\n",
      "\n",
      "            You can get (and serve) a Reveal.js-powered slideshow\n",
      "\n",
      "            > jupyter nbconvert myslides.ipynb --to slides --post serve\n",
      "\n",
      "            Multiple notebooks can be given at the command line in a couple of\n",
      "            different ways:\n",
      "\n",
      "            > jupyter nbconvert notebook*.ipynb\n",
      "            > jupyter nbconvert notebook1.ipynb notebook2.ipynb\n",
      "\n",
      "            or you can specify the notebooks list in a config file, containing::\n",
      "\n",
      "                c.NbConvertApp.notebooks = [\"my_notebook.ipynb\"]\n",
      "\n",
      "            > jupyter nbconvert --config mycfg.py\n",
      "\n",
      "To see all available configurables, use `--help-all`.\n",
      "\n"
     ]
    },
    {
     "name": "stderr",
     "output_type": "stream",
     "text": [
      "[NbConvertApp] WARNING | pattern 'exercise_code.ipynb' matched no files\n"
     ]
    }
   ],
   "source": [
    "!jupyter nbconvert --to html exercise_code.ipynb"
   ]
  },
  {
   "cell_type": "code",
   "execution_count": null,
   "id": "21a3486e-6472-4b1b-b88a-421701353da8",
   "metadata": {},
   "outputs": [],
   "source": []
  }
 ],
 "metadata": {
  "kernelspec": {
   "display_name": "Python 3 (ipykernel)",
   "language": "python",
   "name": "python3"
  },
  "language_info": {
   "codemirror_mode": {
    "name": "ipython",
    "version": 3
   },
   "file_extension": ".py",
   "mimetype": "text/x-python",
   "name": "python",
   "nbconvert_exporter": "python",
   "pygments_lexer": "ipython3",
   "version": "3.12.7"
  }
 },
 "nbformat": 4,
 "nbformat_minor": 5
}
