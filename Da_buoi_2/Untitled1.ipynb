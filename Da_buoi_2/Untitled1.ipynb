{
 "cells": [
  {
   "cell_type": "markdown",
   "id": "7967aea0-c3f8-4c0b-a822-df9cac8621dd",
   "metadata": {},
   "source": [
    "# Ôn tập Python, Numpy, Matplotlib và Pandas"
   ]
  },
  {
   "cell_type": "code",
   "execution_count": null,
   "id": "ec34f015-bb79-4815-99eb-550a0e582eb9",
   "metadata": {},
   "outputs": [],
   "source": []
  }
 ],
 "metadata": {
  "kernelspec": {
   "display_name": "Python 3 (ipykernel)",
   "language": "python",
   "name": "python3"
  },
  "language_info": {
   "codemirror_mode": {
    "name": "ipython",
    "version": 3
   },
   "file_extension": ".py",
   "mimetype": "text/x-python",
   "name": "python",
   "nbconvert_exporter": "python",
   "pygments_lexer": "ipython3",
   "version": "3.12.7"
  }
 },
 "nbformat": 4,
 "nbformat_minor": 5
}
