{
 "cells": [
  {
   "cell_type": "markdown",
   "id": "5c518a98-be38-47b1-ad44-3a0f112a1fde",
   "metadata": {},
   "source": [
    "# Phân Tích Dữ Liệu - Buổi 2 - 13/9/2025"
   ]
  },
  {
   "cell_type": "markdown",
   "id": "10b529fd-b7ad-4200-b97b-b8911a21ae5c",
   "metadata": {},
   "source": [
    "# Python Program"
   ]
  },
  {
   "cell_type": "markdown",
   "id": "17415939-5392-4bc2-a5eb-8a24c0887f4a",
   "metadata": {},
   "source": [
    "## Hello World"
   ]
  },
  {
   "cell_type": "code",
   "execution_count": 1,
   "id": "c6d62b2d-b341-4d9a-8226-26131e3ddf9d",
   "metadata": {},
   "outputs": [
    {
     "name": "stdout",
     "output_type": "stream",
     "text": [
      "Hello World\n"
     ]
    }
   ],
   "source": [
    "## Print \"Hello World\"\n",
    "print(\"Hello World\")"
   ]
  },
  {
   "cell_type": "markdown",
   "id": "503a60ed-f2dc-4d4f-bff2-3b02f234980e",
   "metadata": {},
   "source": [
    "## Python Syntax"
   ]
  },
  {
   "cell_type": "code",
   "execution_count": 2,
   "id": "764330e0-b69a-460e-b915-b76f722bd4bc",
   "metadata": {},
   "outputs": [],
   "source": [
    "# Pyhton syntax\n",
    "# coment"
   ]
  },
  {
   "cell_type": "code",
   "execution_count": 3,
   "id": "bbe4b222-a3d2-47c0-96bc-580b139e29e3",
   "metadata": {},
   "outputs": [
    {
     "name": "stdout",
     "output_type": "stream",
     "text": [
      "Pass\n"
     ]
    }
   ],
   "source": [
    "#Indentation the spaces at the beginning of a code line 4 spaces\n",
    "score = 80\n",
    "if score >=60 :\n",
    "    print(\"Pass\")"
   ]
  },
  {
   "cell_type": "markdown",
   "id": "b51666ed-d154-4a13-ba5d-167c4de35fb3",
   "metadata": {},
   "source": [
    "## Python Variables"
   ]
  },
  {
   "cell_type": "code",
   "execution_count": 6,
   "id": "76916bcc-c10c-471b-84bf-90d5ff6be8bf",
   "metadata": {},
   "outputs": [
    {
     "name": "stdout",
     "output_type": "stream",
     "text": [
      "x : 2\n",
      "---\n",
      "price : 2.5\n",
      "---\n",
      "Hello\n",
      "---\n",
      "Hello\n",
      "---\n",
      "Hello\n"
     ]
    }
   ],
   "source": [
    "# Python Variables\n",
    "x = 2\n",
    "print(\"x :\",x)\n",
    "print('-'*3)\n",
    "price = 2.5\n",
    "print(\"price :\" , price)\n",
    "print('-'*3)\n",
    "word = 'Hello'\n",
    "print(word)\n",
    "print('-'*3)\n",
    "word = 'Hello'\n",
    "print(word)\n",
    "print('-'*3)\n",
    "word = \"Hello\"\n",
    "print(word)\n",
    "word = '''Hello'''"
   ]
  },
  {
   "cell_type": "markdown",
   "id": "92fa818f-9bea-4887-819e-eb9ced54025d",
   "metadata": {},
   "source": [
    "## Python Version()"
   ]
  },
  {
   "cell_type": "code",
   "execution_count": 7,
   "id": "dd87fa5f-71a9-4496-9485-4c9666d25e6b",
   "metadata": {},
   "outputs": [
    {
     "name": "stdout",
     "output_type": "stream",
     "text": [
      "Python Version: 3.12.7\n"
     ]
    }
   ],
   "source": [
    "# Python Version()\n",
    "from platform import python_version\n",
    "print(\"Python Version:\", python_version())"
   ]
  },
  {
   "cell_type": "markdown",
   "id": "44fb6b91-450c-47ba-8fe7-c9090853a379",
   "metadata": {},
   "source": [
    "## Python Data Types"
   ]
  },
  {
   "cell_type": "code",
   "execution_count": 12,
   "id": "b8b2be09-7411-48f4-97c6-ca788a9fecbf",
   "metadata": {},
   "outputs": [
    {
     "name": "stdout",
     "output_type": "stream",
     "text": [
      "x = \"Hello World\" : <class 'str'>\n",
      "------------------------------\n",
      "x = 2 : <class 'int'>\n",
      "------------------------------\n",
      "x = 2.5 : <class 'float'>\n",
      "------------------------------\n",
      "x = 7j : <class 'complex'>\n",
      "------------------------------\n"
     ]
    }
   ],
   "source": [
    "#Python Data Types\n",
    "x = \"Hello World\" #str\n",
    "print('x = \"Hello World\" :' ,type(x))\n",
    "print('-'*30)\n",
    "x = 2 #int\n",
    "print('x = 2 :' ,type(x))\n",
    "print('-'*30)\n",
    "x = 2.5 #float\n",
    "print('x = 2.5 :' ,type(x))\n",
    "print('-'*30)\n",
    "x = 7j #complex\n",
    "print('x = 7j :' ,type(x))\n",
    "print('-'*30)"
   ]
  },
  {
   "cell_type": "code",
   "execution_count": 22,
   "id": "9e51976e-0c21-40db-b09b-eabcb702b7b3",
   "metadata": {},
   "outputs": [
    {
     "name": "stdout",
     "output_type": "stream",
     "text": [
      "x =  ['apple', 'banana', 'cherry']  \n",
      "Type:  <class 'list'>\n",
      "------------------------------\n",
      "x =  ('apple', 'banana', 'cherry')  \n",
      "Type:  <class 'tuple'>\n",
      "------------------------------\n",
      "x =  range(0, 6)  \n",
      "Type:  <class 'range'>\n",
      "------------------------------\n",
      "x =  {'name': 'Tom', 'age': 20}  \n",
      "Type:  <class 'dict'>\n",
      "------------------------------\n",
      "x =  {'apple', 'cherry', 'banana'}  \n",
      "Type:  <class 'set'>\n",
      "------------------------------\n",
      "x =  frozenset({'cherry', 'apple', 'banana'})  \n",
      "Type:  <class 'frozenset'>\n",
      "------------------------------\n"
     ]
    }
   ],
   "source": [
    "#Python Data Types\n",
    "x = [\"apple\", \"banana\", \"cherry\"] #list\n",
    "print(\"x = \",x,\" \\nType: \",type(x))\n",
    "print('-'*30)\n",
    "x = (\"apple\", \"banana\", \"cherry\") #tuple\n",
    "print(\"x = \",x,\" \\nType: \",type(x))\n",
    "print('-'*30)\n",
    "x = range(6) #range\n",
    "print(\"x = \",x,\" \\nType: \",type(x))\n",
    "print('-'*30)\n",
    "x = {\"name\" : \"Tom\", \"age\" : 20} #dict\n",
    "print(\"x = \",x,\" \\nType: \",type(x))\n",
    "print('-'*30)\n",
    "x = {\"apple\", \"banana\", \"cherry\"} #set\n",
    "print(\"x = \",x,\" \\nType: \",type(x))\n",
    "print('-'*30)\n",
    "x = frozenset({\"apple\", \"banana\", \"cherry\"})\n",
    "print(\"x = \",x,\" \\nType: \",type(x))\n",
    "print('-'*30)\n",
    "#frozenset"
   ]
  },
  {
   "cell_type": "code",
   "execution_count": 23,
   "id": "152500e0-f9fa-4371-b694-5f4659e3b41d",
   "metadata": {},
   "outputs": [
    {
     "name": "stdout",
     "output_type": "stream",
     "text": [
      "x =  True  \n",
      "Type:  <class 'bool'>\n",
      "------------------------------\n",
      "x =  b'Hello'  \n",
      "Type:  <class 'bytes'>\n",
      "------------------------------\n",
      "x =  bytearray(b'\\x00\\x00\\x00\\x00\\x00')  \n",
      "Type:  <class 'bytearray'>\n",
      "------------------------------\n",
      "x =  <memory at 0x000001FED39EB340>  \n",
      "Type:  <class 'memoryview'>\n",
      "------------------------------\n",
      "x =  None  \n",
      "Type:  <class 'NoneType'>\n",
      "------------------------------\n"
     ]
    }
   ],
   "source": [
    "#Python Data Types\n",
    "x = True #bool\n",
    "print(\"x = \",x,\" \\nType: \",type(x))\n",
    "print('-'*30)\n",
    "x = b\"Hello\" #bytes\n",
    "print(\"x = \",x,\" \\nType: \",type(x))\n",
    "print('-'*30)\n",
    "x = bytearray(5) #bytearray\n",
    "print(\"x = \",x,\" \\nType: \",type(x))\n",
    "print('-'*30)\n",
    "x = memoryview(bytes(5)) #memoryview\n",
    "print(\"x = \",x,\" \\nType: \",type(x))\n",
    "print('-'*30)\n",
    "x = None #NoneType\n",
    "print(\"x = \",x,\" \\nType: \",type(x))\n",
    "print('-'*30)"
   ]
  },
  {
   "cell_type": "markdown",
   "id": "e0b2e638-f2f4-4114-8fad-82eccaa12970",
   "metadata": {},
   "source": [
    "## Python Casting"
   ]
  },
  {
   "cell_type": "code",
   "execution_count": 25,
   "id": "e33ee8e9-4eb8-447a-b995-5dde96b8421f",
   "metadata": {},
   "outputs": [
    {
     "name": "stdout",
     "output_type": "stream",
     "text": [
      "3 <class 'str'>\n",
      "3 <class 'int'>\n",
      "3.0 <class 'float'>\n"
     ]
    }
   ],
   "source": [
    "x = str(3) # x will be '3'\n",
    "y = int(3) # y will be 3\n",
    "z = float(3) # z will be 3.0\n",
    "print(x, type(x))\n",
    "print(y, type(y))\n",
    "print(z, type(z))"
   ]
  },
  {
   "cell_type": "markdown",
   "id": "874b12af-a034-4d44-85ff-6379209f7ef5",
   "metadata": {},
   "source": [
    "## Python Number"
   ]
  },
  {
   "cell_type": "code",
   "execution_count": 26,
   "id": "ff72605d-6ead-4ffd-9230-9fa738c17e69",
   "metadata": {},
   "outputs": [
    {
     "name": "stdout",
     "output_type": "stream",
     "text": [
      "2 <class 'int'>\n",
      "3.4 <class 'float'>\n",
      "7j <class 'complex'>\n"
     ]
    }
   ],
   "source": [
    "x = 2 # int\n",
    "y = 3.4 # float\n",
    "z = 7j #complex\n",
    "print(x, type(x))\n",
    "print(y, type(y))\n",
    "print(z, type(z))"
   ]
  },
  {
   "cell_type": "markdown",
   "id": "dfb7120d-7d85-4706-ba1c-c5626e9520a6",
   "metadata": {},
   "source": [
    "## Python Arithmetic Operators"
   ]
  },
  {
   "cell_type": "markdown",
   "id": "9407acf5-23c1-4ad2-acdf-887ef8f07f0a",
   "metadata": {},
   "source": [
    "+ Addition 7 + 2 = 9\n",
    "- Subtraction 7 - 2 = 5\n",
    "* Multiplication 7 * 2 = 14\n",
    "/ Division 7 / 2 = 3.5\n",
    "// Floor division 7 // 2 = 3 (Quotient)\n",
    "% Modulus 7 % 2 = 1 (Remainder)\n",
    "** Exponentiation 7 ** 2 = 49"
   ]
  },
  {
   "cell_type": "code",
   "execution_count": 34,
   "id": "f691098a-877e-42a5-a35b-890f09a8ec7e",
   "metadata": {},
   "outputs": [
    {
     "name": "stdout",
     "output_type": "stream",
     "text": [
      "7 + 2 =  9\n",
      "--------------------------------------------------\n",
      "7 - 2 =  5\n",
      "--------------------------------------------------\n",
      "7 * 2 =  14\n",
      "--------------------------------------------------\n",
      "7 / 2 =  3.5\n",
      "--------------------------------------------------\n",
      "7 // 2 =  3\n",
      "--------------------------------------------------\n",
      "7 % 2 =  1\n",
      "--------------------------------------------------\n",
      "7 ** 2 =  49\n",
      "--------------------------------------------------\n"
     ]
    }
   ],
   "source": [
    "print(\"7 + 2 = \",7+2)\n",
    "print('-' * 50)\n",
    "print(\"7 - 2 = \",7-2)\n",
    "print('-' * 50)\n",
    "print(\"7 * 2 = \",7*2)\n",
    "print('-' * 50)\n",
    "print(\"7 / 2 = \",7/2)\n",
    "print('-' * 50)\n",
    "print(\"7 // 2 = \",7//2)\n",
    "print('-' * 50)\n",
    "print(\"7 % 2 = \",7%2)\n",
    "print('-' * 50)\n",
    "print(\"7 ** 2 = \",7**2)\n",
    "print('-' * 50)"
   ]
  },
  {
   "cell_type": "markdown",
   "id": "ce33ed2d-4a7c-4f9b-a056-74a792a2b730",
   "metadata": {},
   "source": [
    "## Python Booleans: True or False"
   ]
  },
  {
   "cell_type": "code",
   "execution_count": 35,
   "id": "a74b2652-0faf-46ac-97e7-47104eaf0f8b",
   "metadata": {},
   "outputs": [
    {
     "name": "stdout",
     "output_type": "stream",
     "text": [
      "True\n",
      "False\n",
      "False\n"
     ]
    }
   ],
   "source": [
    "# Python Booleans: True or False\n",
    "print(3 > 2)\n",
    "print(3 == 2)\n",
    "print(3 < 2)"
   ]
  },
  {
   "cell_type": "markdown",
   "id": "43cd8a38-ad8e-44d2-9c68-7fda4fa74c4e",
   "metadata": {},
   "source": [
    "## Python BMI Calculator"
   ]
  },
  {
   "cell_type": "code",
   "execution_count": 36,
   "id": "56592cf3-cc4b-4cb2-afcf-857903183887",
   "metadata": {},
   "outputs": [
    {
     "name": "stdout",
     "output_type": "stream",
     "text": [
      "Your BMI is: 20.8\n"
     ]
    }
   ],
   "source": [
    "# BMI Calculator in Python\n",
    "height_cm = 170\n",
    "weight_kg = 60\n",
    "height_m = height_cm/100\n",
    "BMI = (weight_kg/(height_m**2))\n",
    "\n",
    "print(\"Your BMI is: \" + str(round(BMI,1)))"
   ]
  },
  {
   "cell_type": "markdown",
   "id": "44fa14e6-2f8d-4f59-b219-59d840b909fd",
   "metadata": {},
   "source": [
    "## How much is your $100 worth after 7 years?"
   ]
  },
  {
   "cell_type": "code",
   "execution_count": 37,
   "id": "7c319ec4-26b9-484c-b16b-3695c19ed872",
   "metadata": {},
   "outputs": [
    {
     "name": "stdout",
     "output_type": "stream",
     "text": [
      "fv =  194.87\n"
     ]
    }
   ],
   "source": [
    "# How much is your $100 worth after 7 years?\n",
    "fv = 100 * 1.1 ** 7\n",
    "print('fv = ', round(fv, 2))\n",
    "# output = 194.87"
   ]
  },
  {
   "cell_type": "markdown",
   "id": "d1518b1f-bd78-4f19-a455-75934e883039",
   "metadata": {},
   "source": [
    "## Future Value"
   ]
  },
  {
   "cell_type": "code",
   "execution_count": 38,
   "id": "b9f5f720-ebf6-4dff-8afa-f1121540f427",
   "metadata": {},
   "outputs": [
    {
     "name": "stdout",
     "output_type": "stream",
     "text": [
      "194.87\n"
     ]
    }
   ],
   "source": [
    "# Future Value\n",
    "amount = 100\n",
    "interest = 10 #10% = 0.01 * 10\n",
    "years = 7\n",
    "\n",
    "future_value = amount * ((1 + (0.01 * interest)) ** years)\n",
    "print(round(future_value, 2))"
   ]
  },
  {
   "cell_type": "markdown",
   "id": "135b17df-a125-47f7-ab6d-bb00b9d1eb85",
   "metadata": {},
   "source": [
    "# Python Data Structures"
   ]
  },
  {
   "cell_type": "markdown",
   "id": "39addb2f-a9b5-43e6-8a80-da420f63b66f",
   "metadata": {},
   "source": [
    "## Python Data Types"
   ]
  },
  {
   "cell_type": "code",
   "execution_count": 42,
   "id": "04105ebc-326e-442c-b79c-22a687cb28cc",
   "metadata": {},
   "outputs": [
    {
     "name": "stdout",
     "output_type": "stream",
     "text": [
      "['apple', 'banana', 'cherry']  =  <class 'list'>\n",
      "------------------------------\n",
      "('apple', 'banana', 'cherry')  =  <class 'tuple'>\n",
      "------------------------------\n",
      "{'name': 'Tom', 'age': 20}  =  <class 'dict'>\n",
      "------------------------------\n",
      "{'apple', 'cherry', 'banana'}  =  <class 'set'>\n",
      "------------------------------\n"
     ]
    }
   ],
   "source": [
    "x = [\"apple\", \"banana\", \"cherry\"] #list\n",
    "print(x,\" = \",type(x))\n",
    "print(\"-\"*30)\n",
    "x = (\"apple\", \"banana\", \"cherry\") #tuple\n",
    "print(x,\" = \",type(x))\n",
    "print(\"-\"*30)\n",
    "x = {\"name\" : \"Tom\", \"age\" : 20} #dict\n",
    "print(x,\" = \",type(x))\n",
    "print(\"-\"*30)\n",
    "x = {\"apple\", \"banana\", \"cherry\"} #set\n",
    "print(x,\" = \",type(x))\n",
    "print(\"-\"*30)"
   ]
  },
  {
   "cell_type": "markdown",
   "id": "43ec6215-9d21-47b8-8f10-c218289e216b",
   "metadata": {},
   "source": [
    "## List[]"
   ]
  },
  {
   "cell_type": "code",
   "execution_count": 47,
   "id": "6b69ab56-d8bf-4544-abc8-5cdd21a4592a",
   "metadata": {},
   "outputs": [
    {
     "name": "stdout",
     "output_type": "stream",
     "text": [
      "4\n",
      "60\n",
      "70\n",
      "90\n"
     ]
    }
   ],
   "source": [
    "x = [60, 70, 80, 90]\n",
    "print(len(x))\n",
    "print(x[0])\n",
    "print(x[1])\n",
    "print(x[-1])"
   ]
  },
  {
   "cell_type": "markdown",
   "id": "eb39fcdc-dd0f-4f04-baf4-9d4acece6f47",
   "metadata": {},
   "source": [
    "## List Method"
   ]
  },
  {
   "cell_type": "code",
   "execution_count": 50,
   "id": "edb7ab66-f38e-444d-9257-960a9153fdff",
   "metadata": {},
   "outputs": [
    {
     "name": "stdout",
     "output_type": "stream",
     "text": [
      "[60, 70, 80, 90, 100, 100, 100]\n",
      "clear: []\n",
      "copy: [60, 70, 80, 90, 100, 100, 100]\n",
      "count 70: 1\n",
      "extend: [60, 70, 80, 90, 100, 100, 100, 110, 120]\n",
      "index 80: 2\n",
      "insert: [60, 65, 70, 80, 90, 100, 100, 100, 110, 120]\n",
      "pop: [60, 65, 70, 80, 90, 100, 100, 100, 110]\n",
      "remove: [60, 70, 80, 90, 100, 100, 100, 110]\n",
      "reverse: [110, 100, 100, 100, 90, 80, 70, 60]\n",
      "sort tăng dần: [60, 70, 80, 90, 100, 100, 100, 110]\n",
      "sort giảm dần: [110, 100, 100, 100, 90, 80, 70, 60]\n"
     ]
    }
   ],
   "source": [
    "# 1. append() -> thêm phần tử vào cuối list\n",
    "x.append(100) \n",
    "print(x)\n",
    "# 2. clear() → xóa hết phần tử trong list\n",
    "y = x.copy()   \n",
    "y.clear()\n",
    "print(\"clear:\", y)   # []\n",
    "\n",
    "# 3. copy() → trả về một bản sao list\n",
    "z = x.copy()\n",
    "print(\"copy:\", z)    # [60, 70, 80, 90, 100]\n",
    "\n",
    "# 4. count() → đếm số lần xuất hiện của phần tử\n",
    "print(\"count 70:\", x.count(70))   # 1\n",
    "\n",
    "# 5. extend() → nối list khác vào cuối list\n",
    "x.extend([110, 120])\n",
    "print(\"extend:\", x)  # [60, 70, 80, 90, 100, 110, 120]\n",
    "\n",
    "# 6. index() → tìm vị trí đầu tiên của phần tử\n",
    "print(\"index 80:\", x.index(80))   # 2\n",
    "\n",
    "# 7. insert() → chèn phần tử vào vị trí chỉ định\n",
    "x.insert(1, 65)  \n",
    "print(\"insert:\", x)  # [60, 65, 70, 80, 90, 100, 110, 120]\n",
    "\n",
    "# 8. pop() → xóa phần tử tại vị trí chỉ định (mặc định là cuối)\n",
    "x.pop()        # xóa phần tử cuối\n",
    "print(\"pop:\", x)  # [60, 65, 70, 80, 90, 100, 110]\n",
    "\n",
    "# 9. remove() → xóa phần tử có giá trị cụ thể\n",
    "x.remove(65)\n",
    "print(\"remove:\", x)  # [60, 70, 80, 90, 100, 110]\n",
    "\n",
    "# 10. reverse() → đảo ngược list\n",
    "x.reverse()\n",
    "print(\"reverse:\", x)  # [110, 100, 90, 80, 70, 60]\n",
    "\n",
    "# 11. sort() → sắp xếp list tăng dần (hoặc giảm dần nếu reverse=True)\n",
    "x.sort()\n",
    "print(\"sort tăng dần:\", x)   # [60, 70, 80, 90, 100, 110]\n",
    "\n",
    "x.sort(reverse=True)\n",
    "print(\"sort giảm dần:\", x)   # [110, 100, 90, 80, 70, 60]"
   ]
  },
  {
   "cell_type": "markdown",
   "id": "394350a6-f6ac-4fc6-8392-4e1f4b485f8b",
   "metadata": {},
   "source": [
    "## Tuples()"
   ]
  },
  {
   "cell_type": "code",
   "execution_count": 51,
   "id": "90eeb68d-c7ad-458f-8511-c998a4f66b97",
   "metadata": {},
   "outputs": [
    {
     "name": "stdout",
     "output_type": "stream",
     "text": [
      "10\n",
      "20\n",
      "30\n",
      "50\n"
     ]
    }
   ],
   "source": [
    "x = (10, 20, 30, 40, 50)\n",
    "print(x[0])\n",
    "print(x[1])\n",
    "print(x[2])\n",
    "print(x[-1])"
   ]
  },
  {
   "cell_type": "markdown",
   "id": "64fe4758-2e18-49d2-844a-01333842d9f6",
   "metadata": {},
   "source": [
    "## Sets{}"
   ]
  },
  {
   "cell_type": "code",
   "execution_count": 55,
   "id": "fee8d6aa-f2a5-4eca-981d-63614dcee644",
   "metadata": {},
   "outputs": [
    {
     "name": "stdout",
     "output_type": "stream",
     "text": [
      "True\n",
      "False\n",
      "True\n",
      "3\n",
      "3\n",
      "2\n"
     ]
    }
   ],
   "source": [
    "animals = {'cat', 'dog'}\n",
    "print('cat' in animals)\n",
    "print('fish' in animals)\n",
    "animals.add('fish')\n",
    "print('fish' in animals)\n",
    "print(len(animals))\n",
    "animals.add('cat')\n",
    "print(len(animals))\n",
    "animals.remove('cat')\n",
    "print(len(animals))"
   ]
  },
  {
   "cell_type": "markdown",
   "id": "a1262c68-1b1a-432d-8895-1420e143f90a",
   "metadata": {},
   "source": [
    "## Dictionary {key : value}"
   ]
  },
  {
   "cell_type": "code",
   "execution_count": 57,
   "id": "74638f5a-757e-413a-96a8-85abd7a14464",
   "metadata": {},
   "outputs": [
    {
     "name": "stdout",
     "output_type": "stream",
     "text": [
      "English\n"
     ]
    }
   ],
   "source": [
    "k = { 'EN':'English','FR':'French' }\n",
    "\n",
    "print(k['EN'])"
   ]
  },
  {
   "cell_type": "markdown",
   "id": "39f8808b-71e3-4822-b395-3ff47dae02dc",
   "metadata": {},
   "source": [
    "## Python for Finance Applications"
   ]
  },
  {
   "cell_type": "code",
   "execution_count": 58,
   "id": "a1d696d7-e26b-4669-8af1-018252bd04c0",
   "metadata": {},
   "outputs": [
    {
     "name": "stdout",
     "output_type": "stream",
     "text": [
      "Total expenses: 293.5\n"
     ]
    }
   ],
   "source": [
    "# Python Lists\n",
    "expenses = [72.50, 80.75, 50.00, 90.25]\n",
    "total_expenses = sum(expenses)\n",
    "print(\"Total expenses:\", total_expenses)"
   ]
  },
  {
   "cell_type": "code",
   "execution_count": 60,
   "id": "5cb8050f-cae4-48cd-9d83-65690ca58b65",
   "metadata": {},
   "outputs": [
    {
     "name": "stdout",
     "output_type": "stream",
     "text": [
      "Account name: Cash Account number: 1001\n",
      "Account name: Accounts Receivable Account number: 1002\n",
      "Account name: Inventory Account number: 1003\n"
     ]
    }
   ],
   "source": [
    "# Python Tuples\n",
    "accounts = ((\"Cash\", 1001), (\"Accounts Receivable\", 1002),\n",
    "(\"Inventory\", 1003))\n",
    "for account in accounts:\n",
    "    print(\"Account name:\", account[0], \"Account number:\", account[1])"
   ]
  },
  {
   "cell_type": "code",
   "execution_count": 61,
   "id": "4d21c9a7-1527-4589-b1bc-cf2e71204b39",
   "metadata": {},
   "outputs": [
    {
     "name": "stdout",
     "output_type": "stream",
     "text": [
      "Account number 1004 is not in use.\n"
     ]
    }
   ],
   "source": [
    "# Python Sets\n",
    "account_numbers = {1001, 1002, 1003}\n",
    "new_account_number = 1004\n",
    "if new_account_number not in account_numbers:\n",
    "    print(\"Account number\", new_account_number, \"is not in use.\")"
   ]
  },
  {
   "cell_type": "code",
   "execution_count": 63,
   "id": "66014d83-ad3c-4c19-b50a-bd67ed9d92c4",
   "metadata": {},
   "outputs": [
    {
     "name": "stdout",
     "output_type": "stream",
     "text": [
      "Account number: 1001\n",
      "Account name: Cash\n",
      "Account balance: 500.0\n",
      "Account type: Asset\n",
      "Account number: 1002\n",
      "Account name: Accounts Receivable\n",
      "Account balance: 1000.0\n",
      "Account type: Asset\n",
      "Account number: 2001\n",
      "Account name: Accounts Payable\n",
      "Account balance: 750.0\n",
      "Account type: Liability\n"
     ]
    }
   ],
   "source": [
    "# Python Dictionaries\n",
    "accounts = {\"1001\": {\"name\": \"Cash\", \"balance\": 500.00, \"type\": \"Asset\"},\n",
    "\"1002\": {\"name\": \"Accounts Receivable\", \"balance\": 1000.00, \"type\": \"Asset\"},\n",
    "\"2001\": {\"name\": \"Accounts Payable\", \"balance\": 750.00, \"type\": \"Liability\"}}\n",
    "for account_number, account_info in accounts.items():\n",
    "    print(\"Account number:\", account_number)\n",
    "    print(\"Account name:\", account_info[\"name\"])\n",
    "    print(\"Account balance:\", account_info[\"balance\"])\n",
    "    print(\"Account type:\", account_info[\"type\"])"
   ]
  },
  {
   "cell_type": "markdown",
   "id": "0a5cdec9-6f5c-40be-bb9b-b10b3a94431f",
   "metadata": {},
   "source": [
    "## Python Control Logic and Loops"
   ]
  },
  {
   "cell_type": "markdown",
   "id": "89b5e4aa-4b7e-40e1-b1d1-ba6a173603c3",
   "metadata": {},
   "source": [
    "### Python if"
   ]
  },
  {
   "cell_type": "code",
   "execution_count": 64,
   "id": "ee714df1-8bfc-49ba-ac54-9f6d47dd8ebe",
   "metadata": {},
   "outputs": [
    {
     "name": "stdout",
     "output_type": "stream",
     "text": [
      "Pass\n"
     ]
    }
   ],
   "source": [
    "# Python if\n",
    "score = 80\n",
    "if score >=60 :\n",
    "    print(\"Pass\")"
   ]
  },
  {
   "cell_type": "markdown",
   "id": "6d751352-7130-4f53-9061-2fca976c5fd0",
   "metadata": {},
   "source": [
    "## Python if else"
   ]
  },
  {
   "cell_type": "code",
   "execution_count": 65,
   "id": "73fd4e02-b328-4089-b51f-2b67fe778e4a",
   "metadata": {},
   "outputs": [
    {
     "name": "stdout",
     "output_type": "stream",
     "text": [
      "Pass\n"
     ]
    }
   ],
   "source": [
    "# Python if else\n",
    "score = 80\n",
    "if score >=60 :\n",
    "    print(\"Pass\")\n",
    "else:\n",
    "    print(\"Fail\")"
   ]
  },
  {
   "cell_type": "markdown",
   "id": "0316f32e-2c7b-45f8-88ba-7653302f1e8b",
   "metadata": {},
   "source": [
    "## Python if elif else"
   ]
  },
  {
   "cell_type": "code",
   "execution_count": 66,
   "id": "9b12711b-479e-4b1a-b7a6-57255809c182",
   "metadata": {},
   "outputs": [
    {
     "name": "stdout",
     "output_type": "stream",
     "text": [
      "A\n"
     ]
    }
   ],
   "source": [
    "# Python if elif else\n",
    "score = 95\n",
    "if score >= 90 :\n",
    "    print(\"A\")\n",
    "elif score >=60 :\n",
    "    print(\"Pass\")\n",
    "else:\n",
    "    print(\"Fail\")"
   ]
  },
  {
   "cell_type": "code",
   "execution_count": 68,
   "id": "c5056773-2cad-403d-998e-f310ad940cf7",
   "metadata": {},
   "outputs": [
    {
     "name": "stdout",
     "output_type": "stream",
     "text": [
      "A\n"
     ]
    }
   ],
   "source": [
    "# Python if elif else\n",
    "score = 90\n",
    "grade = \"\"\n",
    "if score >=90:\n",
    "    grade = \"A\"\n",
    "elif score >= 80:\n",
    "    grade = \"B\"\n",
    "elif score >= 70:\n",
    "    grade = \"C\"\n",
    "elif score >= 60:\n",
    "    grade = \"D\"\n",
    "else:\n",
    "    grade = \"E\"\n",
    "print(grade)"
   ]
  },
  {
   "cell_type": "markdown",
   "id": "84612a56-2bad-4474-bef5-40b7f2b80f77",
   "metadata": {},
   "source": [
    "## Python for loops"
   ]
  },
  {
   "cell_type": "code",
   "execution_count": 71,
   "id": "ba7ea2e6-90ff-4a3f-b532-a1a44f9c5111",
   "metadata": {},
   "outputs": [
    {
     "name": "stdout",
     "output_type": "stream",
     "text": [
      "1\n",
      "2\n",
      "3\n",
      "4\n",
      "5\n"
     ]
    }
   ],
   "source": [
    "# Python for Loops\n",
    "for i in range(1,6):\n",
    "    print(i)"
   ]
  },
  {
   "cell_type": "code",
   "execution_count": 72,
   "id": "a9d30869-a1e3-4a0e-9fb8-7d405d20957e",
   "metadata": {},
   "outputs": [
    {
     "name": "stdout",
     "output_type": "stream",
     "text": [
      "1  *  1  =  1\n",
      "1  *  2  =  2\n",
      "1  *  3  =  3\n",
      "1  *  4  =  4\n",
      "1  *  5  =  5\n",
      "1  *  6  =  6\n",
      "1  *  7  =  7\n",
      "1  *  8  =  8\n",
      "1  *  9  =  9\n",
      "2  *  1  =  2\n",
      "2  *  2  =  4\n",
      "2  *  3  =  6\n",
      "2  *  4  =  8\n",
      "2  *  5  =  10\n",
      "2  *  6  =  12\n",
      "2  *  7  =  14\n",
      "2  *  8  =  16\n",
      "2  *  9  =  18\n",
      "3  *  1  =  3\n",
      "3  *  2  =  6\n",
      "3  *  3  =  9\n",
      "3  *  4  =  12\n",
      "3  *  5  =  15\n",
      "3  *  6  =  18\n",
      "3  *  7  =  21\n",
      "3  *  8  =  24\n",
      "3  *  9  =  27\n",
      "4  *  1  =  4\n",
      "4  *  2  =  8\n",
      "4  *  3  =  12\n",
      "4  *  4  =  16\n",
      "4  *  5  =  20\n",
      "4  *  6  =  24\n",
      "4  *  7  =  28\n",
      "4  *  8  =  32\n",
      "4  *  9  =  36\n",
      "5  *  1  =  5\n",
      "5  *  2  =  10\n",
      "5  *  3  =  15\n",
      "5  *  4  =  20\n",
      "5  *  5  =  25\n",
      "5  *  6  =  30\n",
      "5  *  7  =  35\n",
      "5  *  8  =  40\n",
      "5  *  9  =  45\n",
      "6  *  1  =  6\n",
      "6  *  2  =  12\n",
      "6  *  3  =  18\n",
      "6  *  4  =  24\n",
      "6  *  5  =  30\n",
      "6  *  6  =  36\n",
      "6  *  7  =  42\n",
      "6  *  8  =  48\n",
      "6  *  9  =  54\n",
      "7  *  1  =  7\n",
      "7  *  2  =  14\n",
      "7  *  3  =  21\n",
      "7  *  4  =  28\n",
      "7  *  5  =  35\n",
      "7  *  6  =  42\n",
      "7  *  7  =  49\n",
      "7  *  8  =  56\n",
      "7  *  9  =  63\n",
      "8  *  1  =  8\n",
      "8  *  2  =  16\n",
      "8  *  3  =  24\n",
      "8  *  4  =  32\n",
      "8  *  5  =  40\n",
      "8  *  6  =  48\n",
      "8  *  7  =  56\n",
      "8  *  8  =  64\n",
      "8  *  9  =  72\n",
      "9  *  1  =  9\n",
      "9  *  2  =  18\n",
      "9  *  3  =  27\n",
      "9  *  4  =  36\n",
      "9  *  5  =  45\n",
      "9  *  6  =  54\n",
      "9  *  7  =  63\n",
      "9  *  8  =  72\n",
      "9  *  9  =  81\n"
     ]
    }
   ],
   "source": [
    "# for loops\n",
    "for i in range(1,10):\n",
    "    for j in range(1,10):\n",
    "        print(i, ' * ' , j , ' = ', i*j)"
   ]
  },
  {
   "cell_type": "code",
   "execution_count": 74,
   "id": "e9a25cfb-addc-4de6-bcf1-6c5e24bec74f",
   "metadata": {},
   "outputs": [
    {
     "name": "stdout",
     "output_type": "stream",
     "text": [
      "10\n",
      "11\n",
      "12\n",
      "13\n",
      "14\n",
      "15\n",
      "16\n",
      "17\n",
      "18\n",
      "19\n"
     ]
    }
   ],
   "source": [
    "# while loops\n",
    "age = 10\n",
    "while age < 20:\n",
    "    print(age)\n",
    "    age = age + 1"
   ]
  },
  {
   "cell_type": "markdown",
   "id": "7c41f322-4dbc-4676-8325-74dd1c815a23",
   "metadata": {},
   "source": [
    "# Python Functions"
   ]
  },
  {
   "cell_type": "markdown",
   "id": "141c3ff6-faa4-4885-9f73-8afcb4a2f731",
   "metadata": {},
   "source": [
    "## Python Function def "
   ]
  },
  {
   "cell_type": "code",
   "execution_count": 77,
   "id": "187c508b-5401-4f36-bf33-40cd9eb7d90e",
   "metadata": {},
   "outputs": [
    {
     "name": "stdout",
     "output_type": "stream",
     "text": [
      "194.87\n"
     ]
    }
   ],
   "source": [
    "# Python Function def\n",
    "# indentation for blocks. four spaces\n",
    "def getfv(pv, r, n):\n",
    "    fv = pv * ((1 + (r)) ** n)\n",
    "    return fv\n",
    "\n",
    "fv = getfv(100, 0.1, 7)\n",
    "print(round(fv, 2))"
   ]
  },
  {
   "cell_type": "markdown",
   "id": "092e901c-55f1-4794-9ef4-937768e82e7f",
   "metadata": {},
   "source": [
    "# Python Classes/Objects "
   ]
  },
  {
   "cell_type": "markdown",
   "id": "2c74f9a5-13ad-472e-b62d-13b8c145227e",
   "metadata": {},
   "source": [
    "## Python Classes"
   ]
  },
  {
   "cell_type": "code",
   "execution_count": 79,
   "id": "bc958724-ab67-4053-afa6-5b81b62c9bd7",
   "metadata": {},
   "outputs": [
    {
     "name": "stdout",
     "output_type": "stream",
     "text": [
      "5\n"
     ]
    }
   ],
   "source": [
    "# Python class\n",
    "class MyClass:\n",
    "    x = 5\n",
    "\n",
    "c1 = MyClass()\n",
    "print(c1.x)"
   ]
  },
  {
   "cell_type": "code",
   "execution_count": 82,
   "id": "f942fac5-8cc6-4d81-af75-48819940ae90",
   "metadata": {},
   "outputs": [
    {
     "name": "stdout",
     "output_type": "stream",
     "text": [
      "Alan\n",
      "20\n"
     ]
    }
   ],
   "source": [
    "class Person:\n",
    "    def __init__(self, name, age):\n",
    "        self.name = name\n",
    "        self.age = age\n",
    "\n",
    "p1 = Person(\"Alan\", 20)\n",
    "print(p1.name)\n",
    "print(p1.age)"
   ]
  },
  {
   "cell_type": "code",
   "execution_count": 83,
   "id": "b7ffc3f4-4591-4562-8248-9c45947f3cb6",
   "metadata": {},
   "outputs": [
    {
     "name": "stdout",
     "output_type": "stream",
     "text": [
      "Hello my name is Alan\n"
     ]
    }
   ],
   "source": [
    "class Person:\n",
    "    def __init__(self, name, age):\n",
    "        self.name = name\n",
    "        self.age = age\n",
    "\n",
    "    def myfunc(self):\n",
    "        print(\"Hello my name is \" + self.name)\n",
    "\n",
    "p1 = Person(\"Alan\", 20)\n",
    "p1.myfunc()"
   ]
  },
  {
   "cell_type": "code",
   "execution_count": 84,
   "id": "17ad8b6a-e798-434c-a49c-c9dda2c69779",
   "metadata": {},
   "outputs": [
    {
     "name": "stdout",
     "output_type": "stream",
     "text": [
      "Hello my name is Alan\n",
      "Alan\n",
      "20\n"
     ]
    }
   ],
   "source": [
    "class Person:\n",
    "    def __init__(self, name, age):\n",
    "        self.name = name\n",
    "        self.age = age\n",
    "    def myfunc(self):\n",
    "        print(\"Hello my name is \" + self.name)\n",
    "\n",
    "p1 = Person(\"Alan\", 20)\n",
    "p1.myfunc()\n",
    "print(p1.name)\n",
    "print(p1.age)"
   ]
  },
  {
   "cell_type": "code",
   "execution_count": 97,
   "id": "aaeecad9-0ab0-438b-aee7-c36989606061",
   "metadata": {},
   "outputs": [
    {
     "name": "stdout",
     "output_type": "stream",
     "text": [
      "Fer is a red convertible worth $60000.00.\n",
      "Fer\n",
      "Jump is a blue van worth $10000.00.\n",
      "Jump\n"
     ]
    }
   ],
   "source": [
    "class Vehicle:\n",
    "    name = \"\"\n",
    "    kind = \"car\"\n",
    "    color = \"\"\n",
    "    value = 100.00\n",
    "    def description(self):\n",
    "        desc_str = \"%s is a %s %s worth $%.2f.\" %(self.name, self.color, self.kind, self.value)\n",
    "        return desc_str\n",
    "car1 = Vehicle()\n",
    "car1.name = \"Fer\"\n",
    "car1.color = \"red\"\n",
    "car1.kind = \"convertible\"\n",
    "car1.value = 60000.00\n",
    "\n",
    "car2 = Vehicle()\n",
    "car2.name = \"Jump\"\n",
    "car2.color = \"blue\"\n",
    "car2.kind = \"van\"\n",
    "car2.value = 10000.00\n",
    "\n",
    "print(car1.description())\n",
    "print(car1.name)\n",
    "print(car2.description())\n",
    "print(car2.name)"
   ]
  },
  {
   "cell_type": "markdown",
   "id": "fc445e68-9f3e-4b3f-82ec-1d11fde0e29d",
   "metadata": {},
   "source": [
    "# Python Modules"
   ]
  },
  {
   "cell_type": "code",
   "execution_count": 106,
   "id": "a17df178-c709-4897-aa11-b391b7513f68",
   "metadata": {},
   "outputs": [
    {
     "name": "stdout",
     "output_type": "stream",
     "text": [
      "Hello, Alan\n"
     ]
    }
   ],
   "source": [
    "import mymodule\n",
    "mymodule.greeting(\"Alan\")"
   ]
  },
  {
   "cell_type": "markdown",
   "id": "cdd52564-e79b-4ad8-bff1-d865a326a8d1",
   "metadata": {},
   "source": [
    "## Python File Input/Output"
   ]
  },
  {
   "cell_type": "code",
   "execution_count": 107,
   "id": "5a595466-cf26-409d-8bdd-15a3bcc209f5",
   "metadata": {},
   "outputs": [
    {
     "name": "stdout",
     "output_type": "stream",
     "text": [
      "Hello World\n",
      "This is Python File Input Output\n"
     ]
    }
   ],
   "source": [
    "# Python File Input / Output\n",
    "with open('myfile.txt', 'w') as file:\n",
    "    file.write('Hello World\\nThis is Python File Input Output')\n",
    "\n",
    "with open('myfile.txt', 'r') as file:\n",
    "    text = file.read()\n",
    "    print(text)"
   ]
  },
  {
   "cell_type": "code",
   "execution_count": 109,
   "id": "addc5479-5a66-4102-bbb7-6a2809cd762f",
   "metadata": {},
   "outputs": [
    {
     "name": "stdout",
     "output_type": "stream",
     "text": [
      "mymodule.py\n",
      "def greeting(name): print(\"Hello, \" + name)\n"
     ]
    }
   ],
   "source": [
    "# Python File Input / Output\n",
    "filename = 'mymodule.py'\n",
    "with open(filename, 'w') as file:\n",
    "    text = '''def greeting(name): print(\"Hello, \" + name)'''\n",
    "    file.write(text)\n",
    "\n",
    "with open(filename, 'r') as file:\n",
    "    text = file.read()\n",
    "    print(filename)\n",
    "    print(text)"
   ]
  },
  {
   "cell_type": "markdown",
   "id": "b3bb5c34-4985-46c5-a234-0fe410eff815",
   "metadata": {},
   "source": [
    "## Python main() Function"
   ]
  },
  {
   "cell_type": "code",
   "execution_count": 111,
   "id": "7e1df8d1-3925-4ffb-bb1b-73de7bdb29b0",
   "metadata": {},
   "outputs": [
    {
     "name": "stdout",
     "output_type": "stream",
     "text": [
      "Hello World!\n"
     ]
    }
   ],
   "source": [
    "#Python main() function\n",
    "def main():\n",
    "    print(\"Hello World!\")\n",
    "if __name__ == \"__main__\":\n",
    "    main()"
   ]
  },
  {
   "cell_type": "markdown",
   "id": "194acbbc-d0fc-4c79-addc-6d389af14c5b",
   "metadata": {},
   "source": [
    "# Files and Exception Handling"
   ]
  },
  {
   "cell_type": "markdown",
   "id": "9892e9d0-cf17-4255-9e4d-6d42b24c8a50",
   "metadata": {},
   "source": [
    "## Python Files"
   ]
  },
  {
   "cell_type": "code",
   "execution_count": 112,
   "id": "6604d202-d831-42b0-ad2f-7324962c065f",
   "metadata": {},
   "outputs": [
    {
     "name": "stdout",
     "output_type": "stream",
     "text": [
      "Hello World\n"
     ]
    }
   ],
   "source": [
    "f = open(\"myfile.txt\", \"w\")\n",
    "f.write(\"Hello World\")\n",
    "f.close()\n",
    "\n",
    "f = open(\"myfile.txt\", \"r\")\n",
    "\n",
    "text = f.read()\n",
    "print(text)\n",
    "f.close()"
   ]
  },
  {
   "cell_type": "code",
   "execution_count": 114,
   "id": "3372850a-7f2b-421b-95e2-2873236aa349",
   "metadata": {},
   "outputs": [
    {
     "name": "stdout",
     "output_type": "stream",
     "text": [
      "Hello World\n"
     ]
    }
   ],
   "source": [
    "# Python File Input / Output\n",
    "with open('myfile.txt', 'w') as file:\n",
    "    file.write('Hello World')\n",
    "\n",
    "with open('myfile.txt', 'r') as file:\n",
    "    text = file.read()\n",
    "\n",
    "print(text)"
   ]
  },
  {
   "cell_type": "code",
   "execution_count": 115,
   "id": "2f77f9a1-43a0-4348-bfae-9f2bab3d8558",
   "metadata": {},
   "outputs": [
    {
     "name": "stdout",
     "output_type": "stream",
     "text": [
      "Hello World\n",
      "Python File IO\n"
     ]
    }
   ],
   "source": [
    "# Python File Input / Output\n",
    "with open('myfile.txt', 'w') as file:\n",
    "    file.write('Hello World\\nPython File IO')\n",
    "\n",
    "with open('myfile.txt', 'r') as file:\n",
    "    text = file.read()\n",
    "\n",
    "print(text)"
   ]
  },
  {
   "cell_type": "code",
   "execution_count": 116,
   "id": "a9c3612a-bad9-4f9f-af9a-4439e81545f2",
   "metadata": {},
   "outputs": [
    {
     "name": "stdout",
     "output_type": "stream",
     "text": [
      "Hello World\n",
      "Python File IO\n",
      "New line\n"
     ]
    }
   ],
   "source": [
    "# Python File Input / Output\n",
    "with open('myfile.txt', 'a+') as file:\n",
    "    file.write('\\n' + 'New line')\n",
    "\n",
    "with open('myfile.txt', 'r') as file:\n",
    "    text = file.read()\n",
    "\n",
    "print(text)"
   ]
  },
  {
   "cell_type": "code",
   "execution_count": 121,
   "id": "94bbfbd6-b49b-4714-a7b4-d135c6e0361f",
   "metadata": {},
   "outputs": [
    {
     "name": "stdout",
     "output_type": "stream",
     "text": [
      " Volume in drive C is OS\n",
      " Volume Serial Number is 34DA-0D3F\n",
      "\n",
      " Directory of C:\\Users\\KHA\\Desktop\\Da_buoi_2\n",
      "\n",
      "09/14/2025  11:25 PM    <DIR>          .\n",
      "09/14/2025  03:08 PM    <DIR>          ..\n",
      "09/14/2025  11:12 PM    <DIR>          .ipynb_checkpoints\n",
      "09/14/2025  11:24 PM                37 myfile.txt\n",
      "09/14/2025  11:15 PM                43 mymodule.py\n",
      "09/14/2025  11:25 PM            39,306 Untitled.ipynb\n",
      "09/14/2025  11:13 PM    <DIR>          __pycache__\n",
      "               3 File(s)         39,386 bytes\n",
      "               4 Dir(s)  13,555,900,416 bytes free\n"
     ]
    }
   ],
   "source": [
    "# !dir list files\n",
    "!dir"
   ]
  },
  {
   "cell_type": "markdown",
   "id": "3610989e-f66a-449d-8a36-58ed706223d7",
   "metadata": {},
   "source": [
    "## Python OS"
   ]
  },
  {
   "cell_type": "code",
   "execution_count": 123,
   "id": "aa138e2e-0c9b-480c-9c9e-c439f285cdde",
   "metadata": {},
   "outputs": [
    {
     "name": "stdout",
     "output_type": "stream",
     "text": [
      "C:\\Users\\KHA\\Desktop\\Da_buoi_2\n"
     ]
    }
   ],
   "source": [
    "import os\n",
    "\n",
    "cwd = os.getcwd()\n",
    "print(cwd)"
   ]
  },
  {
   "cell_type": "markdown",
   "id": "46999efd-3ab9-4756-b391-3b788d354777",
   "metadata": {},
   "source": [
    "## os.listdir()"
   ]
  },
  {
   "cell_type": "code",
   "execution_count": 124,
   "id": "4dc5a06d-77e1-4b99-9f4f-00e8e488cdde",
   "metadata": {},
   "outputs": [
    {
     "data": {
      "text/plain": [
       "['.ipynb_checkpoints',\n",
       " 'myfile.txt',\n",
       " 'mymodule.py',\n",
       " 'Untitled.ipynb',\n",
       " '__pycache__']"
      ]
     },
     "execution_count": 124,
     "metadata": {},
     "output_type": "execute_result"
    }
   ],
   "source": [
    "os.listdir(cwd)"
   ]
  },
  {
   "cell_type": "markdown",
   "id": "536722f1-d302-474e-adfe-ed4d3983aa4b",
   "metadata": {},
   "source": [
    "## os.path.join()"
   ]
  },
  {
   "cell_type": "code",
   "execution_count": 133,
   "id": "5e9b0d24-155c-44ee-a9fc-52ab31d6cb7e",
   "metadata": {},
   "outputs": [
    {
     "name": "stdout",
     "output_type": "stream",
     "text": [
      "C:\\Users\\KHA\\Desktop\\Da_buoi_2\\sample_data\n"
     ]
    },
    {
     "data": {
      "text/plain": [
       "['sample_data.txt']"
      ]
     },
     "execution_count": 133,
     "metadata": {},
     "output_type": "execute_result"
    }
   ],
   "source": [
    "path = os.path.join(cwd,'sample_data')\n",
    "print(path)\n",
    "os.listdir(path)"
   ]
  },
  {
   "cell_type": "markdown",
   "id": "154d83a0-a592-41be-b636-9ca15b01b4ab",
   "metadata": {},
   "source": [
    "## from google.colab import files"
   ]
  },
  {
   "cell_type": "code",
   "execution_count": null,
   "id": "a9fcf97c-5b80-4256-80e1-361247f3f402",
   "metadata": {},
   "outputs": [],
   "source": [
    "from google.colab import files\n",
    "\n",
    "with open('io_file_myday.txt', 'w') as f:\n",
    "    f.write('Google Colab File Write Text some content Myday')\n",
    "\n",
    "import time\n",
    "time.sleep(1) # time sleep 1 second\n",
    "files.download('io_file_myday.txt')\n",
    "print('downloaded')"
   ]
  },
  {
   "cell_type": "markdown",
   "id": "c1366f40-8db0-45cf-a887-5bae74ec33a3",
   "metadata": {},
   "source": [
    "## os.remove()"
   ]
  },
  {
   "cell_type": "code",
   "execution_count": 134,
   "id": "04379b00-267c-4165-9827-e33fc3ca2b46",
   "metadata": {},
   "outputs": [
    {
     "name": "stdout",
     "output_type": "stream",
     "text": [
      "myfile.txt removed\n"
     ]
    }
   ],
   "source": [
    "import os\n",
    "if os.path.exists(\"myfile.txt\"):\n",
    "    os.remove(\"myfile.txt\")\n",
    "    print(\"myfile.txt removed\")\n",
    "else:\n",
    "    print(\"The file does not exist\")"
   ]
  },
  {
   "cell_type": "code",
   "execution_count": 139,
   "id": "31861fd8-33ae-4a38-b3f5-a8a45e7f4f0d",
   "metadata": {},
   "outputs": [
    {
     "name": "stdout",
     "output_type": "stream",
     "text": [
      "['.ipynb_checkpoints', 'myfolder1', 'mymodule.py', 'sample_data', 'Untitled.ipynb', '__pycache__']\n",
      "['.ipynb_checkpoints', 'mymodule.py', 'sample_data', 'Untitled.ipynb', '__pycache__']\n"
     ]
    }
   ],
   "source": [
    "os.mkdir(\"myfolder1\")\n",
    "print(os.listdir())\n",
    "os.rmdir(\"myfolder1\")\n",
    "print(os.listdir())"
   ]
  },
  {
   "cell_type": "code",
   "execution_count": 140,
   "id": "3db4a8c4-47c8-49d4-84e8-34c07c5b2d6e",
   "metadata": {},
   "outputs": [
    {
     "data": {
      "text/plain": [
       "['.ipynb_checkpoints',\n",
       " 'mymodule.py',\n",
       " 'sample_data',\n",
       " 'Untitled.ipynb',\n",
       " '__pycache__']"
      ]
     },
     "execution_count": 140,
     "metadata": {},
     "output_type": "execute_result"
    }
   ],
   "source": [
    "import os\n",
    "os.listdir()\n",
    "os.mkdir(\"myfolder1\")\n",
    "os.listdir()\n",
    "os.rmdir(\"myfolder1\")\n",
    "os.listdir()"
   ]
  },
  {
   "cell_type": "markdown",
   "id": "c1513a38-a162-4101-b056-0b9157fe7aa0",
   "metadata": {},
   "source": [
    "## Python Try Except (Exception Handling)"
   ]
  },
  {
   "cell_type": "code",
   "execution_count": 142,
   "id": "942c50e0-05d7-4dd3-a939-1b46c52c00e4",
   "metadata": {},
   "outputs": [
    {
     "name": "stdout",
     "output_type": "stream",
     "text": [
      "(10, 20, 30, 40, 50)\n"
     ]
    }
   ],
   "source": [
    "#Python try except\n",
    "try:\n",
    "    print(x)\n",
    "except:\n",
    "    print(\"Exception Error\")"
   ]
  },
  {
   "cell_type": "markdown",
   "id": "9a57c083-27eb-4258-b805-314f24b755a7",
   "metadata": {},
   "source": [
    "## Python try: except: finally"
   ]
  },
  {
   "cell_type": "code",
   "execution_count": 143,
   "id": "ffb9e91e-9900-4cc9-ae51-d9b51a32bfae",
   "metadata": {},
   "outputs": [
    {
     "name": "stdout",
     "output_type": "stream",
     "text": [
      "Hello\n",
      "Finally process\n"
     ]
    }
   ],
   "source": [
    "try:\n",
    "    print(\"Hello\")\n",
    "except:\n",
    "    print(\"Exception Error\")\n",
    "finally:\n",
    "    print(\"Finally process\")"
   ]
  },
  {
   "cell_type": "markdown",
   "id": "fbcf283e-3034-4b37-ac6c-bc7c1f29014f",
   "metadata": {},
   "source": [
    "## Python try: except: else:"
   ]
  },
  {
   "cell_type": "code",
   "execution_count": 144,
   "id": "c9fe2ea4-7663-4e0e-916e-d5afd17339c8",
   "metadata": {},
   "outputs": [
    {
     "name": "stdout",
     "output_type": "stream",
     "text": [
      "Hello\n",
      "No exception\n"
     ]
    }
   ],
   "source": [
    "#Python try except else\n",
    "try:\n",
    "    print(\"Hello\")\n",
    "except:\n",
    "    print(\"Exception Error\")\n",
    "else:\n",
    "    print(\"No exception\")"
   ]
  },
  {
   "cell_type": "markdown",
   "id": "b3ec50ee-dd92-41cc-ba3a-38e8de5b0998",
   "metadata": {},
   "source": [
    "## Python try: except: else: finally:"
   ]
  },
  {
   "cell_type": "code",
   "execution_count": 145,
   "id": "b2761220-c2b6-44ba-99cd-00901605861b",
   "metadata": {},
   "outputs": [
    {
     "name": "stdout",
     "output_type": "stream",
     "text": [
      "Hello\n",
      "No exception\n",
      "Finally process\n"
     ]
    }
   ],
   "source": [
    "try:\n",
    "    print(\"Hello\")\n",
    "except:\n",
    "    print(\"Exception Error\")\n",
    "else:\n",
    "    print(\"No exception\")\n",
    "finally:\n",
    "    print(\"Finally process\")"
   ]
  },
  {
   "cell_type": "code",
   "execution_count": 146,
   "id": "dee72767-1a73-41e2-a401-186421771ab3",
   "metadata": {},
   "outputs": [
    {
     "name": "stdin",
     "output_type": "stream",
     "text": [
      "Enter the price of the stock (e.g. 10): 100\n",
      "Enter the number of shares (e.g. 2): 2\n"
     ]
    },
    {
     "name": "stdout",
     "output_type": "stream",
     "text": [
      "The total value of the shares is: 200.0\n",
      "Thank you.\n"
     ]
    }
   ],
   "source": [
    "try:\n",
    "    price = float(input(\"Enter the price of the stock (e.g. 10):\"))\n",
    "    shares = int(input(\"Enter the number of shares (e.g. 2):\"))\n",
    "    total = price * shares\n",
    "except Exception as e:\n",
    "    print(\"Exception error:\", str(e))\n",
    "else:\n",
    "    print(\"The total value of the shares is:\", total)\n",
    "finally:\n",
    "    print(\"Thank you.\")"
   ]
  },
  {
   "cell_type": "code",
   "execution_count": 147,
   "id": "5d659437-bfd0-418c-9cb6-458532be8b2a",
   "metadata": {},
   "outputs": [
    {
     "name": "stdout",
     "output_type": "stream",
     "text": [
      "Exception file Error\n"
     ]
    }
   ],
   "source": [
    "try:\n",
    "    file = open(\"myfile.txt\")\n",
    "    file.write(\"Python write file\")\n",
    "    print(\"file saved\")\n",
    "except:\n",
    "    print(\"Exception file Error\")"
   ]
  },
  {
   "cell_type": "code",
   "execution_count": 148,
   "id": "27427022-ef29-4a5a-b636-8b4515490de6",
   "metadata": {},
   "outputs": [
    {
     "name": "stdout",
     "output_type": "stream",
     "text": [
      "Exception file Error\n",
      "Finally process\n"
     ]
    }
   ],
   "source": [
    "try:\n",
    "    file = open(\"myfile.txt\")\n",
    "    file.write(\"Python write file\")\n",
    "    print(\"file saved\")\n",
    "except:\n",
    "    print(\"Exception file Error\")\n",
    "finally:\n",
    "    file.close()\n",
    "    print(\"Finally process\")"
   ]
  },
  {
   "cell_type": "code",
   "execution_count": 150,
   "id": "f5d60e93-4f92-4af7-8775-037a8b02cbfc",
   "metadata": {},
   "outputs": [
    {
     "name": "stdout",
     "output_type": "stream",
     "text": [
      "file saved\n",
      "Finally process\n"
     ]
    }
   ],
   "source": [
    "try:\n",
    "    file = open(\"myfile.txt\", 'w')\n",
    "    file.write(\"Python write file\")\n",
    "    print(\"file saved\")\n",
    "except:\n",
    "    print(\"Exception file Error\")\n",
    "finally:\n",
    "    file.close()\n",
    "    print(\"Finally process\")"
   ]
  },
  {
   "cell_type": "markdown",
   "id": "2cdb8ff0-39f4-4d2d-8fdb-8241045997cc",
   "metadata": {},
   "source": [
    "# END"
   ]
  }
 ],
 "metadata": {
  "kernelspec": {
   "display_name": "Python 3 (ipykernel)",
   "language": "python",
   "name": "python3"
  },
  "language_info": {
   "codemirror_mode": {
    "name": "ipython",
    "version": 3
   },
   "file_extension": ".py",
   "mimetype": "text/x-python",
   "name": "python",
   "nbconvert_exporter": "python",
   "pygments_lexer": "ipython3",
   "version": "3.12.7"
  }
 },
 "nbformat": 4,
 "nbformat_minor": 5
}
